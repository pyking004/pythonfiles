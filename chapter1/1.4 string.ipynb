{
 "cells": [
  {
   "cell_type": "code",
   "execution_count": 1,
   "id": "cf4a6a97",
   "metadata": {},
   "outputs": [],
   "source": [
    "v1 = \"welcome\""
   ]
  },
  {
   "cell_type": "code",
   "execution_count": 2,
   "id": "b952a25e",
   "metadata": {},
   "outputs": [
    {
     "data": {
      "text/plain": [
       "'welcome'"
      ]
     },
     "execution_count": 2,
     "metadata": {},
     "output_type": "execute_result"
    }
   ],
   "source": [
    "v1"
   ]
  },
  {
   "cell_type": "code",
   "execution_count": 3,
   "id": "034900b7",
   "metadata": {},
   "outputs": [
    {
     "name": "stdout",
     "output_type": "stream",
     "text": [
      "Pretty printing has been turned OFF\n"
     ]
    }
   ],
   "source": [
    "pprint"
   ]
  },
  {
   "cell_type": "code",
   "execution_count": 4,
   "id": "27679165",
   "metadata": {},
   "outputs": [
    {
     "data": {
      "text/plain": [
       "['__add__', '__class__', '__contains__', '__delattr__', '__dir__', '__doc__', '__eq__', '__format__', '__ge__', '__getattribute__', '__getitem__', '__getnewargs__', '__gt__', '__hash__', '__init__', '__init_subclass__', '__iter__', '__le__', '__len__', '__lt__', '__mod__', '__mul__', '__ne__', '__new__', '__reduce__', '__reduce_ex__', '__repr__', '__rmod__', '__rmul__', '__setattr__', '__sizeof__', '__str__', '__subclasshook__', 'capitalize', 'casefold', 'center', 'count', 'encode', 'endswith', 'expandtabs', 'find', 'format', 'format_map', 'index', 'isalnum', 'isalpha', 'isascii', 'isdecimal', 'isdigit', 'isidentifier', 'islower', 'isnumeric', 'isprintable', 'isspace', 'istitle', 'isupper', 'join', 'ljust', 'lower', 'lstrip', 'maketrans', 'partition', 'removeprefix', 'removesuffix', 'replace', 'rfind', 'rindex', 'rjust', 'rpartition', 'rsplit', 'rstrip', 'split', 'splitlines', 'startswith', 'strip', 'swapcase', 'title', 'translate', 'upper', 'zfill']"
      ]
     },
     "execution_count": 4,
     "metadata": {},
     "output_type": "execute_result"
    }
   ],
   "source": [
    "dir(v1)"
   ]
  },
  {
   "cell_type": "code",
   "execution_count": 5,
   "id": "251d31dc",
   "metadata": {},
   "outputs": [
    {
     "data": {
      "text/plain": [
       "'Welcome'"
      ]
     },
     "execution_count": 5,
     "metadata": {},
     "output_type": "execute_result"
    }
   ],
   "source": [
    "v1.capitalize()"
   ]
  },
  {
   "cell_type": "code",
   "execution_count": 6,
   "id": "2cce9a4f",
   "metadata": {},
   "outputs": [
    {
     "data": {
      "text/plain": [
       "'Welcome to python programming'"
      ]
     },
     "execution_count": 6,
     "metadata": {},
     "output_type": "execute_result"
    }
   ],
   "source": [
    "\"welcome to python programming\".capitalize()"
   ]
  },
  {
   "cell_type": "code",
   "execution_count": 7,
   "id": "18ff8069",
   "metadata": {},
   "outputs": [
    {
     "data": {
      "text/plain": [
       "'Welcome to python. i want to learn python'"
      ]
     },
     "execution_count": 7,
     "metadata": {},
     "output_type": "execute_result"
    }
   ],
   "source": [
    "\"welcome to python. i want to learn python\".capitalize()"
   ]
  },
  {
   "cell_type": "code",
   "execution_count": 8,
   "id": "ba71db56",
   "metadata": {},
   "outputs": [],
   "source": [
    "v1 = \"WELCOME\""
   ]
  },
  {
   "cell_type": "code",
   "execution_count": 9,
   "id": "0b7ef645",
   "metadata": {},
   "outputs": [
    {
     "data": {
      "text/plain": [
       "'welcome'"
      ]
     },
     "execution_count": 9,
     "metadata": {},
     "output_type": "execute_result"
    }
   ],
   "source": [
    "v1.casefold()"
   ]
  },
  {
   "cell_type": "code",
   "execution_count": 10,
   "id": "b56c28b7",
   "metadata": {},
   "outputs": [
    {
     "data": {
      "text/plain": [
       "'welcome'"
      ]
     },
     "execution_count": 10,
     "metadata": {},
     "output_type": "execute_result"
    }
   ],
   "source": [
    "\"WELCOME\".casefold()"
   ]
  },
  {
   "cell_type": "code",
   "execution_count": 11,
   "id": "127bda4c",
   "metadata": {},
   "outputs": [
    {
     "data": {
      "text/plain": [
       "'welcome'"
      ]
     },
     "execution_count": 11,
     "metadata": {},
     "output_type": "execute_result"
    }
   ],
   "source": [
    "\"WeLcOME\".casefold()"
   ]
  },
  {
   "cell_type": "code",
   "execution_count": 12,
   "id": "2ed7211e",
   "metadata": {},
   "outputs": [
    {
     "data": {
      "text/plain": [
       "True"
      ]
     },
     "execution_count": 12,
     "metadata": {},
     "output_type": "execute_result"
    }
   ],
   "source": [
    "\"welcome\"==\"WELCOME\".casefold()"
   ]
  },
  {
   "cell_type": "code",
   "execution_count": 15,
   "id": "1db221fd",
   "metadata": {},
   "outputs": [],
   "source": [
    "#\n",
    "v1=\"python\""
   ]
  },
  {
   "cell_type": "code",
   "execution_count": 16,
   "id": "624074cc",
   "metadata": {},
   "outputs": [
    {
     "data": {
      "text/plain": [
       "'             python            '"
      ]
     },
     "execution_count": 16,
     "metadata": {},
     "output_type": "execute_result"
    }
   ],
   "source": [
    "v1.center(31)"
   ]
  },
  {
   "cell_type": "code",
   "execution_count": 17,
   "id": "554efa08",
   "metadata": {},
   "outputs": [
    {
     "data": {
      "text/plain": [
       "' python'"
      ]
     },
     "execution_count": 17,
     "metadata": {},
     "output_type": "execute_result"
    }
   ],
   "source": [
    "v1.center(7)"
   ]
  },
  {
   "cell_type": "code",
   "execution_count": 20,
   "id": "d43f8d3a",
   "metadata": {},
   "outputs": [
    {
     "data": {
      "text/plain": [
       "'pytho*'"
      ]
     },
     "execution_count": 20,
     "metadata": {},
     "output_type": "execute_result"
    }
   ],
   "source": [
    "\"pytho\".center(6,\"*\")"
   ]
  },
  {
   "cell_type": "code",
   "execution_count": 19,
   "id": "f9bd083c",
   "metadata": {},
   "outputs": [
    {
     "data": {
      "text/plain": [
       "'*python*'"
      ]
     },
     "execution_count": 19,
     "metadata": {},
     "output_type": "execute_result"
    }
   ],
   "source": [
    "'python'.center(8,\"*\")"
   ]
  },
  {
   "cell_type": "code",
   "execution_count": 21,
   "id": "a5fb0029",
   "metadata": {},
   "outputs": [
    {
     "data": {
      "text/plain": [
       "'*welcome**'"
      ]
     },
     "execution_count": 21,
     "metadata": {},
     "output_type": "execute_result"
    }
   ],
   "source": [
    "\"welcome\".center(10,'*') # => \"*welcome**\""
   ]
  },
  {
   "cell_type": "code",
   "execution_count": 22,
   "id": "3c7a86c2",
   "metadata": {},
   "outputs": [
    {
     "data": {
      "text/plain": [
       "'#############python############'"
      ]
     },
     "execution_count": 22,
     "metadata": {},
     "output_type": "execute_result"
    }
   ],
   "source": [
    "\"python\".center(31,\"#\")"
   ]
  },
  {
   "cell_type": "code",
   "execution_count": 23,
   "id": "b2d6c4e1",
   "metadata": {},
   "outputs": [],
   "source": [
    "v1 = 'weleeeecome'"
   ]
  },
  {
   "cell_type": "code",
   "execution_count": 24,
   "id": "63e39e9a",
   "metadata": {},
   "outputs": [
    {
     "data": {
      "text/plain": [
       "6"
      ]
     },
     "execution_count": 24,
     "metadata": {},
     "output_type": "execute_result"
    }
   ],
   "source": [
    "v1.count('e')"
   ]
  },
  {
   "cell_type": "code",
   "execution_count": 25,
   "id": "5f8b399a",
   "metadata": {},
   "outputs": [],
   "source": [
    "v1 = \"python programming\""
   ]
  },
  {
   "cell_type": "code",
   "execution_count": 26,
   "id": "72f23ff4",
   "metadata": {},
   "outputs": [
    {
     "data": {
      "text/plain": [
       "2"
      ]
     },
     "execution_count": 26,
     "metadata": {},
     "output_type": "execute_result"
    }
   ],
   "source": [
    "v1.count('m')"
   ]
  },
  {
   "cell_type": "code",
   "execution_count": 28,
   "id": "5bd8c8d2",
   "metadata": {},
   "outputs": [
    {
     "data": {
      "text/plain": [
       "2"
      ]
     },
     "execution_count": 28,
     "metadata": {},
     "output_type": "execute_result"
    }
   ],
   "source": [
    "v1.count(\"o\")"
   ]
  },
  {
   "cell_type": "code",
   "execution_count": 29,
   "id": "42c0ddc8",
   "metadata": {},
   "outputs": [
    {
     "data": {
      "text/plain": [
       "1"
      ]
     },
     "execution_count": 29,
     "metadata": {},
     "output_type": "execute_result"
    }
   ],
   "source": [
    "v1.count(\"o\",5)"
   ]
  },
  {
   "cell_type": "code",
   "execution_count": 30,
   "id": "8409f6ac",
   "metadata": {},
   "outputs": [
    {
     "data": {
      "text/plain": [
       "2"
      ]
     },
     "execution_count": 30,
     "metadata": {},
     "output_type": "execute_result"
    }
   ],
   "source": [
    "v1.count(\"m\",9,16)"
   ]
  },
  {
   "cell_type": "code",
   "execution_count": 31,
   "id": "97abdbfe",
   "metadata": {},
   "outputs": [
    {
     "data": {
      "text/plain": [
       "2"
      ]
     },
     "execution_count": 31,
     "metadata": {},
     "output_type": "execute_result"
    }
   ],
   "source": [
    "v1.count('o',4,10)"
   ]
  },
  {
   "cell_type": "code",
   "execution_count": 32,
   "id": "919daa53",
   "metadata": {},
   "outputs": [],
   "source": [
    "course = 'python'"
   ]
  },
  {
   "cell_type": "code",
   "execution_count": 33,
   "id": "9fcc38ae",
   "metadata": {},
   "outputs": [
    {
     "data": {
      "text/plain": [
       "b'python'"
      ]
     },
     "execution_count": 33,
     "metadata": {},
     "output_type": "execute_result"
    }
   ],
   "source": [
    "course.encode()"
   ]
  },
  {
   "cell_type": "code",
   "execution_count": 34,
   "id": "0ef7331b",
   "metadata": {},
   "outputs": [
    {
     "data": {
      "text/plain": [
       "'p'"
      ]
     },
     "execution_count": 34,
     "metadata": {},
     "output_type": "execute_result"
    }
   ],
   "source": [
    "course[0]"
   ]
  },
  {
   "cell_type": "code",
   "execution_count": 35,
   "id": "c9d9cae3",
   "metadata": {},
   "outputs": [
    {
     "data": {
      "text/plain": [
       "112"
      ]
     },
     "execution_count": 35,
     "metadata": {},
     "output_type": "execute_result"
    }
   ],
   "source": [
    "course.encode()[0]"
   ]
  },
  {
   "cell_type": "code",
   "execution_count": 36,
   "id": "feaf349d",
   "metadata": {},
   "outputs": [
    {
     "data": {
      "text/plain": [
       "b'python'"
      ]
     },
     "execution_count": 36,
     "metadata": {},
     "output_type": "execute_result"
    }
   ],
   "source": [
    "course.encode('utf-8')"
   ]
  },
  {
   "cell_type": "code",
   "execution_count": 37,
   "id": "d04345a6",
   "metadata": {},
   "outputs": [
    {
     "data": {
      "text/plain": [
       "b'\\xff\\xfep\\x00y\\x00t\\x00h\\x00o\\x00n\\x00'"
      ]
     },
     "execution_count": 37,
     "metadata": {},
     "output_type": "execute_result"
    }
   ],
   "source": [
    "course.encode('utf-16')"
   ]
  },
  {
   "cell_type": "code",
   "execution_count": 38,
   "id": "54a75ff0",
   "metadata": {},
   "outputs": [
    {
     "data": {
      "text/plain": [
       "255"
      ]
     },
     "execution_count": 38,
     "metadata": {},
     "output_type": "execute_result"
    }
   ],
   "source": [
    "course.encode('utf-16')[0]"
   ]
  },
  {
   "cell_type": "code",
   "execution_count": 39,
   "id": "f23877a6",
   "metadata": {},
   "outputs": [
    {
     "data": {
      "text/plain": [
       "b'\\xff\\xfe\\x00\\x00p\\x00\\x00\\x00y\\x00\\x00\\x00t\\x00\\x00\\x00h\\x00\\x00\\x00o\\x00\\x00\\x00n\\x00\\x00\\x00'"
      ]
     },
     "execution_count": 39,
     "metadata": {},
     "output_type": "execute_result"
    }
   ],
   "source": [
    "course.encode('utf-32')"
   ]
  },
  {
   "cell_type": "code",
   "execution_count": 40,
   "id": "75025532",
   "metadata": {},
   "outputs": [
    {
     "data": {
      "text/plain": [
       "255"
      ]
     },
     "execution_count": 40,
     "metadata": {},
     "output_type": "execute_result"
    }
   ],
   "source": [
    "course.encode('utf-32')[0]"
   ]
  },
  {
   "cell_type": "code",
   "execution_count": 41,
   "id": "63433fd9",
   "metadata": {},
   "outputs": [
    {
     "ename": "LookupError",
     "evalue": "unknown encoding: utf-64",
     "output_type": "error",
     "traceback": [
      "\u001b[1;31m---------------------------------------------------------------------------\u001b[0m",
      "\u001b[1;31mLookupError\u001b[0m                               Traceback (most recent call last)",
      "\u001b[1;32m~\\AppData\\Local\\Temp\\ipykernel_8888\\2721109938.py\u001b[0m in \u001b[0;36m<module>\u001b[1;34m\u001b[0m\n\u001b[1;32m----> 1\u001b[1;33m \u001b[0mcourse\u001b[0m\u001b[1;33m.\u001b[0m\u001b[0mencode\u001b[0m\u001b[1;33m(\u001b[0m\u001b[1;34m'utf-64'\u001b[0m\u001b[1;33m)\u001b[0m\u001b[1;33m\u001b[0m\u001b[1;33m\u001b[0m\u001b[0m\n\u001b[0m",
      "\u001b[1;31mLookupError\u001b[0m: unknown encoding: utf-64"
     ]
    }
   ],
   "source": [
    "course.encode('utf-64')"
   ]
  },
  {
   "cell_type": "code",
   "execution_count": 42,
   "id": "b13eb828",
   "metadata": {},
   "outputs": [],
   "source": [
    "v1='welcome#'"
   ]
  },
  {
   "cell_type": "code",
   "execution_count": 43,
   "id": "cbfbb0b8",
   "metadata": {},
   "outputs": [
    {
     "data": {
      "text/plain": [
       "True"
      ]
     },
     "execution_count": 43,
     "metadata": {},
     "output_type": "execute_result"
    }
   ],
   "source": [
    "v1.endswith('#')"
   ]
  },
  {
   "cell_type": "code",
   "execution_count": 44,
   "id": "85fab7cc",
   "metadata": {},
   "outputs": [],
   "source": [
    "v1=\"Good Morning \""
   ]
  },
  {
   "cell_type": "code",
   "execution_count": 45,
   "id": "4f318866",
   "metadata": {},
   "outputs": [
    {
     "name": "stdout",
     "output_type": "stream",
     "text": [
      "Help on method_descriptor:\n",
      "\n",
      "endswith(...)\n",
      "    S.endswith(suffix[, start[, end]]) -> bool\n",
      "    \n",
      "    Return True if S ends with the specified suffix, False otherwise.\n",
      "    With optional start, test S beginning at that position.\n",
      "    With optional end, stop comparing S at that position.\n",
      "    suffix can also be a tuple of strings to try.\n",
      "\n"
     ]
    }
   ],
   "source": [
    "help(str.endswith)"
   ]
  },
  {
   "cell_type": "code",
   "execution_count": 46,
   "id": "e4db4bf6",
   "metadata": {},
   "outputs": [
    {
     "data": {
      "text/plain": [
       "True"
      ]
     },
     "execution_count": 46,
     "metadata": {},
     "output_type": "execute_result"
    }
   ],
   "source": [
    "v1.endswith(' ')"
   ]
  },
  {
   "cell_type": "code",
   "execution_count": 47,
   "id": "5e9f1bab",
   "metadata": {},
   "outputs": [],
   "source": [
    "courses = ('python','javascript','django','reactjs','nodejs')"
   ]
  },
  {
   "cell_type": "code",
   "execution_count": 48,
   "id": "d9123855",
   "metadata": {},
   "outputs": [
    {
     "data": {
      "text/plain": [
       "True"
      ]
     },
     "execution_count": 48,
     "metadata": {},
     "output_type": "execute_result"
    }
   ],
   "source": [
    "\"I want to join javascript\".endswith(courses)"
   ]
  },
  {
   "cell_type": "code",
   "execution_count": 49,
   "id": "247570ad",
   "metadata": {},
   "outputs": [
    {
     "data": {
      "text/plain": [
       "False"
      ]
     },
     "execution_count": 49,
     "metadata": {},
     "output_type": "execute_result"
    }
   ],
   "source": [
    "\"I want to join sap\".endswith(courses)"
   ]
  },
  {
   "cell_type": "code",
   "execution_count": 50,
   "id": "77bb0e9e",
   "metadata": {},
   "outputs": [
    {
     "data": {
      "text/plain": [
       "True"
      ]
     },
     "execution_count": 50,
     "metadata": {},
     "output_type": "execute_result"
    }
   ],
   "source": [
    "\"I want to join nodejs\".endswith(courses)"
   ]
  },
  {
   "cell_type": "code",
   "execution_count": null,
   "id": "633fd943",
   "metadata": {},
   "outputs": [],
   "source": []
  },
  {
   "cell_type": "code",
   "execution_count": null,
   "id": "f3f96cd3",
   "metadata": {},
   "outputs": [],
   "source": [
    "\"welcome\\t to\\tpython\".expandtabs(25)"
   ]
  },
  {
   "cell_type": "code",
   "execution_count": null,
   "id": "4ef28254",
   "metadata": {},
   "outputs": [],
   "source": [
    "help(str.expandtabs)"
   ]
  },
  {
   "cell_type": "code",
   "execution_count": null,
   "id": "3d34e44d",
   "metadata": {},
   "outputs": [],
   "source": [
    "\"welcome\".find('e')"
   ]
  },
  {
   "cell_type": "code",
   "execution_count": null,
   "id": "4d5d6cce",
   "metadata": {},
   "outputs": [],
   "source": [
    "\"welcome\".find('e',3)"
   ]
  },
  {
   "cell_type": "code",
   "execution_count": null,
   "id": "16f65f38",
   "metadata": {},
   "outputs": [],
   "source": [
    "\"welcome\".find('e')+1"
   ]
  },
  {
   "cell_type": "code",
   "execution_count": null,
   "id": "7d75bbf5",
   "metadata": {},
   "outputs": [],
   "source": [
    "\"welcome\".find('e','welcome'.find('e')+1)"
   ]
  },
  {
   "cell_type": "code",
   "execution_count": null,
   "id": "929e606f",
   "metadata": {},
   "outputs": [],
   "source": [
    "\"welcome\".find('z')"
   ]
  },
  {
   "cell_type": "code",
   "execution_count": null,
   "id": "9c401c64",
   "metadata": {},
   "outputs": [],
   "source": []
  },
  {
   "cell_type": "code",
   "execution_count": null,
   "id": "06e9e41a",
   "metadata": {},
   "outputs": [],
   "source": [
    "#format"
   ]
  },
  {
   "cell_type": "code",
   "execution_count": 1,
   "id": "27db757e",
   "metadata": {},
   "outputs": [
    {
     "data": {
      "text/plain": [
       "'my name is Raju'"
      ]
     },
     "execution_count": 1,
     "metadata": {},
     "output_type": "execute_result"
    }
   ],
   "source": [
    "\"my name is {}\".format(\"Raju\")"
   ]
  },
  {
   "cell_type": "code",
   "execution_count": 2,
   "id": "a577f625",
   "metadata": {},
   "outputs": [
    {
     "data": {
      "text/plain": [
       "'i have joined python course'"
      ]
     },
     "execution_count": 2,
     "metadata": {},
     "output_type": "execute_result"
    }
   ],
   "source": [
    "\"i have joined {} course\".format(\"python\")"
   ]
  },
  {
   "cell_type": "code",
   "execution_count": 3,
   "id": "dcc7fff4",
   "metadata": {},
   "outputs": [
    {
     "name": "stdout",
     "output_type": "stream",
     "text": [
      "javascript\n"
     ]
    },
    {
     "data": {
      "text/plain": [
       "'i have joined javascript course'"
      ]
     },
     "execution_count": 3,
     "metadata": {},
     "output_type": "execute_result"
    }
   ],
   "source": [
    "\"i have joined {} course\".format(input())"
   ]
  },
  {
   "cell_type": "code",
   "execution_count": null,
   "id": "39bf3e0d",
   "metadata": {},
   "outputs": [],
   "source": [
    "help(str.format_map)"
   ]
  },
  {
   "cell_type": "code",
   "execution_count": 4,
   "id": "985fbad9",
   "metadata": {},
   "outputs": [
    {
     "data": {
      "text/plain": [
       "1"
      ]
     },
     "execution_count": 4,
     "metadata": {},
     "output_type": "execute_result"
    }
   ],
   "source": [
    "\"welcome\".index('e')"
   ]
  },
  {
   "cell_type": "code",
   "execution_count": 5,
   "id": "0c50624a",
   "metadata": {},
   "outputs": [
    {
     "data": {
      "text/plain": [
       "6"
      ]
     },
     "execution_count": 5,
     "metadata": {},
     "output_type": "execute_result"
    }
   ],
   "source": [
    "\"welcome\".index('e',2)"
   ]
  },
  {
   "cell_type": "code",
   "execution_count": 7,
   "id": "fe87a88d",
   "metadata": {},
   "outputs": [
    {
     "data": {
      "text/plain": [
       "8"
      ]
     },
     "execution_count": 7,
     "metadata": {},
     "output_type": "execute_result"
    }
   ],
   "source": [
    "\"welcome to python\".index('t',4,9)"
   ]
  },
  {
   "cell_type": "code",
   "execution_count": 6,
   "id": "e9d0e86d",
   "metadata": {},
   "outputs": [
    {
     "ename": "ValueError",
     "evalue": "substring not found",
     "output_type": "error",
     "traceback": [
      "\u001b[1;31m---------------------------------------------------------------------------\u001b[0m",
      "\u001b[1;31mValueError\u001b[0m                                Traceback (most recent call last)",
      "\u001b[1;32m~\\AppData\\Local\\Temp\\ipykernel_7628\\274725397.py\u001b[0m in \u001b[0;36m<module>\u001b[1;34m\u001b[0m\n\u001b[1;32m----> 1\u001b[1;33m \u001b[1;34m\"welcome\"\u001b[0m\u001b[1;33m.\u001b[0m\u001b[0mindex\u001b[0m\u001b[1;33m(\u001b[0m\u001b[1;34m'z'\u001b[0m\u001b[1;33m)\u001b[0m\u001b[1;33m\u001b[0m\u001b[1;33m\u001b[0m\u001b[0m\n\u001b[0m",
      "\u001b[1;31mValueError\u001b[0m: substring not found"
     ]
    }
   ],
   "source": [
    "\"welcome\".index('z')"
   ]
  },
  {
   "cell_type": "code",
   "execution_count": 8,
   "id": "80db6c51",
   "metadata": {},
   "outputs": [
    {
     "data": {
      "text/plain": [
       "True"
      ]
     },
     "execution_count": 8,
     "metadata": {},
     "output_type": "execute_result"
    }
   ],
   "source": [
    "\"abc123\".isalnum()"
   ]
  },
  {
   "cell_type": "code",
   "execution_count": 9,
   "id": "576e6b53",
   "metadata": {},
   "outputs": [
    {
     "data": {
      "text/plain": [
       "True"
      ]
     },
     "execution_count": 9,
     "metadata": {},
     "output_type": "execute_result"
    }
   ],
   "source": [
    "\"abc\".isalnum()"
   ]
  },
  {
   "cell_type": "code",
   "execution_count": 10,
   "id": "5517a92d",
   "metadata": {},
   "outputs": [
    {
     "data": {
      "text/plain": [
       "True"
      ]
     },
     "execution_count": 10,
     "metadata": {},
     "output_type": "execute_result"
    }
   ],
   "source": [
    "\"123\".isalnum()"
   ]
  },
  {
   "cell_type": "code",
   "execution_count": 11,
   "id": "a35688a8",
   "metadata": {},
   "outputs": [
    {
     "data": {
      "text/plain": [
       "False"
      ]
     },
     "execution_count": 11,
     "metadata": {},
     "output_type": "execute_result"
    }
   ],
   "source": [
    "\"abc123\".isalpha()"
   ]
  },
  {
   "cell_type": "code",
   "execution_count": 12,
   "id": "9b52b1a1",
   "metadata": {},
   "outputs": [
    {
     "data": {
      "text/plain": [
       "True"
      ]
     },
     "execution_count": 12,
     "metadata": {},
     "output_type": "execute_result"
    }
   ],
   "source": [
    "\"abc\".isalpha()"
   ]
  },
  {
   "cell_type": "code",
   "execution_count": 13,
   "id": "604e3f2d",
   "metadata": {},
   "outputs": [
    {
     "data": {
      "text/plain": [
       "False"
      ]
     },
     "execution_count": 13,
     "metadata": {},
     "output_type": "execute_result"
    }
   ],
   "source": [
    "\"123\".isalpha()"
   ]
  },
  {
   "cell_type": "code",
   "execution_count": 14,
   "id": "8783de11",
   "metadata": {},
   "outputs": [
    {
     "data": {
      "text/plain": [
       "False"
      ]
     },
     "execution_count": 14,
     "metadata": {},
     "output_type": "execute_result"
    }
   ],
   "source": [
    "\"abc123\".isdigit()"
   ]
  },
  {
   "cell_type": "code",
   "execution_count": 15,
   "id": "6d381374",
   "metadata": {},
   "outputs": [
    {
     "data": {
      "text/plain": [
       "False"
      ]
     },
     "execution_count": 15,
     "metadata": {},
     "output_type": "execute_result"
    }
   ],
   "source": [
    "\"abc\".isdigit()"
   ]
  },
  {
   "cell_type": "code",
   "execution_count": 16,
   "id": "878f4ef7",
   "metadata": {},
   "outputs": [
    {
     "data": {
      "text/plain": [
       "True"
      ]
     },
     "execution_count": 16,
     "metadata": {},
     "output_type": "execute_result"
    }
   ],
   "source": [
    "\"123\".isdigit()"
   ]
  },
  {
   "cell_type": "code",
   "execution_count": 20,
   "id": "24146941",
   "metadata": {},
   "outputs": [
    {
     "name": "stdout",
     "output_type": "stream",
     "text": [
      "Enter a value = hi\n"
     ]
    },
    {
     "ename": "ValueError",
     "evalue": "invalid literal for int() with base 10: 'hi'",
     "output_type": "error",
     "traceback": [
      "\u001b[1;31m---------------------------------------------------------------------------\u001b[0m",
      "\u001b[1;31mValueError\u001b[0m                                Traceback (most recent call last)",
      "\u001b[1;32m~\\AppData\\Local\\Temp\\ipykernel_7628\\3266041395.py\u001b[0m in \u001b[0;36m<module>\u001b[1;34m\u001b[0m\n\u001b[1;32m----> 1\u001b[1;33m \u001b[0mint\u001b[0m\u001b[1;33m(\u001b[0m\u001b[0minput\u001b[0m\u001b[1;33m(\u001b[0m\u001b[1;34m\"Enter a value = \"\u001b[0m\u001b[1;33m)\u001b[0m\u001b[1;33m)\u001b[0m\u001b[1;33m\u001b[0m\u001b[1;33m\u001b[0m\u001b[0m\n\u001b[0m",
      "\u001b[1;31mValueError\u001b[0m: invalid literal for int() with base 10: 'hi'"
     ]
    }
   ],
   "source": [
    "int(input(\"Enter a value = \"))"
   ]
  },
  {
   "cell_type": "code",
   "execution_count": 18,
   "id": "3206dbae",
   "metadata": {},
   "outputs": [
    {
     "name": "stdout",
     "output_type": "stream",
     "text": [
      "Enter a value = 345\n",
      "345\n"
     ]
    }
   ],
   "source": [
    "v1=input(\"Enter a value = \")\n",
    "if v1.isdigit():\n",
    "    print(int(v1))\n",
    "else:\n",
    "    print(\"Not Possible\")"
   ]
  },
  {
   "cell_type": "code",
   "execution_count": 21,
   "id": "329cff84",
   "metadata": {},
   "outputs": [
    {
     "data": {
      "text/plain": [
       "'WELCOME'"
      ]
     },
     "execution_count": 21,
     "metadata": {},
     "output_type": "execute_result"
    }
   ],
   "source": [
    "\"welcome\".upper()"
   ]
  },
  {
   "cell_type": "code",
   "execution_count": 22,
   "id": "bfb8fc1a",
   "metadata": {},
   "outputs": [
    {
     "data": {
      "text/plain": [
       "'welcome'"
      ]
     },
     "execution_count": 22,
     "metadata": {},
     "output_type": "execute_result"
    }
   ],
   "source": [
    "'WELCOME'.lower()"
   ]
  },
  {
   "cell_type": "code",
   "execution_count": 23,
   "id": "541ecd8b",
   "metadata": {},
   "outputs": [
    {
     "data": {
      "text/plain": [
       "'123'"
      ]
     },
     "execution_count": 23,
     "metadata": {},
     "output_type": "execute_result"
    }
   ],
   "source": [
    "\"123\".lower()"
   ]
  },
  {
   "cell_type": "code",
   "execution_count": 24,
   "id": "155ded3c",
   "metadata": {},
   "outputs": [
    {
     "data": {
      "text/plain": [
       "False"
      ]
     },
     "execution_count": 24,
     "metadata": {},
     "output_type": "execute_result"
    }
   ],
   "source": [
    "\"welcMme\".islower()"
   ]
  },
  {
   "cell_type": "code",
   "execution_count": 25,
   "id": "bc247000",
   "metadata": {},
   "outputs": [
    {
     "data": {
      "text/plain": [
       "True"
      ]
     },
     "execution_count": 25,
     "metadata": {},
     "output_type": "execute_result"
    }
   ],
   "source": [
    "\"WELCOME\".isupper()"
   ]
  },
  {
   "cell_type": "code",
   "execution_count": 26,
   "id": "9e00e556",
   "metadata": {},
   "outputs": [
    {
     "data": {
      "text/plain": [
       "'WELCOME'"
      ]
     },
     "execution_count": 26,
     "metadata": {},
     "output_type": "execute_result"
    }
   ],
   "source": [
    "\"welcome\".swapcase()"
   ]
  },
  {
   "cell_type": "code",
   "execution_count": 27,
   "id": "1f2f53bb",
   "metadata": {},
   "outputs": [
    {
     "data": {
      "text/plain": [
       "'welcome'"
      ]
     },
     "execution_count": 27,
     "metadata": {},
     "output_type": "execute_result"
    }
   ],
   "source": [
    "\"WELCOME\".swapcase()"
   ]
  },
  {
   "cell_type": "code",
   "execution_count": 28,
   "id": "5443fa53",
   "metadata": {},
   "outputs": [
    {
     "data": {
      "text/plain": [
       "True"
      ]
     },
     "execution_count": 28,
     "metadata": {},
     "output_type": "execute_result"
    }
   ],
   "source": [
    "\" \".isspace()"
   ]
  },
  {
   "cell_type": "code",
   "execution_count": 29,
   "id": "cab3653e",
   "metadata": {},
   "outputs": [
    {
     "data": {
      "text/plain": [
       "False"
      ]
     },
     "execution_count": 29,
     "metadata": {},
     "output_type": "execute_result"
    }
   ],
   "source": [
    "\"welcome\".isspace()"
   ]
  },
  {
   "cell_type": "code",
   "execution_count": 30,
   "id": "7156488b",
   "metadata": {},
   "outputs": [
    {
     "data": {
      "text/plain": [
       "False"
      ]
     },
     "execution_count": 30,
     "metadata": {},
     "output_type": "execute_result"
    }
   ],
   "source": [
    "\"welcome \".isspace()"
   ]
  },
  {
   "cell_type": "code",
   "execution_count": 31,
   "id": "c8980fe8",
   "metadata": {},
   "outputs": [
    {
     "name": "stdout",
     "output_type": "stream",
     "text": [
      "False\n",
      "False\n",
      "False\n",
      "True\n",
      "False\n",
      "False\n",
      "False\n",
      "False\n"
     ]
    }
   ],
   "source": [
    "for i in \"wel come\":\n",
    "    print(i.isspace())"
   ]
  },
  {
   "cell_type": "code",
   "execution_count": 32,
   "id": "ada8fcda",
   "metadata": {},
   "outputs": [
    {
     "data": {
      "text/plain": [
       "['welcome', 'to', 'python', 'full', 'stack']"
      ]
     },
     "execution_count": 32,
     "metadata": {},
     "output_type": "execute_result"
    }
   ],
   "source": [
    "\"welcome,to,python,full,stack\".split(\",\")"
   ]
  },
  {
   "cell_type": "code",
   "execution_count": 34,
   "id": "195e7434",
   "metadata": {},
   "outputs": [
    {
     "data": {
      "text/plain": [
       "'python'"
      ]
     },
     "execution_count": 34,
     "metadata": {},
     "output_type": "execute_result"
    }
   ],
   "source": [
    "\"welcome,to,python,full,stack\".split(\",\")[2]"
   ]
  },
  {
   "cell_type": "code",
   "execution_count": 35,
   "id": "bb8dd6be",
   "metadata": {},
   "outputs": [
    {
     "data": {
      "text/plain": [
       "['101', 'ramu', 'python', '10000']"
      ]
     },
     "execution_count": 35,
     "metadata": {},
     "output_type": "execute_result"
    }
   ],
   "source": [
    "'101,ramu,python,10000'.split(\",\")"
   ]
  },
  {
   "cell_type": "code",
   "execution_count": 37,
   "id": "e3ff7517",
   "metadata": {},
   "outputs": [
    {
     "data": {
      "text/plain": [
       "'10000'"
      ]
     },
     "execution_count": 37,
     "metadata": {},
     "output_type": "execute_result"
    }
   ],
   "source": [
    "'101,ramu,python,10000'.split(\",\")[3]"
   ]
  },
  {
   "cell_type": "code",
   "execution_count": 38,
   "id": "4e05e5fc",
   "metadata": {},
   "outputs": [
    {
     "data": {
      "text/plain": [
       "True"
      ]
     },
     "execution_count": 38,
     "metadata": {},
     "output_type": "execute_result"
    }
   ],
   "source": [
    "\"Welcome\".istitle()"
   ]
  },
  {
   "cell_type": "code",
   "execution_count": 39,
   "id": "ec8c9a1f",
   "metadata": {},
   "outputs": [
    {
     "data": {
      "text/plain": [
       "False"
      ]
     },
     "execution_count": 39,
     "metadata": {},
     "output_type": "execute_result"
    }
   ],
   "source": [
    "\"welcome\".istitle()"
   ]
  },
  {
   "cell_type": "code",
   "execution_count": 40,
   "id": "5aafafce",
   "metadata": {},
   "outputs": [
    {
     "data": {
      "text/plain": [
       "'1python2python3python4'"
      ]
     },
     "execution_count": 40,
     "metadata": {},
     "output_type": "execute_result"
    }
   ],
   "source": [
    "\"python\".join(\"1234\")"
   ]
  },
  {
   "cell_type": "code",
   "execution_count": 41,
   "id": "2a4f364a",
   "metadata": {},
   "outputs": [
    {
     "data": {
      "text/plain": [
       "'1python2python3python4python '"
      ]
     },
     "execution_count": 41,
     "metadata": {},
     "output_type": "execute_result"
    }
   ],
   "source": [
    "\"python\".join(\"1234 \")"
   ]
  },
  {
   "cell_type": "code",
   "execution_count": 42,
   "id": "c5abbf5e",
   "metadata": {},
   "outputs": [
    {
     "data": {
      "text/plain": [
       "'welcome             '"
      ]
     },
     "execution_count": 42,
     "metadata": {},
     "output_type": "execute_result"
    }
   ],
   "source": [
    "\"welcome\".ljust(20)"
   ]
  },
  {
   "cell_type": "code",
   "execution_count": 43,
   "id": "45599dbe",
   "metadata": {},
   "outputs": [
    {
     "data": {
      "text/plain": [
       "'             welcome'"
      ]
     },
     "execution_count": 43,
     "metadata": {},
     "output_type": "execute_result"
    }
   ],
   "source": [
    "\"welcome\".rjust(20)"
   ]
  },
  {
   "cell_type": "code",
   "execution_count": 44,
   "id": "f4295807",
   "metadata": {},
   "outputs": [
    {
     "data": {
      "text/plain": [
       "'welcome'"
      ]
     },
     "execution_count": 44,
     "metadata": {},
     "output_type": "execute_result"
    }
   ],
   "source": [
    "\"     welcome\".lstrip()"
   ]
  },
  {
   "cell_type": "code",
   "execution_count": 45,
   "id": "2ea6ea69",
   "metadata": {},
   "outputs": [
    {
     "data": {
      "text/plain": [
       "'welcome'"
      ]
     },
     "execution_count": 45,
     "metadata": {},
     "output_type": "execute_result"
    }
   ],
   "source": [
    "\"******welcome\".lstrip('*')"
   ]
  },
  {
   "cell_type": "code",
   "execution_count": 46,
   "id": "b6e13d99",
   "metadata": {},
   "outputs": [
    {
     "data": {
      "text/plain": [
       "'welcome'"
      ]
     },
     "execution_count": 46,
     "metadata": {},
     "output_type": "execute_result"
    }
   ],
   "source": [
    "\"welcome      \".rstrip()"
   ]
  },
  {
   "cell_type": "code",
   "execution_count": 47,
   "id": "abf341bb",
   "metadata": {},
   "outputs": [
    {
     "data": {
      "text/plain": [
       "'welcome'"
      ]
     },
     "execution_count": 47,
     "metadata": {},
     "output_type": "execute_result"
    }
   ],
   "source": [
    "\"welcome*******\".rstrip('*')"
   ]
  },
  {
   "cell_type": "code",
   "execution_count": 55,
   "id": "d4ebaa68",
   "metadata": {},
   "outputs": [
    {
     "data": {
      "text/plain": [
       "'elcome'"
      ]
     },
     "execution_count": 55,
     "metadata": {},
     "output_type": "execute_result"
    }
   ],
   "source": [
    "'*****welcome******'.strip('*w')"
   ]
  },
  {
   "cell_type": "code",
   "execution_count": 49,
   "id": "d556d2fc",
   "metadata": {},
   "outputs": [
    {
     "data": {
      "text/plain": [
       "'wel****come'"
      ]
     },
     "execution_count": 49,
     "metadata": {},
     "output_type": "execute_result"
    }
   ],
   "source": [
    "'*****wel****come******'.strip('*')"
   ]
  },
  {
   "cell_type": "code",
   "execution_count": 50,
   "id": "557b771c",
   "metadata": {},
   "outputs": [
    {
     "data": {
      "text/plain": [
       "'welcome'"
      ]
     },
     "execution_count": 50,
     "metadata": {},
     "output_type": "execute_result"
    }
   ],
   "source": [
    "'*****wel****come******'.replace('*','')"
   ]
  },
  {
   "cell_type": "code",
   "execution_count": 51,
   "id": "0befcb34",
   "metadata": {},
   "outputs": [
    {
     "data": {
      "text/plain": [
       "'welcome'"
      ]
     },
     "execution_count": 51,
     "metadata": {},
     "output_type": "execute_result"
    }
   ],
   "source": [
    "'    wel  co  me    '.replace(\" \",\"\")"
   ]
  },
  {
   "cell_type": "code",
   "execution_count": 52,
   "id": "03563fd5",
   "metadata": {},
   "outputs": [
    {
     "data": {
      "text/plain": [
       "'welcome'"
      ]
     },
     "execution_count": 52,
     "metadata": {},
     "output_type": "execute_result"
    }
   ],
   "source": [
    "\"walcoma\".replace('a','e')"
   ]
  },
  {
   "cell_type": "code",
   "execution_count": 53,
   "id": "27bb1724",
   "metadata": {},
   "outputs": [
    {
     "data": {
      "text/plain": [
       "'come'"
      ]
     },
     "execution_count": 53,
     "metadata": {},
     "output_type": "execute_result"
    }
   ],
   "source": [
    "\"welcome\".removeprefix('wel')"
   ]
  },
  {
   "cell_type": "code",
   "execution_count": 54,
   "id": "ae763a63",
   "metadata": {},
   "outputs": [
    {
     "data": {
      "text/plain": [
       "'wel'"
      ]
     },
     "execution_count": 54,
     "metadata": {},
     "output_type": "execute_result"
    }
   ],
   "source": [
    "\"welcome\".removesuffix(\"come\")"
   ]
  },
  {
   "cell_type": "code",
   "execution_count": 56,
   "id": "d0d6233d",
   "metadata": {},
   "outputs": [
    {
     "data": {
      "text/plain": [
       "True"
      ]
     },
     "execution_count": 56,
     "metadata": {},
     "output_type": "execute_result"
    }
   ],
   "source": [
    "\"welcome\".startswith('w')"
   ]
  },
  {
   "cell_type": "code",
   "execution_count": null,
   "id": "5fa25537",
   "metadata": {},
   "outputs": [],
   "source": []
  },
  {
   "cell_type": "code",
   "execution_count": null,
   "id": "1d3aa020",
   "metadata": {},
   "outputs": [],
   "source": []
  },
  {
   "cell_type": "code",
   "execution_count": null,
   "id": "7628da43",
   "metadata": {},
   "outputs": [],
   "source": []
  }
 ],
 "metadata": {
  "kernelspec": {
   "display_name": "Python 3 (ipykernel)",
   "language": "python",
   "name": "python3"
  },
  "language_info": {
   "codemirror_mode": {
    "name": "ipython",
    "version": 3
   },
   "file_extension": ".py",
   "mimetype": "text/x-python",
   "name": "python",
   "nbconvert_exporter": "python",
   "pygments_lexer": "ipython3",
   "version": "3.9.13"
  }
 },
 "nbformat": 4,
 "nbformat_minor": 5
}
