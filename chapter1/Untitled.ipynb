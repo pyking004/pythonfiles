{
 "cells": [
  {
   "cell_type": "code",
   "execution_count": null,
   "id": "daf50d37",
   "metadata": {},
   "outputs": [],
   "source": [
    "1\n",
    "2\n",
    "3\n",
    "4\n",
    "5\n",
    "...\n",
    "..\n",
    "10"
   ]
  },
  {
   "cell_type": "code",
   "execution_count": 3,
   "id": "a7146159",
   "metadata": {},
   "outputs": [
    {
     "name": "stdout",
     "output_type": "stream",
     "text": [
      "1\n",
      "2\n",
      "3\n",
      "4\n",
      "5\n"
     ]
    }
   ],
   "source": [
    "print(1)\n",
    "print(2)\n",
    "print(3)\n",
    "print(4)\n",
    "print(5)"
   ]
  },
  {
   "cell_type": "code",
   "execution_count": 6,
   "id": "ac88b8f9",
   "metadata": {},
   "outputs": [
    {
     "name": "stdout",
     "output_type": "stream",
     "text": [
      "1\n",
      "2\n",
      "3\n",
      "4\n",
      "5\n"
     ]
    }
   ],
   "source": [
    "i=1\n",
    "while i<=5:\n",
    "    print(i)\n",
    "    i=i+1"
   ]
  },
  {
   "cell_type": "code",
   "execution_count": 7,
   "id": "7b07f378",
   "metadata": {},
   "outputs": [
    {
     "name": "stdout",
     "output_type": "stream",
     "text": [
      "6\n"
     ]
    }
   ],
   "source": [
    "print(i)"
   ]
  },
  {
   "cell_type": "code",
   "execution_count": null,
   "id": "b1524727",
   "metadata": {},
   "outputs": [],
   "source": [
    "12345"
   ]
  },
  {
   "cell_type": "code",
   "execution_count": 8,
   "id": "4d77e07c",
   "metadata": {},
   "outputs": [
    {
     "name": "stdout",
     "output_type": "stream",
     "text": [
      "welcome\n",
      "Good MOrning\n"
     ]
    }
   ],
   "source": [
    "print(\"welcome\")\n",
    "print(\"Good MOrning\")"
   ]
  },
  {
   "cell_type": "code",
   "execution_count": 10,
   "id": "9bbe41b4",
   "metadata": {},
   "outputs": [
    {
     "name": "stdout",
     "output_type": "stream",
     "text": [
      "Help on built-in function print in module builtins:\n",
      "\n",
      "print(...)\n",
      "    print(value, ..., sep=' ', end='\\n', file=sys.stdout, flush=False)\n",
      "    \n",
      "    Prints the values to a stream, or to sys.stdout by default.\n",
      "    Optional keyword arguments:\n",
      "    file:  a file-like object (stream); defaults to the current sys.stdout.\n",
      "    sep:   string inserted between values, default a space.\n",
      "    end:   string appended after the last value, default a newline.\n",
      "    flush: whether to forcibly flush the stream.\n",
      "\n"
     ]
    }
   ],
   "source": [
    "help(print)"
   ]
  },
  {
   "cell_type": "code",
   "execution_count": 16,
   "id": "6bf6f83c",
   "metadata": {},
   "outputs": [
    {
     "name": "stdout",
     "output_type": "stream",
     "text": [
      "100@hi@python"
     ]
    }
   ],
   "source": [
    "print(100,'hi','python',sep='@',end='')"
   ]
  },
  {
   "cell_type": "code",
   "execution_count": 18,
   "id": "b5baa472",
   "metadata": {},
   "outputs": [
    {
     "name": "stdout",
     "output_type": "stream",
     "text": [
      "hiRaju\n"
     ]
    }
   ],
   "source": [
    "print(\"hi\",end='')\n",
    "print(\"Raju\")"
   ]
  },
  {
   "cell_type": "code",
   "execution_count": 19,
   "id": "03a661b4",
   "metadata": {},
   "outputs": [
    {
     "name": "stdout",
     "output_type": "stream",
     "text": [
      "12345"
     ]
    }
   ],
   "source": [
    "i=1\n",
    "while i<=5:\n",
    "    print(i,end='')\n",
    "    i=i+1"
   ]
  },
  {
   "cell_type": "code",
   "execution_count": 20,
   "id": "c3f60bac",
   "metadata": {},
   "outputs": [
    {
     "name": "stdout",
     "output_type": "stream",
     "text": [
      "6\n"
     ]
    }
   ],
   "source": [
    "print(i)"
   ]
  },
  {
   "cell_type": "code",
   "execution_count": 22,
   "id": "4f5a2e2c",
   "metadata": {},
   "outputs": [
    {
     "name": "stdout",
     "output_type": "stream",
     "text": [
      "12345\n"
     ]
    }
   ],
   "source": [
    "i=1\n",
    "j=5\n",
    "while i<=j:\n",
    "    print(i,end='')\n",
    "    i=i+1\n",
    "print('')\n",
    "i=1\n",
    "j=j-1"
   ]
  },
  {
   "cell_type": "code",
   "execution_count": 23,
   "id": "ea3fde3f",
   "metadata": {},
   "outputs": [
    {
     "name": "stdout",
     "output_type": "stream",
     "text": [
      "1\n",
      "4\n"
     ]
    }
   ],
   "source": [
    "print(i)\n",
    "print(j)"
   ]
  },
  {
   "cell_type": "code",
   "execution_count": null,
   "id": "83ddaeb5",
   "metadata": {},
   "outputs": [],
   "source": [
    "i=1\n",
    "j=5\n",
    "while j>=i:\n",
    "    while i<=j:\n",
    "        print(i,end='')\n",
    "        i=i+1\n",
    "    print('')\n",
    "    i=1\n",
    "    j=j-1"
   ]
  },
  {
   "cell_type": "code",
   "execution_count": null,
   "id": "6b3d3c6e",
   "metadata": {},
   "outputs": [],
   "source": [
    "54321\n",
    "5432\n",
    "543\n",
    "54\n",
    "5"
   ]
  },
  {
   "cell_type": "code",
   "execution_count": null,
   "id": "a8e18f62",
   "metadata": {},
   "outputs": [],
   "source": [
    "i=5\n",
    "j=1\n"
   ]
  },
  {
   "cell_type": "code",
   "execution_count": null,
   "id": "40e8b6f8",
   "metadata": {},
   "outputs": [],
   "source": [
    "1\n",
    "12\n",
    "123\n",
    "1234\n",
    "12345"
   ]
  },
  {
   "cell_type": "code",
   "execution_count": null,
   "id": "56b5dc07",
   "metadata": {},
   "outputs": [],
   "source": [
    "1\n",
    "22\n",
    "333\n",
    "4444\n",
    "55555"
   ]
  },
  {
   "cell_type": "code",
   "execution_count": null,
   "id": "95abc7cd",
   "metadata": {},
   "outputs": [],
   "source": [
    "*\n",
    "**\n",
    "***\n",
    "****\n",
    "*****"
   ]
  }
 ],
 "metadata": {
  "kernelspec": {
   "display_name": "Python 3 (ipykernel)",
   "language": "python",
   "name": "python3"
  },
  "language_info": {
   "codemirror_mode": {
    "name": "ipython",
    "version": 3
   },
   "file_extension": ".py",
   "mimetype": "text/x-python",
   "name": "python",
   "nbconvert_exporter": "python",
   "pygments_lexer": "ipython3",
   "version": "3.9.13"
  }
 },
 "nbformat": 4,
 "nbformat_minor": 5
}
