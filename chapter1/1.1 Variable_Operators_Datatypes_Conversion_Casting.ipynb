{
 "cells": [
  {
   "cell_type": "code",
   "execution_count": 14,
   "id": "124e829c",
   "metadata": {},
   "outputs": [],
   "source": [
    "a=10"
   ]
  },
  {
   "cell_type": "code",
   "execution_count": 15,
   "id": "017a5b5d",
   "metadata": {},
   "outputs": [
    {
     "name": "stdout",
     "output_type": "stream",
     "text": [
      "10\n"
     ]
    }
   ],
   "source": [
    "print(a)"
   ]
  },
  {
   "cell_type": "code",
   "execution_count": 16,
   "id": "bee86506",
   "metadata": {},
   "outputs": [
    {
     "data": {
      "text/plain": [
       "2830972906064"
      ]
     },
     "execution_count": 16,
     "metadata": {},
     "output_type": "execute_result"
    }
   ],
   "source": [
    "id(a)"
   ]
  },
  {
   "cell_type": "code",
   "execution_count": 17,
   "id": "87760fec",
   "metadata": {},
   "outputs": [
    {
     "data": {
      "text/plain": [
       "int"
      ]
     },
     "execution_count": 17,
     "metadata": {},
     "output_type": "execute_result"
    }
   ],
   "source": [
    "type(a)"
   ]
  },
  {
   "cell_type": "code",
   "execution_count": 18,
   "id": "d0a98c74",
   "metadata": {},
   "outputs": [
    {
     "data": {
      "text/plain": [
       "int"
      ]
     },
     "execution_count": 18,
     "metadata": {},
     "output_type": "execute_result"
    }
   ],
   "source": [
    "type(100)"
   ]
  },
  {
   "cell_type": "code",
   "execution_count": 19,
   "id": "27ca0d6b",
   "metadata": {},
   "outputs": [
    {
     "data": {
      "text/plain": [
       "float"
      ]
     },
     "execution_count": 19,
     "metadata": {},
     "output_type": "execute_result"
    }
   ],
   "source": [
    "type(10.45)"
   ]
  },
  {
   "cell_type": "code",
   "execution_count": 20,
   "id": "a25b5fb8",
   "metadata": {},
   "outputs": [
    {
     "data": {
      "text/plain": [
       "str"
      ]
     },
     "execution_count": 20,
     "metadata": {},
     "output_type": "execute_result"
    }
   ],
   "source": [
    "type('hello')"
   ]
  },
  {
   "cell_type": "code",
   "execution_count": 21,
   "id": "63b31175",
   "metadata": {},
   "outputs": [
    {
     "data": {
      "text/plain": [
       "str"
      ]
     },
     "execution_count": 21,
     "metadata": {},
     "output_type": "execute_result"
    }
   ],
   "source": [
    "type(\"hi\")"
   ]
  },
  {
   "cell_type": "code",
   "execution_count": 22,
   "id": "cf767ace",
   "metadata": {},
   "outputs": [
    {
     "data": {
      "text/plain": [
       "str"
      ]
     },
     "execution_count": 22,
     "metadata": {},
     "output_type": "execute_result"
    }
   ],
   "source": [
    "type('100')"
   ]
  },
  {
   "cell_type": "code",
   "execution_count": 23,
   "id": "e1714dc7",
   "metadata": {},
   "outputs": [
    {
     "data": {
      "text/plain": [
       "str"
      ]
     },
     "execution_count": 23,
     "metadata": {},
     "output_type": "execute_result"
    }
   ],
   "source": [
    "type(\"10.45\")"
   ]
  },
  {
   "cell_type": "code",
   "execution_count": 24,
   "id": "aa336673",
   "metadata": {},
   "outputs": [
    {
     "data": {
      "text/plain": [
       "NoneType"
      ]
     },
     "execution_count": 24,
     "metadata": {},
     "output_type": "execute_result"
    }
   ],
   "source": [
    "type(None)"
   ]
  },
  {
   "cell_type": "code",
   "execution_count": 25,
   "id": "a31d12c4",
   "metadata": {},
   "outputs": [
    {
     "data": {
      "text/plain": [
       "bool"
      ]
     },
     "execution_count": 25,
     "metadata": {},
     "output_type": "execute_result"
    }
   ],
   "source": [
    "type(True)"
   ]
  },
  {
   "cell_type": "code",
   "execution_count": 26,
   "id": "685e86ce",
   "metadata": {},
   "outputs": [
    {
     "data": {
      "text/plain": [
       "bool"
      ]
     },
     "execution_count": 26,
     "metadata": {},
     "output_type": "execute_result"
    }
   ],
   "source": [
    "type(False)"
   ]
  },
  {
   "cell_type": "code",
   "execution_count": 27,
   "id": "1dabd5c5",
   "metadata": {},
   "outputs": [],
   "source": [
    "v1=b'welcome'"
   ]
  },
  {
   "cell_type": "code",
   "execution_count": 28,
   "id": "5b4bf031",
   "metadata": {},
   "outputs": [
    {
     "data": {
      "text/plain": [
       "b'welcome'"
      ]
     },
     "execution_count": 28,
     "metadata": {},
     "output_type": "execute_result"
    }
   ],
   "source": [
    "v1"
   ]
  },
  {
   "cell_type": "code",
   "execution_count": 29,
   "id": "017748f8",
   "metadata": {},
   "outputs": [
    {
     "data": {
      "text/plain": [
       "bytes"
      ]
     },
     "execution_count": 29,
     "metadata": {},
     "output_type": "execute_result"
    }
   ],
   "source": [
    "type(v1)"
   ]
  },
  {
   "cell_type": "code",
   "execution_count": 30,
   "id": "0f2f2a0b",
   "metadata": {},
   "outputs": [
    {
     "data": {
      "text/plain": [
       "25"
      ]
     },
     "execution_count": 30,
     "metadata": {},
     "output_type": "execute_result"
    }
   ],
   "source": [
    "pow(5,2)"
   ]
  },
  {
   "cell_type": "code",
   "execution_count": 31,
   "id": "4d5f53eb",
   "metadata": {},
   "outputs": [
    {
     "data": {
      "text/plain": [
       "4.0"
      ]
     },
     "execution_count": 31,
     "metadata": {},
     "output_type": "execute_result"
    }
   ],
   "source": [
    "pow(16,1/2)"
   ]
  },
  {
   "cell_type": "code",
   "execution_count": 32,
   "id": "91b0b8c4",
   "metadata": {},
   "outputs": [
    {
     "data": {
      "text/plain": [
       "2.0"
      ]
     },
     "execution_count": 32,
     "metadata": {},
     "output_type": "execute_result"
    }
   ],
   "source": [
    "pow(8,1/3)"
   ]
  },
  {
   "cell_type": "code",
   "execution_count": 33,
   "id": "7fe4a59c",
   "metadata": {},
   "outputs": [
    {
     "data": {
      "text/plain": [
       "(1.2246467991473532e-16+2j)"
      ]
     },
     "execution_count": 33,
     "metadata": {},
     "output_type": "execute_result"
    }
   ],
   "source": [
    "pow(-4,1/2)"
   ]
  },
  {
   "cell_type": "code",
   "execution_count": 34,
   "id": "a712f106",
   "metadata": {},
   "outputs": [
    {
     "data": {
      "text/plain": [
       "complex"
      ]
     },
     "execution_count": 34,
     "metadata": {},
     "output_type": "execute_result"
    }
   ],
   "source": [
    "type(pow(-4,1/2))"
   ]
  },
  {
   "cell_type": "code",
   "execution_count": 35,
   "id": "ebf07c46",
   "metadata": {},
   "outputs": [
    {
     "data": {
      "text/plain": [
       "complex"
      ]
     },
     "execution_count": 35,
     "metadata": {},
     "output_type": "execute_result"
    }
   ],
   "source": [
    "type(1.2246467991473532e-16+2j)"
   ]
  },
  {
   "cell_type": "code",
   "execution_count": 36,
   "id": "11d93251",
   "metadata": {},
   "outputs": [],
   "source": [
    "L2 = [10,20,30,40,50]"
   ]
  },
  {
   "cell_type": "code",
   "execution_count": 37,
   "id": "53e0a94b",
   "metadata": {},
   "outputs": [
    {
     "data": {
      "text/plain": [
       "list"
      ]
     },
     "execution_count": 37,
     "metadata": {},
     "output_type": "execute_result"
    }
   ],
   "source": [
    "type(L2)"
   ]
  },
  {
   "cell_type": "code",
   "execution_count": 38,
   "id": "7f132598",
   "metadata": {},
   "outputs": [
    {
     "data": {
      "text/plain": [
       "int"
      ]
     },
     "execution_count": 38,
     "metadata": {},
     "output_type": "execute_result"
    }
   ],
   "source": [
    "type(100)"
   ]
  },
  {
   "cell_type": "code",
   "execution_count": 39,
   "id": "db676b4d",
   "metadata": {},
   "outputs": [
    {
     "data": {
      "text/plain": [
       "type"
      ]
     },
     "execution_count": 39,
     "metadata": {},
     "output_type": "execute_result"
    }
   ],
   "source": [
    "type(int)"
   ]
  },
  {
   "cell_type": "code",
   "execution_count": 40,
   "id": "2933137f",
   "metadata": {},
   "outputs": [
    {
     "data": {
      "text/plain": [
       "20"
      ]
     },
     "execution_count": 40,
     "metadata": {},
     "output_type": "execute_result"
    }
   ],
   "source": [
    "10+10"
   ]
  },
  {
   "cell_type": "code",
   "execution_count": 41,
   "id": "8438e9bc",
   "metadata": {},
   "outputs": [
    {
     "data": {
      "text/plain": [
       "'hello World'"
      ]
     },
     "execution_count": 41,
     "metadata": {},
     "output_type": "execute_result"
    }
   ],
   "source": [
    "'hello'+' World'"
   ]
  },
  {
   "cell_type": "code",
   "execution_count": 42,
   "id": "6f4f9c67",
   "metadata": {},
   "outputs": [
    {
     "data": {
      "text/plain": [
       "20.9"
      ]
     },
     "execution_count": 42,
     "metadata": {},
     "output_type": "execute_result"
    }
   ],
   "source": [
    "10.45+10.45"
   ]
  },
  {
   "cell_type": "code",
   "execution_count": 43,
   "id": "306ae222",
   "metadata": {},
   "outputs": [
    {
     "data": {
      "text/plain": [
       "20.45"
      ]
     },
     "execution_count": 43,
     "metadata": {},
     "output_type": "execute_result"
    }
   ],
   "source": [
    "10+10.45"
   ]
  },
  {
   "cell_type": "code",
   "execution_count": 44,
   "id": "314a2a44",
   "metadata": {},
   "outputs": [
    {
     "ename": "TypeError",
     "evalue": "can only concatenate str (not \"int\") to str",
     "output_type": "error",
     "traceback": [
      "\u001b[1;31m---------------------------------------------------------------------------\u001b[0m",
      "\u001b[1;31mTypeError\u001b[0m                                 Traceback (most recent call last)",
      "\u001b[1;32m~\\AppData\\Local\\Temp\\ipykernel_19604\\2581491303.py\u001b[0m in \u001b[0;36m<module>\u001b[1;34m\u001b[0m\n\u001b[1;32m----> 1\u001b[1;33m \u001b[1;34m'hi'\u001b[0m\u001b[1;33m+\u001b[0m\u001b[1;36m10\u001b[0m\u001b[1;33m\u001b[0m\u001b[1;33m\u001b[0m\u001b[0m\n\u001b[0m",
      "\u001b[1;31mTypeError\u001b[0m: can only concatenate str (not \"int\") to str"
     ]
    }
   ],
   "source": [
    "'hi'+10"
   ]
  },
  {
   "cell_type": "code",
   "execution_count": 45,
   "id": "5b9200e0",
   "metadata": {},
   "outputs": [
    {
     "ename": "TypeError",
     "evalue": "unsupported operand type(s) for +: 'int' and 'str'",
     "output_type": "error",
     "traceback": [
      "\u001b[1;31m---------------------------------------------------------------------------\u001b[0m",
      "\u001b[1;31mTypeError\u001b[0m                                 Traceback (most recent call last)",
      "\u001b[1;32m~\\AppData\\Local\\Temp\\ipykernel_19604\\1456293534.py\u001b[0m in \u001b[0;36m<module>\u001b[1;34m\u001b[0m\n\u001b[1;32m----> 1\u001b[1;33m \u001b[1;36m10\u001b[0m\u001b[1;33m+\u001b[0m\u001b[1;34m'hi'\u001b[0m\u001b[1;33m\u001b[0m\u001b[1;33m\u001b[0m\u001b[0m\n\u001b[0m",
      "\u001b[1;31mTypeError\u001b[0m: unsupported operand type(s) for +: 'int' and 'str'"
     ]
    }
   ],
   "source": [
    "10+'hi'"
   ]
  },
  {
   "cell_type": "code",
   "execution_count": 46,
   "id": "512e1327",
   "metadata": {},
   "outputs": [
    {
     "data": {
      "text/plain": [
       "('hi', 10)"
      ]
     },
     "execution_count": 46,
     "metadata": {},
     "output_type": "execute_result"
    }
   ],
   "source": [
    "'hi',10"
   ]
  },
  {
   "cell_type": "code",
   "execution_count": 47,
   "id": "f8c9aef2",
   "metadata": {},
   "outputs": [
    {
     "name": "stdout",
     "output_type": "stream",
     "text": [
      "hi 10\n"
     ]
    }
   ],
   "source": [
    "print('hi',10)"
   ]
  },
  {
   "cell_type": "code",
   "execution_count": 48,
   "id": "5ecdfe0f",
   "metadata": {},
   "outputs": [],
   "source": [
    "a=10"
   ]
  },
  {
   "cell_type": "code",
   "execution_count": 49,
   "id": "8fd07434",
   "metadata": {},
   "outputs": [
    {
     "name": "stdout",
     "output_type": "stream",
     "text": [
      "10\n"
     ]
    }
   ],
   "source": [
    "print(a)"
   ]
  },
  {
   "cell_type": "code",
   "execution_count": 50,
   "id": "843bd00a",
   "metadata": {},
   "outputs": [
    {
     "name": "stdout",
     "output_type": "stream",
     "text": [
      "a\n"
     ]
    }
   ],
   "source": [
    "print('a')"
   ]
  },
  {
   "cell_type": "code",
   "execution_count": 51,
   "id": "2b9498f5",
   "metadata": {},
   "outputs": [
    {
     "name": "stdout",
     "output_type": "stream",
     "text": [
      "100\n"
     ]
    }
   ],
   "source": [
    "print(100)"
   ]
  },
  {
   "cell_type": "code",
   "execution_count": 52,
   "id": "240f97a4",
   "metadata": {},
   "outputs": [
    {
     "name": "stdout",
     "output_type": "stream",
     "text": [
      "10.45\n"
     ]
    }
   ],
   "source": [
    "print(10.45)"
   ]
  },
  {
   "cell_type": "code",
   "execution_count": 53,
   "id": "588d701e",
   "metadata": {},
   "outputs": [
    {
     "ename": "SyntaxError",
     "evalue": "invalid syntax (1632196569.py, line 1)",
     "output_type": "error",
     "traceback": [
      "\u001b[1;36m  File \u001b[1;32m\"C:\\Users\\91789\\AppData\\Local\\Temp\\ipykernel_19604\\1632196569.py\"\u001b[1;36m, line \u001b[1;32m1\u001b[0m\n\u001b[1;33m    print(\"welcome\") print(\"good morning\")\u001b[0m\n\u001b[1;37m                     ^\u001b[0m\n\u001b[1;31mSyntaxError\u001b[0m\u001b[1;31m:\u001b[0m invalid syntax\n"
     ]
    }
   ],
   "source": [
    "print(\"welcome\") print(\"good morning\")"
   ]
  },
  {
   "cell_type": "code",
   "execution_count": 54,
   "id": "17c9e660",
   "metadata": {},
   "outputs": [
    {
     "name": "stdout",
     "output_type": "stream",
     "text": [
      "welcome\n",
      "good morning\n"
     ]
    }
   ],
   "source": [
    "print(\"welcome\");print(\"good morning\")"
   ]
  },
  {
   "cell_type": "code",
   "execution_count": 55,
   "id": "d9839cf3",
   "metadata": {},
   "outputs": [
    {
     "name": "stdout",
     "output_type": "stream",
     "text": [
      "10 100 10.45 None True\n"
     ]
    }
   ],
   "source": [
    "print(a,100,10.45,None,True)"
   ]
  },
  {
   "cell_type": "code",
   "execution_count": 56,
   "id": "f801da5e",
   "metadata": {},
   "outputs": [
    {
     "name": "stdout",
     "output_type": "stream",
     "text": [
      "100 200\n"
     ]
    }
   ],
   "source": [
    "print(100,200)"
   ]
  },
  {
   "cell_type": "code",
   "execution_count": 58,
   "id": "a5baae17",
   "metadata": {},
   "outputs": [
    {
     "name": "stdout",
     "output_type": "stream",
     "text": [
      "10     100     10.45     None     True\n"
     ]
    }
   ],
   "source": [
    "print(a,100,10.45,None,True,sep=\"     \")"
   ]
  },
  {
   "cell_type": "code",
   "execution_count": 59,
   "id": "da80e4c0",
   "metadata": {},
   "outputs": [
    {
     "name": "stdout",
     "output_type": "stream",
     "text": [
      "10;100;10.45;None;True\n"
     ]
    }
   ],
   "source": [
    "print(a,100,10.45,None,True,sep=\";\")"
   ]
  },
  {
   "cell_type": "code",
   "execution_count": 60,
   "id": "68bd0e9d",
   "metadata": {},
   "outputs": [
    {
     "name": "stdout",
     "output_type": "stream",
     "text": [
      "10;100;10.45;None;True#"
     ]
    }
   ],
   "source": [
    "print(a,100,10.45,None,True,sep=\";\",end='#')"
   ]
  },
  {
   "cell_type": "code",
   "execution_count": 61,
   "id": "5d94eccd",
   "metadata": {},
   "outputs": [
    {
     "name": "stdout",
     "output_type": "stream",
     "text": [
      "welcome\n",
      "good morning\n",
      "Ok\n"
     ]
    }
   ],
   "source": [
    "print(\"welcome\");print(\"good morning\");print(\"Ok\")"
   ]
  },
  {
   "cell_type": "code",
   "execution_count": 62,
   "id": "a017ccdb",
   "metadata": {},
   "outputs": [
    {
     "name": "stdout",
     "output_type": "stream",
     "text": [
      "Help on built-in function print in module builtins:\n",
      "\n",
      "print(...)\n",
      "    print(value, ..., sep=' ', end='\\n', file=sys.stdout, flush=False)\n",
      "    \n",
      "    Prints the values to a stream, or to sys.stdout by default.\n",
      "    Optional keyword arguments:\n",
      "    file:  a file-like object (stream); defaults to the current sys.stdout.\n",
      "    sep:   string inserted between values, default a space.\n",
      "    end:   string appended after the last value, default a newline.\n",
      "    flush: whether to forcibly flush the stream.\n",
      "\n"
     ]
    }
   ],
   "source": [
    "help(print)"
   ]
  },
  {
   "cell_type": "code",
   "execution_count": 70,
   "id": "788aec3f",
   "metadata": {},
   "outputs": [
    {
     "name": "stdout",
     "output_type": "stream",
     "text": [
      "welcome good morningOk\n"
     ]
    }
   ],
   "source": [
    "print(\"welcome\",end=\"\");print(\" good morning\",end=\"\");print(\"Ok\")"
   ]
  },
  {
   "cell_type": "code",
   "execution_count": 71,
   "id": "1950d4de",
   "metadata": {},
   "outputs": [
    {
     "name": "stdout",
     "output_type": "stream",
     "text": [
      "welcome to python programming\n"
     ]
    }
   ],
   "source": [
    "print('welcome to python programming')"
   ]
  },
  {
   "cell_type": "code",
   "execution_count": 72,
   "id": "c330507c",
   "metadata": {},
   "outputs": [
    {
     "name": "stdout",
     "output_type": "stream",
     "text": [
      "welcome to python programming\n"
     ]
    }
   ],
   "source": [
    "print(\"welcome to python programming\")"
   ]
  },
  {
   "cell_type": "code",
   "execution_count": 73,
   "id": "82472851",
   "metadata": {},
   "outputs": [
    {
     "ename": "SyntaxError",
     "evalue": "invalid syntax (3320153571.py, line 1)",
     "output_type": "error",
     "traceback": [
      "\u001b[1;36m  File \u001b[1;32m\"C:\\Users\\91789\\AppData\\Local\\Temp\\ipykernel_19604\\3320153571.py\"\u001b[1;36m, line \u001b[1;32m1\u001b[0m\n\u001b[1;33m    print('welcome to python's programming')\u001b[0m\n\u001b[1;37m                             ^\u001b[0m\n\u001b[1;31mSyntaxError\u001b[0m\u001b[1;31m:\u001b[0m invalid syntax\n"
     ]
    }
   ],
   "source": [
    "print('welcome to python's programming')"
   ]
  },
  {
   "cell_type": "code",
   "execution_count": 74,
   "id": "1653adb1",
   "metadata": {},
   "outputs": [
    {
     "name": "stdout",
     "output_type": "stream",
     "text": [
      "welcome to python's programming\n"
     ]
    }
   ],
   "source": [
    "print('welcome to python\\'s programming')"
   ]
  },
  {
   "cell_type": "code",
   "execution_count": 75,
   "id": "4a2c386a",
   "metadata": {},
   "outputs": [
    {
     "name": "stdout",
     "output_type": "stream",
     "text": [
      "welcome to python's programming\n"
     ]
    }
   ],
   "source": [
    "print(\"welcome to python's programming\")"
   ]
  },
  {
   "cell_type": "code",
   "execution_count": 76,
   "id": "b6c4909b",
   "metadata": {},
   "outputs": [
    {
     "ename": "SyntaxError",
     "evalue": "invalid syntax (513570007.py, line 1)",
     "output_type": "error",
     "traceback": [
      "\u001b[1;36m  File \u001b[1;32m\"C:\\Users\\91789\\AppData\\Local\\Temp\\ipykernel_19604\\513570007.py\"\u001b[1;36m, line \u001b[1;32m1\u001b[0m\n\u001b[1;33m    print(\"welcome to python\" programming\")\u001b[0m\n\u001b[1;37m                              ^\u001b[0m\n\u001b[1;31mSyntaxError\u001b[0m\u001b[1;31m:\u001b[0m invalid syntax\n"
     ]
    }
   ],
   "source": [
    "print(\"welcome to python\" programming\")"
   ]
  },
  {
   "cell_type": "code",
   "execution_count": 77,
   "id": "f73e2249",
   "metadata": {},
   "outputs": [
    {
     "name": "stdout",
     "output_type": "stream",
     "text": [
      "welcome to python\" programming\n"
     ]
    }
   ],
   "source": [
    "print(\"welcome to python\\\" programming\")"
   ]
  },
  {
   "cell_type": "code",
   "execution_count": 78,
   "id": "499be452",
   "metadata": {},
   "outputs": [
    {
     "name": "stdout",
     "output_type": "stream",
     "text": [
      "welcome to python\"s programming\n"
     ]
    }
   ],
   "source": [
    "print('welcome to python\"s programming')"
   ]
  },
  {
   "cell_type": "code",
   "execution_count": 79,
   "id": "dcd90d22",
   "metadata": {},
   "outputs": [
    {
     "ename": "SyntaxError",
     "evalue": "EOL while scanning string literal (725113397.py, line 1)",
     "output_type": "error",
     "traceback": [
      "\u001b[1;36m  File \u001b[1;32m\"C:\\Users\\91789\\AppData\\Local\\Temp\\ipykernel_19604\\725113397.py\"\u001b[1;36m, line \u001b[1;32m1\u001b[0m\n\u001b[1;33m    print(\"welcome to\u001b[0m\n\u001b[1;37m                      ^\u001b[0m\n\u001b[1;31mSyntaxError\u001b[0m\u001b[1;31m:\u001b[0m EOL while scanning string literal\n"
     ]
    }
   ],
   "source": [
    "print(\"welcome to \n",
    "      python \n",
    "      programming\")"
   ]
  },
  {
   "cell_type": "code",
   "execution_count": 80,
   "id": "9bfec5a3",
   "metadata": {},
   "outputs": [
    {
     "name": "stdout",
     "output_type": "stream",
     "text": [
      "welcome to python programming\n"
     ]
    }
   ],
   "source": [
    "print(\"welcome to \\\n",
    "python \\\n",
    "programming\")"
   ]
  },
  {
   "cell_type": "code",
   "execution_count": null,
   "id": "9db61de8",
   "metadata": {},
   "outputs": [],
   "source": [
    "#operators"
   ]
  },
  {
   "cell_type": "code",
   "execution_count": 81,
   "id": "ddaead1a",
   "metadata": {},
   "outputs": [
    {
     "data": {
      "text/plain": [
       "20"
      ]
     },
     "execution_count": 81,
     "metadata": {},
     "output_type": "execute_result"
    }
   ],
   "source": [
    "10+10"
   ]
  },
  {
   "cell_type": "code",
   "execution_count": 82,
   "id": "dce02bb2",
   "metadata": {},
   "outputs": [
    {
     "data": {
      "text/plain": [
       "0"
      ]
     },
     "execution_count": 82,
     "metadata": {},
     "output_type": "execute_result"
    }
   ],
   "source": [
    "10-10"
   ]
  },
  {
   "cell_type": "code",
   "execution_count": 83,
   "id": "1ccfcca9",
   "metadata": {},
   "outputs": [
    {
     "data": {
      "text/plain": [
       "100"
      ]
     },
     "execution_count": 83,
     "metadata": {},
     "output_type": "execute_result"
    }
   ],
   "source": [
    "10*10"
   ]
  },
  {
   "cell_type": "code",
   "execution_count": 84,
   "id": "c49d8329",
   "metadata": {},
   "outputs": [
    {
     "data": {
      "text/plain": [
       "2.0"
      ]
     },
     "execution_count": 84,
     "metadata": {},
     "output_type": "execute_result"
    }
   ],
   "source": [
    "10/5"
   ]
  },
  {
   "cell_type": "code",
   "execution_count": 85,
   "id": "5d8067eb",
   "metadata": {},
   "outputs": [
    {
     "data": {
      "text/plain": [
       "1"
      ]
     },
     "execution_count": 85,
     "metadata": {},
     "output_type": "execute_result"
    }
   ],
   "source": [
    "10%3"
   ]
  },
  {
   "cell_type": "code",
   "execution_count": 86,
   "id": "95764e2e",
   "metadata": {},
   "outputs": [
    {
     "data": {
      "text/plain": [
       "25"
      ]
     },
     "execution_count": 86,
     "metadata": {},
     "output_type": "execute_result"
    }
   ],
   "source": [
    "5**2"
   ]
  },
  {
   "cell_type": "code",
   "execution_count": 87,
   "id": "decf18c9",
   "metadata": {},
   "outputs": [
    {
     "data": {
      "text/plain": [
       "25"
      ]
     },
     "execution_count": 87,
     "metadata": {},
     "output_type": "execute_result"
    }
   ],
   "source": [
    "pow(5,2)"
   ]
  },
  {
   "cell_type": "code",
   "execution_count": 88,
   "id": "9df5b9c0",
   "metadata": {},
   "outputs": [
    {
     "data": {
      "text/plain": [
       "2.142857142857143"
      ]
     },
     "execution_count": 88,
     "metadata": {},
     "output_type": "execute_result"
    }
   ],
   "source": [
    "15/7"
   ]
  },
  {
   "cell_type": "code",
   "execution_count": 89,
   "id": "0c03026e",
   "metadata": {},
   "outputs": [
    {
     "data": {
      "text/plain": [
       "2"
      ]
     },
     "execution_count": 89,
     "metadata": {},
     "output_type": "execute_result"
    }
   ],
   "source": [
    "15//7"
   ]
  },
  {
   "cell_type": "code",
   "execution_count": null,
   "id": "c8ba8c77",
   "metadata": {},
   "outputs": [],
   "source": [
    "#augmented assignment"
   ]
  },
  {
   "cell_type": "code",
   "execution_count": 90,
   "id": "f66ff791",
   "metadata": {},
   "outputs": [],
   "source": [
    "a=5"
   ]
  },
  {
   "cell_type": "code",
   "execution_count": 91,
   "id": "41a52535",
   "metadata": {},
   "outputs": [
    {
     "data": {
      "text/plain": [
       "2830972905904"
      ]
     },
     "execution_count": 91,
     "metadata": {},
     "output_type": "execute_result"
    }
   ],
   "source": [
    "id(a)"
   ]
  },
  {
   "cell_type": "code",
   "execution_count": 92,
   "id": "1aea0d60",
   "metadata": {},
   "outputs": [],
   "source": [
    "a=a+3"
   ]
  },
  {
   "cell_type": "code",
   "execution_count": 93,
   "id": "3eb11ced",
   "metadata": {},
   "outputs": [
    {
     "data": {
      "text/plain": [
       "2830972906000"
      ]
     },
     "execution_count": 93,
     "metadata": {},
     "output_type": "execute_result"
    }
   ],
   "source": [
    "id(a)"
   ]
  },
  {
   "cell_type": "code",
   "execution_count": 94,
   "id": "9984ca1a",
   "metadata": {},
   "outputs": [],
   "source": [
    "a=5"
   ]
  },
  {
   "cell_type": "code",
   "execution_count": 95,
   "id": "3bd83ede",
   "metadata": {},
   "outputs": [],
   "source": [
    "a+=4   # a = a + 4"
   ]
  },
  {
   "cell_type": "code",
   "execution_count": 96,
   "id": "54804930",
   "metadata": {},
   "outputs": [
    {
     "data": {
      "text/plain": [
       "9"
      ]
     },
     "execution_count": 96,
     "metadata": {},
     "output_type": "execute_result"
    }
   ],
   "source": [
    "a"
   ]
  },
  {
   "cell_type": "code",
   "execution_count": 97,
   "id": "3074cfd6",
   "metadata": {},
   "outputs": [],
   "source": [
    "a=10"
   ]
  },
  {
   "cell_type": "code",
   "execution_count": 98,
   "id": "bfbf8359",
   "metadata": {},
   "outputs": [],
   "source": [
    "a-=5"
   ]
  },
  {
   "cell_type": "code",
   "execution_count": 99,
   "id": "0dd3a012",
   "metadata": {},
   "outputs": [
    {
     "data": {
      "text/plain": [
       "5"
      ]
     },
     "execution_count": 99,
     "metadata": {},
     "output_type": "execute_result"
    }
   ],
   "source": [
    "a"
   ]
  },
  {
   "cell_type": "code",
   "execution_count": 100,
   "id": "fa53ac54",
   "metadata": {},
   "outputs": [],
   "source": [
    "a=10"
   ]
  },
  {
   "cell_type": "code",
   "execution_count": 101,
   "id": "73ef005e",
   "metadata": {},
   "outputs": [],
   "source": [
    "a*=3"
   ]
  },
  {
   "cell_type": "code",
   "execution_count": 102,
   "id": "8d56b00e",
   "metadata": {},
   "outputs": [
    {
     "data": {
      "text/plain": [
       "30"
      ]
     },
     "execution_count": 102,
     "metadata": {},
     "output_type": "execute_result"
    }
   ],
   "source": [
    "a"
   ]
  },
  {
   "cell_type": "code",
   "execution_count": 103,
   "id": "72137788",
   "metadata": {},
   "outputs": [],
   "source": [
    "a=5"
   ]
  },
  {
   "cell_type": "code",
   "execution_count": 104,
   "id": "9f4bfbb9",
   "metadata": {},
   "outputs": [],
   "source": [
    "a**=2 # a = a**2"
   ]
  },
  {
   "cell_type": "code",
   "execution_count": 105,
   "id": "13a8e3c9",
   "metadata": {},
   "outputs": [
    {
     "data": {
      "text/plain": [
       "25"
      ]
     },
     "execution_count": 105,
     "metadata": {},
     "output_type": "execute_result"
    }
   ],
   "source": [
    "a"
   ]
  },
  {
   "cell_type": "code",
   "execution_count": 106,
   "id": "427eb1d5",
   "metadata": {},
   "outputs": [],
   "source": [
    "a=2"
   ]
  },
  {
   "cell_type": "code",
   "execution_count": 107,
   "id": "25ba095b",
   "metadata": {},
   "outputs": [
    {
     "ename": "SyntaxError",
     "evalue": "invalid syntax (1277751513.py, line 1)",
     "output_type": "error",
     "traceback": [
      "\u001b[1;36m  File \u001b[1;32m\"C:\\Users\\91789\\AppData\\Local\\Temp\\ipykernel_19604\\1277751513.py\"\u001b[1;36m, line \u001b[1;32m1\u001b[0m\n\u001b[1;33m    a++\u001b[0m\n\u001b[1;37m       ^\u001b[0m\n\u001b[1;31mSyntaxError\u001b[0m\u001b[1;31m:\u001b[0m invalid syntax\n"
     ]
    }
   ],
   "source": [
    "a++"
   ]
  },
  {
   "cell_type": "code",
   "execution_count": null,
   "id": "f628ab0f",
   "metadata": {},
   "outputs": [],
   "source": [
    "#Logical Operator"
   ]
  },
  {
   "cell_type": "code",
   "execution_count": 108,
   "id": "b6358652",
   "metadata": {},
   "outputs": [
    {
     "name": "stdout",
     "output_type": "stream",
     "text": [
      "True\n",
      "False\n",
      "False\n",
      "False\n"
     ]
    }
   ],
   "source": [
    "print(True and True)\n",
    "print(True and False)\n",
    "print(False and True)\n",
    "print(False and False)"
   ]
  },
  {
   "cell_type": "code",
   "execution_count": 109,
   "id": "6d6be1a4",
   "metadata": {},
   "outputs": [
    {
     "name": "stdout",
     "output_type": "stream",
     "text": [
      "False\n",
      "True\n",
      "True\n",
      "True\n"
     ]
    }
   ],
   "source": [
    "print(False or False)\n",
    "print(False or True)\n",
    "print(True or False)\n",
    "print(True or True)"
   ]
  },
  {
   "cell_type": "code",
   "execution_count": 110,
   "id": "c7e027a9",
   "metadata": {},
   "outputs": [
    {
     "name": "stdout",
     "output_type": "stream",
     "text": [
      "True\n"
     ]
    }
   ],
   "source": [
    "print(True)"
   ]
  },
  {
   "cell_type": "code",
   "execution_count": 111,
   "id": "2ae3c614",
   "metadata": {},
   "outputs": [
    {
     "name": "stdout",
     "output_type": "stream",
     "text": [
      "False\n"
     ]
    }
   ],
   "source": [
    "print(not True)"
   ]
  },
  {
   "cell_type": "code",
   "execution_count": 112,
   "id": "dcff58d0",
   "metadata": {},
   "outputs": [
    {
     "name": "stdout",
     "output_type": "stream",
     "text": [
      "True\n"
     ]
    }
   ],
   "source": [
    "print(not False)"
   ]
  },
  {
   "cell_type": "code",
   "execution_count": 113,
   "id": "2881d185",
   "metadata": {},
   "outputs": [
    {
     "data": {
      "text/plain": [
       "False"
      ]
     },
     "execution_count": 113,
     "metadata": {},
     "output_type": "execute_result"
    }
   ],
   "source": [
    "5>3 and 3>4"
   ]
  },
  {
   "cell_type": "raw",
   "id": "5aaeb44b",
   "metadata": {},
   "source": [
    "#Relational Operator\n",
    ">, >=, <, <= , == , !=, is "
   ]
  },
  {
   "cell_type": "code",
   "execution_count": 114,
   "id": "692af5a1",
   "metadata": {},
   "outputs": [
    {
     "data": {
      "text/plain": [
       "True"
      ]
     },
     "execution_count": 114,
     "metadata": {},
     "output_type": "execute_result"
    }
   ],
   "source": [
    "6>4"
   ]
  },
  {
   "cell_type": "code",
   "execution_count": 115,
   "id": "f2333be9",
   "metadata": {},
   "outputs": [
    {
     "data": {
      "text/plain": [
       "False"
      ]
     },
     "execution_count": 115,
     "metadata": {},
     "output_type": "execute_result"
    }
   ],
   "source": [
    "6<4"
   ]
  },
  {
   "cell_type": "code",
   "execution_count": 116,
   "id": "166a1c12",
   "metadata": {},
   "outputs": [
    {
     "data": {
      "text/plain": [
       "False"
      ]
     },
     "execution_count": 116,
     "metadata": {},
     "output_type": "execute_result"
    }
   ],
   "source": [
    "5>5"
   ]
  },
  {
   "cell_type": "code",
   "execution_count": 117,
   "id": "7f301eb0",
   "metadata": {},
   "outputs": [
    {
     "data": {
      "text/plain": [
       "True"
      ]
     },
     "execution_count": 117,
     "metadata": {},
     "output_type": "execute_result"
    }
   ],
   "source": [
    "5>=5"
   ]
  },
  {
   "cell_type": "code",
   "execution_count": 118,
   "id": "56d781f0",
   "metadata": {},
   "outputs": [
    {
     "data": {
      "text/plain": [
       "True"
      ]
     },
     "execution_count": 118,
     "metadata": {},
     "output_type": "execute_result"
    }
   ],
   "source": [
    "5<=5"
   ]
  },
  {
   "cell_type": "code",
   "execution_count": 119,
   "id": "54972fdb",
   "metadata": {},
   "outputs": [
    {
     "data": {
      "text/plain": [
       "True"
      ]
     },
     "execution_count": 119,
     "metadata": {},
     "output_type": "execute_result"
    }
   ],
   "source": [
    "4<=5"
   ]
  },
  {
   "cell_type": "code",
   "execution_count": 120,
   "id": "bc37ea97",
   "metadata": {},
   "outputs": [
    {
     "data": {
      "text/plain": [
       "True"
      ]
     },
     "execution_count": 120,
     "metadata": {},
     "output_type": "execute_result"
    }
   ],
   "source": [
    "5 == 5"
   ]
  },
  {
   "cell_type": "code",
   "execution_count": 121,
   "id": "4402abfd",
   "metadata": {},
   "outputs": [
    {
     "data": {
      "text/plain": [
       "False"
      ]
     },
     "execution_count": 121,
     "metadata": {},
     "output_type": "execute_result"
    }
   ],
   "source": [
    "5 != 5"
   ]
  },
  {
   "cell_type": "code",
   "execution_count": 122,
   "id": "94c9dbc2",
   "metadata": {},
   "outputs": [
    {
     "data": {
      "text/plain": [
       "True"
      ]
     },
     "execution_count": 122,
     "metadata": {},
     "output_type": "execute_result"
    }
   ],
   "source": [
    "5==5"
   ]
  },
  {
   "cell_type": "code",
   "execution_count": 123,
   "id": "052abf08",
   "metadata": {},
   "outputs": [
    {
     "data": {
      "text/plain": [
       "False"
      ]
     },
     "execution_count": 123,
     "metadata": {},
     "output_type": "execute_result"
    }
   ],
   "source": [
    "5=='5'"
   ]
  },
  {
   "cell_type": "code",
   "execution_count": 124,
   "id": "463d1249",
   "metadata": {},
   "outputs": [
    {
     "data": {
      "text/plain": [
       "True"
      ]
     },
     "execution_count": 124,
     "metadata": {},
     "output_type": "execute_result"
    }
   ],
   "source": [
    "5==5.0"
   ]
  },
  {
   "cell_type": "code",
   "execution_count": 125,
   "id": "a686dfd5",
   "metadata": {},
   "outputs": [
    {
     "name": "stderr",
     "output_type": "stream",
     "text": [
      "<>:1: SyntaxWarning: \"is\" with a literal. Did you mean \"==\"?\n",
      "<>:1: SyntaxWarning: \"is\" with a literal. Did you mean \"==\"?\n",
      "C:\\Users\\91789\\AppData\\Local\\Temp\\ipykernel_19604\\1783323536.py:1: SyntaxWarning: \"is\" with a literal. Did you mean \"==\"?\n",
      "  5 is 5\n"
     ]
    },
    {
     "data": {
      "text/plain": [
       "True"
      ]
     },
     "execution_count": 125,
     "metadata": {},
     "output_type": "execute_result"
    }
   ],
   "source": [
    "5 is 5"
   ]
  },
  {
   "cell_type": "code",
   "execution_count": 126,
   "id": "cdcc3394",
   "metadata": {},
   "outputs": [
    {
     "name": "stderr",
     "output_type": "stream",
     "text": [
      "<>:1: SyntaxWarning: \"is\" with a literal. Did you mean \"==\"?\n",
      "<>:1: SyntaxWarning: \"is\" with a literal. Did you mean \"==\"?\n",
      "C:\\Users\\91789\\AppData\\Local\\Temp\\ipykernel_19604\\966305131.py:1: SyntaxWarning: \"is\" with a literal. Did you mean \"==\"?\n",
      "  5 is '5'\n"
     ]
    },
    {
     "data": {
      "text/plain": [
       "False"
      ]
     },
     "execution_count": 126,
     "metadata": {},
     "output_type": "execute_result"
    }
   ],
   "source": [
    "5 is '5'"
   ]
  },
  {
   "cell_type": "code",
   "execution_count": 127,
   "id": "a4626582",
   "metadata": {},
   "outputs": [
    {
     "name": "stderr",
     "output_type": "stream",
     "text": [
      "<>:1: SyntaxWarning: \"is\" with a literal. Did you mean \"==\"?\n",
      "<>:1: SyntaxWarning: \"is\" with a literal. Did you mean \"==\"?\n",
      "C:\\Users\\91789\\AppData\\Local\\Temp\\ipykernel_19604\\1873575598.py:1: SyntaxWarning: \"is\" with a literal. Did you mean \"==\"?\n",
      "  5 is 5.0\n"
     ]
    },
    {
     "data": {
      "text/plain": [
       "False"
      ]
     },
     "execution_count": 127,
     "metadata": {},
     "output_type": "execute_result"
    }
   ],
   "source": [
    "5 is 5.0"
   ]
  },
  {
   "cell_type": "code",
   "execution_count": 128,
   "id": "d8d167f8",
   "metadata": {},
   "outputs": [
    {
     "data": {
      "text/plain": [
       "2830972905904"
      ]
     },
     "execution_count": 128,
     "metadata": {},
     "output_type": "execute_result"
    }
   ],
   "source": [
    "a=5\n",
    "id(a)"
   ]
  },
  {
   "cell_type": "code",
   "execution_count": 129,
   "id": "a38ed3da",
   "metadata": {},
   "outputs": [
    {
     "data": {
      "text/plain": [
       "2831057479408"
      ]
     },
     "execution_count": 129,
     "metadata": {},
     "output_type": "execute_result"
    }
   ],
   "source": [
    "b=5.0\n",
    "id(b)"
   ]
  },
  {
   "cell_type": "code",
   "execution_count": null,
   "id": "fbb522a5",
   "metadata": {},
   "outputs": [],
   "source": []
  },
  {
   "cell_type": "code",
   "execution_count": null,
   "id": "b37d3b1b",
   "metadata": {},
   "outputs": [],
   "source": [
    "#list operator"
   ]
  },
  {
   "cell_type": "code",
   "execution_count": 130,
   "id": "4b707706",
   "metadata": {},
   "outputs": [
    {
     "data": {
      "text/plain": [
       "True"
      ]
     },
     "execution_count": 130,
     "metadata": {},
     "output_type": "execute_result"
    }
   ],
   "source": [
    "'e' in 'welcome'"
   ]
  },
  {
   "cell_type": "code",
   "execution_count": 131,
   "id": "827ce50e",
   "metadata": {},
   "outputs": [
    {
     "data": {
      "text/plain": [
       "False"
      ]
     },
     "execution_count": 131,
     "metadata": {},
     "output_type": "execute_result"
    }
   ],
   "source": [
    "'z' in 'welcome'"
   ]
  },
  {
   "cell_type": "code",
   "execution_count": 132,
   "id": "f87f39e6",
   "metadata": {},
   "outputs": [
    {
     "ename": "TypeError",
     "evalue": "argument of type 'int' is not iterable",
     "output_type": "error",
     "traceback": [
      "\u001b[1;31m---------------------------------------------------------------------------\u001b[0m",
      "\u001b[1;31mTypeError\u001b[0m                                 Traceback (most recent call last)",
      "\u001b[1;32m~\\AppData\\Local\\Temp\\ipykernel_19604\\3639595511.py\u001b[0m in \u001b[0;36m<module>\u001b[1;34m\u001b[0m\n\u001b[1;32m----> 1\u001b[1;33m \u001b[1;36m10\u001b[0m \u001b[1;32min\u001b[0m \u001b[1;36m100010100\u001b[0m\u001b[1;33m\u001b[0m\u001b[1;33m\u001b[0m\u001b[0m\n\u001b[0m",
      "\u001b[1;31mTypeError\u001b[0m: argument of type 'int' is not iterable"
     ]
    }
   ],
   "source": [
    "10 in 100010100"
   ]
  },
  {
   "cell_type": "code",
   "execution_count": 133,
   "id": "7c7d9cb2",
   "metadata": {},
   "outputs": [
    {
     "ename": "TypeError",
     "evalue": "'in <string>' requires string as left operand, not int",
     "output_type": "error",
     "traceback": [
      "\u001b[1;31m---------------------------------------------------------------------------\u001b[0m",
      "\u001b[1;31mTypeError\u001b[0m                                 Traceback (most recent call last)",
      "\u001b[1;32m~\\AppData\\Local\\Temp\\ipykernel_19604\\568551156.py\u001b[0m in \u001b[0;36m<module>\u001b[1;34m\u001b[0m\n\u001b[1;32m----> 1\u001b[1;33m \u001b[1;36m10\u001b[0m \u001b[1;32min\u001b[0m \u001b[1;34m'1000101001'\u001b[0m\u001b[1;33m\u001b[0m\u001b[1;33m\u001b[0m\u001b[0m\n\u001b[0m",
      "\u001b[1;31mTypeError\u001b[0m: 'in <string>' requires string as left operand, not int"
     ]
    }
   ],
   "source": [
    "10 in '1000101001'"
   ]
  },
  {
   "cell_type": "code",
   "execution_count": 134,
   "id": "ab84dd90",
   "metadata": {},
   "outputs": [
    {
     "data": {
      "text/plain": [
       "True"
      ]
     },
     "execution_count": 134,
     "metadata": {},
     "output_type": "execute_result"
    }
   ],
   "source": [
    "'10' in '0001000120'"
   ]
  },
  {
   "cell_type": "code",
   "execution_count": 135,
   "id": "ccc1757e",
   "metadata": {},
   "outputs": [
    {
     "data": {
      "text/plain": [
       "True"
      ]
     },
     "execution_count": 135,
     "metadata": {},
     "output_type": "execute_result"
    }
   ],
   "source": [
    "10 in [10,20,30,40]"
   ]
  },
  {
   "cell_type": "code",
   "execution_count": null,
   "id": "431281aa",
   "metadata": {},
   "outputs": [],
   "source": [
    "Note: right side of in should be iterable object"
   ]
  },
  {
   "cell_type": "code",
   "execution_count": null,
   "id": "df07456b",
   "metadata": {},
   "outputs": [],
   "source": [
    "#Type conversion\n",
    "#int => float , str, bool"
   ]
  },
  {
   "cell_type": "code",
   "execution_count": null,
   "id": "16be4d24",
   "metadata": {},
   "outputs": [],
   "source": [
    "#int"
   ]
  },
  {
   "cell_type": "code",
   "execution_count": null,
   "id": "d3401f3f",
   "metadata": {},
   "outputs": [],
   "source": [
    "a=100"
   ]
  },
  {
   "cell_type": "code",
   "execution_count": null,
   "id": "693b14d7",
   "metadata": {},
   "outputs": [],
   "source": [
    "type(a)"
   ]
  },
  {
   "cell_type": "code",
   "execution_count": null,
   "id": "eacf34e3",
   "metadata": {},
   "outputs": [],
   "source": [
    "float(a)"
   ]
  },
  {
   "cell_type": "code",
   "execution_count": null,
   "id": "abed15ce",
   "metadata": {},
   "outputs": [],
   "source": [
    "str(a)"
   ]
  },
  {
   "cell_type": "code",
   "execution_count": null,
   "id": "fb55afc0",
   "metadata": {},
   "outputs": [],
   "source": [
    "bool(a)"
   ]
  },
  {
   "cell_type": "code",
   "execution_count": null,
   "id": "5b098864",
   "metadata": {},
   "outputs": [],
   "source": [
    "#float => int, str, bool"
   ]
  },
  {
   "cell_type": "code",
   "execution_count": null,
   "id": "5d8393b6",
   "metadata": {},
   "outputs": [],
   "source": [
    "a=10.45"
   ]
  },
  {
   "cell_type": "code",
   "execution_count": null,
   "id": "f810e9cc",
   "metadata": {},
   "outputs": [],
   "source": [
    "type(a)"
   ]
  },
  {
   "cell_type": "code",
   "execution_count": null,
   "id": "263f0403",
   "metadata": {},
   "outputs": [],
   "source": [
    "int(a)"
   ]
  },
  {
   "cell_type": "code",
   "execution_count": null,
   "id": "fa5eab0f",
   "metadata": {},
   "outputs": [],
   "source": [
    "str(a)"
   ]
  },
  {
   "cell_type": "code",
   "execution_count": null,
   "id": "cc4f41ac",
   "metadata": {},
   "outputs": [],
   "source": [
    "bool(a)"
   ]
  },
  {
   "cell_type": "code",
   "execution_count": null,
   "id": "6cfded37",
   "metadata": {},
   "outputs": [],
   "source": [
    "#str => int, float,bool"
   ]
  },
  {
   "cell_type": "code",
   "execution_count": null,
   "id": "f69697ae",
   "metadata": {},
   "outputs": [],
   "source": [
    "v1='hi'"
   ]
  },
  {
   "cell_type": "code",
   "execution_count": null,
   "id": "b9ef15ac",
   "metadata": {},
   "outputs": [],
   "source": [
    "type(v1)"
   ]
  },
  {
   "cell_type": "code",
   "execution_count": null,
   "id": "ec985db4",
   "metadata": {},
   "outputs": [],
   "source": [
    "int(v1)"
   ]
  },
  {
   "cell_type": "code",
   "execution_count": null,
   "id": "1ca01b78",
   "metadata": {},
   "outputs": [],
   "source": [
    "float(v1)"
   ]
  },
  {
   "cell_type": "code",
   "execution_count": null,
   "id": "c7adb33a",
   "metadata": {},
   "outputs": [],
   "source": [
    "bool(v1)"
   ]
  },
  {
   "cell_type": "code",
   "execution_count": null,
   "id": "6ba3cbe4",
   "metadata": {},
   "outputs": [],
   "source": [
    "v2='100'"
   ]
  },
  {
   "cell_type": "code",
   "execution_count": null,
   "id": "df6caf52",
   "metadata": {},
   "outputs": [],
   "source": [
    "type(v2)"
   ]
  },
  {
   "cell_type": "code",
   "execution_count": null,
   "id": "7c177e80",
   "metadata": {},
   "outputs": [],
   "source": [
    "int(v2)"
   ]
  },
  {
   "cell_type": "code",
   "execution_count": null,
   "id": "e8f27868",
   "metadata": {},
   "outputs": [],
   "source": [
    "float(v2)"
   ]
  },
  {
   "cell_type": "code",
   "execution_count": null,
   "id": "0951bb46",
   "metadata": {},
   "outputs": [],
   "source": [
    "bool(v2)"
   ]
  },
  {
   "cell_type": "code",
   "execution_count": null,
   "id": "df502b68",
   "metadata": {},
   "outputs": [],
   "source": [
    "v3 = '10.45'"
   ]
  },
  {
   "cell_type": "code",
   "execution_count": null,
   "id": "f67f49d6",
   "metadata": {},
   "outputs": [],
   "source": [
    "type(v3)"
   ]
  },
  {
   "cell_type": "code",
   "execution_count": null,
   "id": "a485ed42",
   "metadata": {},
   "outputs": [],
   "source": [
    "int(v3)"
   ]
  },
  {
   "cell_type": "code",
   "execution_count": null,
   "id": "fdd00066",
   "metadata": {},
   "outputs": [],
   "source": [
    "float(v3)"
   ]
  },
  {
   "cell_type": "code",
   "execution_count": null,
   "id": "fc61edd1",
   "metadata": {},
   "outputs": [],
   "source": [
    "int(float(v3))"
   ]
  },
  {
   "cell_type": "code",
   "execution_count": null,
   "id": "f7ade7ef",
   "metadata": {},
   "outputs": [],
   "source": [
    "bool(v3)"
   ]
  },
  {
   "cell_type": "raw",
   "id": "c6f2f4bb",
   "metadata": {},
   "source": [
    "#type casting\n",
    "%s = it will read any data\n",
    "%d = it will read only integer part data\n",
    "%f = it will read only float data\n",
    "%r = it willl read as raw data"
   ]
  },
  {
   "cell_type": "code",
   "execution_count": null,
   "id": "766f8a34",
   "metadata": {},
   "outputs": [],
   "source": [
    "cr = 'Python'\n",
    "fee = 10000\n",
    "t = 10.45"
   ]
  },
  {
   "cell_type": "code",
   "execution_count": null,
   "id": "8e6aee90",
   "metadata": {},
   "outputs": [],
   "source": [
    "print(\"Course = cr, fees = fee, time = t\")"
   ]
  },
  {
   "cell_type": "code",
   "execution_count": null,
   "id": "d7fb92c4",
   "metadata": {},
   "outputs": [],
   "source": [
    "print(\"Course = %s, fees = %d, time = %f\" %(cr,fee,t))"
   ]
  },
  {
   "cell_type": "code",
   "execution_count": null,
   "id": "d37947f8",
   "metadata": {},
   "outputs": [],
   "source": [
    "print(\"Course = %s, fees = %s, time = %s\" %(cr,fee,t))"
   ]
  },
  {
   "cell_type": "code",
   "execution_count": null,
   "id": "a8089653",
   "metadata": {},
   "outputs": [],
   "source": [
    "print(\"Course = %s, fees = %d, time = %d\" %(cr,fee,t))"
   ]
  },
  {
   "cell_type": "code",
   "execution_count": null,
   "id": "9530e600",
   "metadata": {},
   "outputs": [],
   "source": [
    "print(\"Course = %d, fees = %s, time = %s\" %(cr,fee,t))"
   ]
  },
  {
   "cell_type": "code",
   "execution_count": null,
   "id": "e8415d5c",
   "metadata": {},
   "outputs": [],
   "source": [
    "print(\"Course = %s, fees = %s, time = \" %(cr,fee,t))"
   ]
  },
  {
   "cell_type": "code",
   "execution_count": null,
   "id": "5bc8ff75",
   "metadata": {},
   "outputs": [],
   "source": [
    "print(\"Course = %s, fees = %s, time = %s\" %(cr,fee))"
   ]
  },
  {
   "cell_type": "code",
   "execution_count": null,
   "id": "d6c8ee74",
   "metadata": {},
   "outputs": [],
   "source": [
    "print(\"Course = %s, fees = %s+%s, time = %s\" %(cr,fee,100,t))"
   ]
  },
  {
   "cell_type": "code",
   "execution_count": null,
   "id": "e15ccb74",
   "metadata": {},
   "outputs": [],
   "source": [
    "#casting with string format method"
   ]
  },
  {
   "cell_type": "code",
   "execution_count": null,
   "id": "a5ce64c2",
   "metadata": {},
   "outputs": [],
   "source": [
    "cr = 'Python'\n",
    "fee = 10000\n",
    "t = 10.45"
   ]
  },
  {
   "cell_type": "code",
   "execution_count": null,
   "id": "39920ccf",
   "metadata": {},
   "outputs": [],
   "source": [
    "print(\"i have joined {} course\".format('Django'))"
   ]
  },
  {
   "cell_type": "code",
   "execution_count": null,
   "id": "42982eab",
   "metadata": {},
   "outputs": [],
   "source": [
    "print(\"Course = {}, fees = {}, time = {}\".format(cr,fee,t))"
   ]
  },
  {
   "cell_type": "code",
   "execution_count": null,
   "id": "167d1aaf",
   "metadata": {},
   "outputs": [],
   "source": [
    "print(\"Course = {2}, fees = {0}, time = {1}\".format(cr,fee,t))"
   ]
  },
  {
   "cell_type": "code",
   "execution_count": null,
   "id": "97a34e9c",
   "metadata": {},
   "outputs": [],
   "source": [
    "print(\"Course = {0}, fees = {0}, time = {0}\".format(cr,fee,t))"
   ]
  },
  {
   "cell_type": "code",
   "execution_count": null,
   "id": "9cde1f39",
   "metadata": {},
   "outputs": [],
   "source": [
    "print(\"Course = {}, fees = {}, time = \".format(cr,fee,t))"
   ]
  },
  {
   "cell_type": "code",
   "execution_count": null,
   "id": "1e4d9250",
   "metadata": {},
   "outputs": [],
   "source": [
    "print(\"Course = {}, fees = {}, time = {}\".format(cr,fee))"
   ]
  },
  {
   "cell_type": "code",
   "execution_count": null,
   "id": "7d808e1c",
   "metadata": {},
   "outputs": [],
   "source": [
    "#rawdata"
   ]
  },
  {
   "cell_type": "code",
   "execution_count": null,
   "id": "fda676e1",
   "metadata": {},
   "outputs": [],
   "source": [
    "print(\"welcome \\nto \\npython\")"
   ]
  },
  {
   "cell_type": "code",
   "execution_count": null,
   "id": "17effca2",
   "metadata": {},
   "outputs": [],
   "source": [
    "v1 = \"welcome \\nto \\npython\""
   ]
  },
  {
   "cell_type": "code",
   "execution_count": null,
   "id": "b02cd502",
   "metadata": {},
   "outputs": [],
   "source": [
    "print(v1)"
   ]
  },
  {
   "cell_type": "code",
   "execution_count": null,
   "id": "248060b7",
   "metadata": {},
   "outputs": [],
   "source": [
    "print(\"%s\" %(v1))"
   ]
  },
  {
   "cell_type": "code",
   "execution_count": null,
   "id": "d44982f7",
   "metadata": {},
   "outputs": [],
   "source": [
    "print(\"{}\".format(v1))"
   ]
  },
  {
   "cell_type": "code",
   "execution_count": null,
   "id": "6fdcf381",
   "metadata": {},
   "outputs": [],
   "source": [
    "print(r\"welcome \\nto \\npython\")"
   ]
  },
  {
   "cell_type": "code",
   "execution_count": null,
   "id": "ab99436b",
   "metadata": {},
   "outputs": [],
   "source": [
    "print(\"%r\" %(v1))"
   ]
  },
  {
   "cell_type": "code",
   "execution_count": null,
   "id": "6788a148",
   "metadata": {},
   "outputs": [],
   "source": [
    "print(\"%r %r\" %(v1,v1))"
   ]
  },
  {
   "cell_type": "code",
   "execution_count": null,
   "id": "5950b2b4",
   "metadata": {},
   "outputs": [],
   "source": [
    "print(\"my data %r is good %r\" %(v1,v1))"
   ]
  },
  {
   "cell_type": "code",
   "execution_count": null,
   "id": "5902fbc5",
   "metadata": {},
   "outputs": [],
   "source": [
    "#naming convension in python variables"
   ]
  },
  {
   "cell_type": "code",
   "execution_count": null,
   "id": "9a86f64c",
   "metadata": {},
   "outputs": [],
   "source": [
    "v1 = 100"
   ]
  },
  {
   "cell_type": "code",
   "execution_count": null,
   "id": "cbbf55f1",
   "metadata": {},
   "outputs": [],
   "source": [
    "1v = 100 "
   ]
  },
  {
   "cell_type": "code",
   "execution_count": null,
   "id": "16e51218",
   "metadata": {},
   "outputs": [],
   "source": [
    "$v1 = 100"
   ]
  },
  {
   "cell_type": "code",
   "execution_count": null,
   "id": "09fa921c",
   "metadata": {},
   "outputs": [],
   "source": [
    "v1$=100"
   ]
  },
  {
   "cell_type": "code",
   "execution_count": null,
   "id": "1a719dca",
   "metadata": {},
   "outputs": [],
   "source": [
    "v1@ = 100"
   ]
  },
  {
   "cell_type": "code",
   "execution_count": null,
   "id": "6e292015",
   "metadata": {},
   "outputs": [],
   "source": [
    "#single line comment"
   ]
  },
  {
   "cell_type": "code",
   "execution_count": null,
   "id": "175f1c89",
   "metadata": {},
   "outputs": [],
   "source": [
    "print(\"welcome to python \") # this is single line comment"
   ]
  },
  {
   "cell_type": "code",
   "execution_count": null,
   "id": "e0b20877",
   "metadata": {},
   "outputs": [],
   "source": [
    "_v1 = 100"
   ]
  },
  {
   "cell_type": "code",
   "execution_count": null,
   "id": "89901b2c",
   "metadata": {},
   "outputs": [],
   "source": [
    "__v1 = 100"
   ]
  },
  {
   "cell_type": "code",
   "execution_count": null,
   "id": "5b227f5b",
   "metadata": {},
   "outputs": [],
   "source": [
    "__v1__ = 100"
   ]
  },
  {
   "cell_type": "code",
   "execution_count": null,
   "id": "e00d4aa8",
   "metadata": {},
   "outputs": [],
   "source": [
    "_ = 100"
   ]
  },
  {
   "cell_type": "code",
   "execution_count": null,
   "id": "96acbb2a",
   "metadata": {},
   "outputs": [],
   "source": [
    "print(_)"
   ]
  },
  {
   "cell_type": "code",
   "execution_count": null,
   "id": "24cb2ae4",
   "metadata": {},
   "outputs": [],
   "source": [
    "#indexing and slicing"
   ]
  },
  {
   "cell_type": "code",
   "execution_count": null,
   "id": "4e0f5e29",
   "metadata": {},
   "outputs": [],
   "source": [
    "v1 = \"welcome\""
   ]
  },
  {
   "cell_type": "code",
   "execution_count": null,
   "id": "c4d57c75",
   "metadata": {},
   "outputs": [],
   "source": [
    "print(v1)"
   ]
  },
  {
   "cell_type": "code",
   "execution_count": null,
   "id": "ddf7b0b3",
   "metadata": {},
   "outputs": [],
   "source": [
    "id(v1)"
   ]
  },
  {
   "cell_type": "code",
   "execution_count": null,
   "id": "715d051b",
   "metadata": {},
   "outputs": [],
   "source": [
    "type(v1)"
   ]
  },
  {
   "cell_type": "code",
   "execution_count": null,
   "id": "a133da66",
   "metadata": {},
   "outputs": [],
   "source": [
    "v1[0]"
   ]
  },
  {
   "cell_type": "code",
   "execution_count": null,
   "id": "2d20448c",
   "metadata": {},
   "outputs": [],
   "source": [
    "v1[-1]"
   ]
  },
  {
   "cell_type": "code",
   "execution_count": null,
   "id": "82dcf409",
   "metadata": {},
   "outputs": [],
   "source": [
    "id(v1[0])"
   ]
  },
  {
   "cell_type": "code",
   "execution_count": null,
   "id": "9ef0272a",
   "metadata": {},
   "outputs": [],
   "source": [
    "type(v1[0])"
   ]
  },
  {
   "cell_type": "code",
   "execution_count": null,
   "id": "579c5979",
   "metadata": {},
   "outputs": [],
   "source": [
    "#slicing"
   ]
  },
  {
   "cell_type": "code",
   "execution_count": 1,
   "id": "5f2e4001",
   "metadata": {},
   "outputs": [],
   "source": [
    "v1='welcome'"
   ]
  },
  {
   "cell_type": "code",
   "execution_count": 2,
   "id": "48ff7bd1",
   "metadata": {},
   "outputs": [
    {
     "data": {
      "text/plain": [
       "'welcome'"
      ]
     },
     "execution_count": 2,
     "metadata": {},
     "output_type": "execute_result"
    }
   ],
   "source": [
    "v1[:]"
   ]
  },
  {
   "cell_type": "code",
   "execution_count": 3,
   "id": "33285062",
   "metadata": {},
   "outputs": [
    {
     "data": {
      "text/plain": [
       "'welcome'"
      ]
     },
     "execution_count": 3,
     "metadata": {},
     "output_type": "execute_result"
    }
   ],
   "source": [
    "v1[::]"
   ]
  },
  {
   "cell_type": "code",
   "execution_count": 4,
   "id": "41986117",
   "metadata": {},
   "outputs": [
    {
     "data": {
      "text/plain": [
       "'welcome'"
      ]
     },
     "execution_count": 4,
     "metadata": {},
     "output_type": "execute_result"
    }
   ],
   "source": [
    "v1[::1]"
   ]
  },
  {
   "cell_type": "code",
   "execution_count": 5,
   "id": "969d4eb1",
   "metadata": {},
   "outputs": [
    {
     "data": {
      "text/plain": [
       "'wloe'"
      ]
     },
     "execution_count": 5,
     "metadata": {},
     "output_type": "execute_result"
    }
   ],
   "source": [
    "v1[::2]"
   ]
  },
  {
   "cell_type": "code",
   "execution_count": 6,
   "id": "a8deed8f",
   "metadata": {},
   "outputs": [
    {
     "data": {
      "text/plain": [
       "'wce'"
      ]
     },
     "execution_count": 6,
     "metadata": {},
     "output_type": "execute_result"
    }
   ],
   "source": [
    "v1[::3]"
   ]
  },
  {
   "cell_type": "code",
   "execution_count": 7,
   "id": "0866eace",
   "metadata": {},
   "outputs": [
    {
     "data": {
      "text/plain": [
       "'emoclew'"
      ]
     },
     "execution_count": 7,
     "metadata": {},
     "output_type": "execute_result"
    }
   ],
   "source": [
    "v1[::-1]"
   ]
  },
  {
   "cell_type": "code",
   "execution_count": 8,
   "id": "1ae3f4a5",
   "metadata": {},
   "outputs": [
    {
     "data": {
      "text/plain": [
       "'welc'"
      ]
     },
     "execution_count": 8,
     "metadata": {},
     "output_type": "execute_result"
    }
   ],
   "source": [
    "v1[:4]"
   ]
  },
  {
   "cell_type": "code",
   "execution_count": 9,
   "id": "fb65c6ac",
   "metadata": {},
   "outputs": [
    {
     "data": {
      "text/plain": [
       "'come'"
      ]
     },
     "execution_count": 9,
     "metadata": {},
     "output_type": "execute_result"
    }
   ],
   "source": [
    "v1[3:]"
   ]
  },
  {
   "cell_type": "code",
   "execution_count": 10,
   "id": "44f9319a",
   "metadata": {},
   "outputs": [],
   "source": [
    "v1=\"welcome to python\""
   ]
  },
  {
   "cell_type": "code",
   "execution_count": 11,
   "id": "b9e0bf1a",
   "metadata": {},
   "outputs": [
    {
     "data": {
      "text/plain": [
       "'ome t'"
      ]
     },
     "execution_count": 11,
     "metadata": {},
     "output_type": "execute_result"
    }
   ],
   "source": [
    "v1[4:9]"
   ]
  },
  {
   "cell_type": "code",
   "execution_count": 12,
   "id": "7fb3b6ef",
   "metadata": {},
   "outputs": [
    {
     "data": {
      "text/plain": [
       "''"
      ]
     },
     "execution_count": 12,
     "metadata": {},
     "output_type": "execute_result"
    }
   ],
   "source": [
    "v1[4:9:-1]"
   ]
  },
  {
   "cell_type": "code",
   "execution_count": 13,
   "id": "a61ab8cd",
   "metadata": {},
   "outputs": [
    {
     "data": {
      "text/plain": [
       "'ot em'"
      ]
     },
     "execution_count": 13,
     "metadata": {},
     "output_type": "execute_result"
    }
   ],
   "source": [
    "v1[9:4:-1]"
   ]
  },
  {
   "cell_type": "code",
   "execution_count": null,
   "id": "ad3e005d",
   "metadata": {},
   "outputs": [],
   "source": [
    "#pallendrome string"
   ]
  },
  {
   "cell_type": "code",
   "execution_count": null,
   "id": "adba2b50",
   "metadata": {},
   "outputs": [],
   "source": [
    "'madam'[::-1]"
   ]
  },
  {
   "cell_type": "code",
   "execution_count": null,
   "id": "132bb1bb",
   "metadata": {},
   "outputs": [],
   "source": [
    "'madam'[::-1]=='madam'"
   ]
  },
  {
   "cell_type": "code",
   "execution_count": null,
   "id": "6b06a545",
   "metadata": {},
   "outputs": [],
   "source": [
    "n=4334"
   ]
  },
  {
   "cell_type": "code",
   "execution_count": null,
   "id": "5f0d2c4c",
   "metadata": {},
   "outputs": [],
   "source": [
    "str(n)[::-1]==str(n)"
   ]
  },
  {
   "cell_type": "code",
   "execution_count": null,
   "id": "93d5715d",
   "metadata": {},
   "outputs": [],
   "source": [
    "len(\"welcome\")"
   ]
  },
  {
   "cell_type": "code",
   "execution_count": null,
   "id": "33221643",
   "metadata": {},
   "outputs": [],
   "source": [
    "len(83947593)"
   ]
  },
  {
   "cell_type": "code",
   "execution_count": null,
   "id": "f14d6e69",
   "metadata": {},
   "outputs": [],
   "source": [
    "phone=8509840988"
   ]
  },
  {
   "cell_type": "code",
   "execution_count": null,
   "id": "f6a04265",
   "metadata": {},
   "outputs": [],
   "source": [
    "len(phone)"
   ]
  },
  {
   "cell_type": "code",
   "execution_count": null,
   "id": "feab1daf",
   "metadata": {},
   "outputs": [],
   "source": [
    "str(phone)"
   ]
  },
  {
   "cell_type": "code",
   "execution_count": null,
   "id": "e24ac222",
   "metadata": {},
   "outputs": [],
   "source": [
    "len(str(phone))"
   ]
  },
  {
   "cell_type": "code",
   "execution_count": null,
   "id": "c710b69b",
   "metadata": {},
   "outputs": [],
   "source": [
    "len(str(phone))==10"
   ]
  },
  {
   "cell_type": "code",
   "execution_count": null,
   "id": "27ab39d1",
   "metadata": {},
   "outputs": [],
   "source": [
    "pow(10,2)"
   ]
  },
  {
   "cell_type": "code",
   "execution_count": null,
   "id": "cddb0e89",
   "metadata": {},
   "outputs": [],
   "source": [
    "max([1,2,3,4,5])"
   ]
  },
  {
   "cell_type": "code",
   "execution_count": null,
   "id": "dcd98e2b",
   "metadata": {},
   "outputs": [],
   "source": [
    "min([1,2,3,4,5])"
   ]
  },
  {
   "cell_type": "code",
   "execution_count": null,
   "id": "4e2dfba9",
   "metadata": {},
   "outputs": [],
   "source": [
    "n=524"
   ]
  },
  {
   "cell_type": "code",
   "execution_count": null,
   "id": "21615ba8",
   "metadata": {},
   "outputs": [],
   "source": [
    "str(n)"
   ]
  },
  {
   "cell_type": "code",
   "execution_count": null,
   "id": "4d2a334e",
   "metadata": {},
   "outputs": [],
   "source": [
    "str(n)[::-1]"
   ]
  },
  {
   "cell_type": "code",
   "execution_count": null,
   "id": "a5aaad98",
   "metadata": {},
   "outputs": [],
   "source": [
    "str(n)[::-1]==str(n)"
   ]
  },
  {
   "cell_type": "code",
   "execution_count": null,
   "id": "73bb85d3",
   "metadata": {},
   "outputs": [],
   "source": [
    "v1 = 'welcome'"
   ]
  },
  {
   "cell_type": "code",
   "execution_count": null,
   "id": "f10d7516",
   "metadata": {},
   "outputs": [],
   "source": [
    "v1[4:9:1]"
   ]
  },
  {
   "cell_type": "code",
   "execution_count": null,
   "id": "7b7121e9",
   "metadata": {},
   "outputs": [],
   "source": []
  },
  {
   "cell_type": "code",
   "execution_count": null,
   "id": "b87a779e",
   "metadata": {},
   "outputs": [],
   "source": []
  }
 ],
 "metadata": {
  "kernelspec": {
   "display_name": "Python 3 (ipykernel)",
   "language": "python",
   "name": "python3"
  },
  "language_info": {
   "codemirror_mode": {
    "name": "ipython",
    "version": 3
   },
   "file_extension": ".py",
   "mimetype": "text/x-python",
   "name": "python",
   "nbconvert_exporter": "python",
   "pygments_lexer": "ipython3",
   "version": "3.9.13"
  }
 },
 "nbformat": 4,
 "nbformat_minor": 5
}
