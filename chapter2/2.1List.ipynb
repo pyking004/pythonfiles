{
 "cells": [
  {
   "cell_type": "code",
   "execution_count": null,
   "id": "f7c1774f",
   "metadata": {},
   "outputs": [],
   "source": [
    "#in python to store the data there are in built classes provided\n",
    "#list,tuple,dict,set\n",
    "#all these classes will create object \n",
    "#these objects are interable"
   ]
  },
  {
   "cell_type": "code",
   "execution_count": null,
   "id": "f216b3ee",
   "metadata": {},
   "outputs": [],
   "source": [
    "#List is iterable object\n",
    "#it has indexing and slicing"
   ]
  },
  {
   "cell_type": "code",
   "execution_count": 1,
   "id": "65f411c9",
   "metadata": {},
   "outputs": [],
   "source": [
    "L1 = [10,20,30,40,50]"
   ]
  },
  {
   "cell_type": "code",
   "execution_count": 2,
   "id": "b668123b",
   "metadata": {},
   "outputs": [
    {
     "data": {
      "text/plain": [
       "list"
      ]
     },
     "execution_count": 2,
     "metadata": {},
     "output_type": "execute_result"
    }
   ],
   "source": [
    "type(L1)"
   ]
  },
  {
   "cell_type": "code",
   "execution_count": 3,
   "id": "87e07247",
   "metadata": {},
   "outputs": [
    {
     "name": "stdout",
     "output_type": "stream",
     "text": [
      "[10, 20, 30, 40, 50]\n"
     ]
    }
   ],
   "source": [
    "print(L1)"
   ]
  },
  {
   "cell_type": "code",
   "execution_count": 4,
   "id": "5c567933",
   "metadata": {},
   "outputs": [
    {
     "data": {
      "text/plain": [
       "[10, 20, 30, 40, 50]"
      ]
     },
     "execution_count": 4,
     "metadata": {},
     "output_type": "execute_result"
    }
   ],
   "source": [
    "L1"
   ]
  },
  {
   "cell_type": "code",
   "execution_count": 5,
   "id": "09aa46f8",
   "metadata": {},
   "outputs": [],
   "source": [
    "L2 = ['python','django','reactjs','flask']"
   ]
  },
  {
   "cell_type": "code",
   "execution_count": 6,
   "id": "3ef48338",
   "metadata": {},
   "outputs": [
    {
     "data": {
      "text/plain": [
       "list"
      ]
     },
     "execution_count": 6,
     "metadata": {},
     "output_type": "execute_result"
    }
   ],
   "source": [
    "type(L2)"
   ]
  },
  {
   "cell_type": "code",
   "execution_count": 7,
   "id": "b1bd7678",
   "metadata": {},
   "outputs": [
    {
     "data": {
      "text/plain": [
       "['python', 'django', 'reactjs', 'flask']"
      ]
     },
     "execution_count": 7,
     "metadata": {},
     "output_type": "execute_result"
    }
   ],
   "source": [
    "L2"
   ]
  },
  {
   "cell_type": "code",
   "execution_count": 8,
   "id": "8742f29f",
   "metadata": {},
   "outputs": [],
   "source": [
    "L3 = [10.45,10.64,10.76]"
   ]
  },
  {
   "cell_type": "code",
   "execution_count": 9,
   "id": "eb6a99cb",
   "metadata": {},
   "outputs": [
    {
     "data": {
      "text/plain": [
       "list"
      ]
     },
     "execution_count": 9,
     "metadata": {},
     "output_type": "execute_result"
    }
   ],
   "source": [
    "type(L3)"
   ]
  },
  {
   "cell_type": "code",
   "execution_count": 10,
   "id": "75dcac8c",
   "metadata": {},
   "outputs": [
    {
     "data": {
      "text/plain": [
       "[10.45, 10.64, 10.76]"
      ]
     },
     "execution_count": 10,
     "metadata": {},
     "output_type": "execute_result"
    }
   ],
   "source": [
    "L3"
   ]
  },
  {
   "cell_type": "code",
   "execution_count": 11,
   "id": "86cfbf05",
   "metadata": {},
   "outputs": [],
   "source": [
    "L4 = [100,'python',11.30]"
   ]
  },
  {
   "cell_type": "code",
   "execution_count": 12,
   "id": "58918acb",
   "metadata": {},
   "outputs": [
    {
     "data": {
      "text/plain": [
       "list"
      ]
     },
     "execution_count": 12,
     "metadata": {},
     "output_type": "execute_result"
    }
   ],
   "source": [
    "type(L4)"
   ]
  },
  {
   "cell_type": "code",
   "execution_count": 13,
   "id": "65234bad",
   "metadata": {},
   "outputs": [],
   "source": [
    "L5 = [101,'django',10.30,None,True,False]"
   ]
  },
  {
   "cell_type": "code",
   "execution_count": 14,
   "id": "c923c02f",
   "metadata": {},
   "outputs": [
    {
     "data": {
      "text/plain": [
       "list"
      ]
     },
     "execution_count": 14,
     "metadata": {},
     "output_type": "execute_result"
    }
   ],
   "source": [
    "type(L5)"
   ]
  },
  {
   "cell_type": "code",
   "execution_count": 15,
   "id": "10babfd8",
   "metadata": {},
   "outputs": [
    {
     "data": {
      "text/plain": [
       "[101, 'django', 10.3, None, True, False]"
      ]
     },
     "execution_count": 15,
     "metadata": {},
     "output_type": "execute_result"
    }
   ],
   "source": [
    "L5"
   ]
  },
  {
   "cell_type": "code",
   "execution_count": 16,
   "id": "9daa2c51",
   "metadata": {},
   "outputs": [
    {
     "data": {
      "text/plain": [
       "list"
      ]
     },
     "execution_count": 16,
     "metadata": {},
     "output_type": "execute_result"
    }
   ],
   "source": [
    "type(L5)"
   ]
  },
  {
   "cell_type": "code",
   "execution_count": 17,
   "id": "46a506f6",
   "metadata": {},
   "outputs": [
    {
     "data": {
      "text/plain": [
       "int"
      ]
     },
     "execution_count": 17,
     "metadata": {},
     "output_type": "execute_result"
    }
   ],
   "source": [
    "type(L5[0])"
   ]
  },
  {
   "cell_type": "code",
   "execution_count": 18,
   "id": "ba9b7a18",
   "metadata": {},
   "outputs": [
    {
     "data": {
      "text/plain": [
       "str"
      ]
     },
     "execution_count": 18,
     "metadata": {},
     "output_type": "execute_result"
    }
   ],
   "source": [
    "type(L5[1])"
   ]
  },
  {
   "cell_type": "code",
   "execution_count": 19,
   "id": "a08e05cc",
   "metadata": {},
   "outputs": [
    {
     "data": {
      "text/plain": [
       "float"
      ]
     },
     "execution_count": 19,
     "metadata": {},
     "output_type": "execute_result"
    }
   ],
   "source": [
    "type(L5[2])"
   ]
  },
  {
   "cell_type": "code",
   "execution_count": 20,
   "id": "bd6947d1",
   "metadata": {},
   "outputs": [],
   "source": [
    "a=10\n",
    "b=20\n",
    "c=30"
   ]
  },
  {
   "cell_type": "code",
   "execution_count": 21,
   "id": "ee26b4e2",
   "metadata": {},
   "outputs": [],
   "source": [
    "L6 = [a,b,c]"
   ]
  },
  {
   "cell_type": "code",
   "execution_count": 22,
   "id": "31a1cdd8",
   "metadata": {},
   "outputs": [
    {
     "data": {
      "text/plain": [
       "list"
      ]
     },
     "execution_count": 22,
     "metadata": {},
     "output_type": "execute_result"
    }
   ],
   "source": [
    "type(L6)"
   ]
  },
  {
   "cell_type": "code",
   "execution_count": 23,
   "id": "de253487",
   "metadata": {},
   "outputs": [
    {
     "data": {
      "text/plain": [
       "[10, 20, 30]"
      ]
     },
     "execution_count": 23,
     "metadata": {},
     "output_type": "execute_result"
    }
   ],
   "source": [
    "L6"
   ]
  },
  {
   "cell_type": "code",
   "execution_count": 24,
   "id": "ed0ecd10",
   "metadata": {},
   "outputs": [
    {
     "data": {
      "text/plain": [
       "[100, 'python', 11.3]"
      ]
     },
     "execution_count": 24,
     "metadata": {},
     "output_type": "execute_result"
    }
   ],
   "source": [
    "L4"
   ]
  },
  {
   "cell_type": "code",
   "execution_count": 25,
   "id": "1c0174f4",
   "metadata": {},
   "outputs": [
    {
     "data": {
      "text/plain": [
       "list"
      ]
     },
     "execution_count": 25,
     "metadata": {},
     "output_type": "execute_result"
    }
   ],
   "source": [
    "type(L4)"
   ]
  },
  {
   "cell_type": "code",
   "execution_count": 26,
   "id": "e780095b",
   "metadata": {},
   "outputs": [
    {
     "name": "stdout",
     "output_type": "stream",
     "text": [
      "Pretty printing has been turned OFF\n"
     ]
    }
   ],
   "source": [
    "pprint"
   ]
  },
  {
   "cell_type": "code",
   "execution_count": 27,
   "id": "4b1b9997",
   "metadata": {},
   "outputs": [
    {
     "data": {
      "text/plain": [
       "['__add__', '__class__', '__class_getitem__', '__contains__', '__delattr__', '__delitem__', '__dir__', '__doc__', '__eq__', '__format__', '__ge__', '__getattribute__', '__getitem__', '__gt__', '__hash__', '__iadd__', '__imul__', '__init__', '__init_subclass__', '__iter__', '__le__', '__len__', '__lt__', '__mul__', '__ne__', '__new__', '__reduce__', '__reduce_ex__', '__repr__', '__reversed__', '__rmul__', '__setattr__', '__setitem__', '__sizeof__', '__str__', '__subclasshook__', 'append', 'clear', 'copy', 'count', 'extend', 'index', 'insert', 'pop', 'remove', 'reverse', 'sort']"
      ]
     },
     "execution_count": 27,
     "metadata": {},
     "output_type": "execute_result"
    }
   ],
   "source": [
    "dir(L4)"
   ]
  },
  {
   "cell_type": "code",
   "execution_count": null,
   "id": "831ea8ff",
   "metadata": {},
   "outputs": [],
   "source": []
  },
  {
   "cell_type": "code",
   "execution_count": null,
   "id": "8505b67c",
   "metadata": {},
   "outputs": [],
   "source": [
    "#Indexing"
   ]
  },
  {
   "cell_type": "code",
   "execution_count": 28,
   "id": "c359809e",
   "metadata": {},
   "outputs": [
    {
     "data": {
      "text/plain": [
       "100"
      ]
     },
     "execution_count": 28,
     "metadata": {},
     "output_type": "execute_result"
    }
   ],
   "source": [
    "L4[0]"
   ]
  },
  {
   "cell_type": "code",
   "execution_count": 29,
   "id": "b6f0327d",
   "metadata": {},
   "outputs": [
    {
     "data": {
      "text/plain": [
       "<class 'int'>"
      ]
     },
     "execution_count": 29,
     "metadata": {},
     "output_type": "execute_result"
    }
   ],
   "source": [
    "type(L4[0])"
   ]
  },
  {
   "cell_type": "code",
   "execution_count": 30,
   "id": "42282f2a",
   "metadata": {},
   "outputs": [
    {
     "data": {
      "text/plain": [
       "1857741358400"
      ]
     },
     "execution_count": 30,
     "metadata": {},
     "output_type": "execute_result"
    }
   ],
   "source": [
    "id(L4)"
   ]
  },
  {
   "cell_type": "code",
   "execution_count": 31,
   "id": "068115a4",
   "metadata": {},
   "outputs": [
    {
     "data": {
      "text/plain": [
       "1857657853392"
      ]
     },
     "execution_count": 31,
     "metadata": {},
     "output_type": "execute_result"
    }
   ],
   "source": [
    "id(L4[0])"
   ]
  },
  {
   "cell_type": "code",
   "execution_count": 32,
   "id": "fa2170d0",
   "metadata": {},
   "outputs": [],
   "source": [
    "L1=[10,20,30]"
   ]
  },
  {
   "cell_type": "code",
   "execution_count": 33,
   "id": "eec295a8",
   "metadata": {},
   "outputs": [
    {
     "data": {
      "text/plain": [
       "1857741297280"
      ]
     },
     "execution_count": 33,
     "metadata": {},
     "output_type": "execute_result"
    }
   ],
   "source": [
    "id(L1)"
   ]
  },
  {
   "cell_type": "code",
   "execution_count": 34,
   "id": "baab7f2e",
   "metadata": {},
   "outputs": [],
   "source": [
    "L2=[10,20,30]"
   ]
  },
  {
   "cell_type": "code",
   "execution_count": 35,
   "id": "4f7a0d48",
   "metadata": {},
   "outputs": [
    {
     "data": {
      "text/plain": [
       "1857741317376"
      ]
     },
     "execution_count": 35,
     "metadata": {},
     "output_type": "execute_result"
    }
   ],
   "source": [
    "id(L2)"
   ]
  },
  {
   "cell_type": "code",
   "execution_count": 36,
   "id": "768bde23",
   "metadata": {},
   "outputs": [
    {
     "name": "stdout",
     "output_type": "stream",
     "text": [
      "1857657662032\n",
      "1857657662032\n"
     ]
    }
   ],
   "source": [
    "print(id(L1[0]))\n",
    "print(id(L2[0]))"
   ]
  },
  {
   "cell_type": "code",
   "execution_count": 37,
   "id": "9484c8f8",
   "metadata": {},
   "outputs": [],
   "source": [
    "L1=[10,20,30,40,50,60,70,80,90,100]"
   ]
  },
  {
   "cell_type": "code",
   "execution_count": 38,
   "id": "e83b8970",
   "metadata": {},
   "outputs": [],
   "source": [
    "#slicing"
   ]
  },
  {
   "cell_type": "code",
   "execution_count": 39,
   "id": "54f11016",
   "metadata": {},
   "outputs": [
    {
     "data": {
      "text/plain": [
       "[10, 20, 30, 40, 50, 60, 70, 80, 90, 100]"
      ]
     },
     "execution_count": 39,
     "metadata": {},
     "output_type": "execute_result"
    }
   ],
   "source": [
    "L1[:]"
   ]
  },
  {
   "cell_type": "code",
   "execution_count": 40,
   "id": "a2a231be",
   "metadata": {},
   "outputs": [
    {
     "data": {
      "text/plain": [
       "[10, 20, 30, 40, 50, 60, 70, 80, 90, 100]"
      ]
     },
     "execution_count": 40,
     "metadata": {},
     "output_type": "execute_result"
    }
   ],
   "source": [
    "L1[::]"
   ]
  },
  {
   "cell_type": "code",
   "execution_count": 41,
   "id": "100fb4f4",
   "metadata": {},
   "outputs": [
    {
     "data": {
      "text/plain": [
       "[10, 20, 30, 40, 50, 60, 70, 80, 90, 100]"
      ]
     },
     "execution_count": 41,
     "metadata": {},
     "output_type": "execute_result"
    }
   ],
   "source": [
    "L1[::1]"
   ]
  },
  {
   "cell_type": "code",
   "execution_count": 42,
   "id": "9300ce16",
   "metadata": {},
   "outputs": [
    {
     "data": {
      "text/plain": [
       "[10, 30, 50, 70, 90]"
      ]
     },
     "execution_count": 42,
     "metadata": {},
     "output_type": "execute_result"
    }
   ],
   "source": [
    "L1[::2]"
   ]
  },
  {
   "cell_type": "code",
   "execution_count": 43,
   "id": "ebeda311",
   "metadata": {},
   "outputs": [
    {
     "data": {
      "text/plain": [
       "[100, 90, 80, 70, 60, 50, 40, 30, 20, 10]"
      ]
     },
     "execution_count": 43,
     "metadata": {},
     "output_type": "execute_result"
    }
   ],
   "source": [
    "L1[::-1]"
   ]
  },
  {
   "cell_type": "code",
   "execution_count": 44,
   "id": "4124fed4",
   "metadata": {},
   "outputs": [],
   "source": [
    "#list will accept duplicates\n",
    "L1 = [10,20,10,30,40,10,50]"
   ]
  },
  {
   "cell_type": "code",
   "execution_count": 45,
   "id": "26362f6a",
   "metadata": {},
   "outputs": [
    {
     "data": {
      "text/plain": [
       "[10, 20, 10, 30, 40, 10, 50]"
      ]
     },
     "execution_count": 45,
     "metadata": {},
     "output_type": "execute_result"
    }
   ],
   "source": [
    "L1"
   ]
  },
  {
   "cell_type": "code",
   "execution_count": 46,
   "id": "c86e16da",
   "metadata": {},
   "outputs": [
    {
     "data": {
      "text/plain": [
       "7"
      ]
     },
     "execution_count": 46,
     "metadata": {},
     "output_type": "execute_result"
    }
   ],
   "source": [
    "len(L1)"
   ]
  },
  {
   "cell_type": "code",
   "execution_count": null,
   "id": "92b0ed49",
   "metadata": {},
   "outputs": [],
   "source": [
    "#empty List"
   ]
  },
  {
   "cell_type": "code",
   "execution_count": 47,
   "id": "5177eff7",
   "metadata": {},
   "outputs": [],
   "source": [
    "L1=[]"
   ]
  },
  {
   "cell_type": "code",
   "execution_count": 48,
   "id": "7292ee6b",
   "metadata": {},
   "outputs": [
    {
     "data": {
      "text/plain": [
       "<class 'list'>"
      ]
     },
     "execution_count": 48,
     "metadata": {},
     "output_type": "execute_result"
    }
   ],
   "source": [
    "type(L1)"
   ]
  },
  {
   "cell_type": "code",
   "execution_count": 49,
   "id": "14b4b332",
   "metadata": {},
   "outputs": [
    {
     "data": {
      "text/plain": [
       "[]"
      ]
     },
     "execution_count": 49,
     "metadata": {},
     "output_type": "execute_result"
    }
   ],
   "source": [
    "L1"
   ]
  },
  {
   "cell_type": "code",
   "execution_count": null,
   "id": "a66eb51e",
   "metadata": {},
   "outputs": [],
   "source": [
    "#creating lists with list class"
   ]
  },
  {
   "cell_type": "code",
   "execution_count": 50,
   "id": "b9e22495",
   "metadata": {},
   "outputs": [
    {
     "data": {
      "text/plain": [
       "<class 'type'>"
      ]
     },
     "execution_count": 50,
     "metadata": {},
     "output_type": "execute_result"
    }
   ],
   "source": [
    "type(list)"
   ]
  },
  {
   "cell_type": "code",
   "execution_count": 51,
   "id": "1df021db",
   "metadata": {},
   "outputs": [
    {
     "name": "stdout",
     "output_type": "stream",
     "text": [
      "[]\n"
     ]
    }
   ],
   "source": [
    "L1 = list()\n",
    "print(L1)"
   ]
  },
  {
   "cell_type": "code",
   "execution_count": 52,
   "id": "3bc23711",
   "metadata": {},
   "outputs": [
    {
     "data": {
      "text/plain": [
       "<class 'list'>"
      ]
     },
     "execution_count": 52,
     "metadata": {},
     "output_type": "execute_result"
    }
   ],
   "source": [
    "type(L1)"
   ]
  },
  {
   "cell_type": "code",
   "execution_count": 53,
   "id": "67afa116",
   "metadata": {},
   "outputs": [
    {
     "ename": "TypeError",
     "evalue": "'int' object is not iterable",
     "output_type": "error",
     "traceback": [
      "\u001b[1;31m---------------------------------------------------------------------------\u001b[0m",
      "\u001b[1;31mTypeError\u001b[0m                                 Traceback (most recent call last)",
      "\u001b[1;32m~\\AppData\\Local\\Temp\\ipykernel_11740\\2278864545.py\u001b[0m in \u001b[0;36m<module>\u001b[1;34m\u001b[0m\n\u001b[0;32m      1\u001b[0m \u001b[1;31m#input to list class should be iterable object only\u001b[0m\u001b[1;33m\u001b[0m\u001b[1;33m\u001b[0m\u001b[0m\n\u001b[1;32m----> 2\u001b[1;33m \u001b[0mL2\u001b[0m \u001b[1;33m=\u001b[0m \u001b[0mlist\u001b[0m\u001b[1;33m(\u001b[0m\u001b[1;36m100\u001b[0m\u001b[1;33m)\u001b[0m\u001b[1;33m\u001b[0m\u001b[1;33m\u001b[0m\u001b[0m\n\u001b[0m",
      "\u001b[1;31mTypeError\u001b[0m: 'int' object is not iterable"
     ]
    }
   ],
   "source": [
    "#input to list class should be iterable object only\n",
    "L2 = list(100)"
   ]
  },
  {
   "cell_type": "code",
   "execution_count": 54,
   "id": "6ba42c83",
   "metadata": {},
   "outputs": [
    {
     "ename": "TypeError",
     "evalue": "'float' object is not iterable",
     "output_type": "error",
     "traceback": [
      "\u001b[1;31m---------------------------------------------------------------------------\u001b[0m",
      "\u001b[1;31mTypeError\u001b[0m                                 Traceback (most recent call last)",
      "\u001b[1;32m~\\AppData\\Local\\Temp\\ipykernel_11740\\3659410454.py\u001b[0m in \u001b[0;36m<module>\u001b[1;34m\u001b[0m\n\u001b[1;32m----> 1\u001b[1;33m \u001b[0mL2\u001b[0m \u001b[1;33m=\u001b[0m \u001b[0mlist\u001b[0m\u001b[1;33m(\u001b[0m\u001b[1;36m10.45\u001b[0m\u001b[1;33m)\u001b[0m\u001b[1;33m\u001b[0m\u001b[1;33m\u001b[0m\u001b[0m\n\u001b[0m",
      "\u001b[1;31mTypeError\u001b[0m: 'float' object is not iterable"
     ]
    }
   ],
   "source": [
    "L2 = list(10.45)"
   ]
  },
  {
   "cell_type": "code",
   "execution_count": 55,
   "id": "4c151dba",
   "metadata": {},
   "outputs": [],
   "source": [
    "L2 = list(\"welcome\")"
   ]
  },
  {
   "cell_type": "code",
   "execution_count": 56,
   "id": "09a670f0",
   "metadata": {},
   "outputs": [
    {
     "data": {
      "text/plain": [
       "['w', 'e', 'l', 'c', 'o', 'm', 'e']"
      ]
     },
     "execution_count": 56,
     "metadata": {},
     "output_type": "execute_result"
    }
   ],
   "source": [
    "L2"
   ]
  },
  {
   "cell_type": "code",
   "execution_count": 57,
   "id": "7c9d1533",
   "metadata": {},
   "outputs": [],
   "source": [
    "L3=list([10,20,30])"
   ]
  },
  {
   "cell_type": "code",
   "execution_count": 58,
   "id": "d14115dd",
   "metadata": {},
   "outputs": [
    {
     "data": {
      "text/plain": [
       "[10, 20, 30]"
      ]
     },
     "execution_count": 58,
     "metadata": {},
     "output_type": "execute_result"
    }
   ],
   "source": [
    "L3"
   ]
  },
  {
   "cell_type": "code",
   "execution_count": 59,
   "id": "2ca9f8a8",
   "metadata": {},
   "outputs": [],
   "source": [
    "L4 = list(range(0,26,5))"
   ]
  },
  {
   "cell_type": "code",
   "execution_count": 60,
   "id": "122d48d5",
   "metadata": {},
   "outputs": [
    {
     "data": {
      "text/plain": [
       "[0, 5, 10, 15, 20, 25]"
      ]
     },
     "execution_count": 60,
     "metadata": {},
     "output_type": "execute_result"
    }
   ],
   "source": [
    "L4"
   ]
  },
  {
   "cell_type": "code",
   "execution_count": null,
   "id": "558cdc53",
   "metadata": {},
   "outputs": [],
   "source": [
    "#reading list with for loop"
   ]
  },
  {
   "cell_type": "code",
   "execution_count": 61,
   "id": "3c653759",
   "metadata": {},
   "outputs": [],
   "source": [
    "L2 = [10,20,30,40,50,60]"
   ]
  },
  {
   "cell_type": "code",
   "execution_count": 62,
   "id": "24ba52aa",
   "metadata": {},
   "outputs": [
    {
     "name": "stdout",
     "output_type": "stream",
     "text": [
      "10,20,30,40,50,60,"
     ]
    }
   ],
   "source": [
    "for i in L2:\n",
    "    print(i,end=',')"
   ]
  },
  {
   "cell_type": "code",
   "execution_count": null,
   "id": "69c6f96b",
   "metadata": {},
   "outputs": [],
   "source": [
    "#list methods\n",
    "append,clear"
   ]
  },
  {
   "cell_type": "code",
   "execution_count": null,
   "id": "975f122c",
   "metadata": {},
   "outputs": [],
   "source": []
  },
  {
   "cell_type": "code",
   "execution_count": 63,
   "id": "a9810bbe",
   "metadata": {},
   "outputs": [],
   "source": [
    "L1 = [10,20,30,40,50]"
   ]
  },
  {
   "cell_type": "code",
   "execution_count": 64,
   "id": "b84a1da9",
   "metadata": {},
   "outputs": [
    {
     "data": {
      "text/plain": [
       "['__add__', '__class__', '__class_getitem__', '__contains__', '__delattr__', '__delitem__', '__dir__', '__doc__', '__eq__', '__format__', '__ge__', '__getattribute__', '__getitem__', '__gt__', '__hash__', '__iadd__', '__imul__', '__init__', '__init_subclass__', '__iter__', '__le__', '__len__', '__lt__', '__mul__', '__ne__', '__new__', '__reduce__', '__reduce_ex__', '__repr__', '__reversed__', '__rmul__', '__setattr__', '__setitem__', '__sizeof__', '__str__', '__subclasshook__', 'append', 'clear', 'copy', 'count', 'extend', 'index', 'insert', 'pop', 'remove', 'reverse', 'sort']"
      ]
     },
     "execution_count": 64,
     "metadata": {},
     "output_type": "execute_result"
    }
   ],
   "source": [
    "dir(L1)"
   ]
  },
  {
   "cell_type": "raw",
   "id": "f0b50697",
   "metadata": {},
   "source": [
    "'append', 'clear', 'copy', 'count', 'extend', 'index', 'insert', 'pop', 'remove', 'reverse', 'sort'"
   ]
  },
  {
   "cell_type": "code",
   "execution_count": 65,
   "id": "aafe8330",
   "metadata": {},
   "outputs": [
    {
     "data": {
      "text/plain": [
       "[10, 20, 30, 40, 50]"
      ]
     },
     "execution_count": 65,
     "metadata": {},
     "output_type": "execute_result"
    }
   ],
   "source": [
    "L1"
   ]
  },
  {
   "cell_type": "code",
   "execution_count": 66,
   "id": "2e7fa11c",
   "metadata": {},
   "outputs": [
    {
     "name": "stdout",
     "output_type": "stream",
     "text": [
      "[10, 20, 30, 40, 50, 60]\n"
     ]
    }
   ],
   "source": [
    "L1.append(60)\n",
    "print(L1)"
   ]
  },
  {
   "cell_type": "code",
   "execution_count": 67,
   "id": "0f70a052",
   "metadata": {},
   "outputs": [
    {
     "name": "stdout",
     "output_type": "stream",
     "text": [
      "[10, 20, 30, 40, 50, 60]\n",
      "[]\n"
     ]
    }
   ],
   "source": [
    "#clear\n",
    "print(L1)\n",
    "L1.clear()\n",
    "print(L1)"
   ]
  },
  {
   "cell_type": "code",
   "execution_count": 68,
   "id": "de5c50df",
   "metadata": {},
   "outputs": [],
   "source": [
    "#L1.copy\n",
    "L1=[11,22,33]"
   ]
  },
  {
   "cell_type": "code",
   "execution_count": 69,
   "id": "b0ea7373",
   "metadata": {},
   "outputs": [
    {
     "name": "stdout",
     "output_type": "stream",
     "text": [
      "[11, 22, 33]\n"
     ]
    }
   ],
   "source": [
    "L2 = L1.copy()\n",
    "print(L2)"
   ]
  },
  {
   "cell_type": "code",
   "execution_count": 70,
   "id": "9f9d2aec",
   "metadata": {},
   "outputs": [
    {
     "name": "stdout",
     "output_type": "stream",
     "text": [
      "1857741331904\n",
      "1857741343488\n"
     ]
    }
   ],
   "source": [
    "print(id(L1))\n",
    "print(id(L2))"
   ]
  },
  {
   "cell_type": "code",
   "execution_count": 71,
   "id": "5bcdf3f7",
   "metadata": {},
   "outputs": [],
   "source": [
    "#L1.count\n",
    "L1 = [10,20,30,10,40,20,50,10,60,70,10,80,90]"
   ]
  },
  {
   "cell_type": "code",
   "execution_count": 72,
   "id": "05fb59a7",
   "metadata": {},
   "outputs": [
    {
     "data": {
      "text/plain": [
       "4"
      ]
     },
     "execution_count": 72,
     "metadata": {},
     "output_type": "execute_result"
    }
   ],
   "source": [
    "L1.count(10)"
   ]
  },
  {
   "cell_type": "code",
   "execution_count": 73,
   "id": "a78a8b4d",
   "metadata": {},
   "outputs": [
    {
     "data": {
      "text/plain": [
       "2"
      ]
     },
     "execution_count": 73,
     "metadata": {},
     "output_type": "execute_result"
    }
   ],
   "source": [
    "L1.count(20)"
   ]
  },
  {
   "cell_type": "code",
   "execution_count": 74,
   "id": "9967ac5e",
   "metadata": {},
   "outputs": [
    {
     "data": {
      "text/plain": [
       "13"
      ]
     },
     "execution_count": 74,
     "metadata": {},
     "output_type": "execute_result"
    }
   ],
   "source": [
    "len(L1)"
   ]
  },
  {
   "cell_type": "code",
   "execution_count": 75,
   "id": "01a6e058",
   "metadata": {},
   "outputs": [
    {
     "ename": "TypeError",
     "evalue": "list.count() takes exactly one argument (2 given)",
     "output_type": "error",
     "traceback": [
      "\u001b[1;31m---------------------------------------------------------------------------\u001b[0m",
      "\u001b[1;31mTypeError\u001b[0m                                 Traceback (most recent call last)",
      "\u001b[1;32m~\\AppData\\Local\\Temp\\ipykernel_11740\\1947077843.py\u001b[0m in \u001b[0;36m<module>\u001b[1;34m\u001b[0m\n\u001b[1;32m----> 1\u001b[1;33m \u001b[0mL1\u001b[0m\u001b[1;33m.\u001b[0m\u001b[0mcount\u001b[0m\u001b[1;33m(\u001b[0m\u001b[1;36m10\u001b[0m\u001b[1;33m,\u001b[0m\u001b[1;36m4\u001b[0m\u001b[1;33m)\u001b[0m\u001b[1;33m\u001b[0m\u001b[1;33m\u001b[0m\u001b[0m\n\u001b[0m",
      "\u001b[1;31mTypeError\u001b[0m: list.count() takes exactly one argument (2 given)"
     ]
    }
   ],
   "source": [
    "L1.count(10,4)"
   ]
  },
  {
   "cell_type": "code",
   "execution_count": 76,
   "id": "4ebaf146",
   "metadata": {},
   "outputs": [
    {
     "name": "stdout",
     "output_type": "stream",
     "text": [
      "Help on method_descriptor:\n",
      "\n",
      "count(self, value, /)\n",
      "    Return number of occurrences of value.\n",
      "\n"
     ]
    }
   ],
   "source": [
    "help(list.count)"
   ]
  },
  {
   "cell_type": "code",
   "execution_count": null,
   "id": "b816f469",
   "metadata": {},
   "outputs": [],
   "source": []
  },
  {
   "cell_type": "code",
   "execution_count": 77,
   "id": "114cf389",
   "metadata": {},
   "outputs": [],
   "source": [
    "#L1.extend\n",
    "L1=[10,20,30]"
   ]
  },
  {
   "cell_type": "code",
   "execution_count": 78,
   "id": "67049540",
   "metadata": {},
   "outputs": [
    {
     "ename": "TypeError",
     "evalue": "list.extend() takes exactly one argument (3 given)",
     "output_type": "error",
     "traceback": [
      "\u001b[1;31m---------------------------------------------------------------------------\u001b[0m",
      "\u001b[1;31mTypeError\u001b[0m                                 Traceback (most recent call last)",
      "\u001b[1;32m~\\AppData\\Local\\Temp\\ipykernel_11740\\4228934665.py\u001b[0m in \u001b[0;36m<module>\u001b[1;34m\u001b[0m\n\u001b[1;32m----> 1\u001b[1;33m \u001b[0mL1\u001b[0m\u001b[1;33m.\u001b[0m\u001b[0mextend\u001b[0m\u001b[1;33m(\u001b[0m\u001b[1;36m40\u001b[0m\u001b[1;33m,\u001b[0m\u001b[1;36m50\u001b[0m\u001b[1;33m,\u001b[0m\u001b[1;36m60\u001b[0m\u001b[1;33m)\u001b[0m\u001b[1;33m\u001b[0m\u001b[1;33m\u001b[0m\u001b[0m\n\u001b[0m",
      "\u001b[1;31mTypeError\u001b[0m: list.extend() takes exactly one argument (3 given)"
     ]
    }
   ],
   "source": [
    "L1.extend(40,50,60)"
   ]
  },
  {
   "cell_type": "code",
   "execution_count": 79,
   "id": "6915c34b",
   "metadata": {},
   "outputs": [],
   "source": [
    "L1.extend([40,50,60])"
   ]
  },
  {
   "cell_type": "code",
   "execution_count": 80,
   "id": "33aa3522",
   "metadata": {},
   "outputs": [
    {
     "data": {
      "text/plain": [
       "[10, 20, 30, 40, 50, 60]"
      ]
     },
     "execution_count": 80,
     "metadata": {},
     "output_type": "execute_result"
    }
   ],
   "source": [
    "L1"
   ]
  },
  {
   "cell_type": "code",
   "execution_count": 81,
   "id": "a4126cdf",
   "metadata": {},
   "outputs": [],
   "source": [
    "L1.extend(\"hi\")"
   ]
  },
  {
   "cell_type": "code",
   "execution_count": 82,
   "id": "5d49a272",
   "metadata": {},
   "outputs": [
    {
     "data": {
      "text/plain": [
       "[10, 20, 30, 40, 50, 60, 'h', 'i']"
      ]
     },
     "execution_count": 82,
     "metadata": {},
     "output_type": "execute_result"
    }
   ],
   "source": [
    "L1"
   ]
  },
  {
   "cell_type": "code",
   "execution_count": 83,
   "id": "738798e0",
   "metadata": {},
   "outputs": [],
   "source": [
    "L1.append('hello')"
   ]
  },
  {
   "cell_type": "code",
   "execution_count": 84,
   "id": "d929a4a9",
   "metadata": {},
   "outputs": [
    {
     "data": {
      "text/plain": [
       "[10, 20, 30, 40, 50, 60, 'h', 'i', 'hello']"
      ]
     },
     "execution_count": 84,
     "metadata": {},
     "output_type": "execute_result"
    }
   ],
   "source": [
    "L1"
   ]
  },
  {
   "cell_type": "code",
   "execution_count": 85,
   "id": "6d929459",
   "metadata": {},
   "outputs": [],
   "source": [
    "L1.extend(['hi'])"
   ]
  },
  {
   "cell_type": "code",
   "execution_count": 86,
   "id": "63e8358e",
   "metadata": {},
   "outputs": [
    {
     "data": {
      "text/plain": [
       "[10, 20, 30, 40, 50, 60, 'h', 'i', 'hello', 'hi']"
      ]
     },
     "execution_count": 86,
     "metadata": {},
     "output_type": "execute_result"
    }
   ],
   "source": [
    "L1"
   ]
  },
  {
   "cell_type": "code",
   "execution_count": 88,
   "id": "cdc24770",
   "metadata": {},
   "outputs": [],
   "source": [
    "#L1.index\n",
    "L1 = [10,20,30,10,40,20,50,10,60,70,10,80,90]"
   ]
  },
  {
   "cell_type": "code",
   "execution_count": 89,
   "id": "90c45109",
   "metadata": {},
   "outputs": [
    {
     "data": {
      "text/plain": [
       "0"
      ]
     },
     "execution_count": 89,
     "metadata": {},
     "output_type": "execute_result"
    }
   ],
   "source": [
    "L1.index(10)"
   ]
  },
  {
   "cell_type": "code",
   "execution_count": 90,
   "id": "8c9eb0f7",
   "metadata": {},
   "outputs": [
    {
     "name": "stdout",
     "output_type": "stream",
     "text": [
      "Help on built-in function index:\n",
      "\n",
      "index(value, start=0, stop=9223372036854775807, /) method of builtins.list instance\n",
      "    Return first index of value.\n",
      "    \n",
      "    Raises ValueError if the value is not present.\n",
      "\n"
     ]
    }
   ],
   "source": [
    "help(L1.index)"
   ]
  },
  {
   "cell_type": "code",
   "execution_count": 91,
   "id": "be7e5bf1",
   "metadata": {},
   "outputs": [
    {
     "data": {
      "text/plain": [
       "[10, 20, 30, 10, 40, 20, 50, 10, 60, 70, 10, 80, 90]"
      ]
     },
     "execution_count": 91,
     "metadata": {},
     "output_type": "execute_result"
    }
   ],
   "source": [
    "L1"
   ]
  },
  {
   "cell_type": "code",
   "execution_count": 92,
   "id": "7d095a40",
   "metadata": {},
   "outputs": [
    {
     "data": {
      "text/plain": [
       "3"
      ]
     },
     "execution_count": 92,
     "metadata": {},
     "output_type": "execute_result"
    }
   ],
   "source": [
    "L1.index(10,2)"
   ]
  },
  {
   "cell_type": "code",
   "execution_count": 93,
   "id": "dba1889c",
   "metadata": {},
   "outputs": [
    {
     "data": {
      "text/plain": [
       "7"
      ]
     },
     "execution_count": 93,
     "metadata": {},
     "output_type": "execute_result"
    }
   ],
   "source": [
    "L1.index(10,5,9)"
   ]
  },
  {
   "cell_type": "code",
   "execution_count": 95,
   "id": "27794777",
   "metadata": {},
   "outputs": [
    {
     "data": {
      "text/plain": [
       "[10, 20, 30, 10, 40, 20, 50, 10, 60, 70, 10, 80, 90]"
      ]
     },
     "execution_count": 95,
     "metadata": {},
     "output_type": "execute_result"
    }
   ],
   "source": [
    "L1"
   ]
  },
  {
   "cell_type": "code",
   "execution_count": 96,
   "id": "a0cd22a3",
   "metadata": {},
   "outputs": [
    {
     "data": {
      "text/plain": [
       "3"
      ]
     },
     "execution_count": 96,
     "metadata": {},
     "output_type": "execute_result"
    }
   ],
   "source": [
    "L1.index(10,3,6)"
   ]
  },
  {
   "cell_type": "code",
   "execution_count": 97,
   "id": "a2f894ae",
   "metadata": {},
   "outputs": [
    {
     "ename": "ValueError",
     "evalue": "10 is not in list",
     "output_type": "error",
     "traceback": [
      "\u001b[1;31m---------------------------------------------------------------------------\u001b[0m",
      "\u001b[1;31mValueError\u001b[0m                                Traceback (most recent call last)",
      "\u001b[1;32m~\\AppData\\Local\\Temp\\ipykernel_11740\\1065797258.py\u001b[0m in \u001b[0;36m<module>\u001b[1;34m\u001b[0m\n\u001b[1;32m----> 1\u001b[1;33m \u001b[0mL1\u001b[0m\u001b[1;33m.\u001b[0m\u001b[0mindex\u001b[0m\u001b[1;33m(\u001b[0m\u001b[1;36m10\u001b[0m\u001b[1;33m,\u001b[0m\u001b[1;36m4\u001b[0m\u001b[1;33m,\u001b[0m\u001b[1;36m7\u001b[0m\u001b[1;33m)\u001b[0m\u001b[1;33m\u001b[0m\u001b[1;33m\u001b[0m\u001b[0m\n\u001b[0m",
      "\u001b[1;31mValueError\u001b[0m: 10 is not in list"
     ]
    }
   ],
   "source": [
    "L1.index(10,4,7)"
   ]
  },
  {
   "cell_type": "code",
   "execution_count": 98,
   "id": "1461ca69",
   "metadata": {},
   "outputs": [],
   "source": [
    "#L1.insert\n",
    "L1=[10,20,30,40,50]"
   ]
  },
  {
   "cell_type": "code",
   "execution_count": 99,
   "id": "8971e145",
   "metadata": {},
   "outputs": [],
   "source": [
    "L1.insert(2,'python')"
   ]
  },
  {
   "cell_type": "code",
   "execution_count": 100,
   "id": "4fe9de36",
   "metadata": {},
   "outputs": [
    {
     "data": {
      "text/plain": [
       "[10, 20, 'python', 30, 40, 50]"
      ]
     },
     "execution_count": 100,
     "metadata": {},
     "output_type": "execute_result"
    }
   ],
   "source": [
    "L1"
   ]
  },
  {
   "cell_type": "code",
   "execution_count": 101,
   "id": "628cc48c",
   "metadata": {},
   "outputs": [],
   "source": [
    "#L1.pop\n",
    "L1 = [10,20,30,10,40,20,50,10,60,70,10,80,90]"
   ]
  },
  {
   "cell_type": "code",
   "execution_count": 102,
   "id": "2e7fde66",
   "metadata": {},
   "outputs": [
    {
     "data": {
      "text/plain": [
       "[10, 20, 30, 10, 40, 20, 50, 10, 60, 70, 10, 80, 90]"
      ]
     },
     "execution_count": 102,
     "metadata": {},
     "output_type": "execute_result"
    }
   ],
   "source": [
    "L1"
   ]
  },
  {
   "cell_type": "code",
   "execution_count": 103,
   "id": "6ec8e443",
   "metadata": {},
   "outputs": [
    {
     "data": {
      "text/plain": [
       "90"
      ]
     },
     "execution_count": 103,
     "metadata": {},
     "output_type": "execute_result"
    }
   ],
   "source": [
    "L1.pop()"
   ]
  },
  {
   "cell_type": "code",
   "execution_count": 104,
   "id": "30805f0a",
   "metadata": {},
   "outputs": [
    {
     "data": {
      "text/plain": [
       "[10, 20, 30, 10, 40, 20, 50, 10, 60, 70, 10, 80]"
      ]
     },
     "execution_count": 104,
     "metadata": {},
     "output_type": "execute_result"
    }
   ],
   "source": [
    "L1"
   ]
  },
  {
   "cell_type": "code",
   "execution_count": 105,
   "id": "9bc2699f",
   "metadata": {},
   "outputs": [
    {
     "data": {
      "text/plain": [
       "80"
      ]
     },
     "execution_count": 105,
     "metadata": {},
     "output_type": "execute_result"
    }
   ],
   "source": [
    "L1.pop()"
   ]
  },
  {
   "cell_type": "code",
   "execution_count": 106,
   "id": "e6b7a5d1",
   "metadata": {},
   "outputs": [
    {
     "data": {
      "text/plain": [
       "[10, 20, 30, 10, 40, 20, 50, 10, 60, 70, 10]"
      ]
     },
     "execution_count": 106,
     "metadata": {},
     "output_type": "execute_result"
    }
   ],
   "source": [
    "L1"
   ]
  },
  {
   "cell_type": "code",
   "execution_count": 107,
   "id": "fd37070c",
   "metadata": {},
   "outputs": [
    {
     "data": {
      "text/plain": [
       "10"
      ]
     },
     "execution_count": 107,
     "metadata": {},
     "output_type": "execute_result"
    }
   ],
   "source": [
    "L1.pop(3)"
   ]
  },
  {
   "cell_type": "code",
   "execution_count": 108,
   "id": "e400f488",
   "metadata": {},
   "outputs": [
    {
     "data": {
      "text/plain": [
       "[10, 20, 30, 40, 20, 50, 10, 60, 70, 10]"
      ]
     },
     "execution_count": 108,
     "metadata": {},
     "output_type": "execute_result"
    }
   ],
   "source": [
    "L1"
   ]
  },
  {
   "cell_type": "code",
   "execution_count": 109,
   "id": "e35049c8",
   "metadata": {},
   "outputs": [
    {
     "name": "stdout",
     "output_type": "stream",
     "text": [
      "Help on method_descriptor:\n",
      "\n",
      "remove(self, value, /)\n",
      "    Remove first occurrence of value.\n",
      "    \n",
      "    Raises ValueError if the value is not present.\n",
      "\n"
     ]
    }
   ],
   "source": [
    "help(list.remove)"
   ]
  },
  {
   "cell_type": "code",
   "execution_count": 110,
   "id": "552e2b8f",
   "metadata": {},
   "outputs": [],
   "source": [
    "#L1.remove\n",
    "L1=[10,20,30,40,50]"
   ]
  },
  {
   "cell_type": "code",
   "execution_count": 111,
   "id": "5f9991ae",
   "metadata": {},
   "outputs": [],
   "source": [
    "L1.remove(30)"
   ]
  },
  {
   "cell_type": "code",
   "execution_count": 112,
   "id": "b824ae85",
   "metadata": {},
   "outputs": [
    {
     "data": {
      "text/plain": [
       "[10, 20, 40, 50]"
      ]
     },
     "execution_count": 112,
     "metadata": {},
     "output_type": "execute_result"
    }
   ],
   "source": [
    "L1"
   ]
  },
  {
   "cell_type": "code",
   "execution_count": 116,
   "id": "08cf0532",
   "metadata": {},
   "outputs": [],
   "source": [
    "L1=[10,200,30,40,330]"
   ]
  },
  {
   "cell_type": "code",
   "execution_count": 117,
   "id": "bab49656",
   "metadata": {},
   "outputs": [
    {
     "data": {
      "text/plain": [
       "[10, 200, 30, 40, 330]"
      ]
     },
     "execution_count": 117,
     "metadata": {},
     "output_type": "execute_result"
    }
   ],
   "source": [
    "L1"
   ]
  },
  {
   "cell_type": "code",
   "execution_count": 118,
   "id": "e806cc12",
   "metadata": {},
   "outputs": [
    {
     "data": {
      "text/plain": [
       "[330, 40, 30, 200, 10]"
      ]
     },
     "execution_count": 118,
     "metadata": {},
     "output_type": "execute_result"
    }
   ],
   "source": [
    "L1.reverse()\n",
    "L1"
   ]
  },
  {
   "cell_type": "code",
   "execution_count": 127,
   "id": "be09bb2f",
   "metadata": {},
   "outputs": [],
   "source": [
    "#L1.sort\n",
    "L1=[4,6,1,8,3,2,7]"
   ]
  },
  {
   "cell_type": "code",
   "execution_count": 128,
   "id": "d57223c9",
   "metadata": {},
   "outputs": [
    {
     "data": {
      "text/plain": [
       "[4, 6, 1, 8, 3, 2, 7]"
      ]
     },
     "execution_count": 128,
     "metadata": {},
     "output_type": "execute_result"
    }
   ],
   "source": [
    "L1"
   ]
  },
  {
   "cell_type": "code",
   "execution_count": 129,
   "id": "dbb1291c",
   "metadata": {},
   "outputs": [],
   "source": [
    "L1.sort()"
   ]
  },
  {
   "cell_type": "code",
   "execution_count": 130,
   "id": "62d913d9",
   "metadata": {},
   "outputs": [
    {
     "data": {
      "text/plain": [
       "[1, 2, 3, 4, 6, 7, 8]"
      ]
     },
     "execution_count": 130,
     "metadata": {},
     "output_type": "execute_result"
    }
   ],
   "source": [
    "L1"
   ]
  },
  {
   "cell_type": "code",
   "execution_count": 131,
   "id": "742e14da",
   "metadata": {},
   "outputs": [],
   "source": [
    "L1.sort(reverse=True)"
   ]
  },
  {
   "cell_type": "code",
   "execution_count": 132,
   "id": "49750c84",
   "metadata": {},
   "outputs": [
    {
     "data": {
      "text/plain": [
       "[8, 7, 6, 4, 3, 2, 1]"
      ]
     },
     "execution_count": 132,
     "metadata": {},
     "output_type": "execute_result"
    }
   ],
   "source": [
    "L1"
   ]
  },
  {
   "cell_type": "code",
   "execution_count": 133,
   "id": "40fadc1f",
   "metadata": {},
   "outputs": [],
   "source": [
    "L1=['python','django','sql','react']"
   ]
  },
  {
   "cell_type": "code",
   "execution_count": 134,
   "id": "0a10ffb5",
   "metadata": {},
   "outputs": [],
   "source": [
    "L1.sort()"
   ]
  },
  {
   "cell_type": "code",
   "execution_count": 135,
   "id": "014c6511",
   "metadata": {},
   "outputs": [
    {
     "data": {
      "text/plain": [
       "['django', 'python', 'react', 'sql']"
      ]
     },
     "execution_count": 135,
     "metadata": {},
     "output_type": "execute_result"
    }
   ],
   "source": [
    "L1"
   ]
  },
  {
   "cell_type": "code",
   "execution_count": 136,
   "id": "61e6efe8",
   "metadata": {},
   "outputs": [],
   "source": [
    "L1.sort(reverse=True)"
   ]
  },
  {
   "cell_type": "code",
   "execution_count": 137,
   "id": "bec203eb",
   "metadata": {},
   "outputs": [
    {
     "data": {
      "text/plain": [
       "['sql', 'react', 'python', 'django']"
      ]
     },
     "execution_count": 137,
     "metadata": {},
     "output_type": "execute_result"
    }
   ],
   "source": [
    "L1"
   ]
  },
  {
   "cell_type": "code",
   "execution_count": 138,
   "id": "de8e9949",
   "metadata": {},
   "outputs": [],
   "source": [
    "L1 = [100,'a','c',45,'e']"
   ]
  },
  {
   "cell_type": "code",
   "execution_count": 139,
   "id": "54aca1af",
   "metadata": {},
   "outputs": [
    {
     "ename": "TypeError",
     "evalue": "'<' not supported between instances of 'str' and 'int'",
     "output_type": "error",
     "traceback": [
      "\u001b[1;31m---------------------------------------------------------------------------\u001b[0m",
      "\u001b[1;31mTypeError\u001b[0m                                 Traceback (most recent call last)",
      "\u001b[1;32m~\\AppData\\Local\\Temp\\ipykernel_11740\\1512809412.py\u001b[0m in \u001b[0;36m<module>\u001b[1;34m\u001b[0m\n\u001b[1;32m----> 1\u001b[1;33m \u001b[0mL1\u001b[0m\u001b[1;33m.\u001b[0m\u001b[0msort\u001b[0m\u001b[1;33m(\u001b[0m\u001b[1;33m)\u001b[0m\u001b[1;33m\u001b[0m\u001b[1;33m\u001b[0m\u001b[0m\n\u001b[0m",
      "\u001b[1;31mTypeError\u001b[0m: '<' not supported between instances of 'str' and 'int'"
     ]
    }
   ],
   "source": [
    "L1.sort()"
   ]
  },
  {
   "cell_type": "code",
   "execution_count": 146,
   "id": "320f4724",
   "metadata": {},
   "outputs": [],
   "source": [
    "L1 = [10.0,10]"
   ]
  },
  {
   "cell_type": "code",
   "execution_count": 147,
   "id": "d7ca33e2",
   "metadata": {},
   "outputs": [],
   "source": [
    "L1.sort()"
   ]
  },
  {
   "cell_type": "code",
   "execution_count": 148,
   "id": "844121a4",
   "metadata": {},
   "outputs": [
    {
     "data": {
      "text/plain": [
       "[10.0, 10]"
      ]
     },
     "execution_count": 148,
     "metadata": {},
     "output_type": "execute_result"
    }
   ],
   "source": [
    "L1"
   ]
  },
  {
   "cell_type": "code",
   "execution_count": 155,
   "id": "585fb0a3",
   "metadata": {},
   "outputs": [],
   "source": [
    "L1 = ['python','django']"
   ]
  },
  {
   "cell_type": "code",
   "execution_count": 156,
   "id": "16fa9db5",
   "metadata": {},
   "outputs": [
    {
     "data": {
      "text/plain": [
       "['python', 'django']"
      ]
     },
     "execution_count": 156,
     "metadata": {},
     "output_type": "execute_result"
    }
   ],
   "source": [
    "L1"
   ]
  },
  {
   "cell_type": "code",
   "execution_count": 151,
   "id": "e87a9db3",
   "metadata": {},
   "outputs": [
    {
     "data": {
      "text/plain": [
       "'python'"
      ]
     },
     "execution_count": 151,
     "metadata": {},
     "output_type": "execute_result"
    }
   ],
   "source": [
    "L1[0]"
   ]
  },
  {
   "cell_type": "code",
   "execution_count": 152,
   "id": "52fe85a0",
   "metadata": {},
   "outputs": [],
   "source": [
    "L1[0] = 'Python3'"
   ]
  },
  {
   "cell_type": "code",
   "execution_count": 153,
   "id": "f0805bbd",
   "metadata": {},
   "outputs": [
    {
     "data": {
      "text/plain": [
       "['Python3', 'django']"
      ]
     },
     "execution_count": 153,
     "metadata": {},
     "output_type": "execute_result"
    }
   ],
   "source": [
    "L1"
   ]
  },
  {
   "cell_type": "code",
   "execution_count": 154,
   "id": "1c7de98a",
   "metadata": {},
   "outputs": [
    {
     "ename": "IndexError",
     "evalue": "list assignment index out of range",
     "output_type": "error",
     "traceback": [
      "\u001b[1;31m---------------------------------------------------------------------------\u001b[0m",
      "\u001b[1;31mIndexError\u001b[0m                                Traceback (most recent call last)",
      "\u001b[1;32m~\\AppData\\Local\\Temp\\ipykernel_11740\\1409794261.py\u001b[0m in \u001b[0;36m<module>\u001b[1;34m\u001b[0m\n\u001b[1;32m----> 1\u001b[1;33m \u001b[0mL1\u001b[0m\u001b[1;33m[\u001b[0m\u001b[1;36m2\u001b[0m\u001b[1;33m]\u001b[0m\u001b[1;33m=\u001b[0m\u001b[1;34m'react'\u001b[0m\u001b[1;33m\u001b[0m\u001b[1;33m\u001b[0m\u001b[0m\n\u001b[0m",
      "\u001b[1;31mIndexError\u001b[0m: list assignment index out of range"
     ]
    }
   ],
   "source": [
    "L1[2]='react'"
   ]
  },
  {
   "cell_type": "code",
   "execution_count": 157,
   "id": "20f9aeed",
   "metadata": {},
   "outputs": [
    {
     "name": "stdout",
     "output_type": "stream",
     "text": [
      "python\n",
      "django\n"
     ]
    }
   ],
   "source": [
    "for i in L1:\n",
    "    print(i)"
   ]
  },
  {
   "cell_type": "code",
   "execution_count": 159,
   "id": "5ed20484",
   "metadata": {},
   "outputs": [
    {
     "name": "stdout",
     "output_type": "stream",
     "text": [
      "0\n",
      "1\n"
     ]
    }
   ],
   "source": [
    "for i in L1:\n",
    "    print(L1.index(i))"
   ]
  },
  {
   "cell_type": "code",
   "execution_count": 162,
   "id": "1282c72a",
   "metadata": {},
   "outputs": [],
   "source": [
    "L1 = ['python','django']"
   ]
  },
  {
   "cell_type": "code",
   "execution_count": 163,
   "id": "25967358",
   "metadata": {},
   "outputs": [
    {
     "name": "stdout",
     "output_type": "stream",
     "text": [
      "Update Course Name =Python3\n",
      "Update Course Name =Django4\n"
     ]
    }
   ],
   "source": [
    "for i in L1:\n",
    "    L1[L1.index(i)] = input(\"Update Course Name =\")"
   ]
  },
  {
   "cell_type": "code",
   "execution_count": 164,
   "id": "3e989d45",
   "metadata": {},
   "outputs": [
    {
     "data": {
      "text/plain": [
       "['Python3', 'Django4']"
      ]
     },
     "execution_count": 164,
     "metadata": {},
     "output_type": "execute_result"
    }
   ],
   "source": [
    "L1"
   ]
  },
  {
   "cell_type": "code",
   "execution_count": 165,
   "id": "8ccda243",
   "metadata": {},
   "outputs": [],
   "source": [
    "L1=[5,6,7]"
   ]
  },
  {
   "cell_type": "code",
   "execution_count": 166,
   "id": "3810f830",
   "metadata": {},
   "outputs": [
    {
     "name": "stdout",
     "output_type": "stream",
     "text": [
      "5\n",
      "6\n",
      "7\n"
     ]
    }
   ],
   "source": [
    "for i in L1:\n",
    "    print(i)"
   ]
  },
  {
   "cell_type": "code",
   "execution_count": 167,
   "id": "2f29fe6e",
   "metadata": {},
   "outputs": [],
   "source": [
    "for i in L1:\n",
    "    L1[L1.index(i)] = i-1"
   ]
  },
  {
   "cell_type": "code",
   "execution_count": 168,
   "id": "f0bbe2ef",
   "metadata": {},
   "outputs": [
    {
     "name": "stdout",
     "output_type": "stream",
     "text": [
      "[4, 5, 6]\n"
     ]
    }
   ],
   "source": [
    "print(L1)"
   ]
  },
  {
   "cell_type": "code",
   "execution_count": null,
   "id": "5d8de91e",
   "metadata": {},
   "outputs": [],
   "source": []
  }
 ],
 "metadata": {
  "kernelspec": {
   "display_name": "Python 3 (ipykernel)",
   "language": "python",
   "name": "python3"
  },
  "language_info": {
   "codemirror_mode": {
    "name": "ipython",
    "version": 3
   },
   "file_extension": ".py",
   "mimetype": "text/x-python",
   "name": "python",
   "nbconvert_exporter": "python",
   "pygments_lexer": "ipython3",
   "version": "3.9.13"
  }
 },
 "nbformat": 4,
 "nbformat_minor": 5
}
