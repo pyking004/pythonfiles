{
 "cells": [
  {
   "cell_type": "raw",
   "id": "8f9f3c0c",
   "metadata": {},
   "source": [
    "#tuple\n",
    "1. it is a like list but it is read only\n",
    "2. indexing,slicing possible\n",
    "3. we can read with for loop\n",
    "4. duplicates are possible"
   ]
  },
  {
   "cell_type": "code",
   "execution_count": 1,
   "id": "57af2c41",
   "metadata": {},
   "outputs": [],
   "source": [
    "T1 = (1,2,3,4,5)"
   ]
  },
  {
   "cell_type": "code",
   "execution_count": 2,
   "id": "b5ce1cdd",
   "metadata": {},
   "outputs": [
    {
     "data": {
      "text/plain": [
       "tuple"
      ]
     },
     "execution_count": 2,
     "metadata": {},
     "output_type": "execute_result"
    }
   ],
   "source": [
    "type(T1)"
   ]
  },
  {
   "cell_type": "code",
   "execution_count": 3,
   "id": "ad1d834f",
   "metadata": {},
   "outputs": [
    {
     "name": "stdout",
     "output_type": "stream",
     "text": [
      "(1, 2, 3, 4, 5)\n"
     ]
    }
   ],
   "source": [
    "print(T1)"
   ]
  },
  {
   "cell_type": "code",
   "execution_count": 4,
   "id": "a09ac38f",
   "metadata": {},
   "outputs": [],
   "source": [
    "T2 = ('python','django','flask','aws')"
   ]
  },
  {
   "cell_type": "code",
   "execution_count": 5,
   "id": "3d877426",
   "metadata": {},
   "outputs": [
    {
     "data": {
      "text/plain": [
       "tuple"
      ]
     },
     "execution_count": 5,
     "metadata": {},
     "output_type": "execute_result"
    }
   ],
   "source": [
    "type(T2)"
   ]
  },
  {
   "cell_type": "code",
   "execution_count": 6,
   "id": "6d52e074",
   "metadata": {},
   "outputs": [
    {
     "name": "stdout",
     "output_type": "stream",
     "text": [
      "('python', 'django', 'flask', 'aws')\n"
     ]
    }
   ],
   "source": [
    "print(T2)"
   ]
  },
  {
   "cell_type": "code",
   "execution_count": 7,
   "id": "943a7e45",
   "metadata": {},
   "outputs": [],
   "source": [
    "T3 = (10.45,10.56)"
   ]
  },
  {
   "cell_type": "code",
   "execution_count": 8,
   "id": "9d12a94c",
   "metadata": {},
   "outputs": [
    {
     "data": {
      "text/plain": [
       "tuple"
      ]
     },
     "execution_count": 8,
     "metadata": {},
     "output_type": "execute_result"
    }
   ],
   "source": [
    "type(T3)"
   ]
  },
  {
   "cell_type": "code",
   "execution_count": 9,
   "id": "9dc3f05b",
   "metadata": {},
   "outputs": [
    {
     "name": "stdout",
     "output_type": "stream",
     "text": [
      "(10.45, 10.56)\n"
     ]
    }
   ],
   "source": [
    "print(T3)"
   ]
  },
  {
   "cell_type": "code",
   "execution_count": 10,
   "id": "37244aa0",
   "metadata": {},
   "outputs": [],
   "source": [
    "T4=(100,'python',11.30)"
   ]
  },
  {
   "cell_type": "code",
   "execution_count": 11,
   "id": "bf6a639c",
   "metadata": {},
   "outputs": [
    {
     "data": {
      "text/plain": [
       "tuple"
      ]
     },
     "execution_count": 11,
     "metadata": {},
     "output_type": "execute_result"
    }
   ],
   "source": [
    "type(T4)"
   ]
  },
  {
   "cell_type": "code",
   "execution_count": 12,
   "id": "31a3d188",
   "metadata": {},
   "outputs": [
    {
     "name": "stdout",
     "output_type": "stream",
     "text": [
      "(100, 'python', 11.3)\n"
     ]
    }
   ],
   "source": [
    "print(T4)"
   ]
  },
  {
   "cell_type": "code",
   "execution_count": 13,
   "id": "4fd33d9c",
   "metadata": {},
   "outputs": [
    {
     "data": {
      "text/plain": [
       "(1, 2, 3, 4, 5)"
      ]
     },
     "execution_count": 13,
     "metadata": {},
     "output_type": "execute_result"
    }
   ],
   "source": [
    "T1"
   ]
  },
  {
   "cell_type": "code",
   "execution_count": 14,
   "id": "bcc5211e",
   "metadata": {},
   "outputs": [
    {
     "data": {
      "text/plain": [
       "1"
      ]
     },
     "execution_count": 14,
     "metadata": {},
     "output_type": "execute_result"
    }
   ],
   "source": [
    "T1[0]"
   ]
  },
  {
   "cell_type": "code",
   "execution_count": 15,
   "id": "3da04cce",
   "metadata": {},
   "outputs": [
    {
     "data": {
      "text/plain": [
       "(1, 2, 3, 4, 5)"
      ]
     },
     "execution_count": 15,
     "metadata": {},
     "output_type": "execute_result"
    }
   ],
   "source": [
    "T1[:]"
   ]
  },
  {
   "cell_type": "code",
   "execution_count": 16,
   "id": "f05440b7",
   "metadata": {},
   "outputs": [
    {
     "name": "stdout",
     "output_type": "stream",
     "text": [
      "1\n",
      "2\n",
      "3\n",
      "4\n",
      "5\n"
     ]
    }
   ],
   "source": [
    "for i in T1:\n",
    "    print(i)"
   ]
  },
  {
   "cell_type": "code",
   "execution_count": 17,
   "id": "78652aaa",
   "metadata": {},
   "outputs": [
    {
     "name": "stdout",
     "output_type": "stream",
     "text": [
      "Pretty printing has been turned OFF\n"
     ]
    }
   ],
   "source": [
    "pprint"
   ]
  },
  {
   "cell_type": "code",
   "execution_count": 18,
   "id": "73cafa03",
   "metadata": {},
   "outputs": [
    {
     "data": {
      "text/plain": [
       "['__add__', '__class__', '__class_getitem__', '__contains__', '__delattr__', '__dir__', '__doc__', '__eq__', '__format__', '__ge__', '__getattribute__', '__getitem__', '__getnewargs__', '__gt__', '__hash__', '__init__', '__init_subclass__', '__iter__', '__le__', '__len__', '__lt__', '__mul__', '__ne__', '__new__', '__reduce__', '__reduce_ex__', '__repr__', '__rmul__', '__setattr__', '__sizeof__', '__str__', '__subclasshook__', 'count', 'index']"
      ]
     },
     "execution_count": 18,
     "metadata": {},
     "output_type": "execute_result"
    }
   ],
   "source": [
    "dir(T1)"
   ]
  },
  {
   "cell_type": "code",
   "execution_count": 19,
   "id": "8c262a1d",
   "metadata": {},
   "outputs": [],
   "source": [
    "L1=[10,20]"
   ]
  },
  {
   "cell_type": "code",
   "execution_count": 20,
   "id": "a23406fb",
   "metadata": {},
   "outputs": [
    {
     "data": {
      "text/plain": [
       "['__add__', '__class__', '__class_getitem__', '__contains__', '__delattr__', '__delitem__', '__dir__', '__doc__', '__eq__', '__format__', '__ge__', '__getattribute__', '__getitem__', '__gt__', '__hash__', '__iadd__', '__imul__', '__init__', '__init_subclass__', '__iter__', '__le__', '__len__', '__lt__', '__mul__', '__ne__', '__new__', '__reduce__', '__reduce_ex__', '__repr__', '__reversed__', '__rmul__', '__setattr__', '__setitem__', '__sizeof__', '__str__', '__subclasshook__', 'append', 'clear', 'copy', 'count', 'extend', 'index', 'insert', 'pop', 'remove', 'reverse', 'sort']"
      ]
     },
     "execution_count": 20,
     "metadata": {},
     "output_type": "execute_result"
    }
   ],
   "source": [
    "dir(L1)"
   ]
  },
  {
   "cell_type": "code",
   "execution_count": 21,
   "id": "962fc498",
   "metadata": {},
   "outputs": [],
   "source": [
    "T1=(10,20,30,10,40,10,50,60,10,70)"
   ]
  },
  {
   "cell_type": "code",
   "execution_count": 22,
   "id": "02ebff9a",
   "metadata": {},
   "outputs": [
    {
     "data": {
      "text/plain": [
       "4"
      ]
     },
     "execution_count": 22,
     "metadata": {},
     "output_type": "execute_result"
    }
   ],
   "source": [
    "T1.count(10)"
   ]
  },
  {
   "cell_type": "code",
   "execution_count": 23,
   "id": "1397465f",
   "metadata": {},
   "outputs": [
    {
     "ename": "TypeError",
     "evalue": "tuple.count() takes exactly one argument (2 given)",
     "output_type": "error",
     "traceback": [
      "\u001b[1;31m---------------------------------------------------------------------------\u001b[0m",
      "\u001b[1;31mTypeError\u001b[0m                                 Traceback (most recent call last)",
      "\u001b[1;32m~\\AppData\\Local\\Temp\\ipykernel_10500\\633751455.py\u001b[0m in \u001b[0;36m<module>\u001b[1;34m\u001b[0m\n\u001b[1;32m----> 1\u001b[1;33m \u001b[0mT1\u001b[0m\u001b[1;33m.\u001b[0m\u001b[0mcount\u001b[0m\u001b[1;33m(\u001b[0m\u001b[1;36m10\u001b[0m\u001b[1;33m,\u001b[0m\u001b[1;36m4\u001b[0m\u001b[1;33m)\u001b[0m\u001b[1;33m\u001b[0m\u001b[1;33m\u001b[0m\u001b[0m\n\u001b[0m",
      "\u001b[1;31mTypeError\u001b[0m: tuple.count() takes exactly one argument (2 given)"
     ]
    }
   ],
   "source": [
    "T1.count(10,4)"
   ]
  },
  {
   "cell_type": "code",
   "execution_count": 24,
   "id": "f4b8a619",
   "metadata": {},
   "outputs": [
    {
     "data": {
      "text/plain": [
       "0"
      ]
     },
     "execution_count": 24,
     "metadata": {},
     "output_type": "execute_result"
    }
   ],
   "source": [
    "T1.index(10)"
   ]
  },
  {
   "cell_type": "code",
   "execution_count": 25,
   "id": "72c068af",
   "metadata": {},
   "outputs": [
    {
     "name": "stdout",
     "output_type": "stream",
     "text": [
      "Help on built-in function index:\n",
      "\n",
      "index(value, start=0, stop=9223372036854775807, /) method of builtins.tuple instance\n",
      "    Return first index of value.\n",
      "    \n",
      "    Raises ValueError if the value is not present.\n",
      "\n"
     ]
    }
   ],
   "source": [
    "help(T1.index)"
   ]
  },
  {
   "cell_type": "code",
   "execution_count": 26,
   "id": "60874891",
   "metadata": {},
   "outputs": [
    {
     "data": {
      "text/plain": [
       "3"
      ]
     },
     "execution_count": 26,
     "metadata": {},
     "output_type": "execute_result"
    }
   ],
   "source": [
    "T1.index(10,2)"
   ]
  },
  {
   "cell_type": "code",
   "execution_count": 27,
   "id": "3e00cf56",
   "metadata": {},
   "outputs": [
    {
     "data": {
      "text/plain": [
       "(10, 20, 30, 10, 40, 10, 50, 60, 10, 70)"
      ]
     },
     "execution_count": 27,
     "metadata": {},
     "output_type": "execute_result"
    }
   ],
   "source": [
    "T1"
   ]
  },
  {
   "cell_type": "code",
   "execution_count": 28,
   "id": "e47db3e8",
   "metadata": {},
   "outputs": [],
   "source": [
    "T1=(20,10,30,40,10,50,60,70,10,80)"
   ]
  },
  {
   "cell_type": "code",
   "execution_count": 29,
   "id": "753467f1",
   "metadata": {},
   "outputs": [
    {
     "data": {
      "text/plain": [
       "1"
      ]
     },
     "execution_count": 29,
     "metadata": {},
     "output_type": "execute_result"
    }
   ],
   "source": [
    "T1.index(10)"
   ]
  },
  {
   "cell_type": "code",
   "execution_count": 30,
   "id": "f3d3be0e",
   "metadata": {},
   "outputs": [
    {
     "data": {
      "text/plain": [
       "2"
      ]
     },
     "execution_count": 30,
     "metadata": {},
     "output_type": "execute_result"
    }
   ],
   "source": [
    "T1.index(10)+1"
   ]
  },
  {
   "cell_type": "code",
   "execution_count": 31,
   "id": "186d8f16",
   "metadata": {},
   "outputs": [
    {
     "data": {
      "text/plain": [
       "4"
      ]
     },
     "execution_count": 31,
     "metadata": {},
     "output_type": "execute_result"
    }
   ],
   "source": [
    "T1.index(10,T1.index(10)+1)"
   ]
  },
  {
   "cell_type": "code",
   "execution_count": 32,
   "id": "2800114e",
   "metadata": {},
   "outputs": [
    {
     "data": {
      "text/plain": [
       "5"
      ]
     },
     "execution_count": 32,
     "metadata": {},
     "output_type": "execute_result"
    }
   ],
   "source": [
    "T1.index(10,T1.index(10)+1)+1"
   ]
  },
  {
   "cell_type": "code",
   "execution_count": 33,
   "id": "04f03dd7",
   "metadata": {},
   "outputs": [
    {
     "data": {
      "text/plain": [
       "8"
      ]
     },
     "execution_count": 33,
     "metadata": {},
     "output_type": "execute_result"
    }
   ],
   "source": [
    "T1.index(10,T1.index(10,T1.index(10)+1)+1)"
   ]
  },
  {
   "cell_type": "code",
   "execution_count": null,
   "id": "b2460bb4",
   "metadata": {},
   "outputs": [],
   "source": [
    "#unpacking"
   ]
  },
  {
   "cell_type": "code",
   "execution_count": 34,
   "id": "a51a4d04",
   "metadata": {},
   "outputs": [],
   "source": [
    "T1 = (100,200)"
   ]
  },
  {
   "cell_type": "code",
   "execution_count": 35,
   "id": "a105b68a",
   "metadata": {},
   "outputs": [],
   "source": [
    "a,b = T1"
   ]
  },
  {
   "cell_type": "code",
   "execution_count": 36,
   "id": "36c544ed",
   "metadata": {},
   "outputs": [
    {
     "name": "stdout",
     "output_type": "stream",
     "text": [
      "100\n",
      "200\n"
     ]
    }
   ],
   "source": [
    "print(a)\n",
    "print(b)"
   ]
  },
  {
   "cell_type": "code",
   "execution_count": 37,
   "id": "e59477b8",
   "metadata": {},
   "outputs": [
    {
     "ename": "ValueError",
     "evalue": "not enough values to unpack (expected 3, got 2)",
     "output_type": "error",
     "traceback": [
      "\u001b[1;31m---------------------------------------------------------------------------\u001b[0m",
      "\u001b[1;31mValueError\u001b[0m                                Traceback (most recent call last)",
      "\u001b[1;32m~\\AppData\\Local\\Temp\\ipykernel_10500\\2374445267.py\u001b[0m in \u001b[0;36m<module>\u001b[1;34m\u001b[0m\n\u001b[1;32m----> 1\u001b[1;33m \u001b[0ma\u001b[0m\u001b[1;33m,\u001b[0m\u001b[0mb\u001b[0m\u001b[1;33m,\u001b[0m\u001b[0mc\u001b[0m \u001b[1;33m=\u001b[0m \u001b[0mT1\u001b[0m\u001b[1;33m\u001b[0m\u001b[1;33m\u001b[0m\u001b[0m\n\u001b[0m",
      "\u001b[1;31mValueError\u001b[0m: not enough values to unpack (expected 3, got 2)"
     ]
    }
   ],
   "source": [
    "a,b,c = T1"
   ]
  },
  {
   "cell_type": "code",
   "execution_count": 38,
   "id": "662cbcd1",
   "metadata": {},
   "outputs": [
    {
     "data": {
      "text/plain": [
       "(100, 200)"
      ]
     },
     "execution_count": 38,
     "metadata": {},
     "output_type": "execute_result"
    }
   ],
   "source": [
    "T1"
   ]
  },
  {
   "cell_type": "code",
   "execution_count": 39,
   "id": "83bfc748",
   "metadata": {},
   "outputs": [
    {
     "ename": "TypeError",
     "evalue": "'tuple' object does not support item assignment",
     "output_type": "error",
     "traceback": [
      "\u001b[1;31m---------------------------------------------------------------------------\u001b[0m",
      "\u001b[1;31mTypeError\u001b[0m                                 Traceback (most recent call last)",
      "\u001b[1;32m~\\AppData\\Local\\Temp\\ipykernel_10500\\417503581.py\u001b[0m in \u001b[0;36m<module>\u001b[1;34m\u001b[0m\n\u001b[1;32m----> 1\u001b[1;33m \u001b[0mT1\u001b[0m\u001b[1;33m[\u001b[0m\u001b[1;36m0\u001b[0m\u001b[1;33m]\u001b[0m\u001b[1;33m=\u001b[0m\u001b[1;36m10\u001b[0m\u001b[1;33m\u001b[0m\u001b[1;33m\u001b[0m\u001b[0m\n\u001b[0m",
      "\u001b[1;31mTypeError\u001b[0m: 'tuple' object does not support item assignment"
     ]
    }
   ],
   "source": [
    "T1[0]=10"
   ]
  },
  {
   "cell_type": "code",
   "execution_count": 40,
   "id": "816a9c05",
   "metadata": {},
   "outputs": [
    {
     "ename": "TypeError",
     "evalue": "'tuple' object does not support item assignment",
     "output_type": "error",
     "traceback": [
      "\u001b[1;31m---------------------------------------------------------------------------\u001b[0m",
      "\u001b[1;31mTypeError\u001b[0m                                 Traceback (most recent call last)",
      "\u001b[1;32m~\\AppData\\Local\\Temp\\ipykernel_10500\\821962411.py\u001b[0m in \u001b[0;36m<module>\u001b[1;34m\u001b[0m\n\u001b[1;32m----> 1\u001b[1;33m \u001b[0mT1\u001b[0m\u001b[1;33m[\u001b[0m\u001b[1;36m2\u001b[0m\u001b[1;33m]\u001b[0m\u001b[1;33m=\u001b[0m\u001b[1;36m300\u001b[0m\u001b[1;33m\u001b[0m\u001b[1;33m\u001b[0m\u001b[0m\n\u001b[0m",
      "\u001b[1;31mTypeError\u001b[0m: 'tuple' object does not support item assignment"
     ]
    }
   ],
   "source": [
    "T1[2]=300"
   ]
  },
  {
   "cell_type": "raw",
   "id": "190bf9c5",
   "metadata": {},
   "source": [
    "#what is that data we store in tuple\n",
    "aadhaar\n",
    "name\n",
    "ipaddres\n",
    "pan\n",
    "countrycode\n",
    "servername"
   ]
  },
  {
   "cell_type": "code",
   "execution_count": 41,
   "id": "3ecde7f3",
   "metadata": {},
   "outputs": [],
   "source": [
    "T1=(10,20,10)"
   ]
  },
  {
   "cell_type": "code",
   "execution_count": 42,
   "id": "529ff6e7",
   "metadata": {},
   "outputs": [
    {
     "data": {
      "text/plain": [
       "(10, 20, 10)"
      ]
     },
     "execution_count": 42,
     "metadata": {},
     "output_type": "execute_result"
    }
   ],
   "source": [
    "T1"
   ]
  },
  {
   "cell_type": "code",
   "execution_count": 43,
   "id": "3837340c",
   "metadata": {},
   "outputs": [],
   "source": [
    "L1=[(10,20),(30,40),(50,60)]"
   ]
  },
  {
   "cell_type": "code",
   "execution_count": 44,
   "id": "1dbe26fd",
   "metadata": {},
   "outputs": [
    {
     "data": {
      "text/plain": [
       "<class 'list'>"
      ]
     },
     "execution_count": 44,
     "metadata": {},
     "output_type": "execute_result"
    }
   ],
   "source": [
    "type(L1)"
   ]
  },
  {
   "cell_type": "code",
   "execution_count": 45,
   "id": "988bb256",
   "metadata": {},
   "outputs": [
    {
     "data": {
      "text/plain": [
       "(10, 20)"
      ]
     },
     "execution_count": 45,
     "metadata": {},
     "output_type": "execute_result"
    }
   ],
   "source": [
    "L1[0]"
   ]
  },
  {
   "cell_type": "code",
   "execution_count": 46,
   "id": "14ffe7b1",
   "metadata": {},
   "outputs": [
    {
     "data": {
      "text/plain": [
       "<class 'tuple'>"
      ]
     },
     "execution_count": 46,
     "metadata": {},
     "output_type": "execute_result"
    }
   ],
   "source": [
    "type(L1[0])"
   ]
  },
  {
   "cell_type": "code",
   "execution_count": 47,
   "id": "f04b7b6d",
   "metadata": {},
   "outputs": [
    {
     "data": {
      "text/plain": [
       "10"
      ]
     },
     "execution_count": 47,
     "metadata": {},
     "output_type": "execute_result"
    }
   ],
   "source": [
    "L1[0][0]"
   ]
  },
  {
   "cell_type": "code",
   "execution_count": 48,
   "id": "2fef183d",
   "metadata": {},
   "outputs": [
    {
     "data": {
      "text/plain": [
       "40"
      ]
     },
     "execution_count": 48,
     "metadata": {},
     "output_type": "execute_result"
    }
   ],
   "source": [
    "L1[1][1]"
   ]
  },
  {
   "cell_type": "code",
   "execution_count": 49,
   "id": "7d1f248a",
   "metadata": {},
   "outputs": [
    {
     "ename": "TypeError",
     "evalue": "'tuple' object does not support item assignment",
     "output_type": "error",
     "traceback": [
      "\u001b[1;31m---------------------------------------------------------------------------\u001b[0m",
      "\u001b[1;31mTypeError\u001b[0m                                 Traceback (most recent call last)",
      "\u001b[1;32m~\\AppData\\Local\\Temp\\ipykernel_10500\\1258647840.py\u001b[0m in \u001b[0;36m<module>\u001b[1;34m\u001b[0m\n\u001b[1;32m----> 1\u001b[1;33m \u001b[0mL1\u001b[0m\u001b[1;33m[\u001b[0m\u001b[1;36m0\u001b[0m\u001b[1;33m]\u001b[0m\u001b[1;33m[\u001b[0m\u001b[1;36m0\u001b[0m\u001b[1;33m]\u001b[0m\u001b[1;33m=\u001b[0m\u001b[1;36m100\u001b[0m\u001b[1;33m\u001b[0m\u001b[1;33m\u001b[0m\u001b[0m\n\u001b[0m",
      "\u001b[1;31mTypeError\u001b[0m: 'tuple' object does not support item assignment"
     ]
    }
   ],
   "source": [
    "L1[0][0]=100"
   ]
  },
  {
   "cell_type": "code",
   "execution_count": 50,
   "id": "4e9fa9d1",
   "metadata": {},
   "outputs": [],
   "source": [
    "L1[0]=(100,200)"
   ]
  },
  {
   "cell_type": "code",
   "execution_count": 51,
   "id": "8a9a687b",
   "metadata": {},
   "outputs": [
    {
     "data": {
      "text/plain": [
       "[(100, 200), (30, 40), (50, 60)]"
      ]
     },
     "execution_count": 51,
     "metadata": {},
     "output_type": "execute_result"
    }
   ],
   "source": [
    "L1"
   ]
  },
  {
   "cell_type": "code",
   "execution_count": 52,
   "id": "1ed5f98d",
   "metadata": {},
   "outputs": [],
   "source": [
    "T1=([10,20],[30,40],[50,60])"
   ]
  },
  {
   "cell_type": "code",
   "execution_count": 53,
   "id": "65980d50",
   "metadata": {},
   "outputs": [
    {
     "data": {
      "text/plain": [
       "<class 'tuple'>"
      ]
     },
     "execution_count": 53,
     "metadata": {},
     "output_type": "execute_result"
    }
   ],
   "source": [
    "type(T1)"
   ]
  },
  {
   "cell_type": "code",
   "execution_count": 54,
   "id": "fd7d286b",
   "metadata": {},
   "outputs": [
    {
     "data": {
      "text/plain": [
       "[10, 20]"
      ]
     },
     "execution_count": 54,
     "metadata": {},
     "output_type": "execute_result"
    }
   ],
   "source": [
    "T1[0]"
   ]
  },
  {
   "cell_type": "code",
   "execution_count": 55,
   "id": "81fc9924",
   "metadata": {},
   "outputs": [
    {
     "data": {
      "text/plain": [
       "<class 'list'>"
      ]
     },
     "execution_count": 55,
     "metadata": {},
     "output_type": "execute_result"
    }
   ],
   "source": [
    "type(T1[0])"
   ]
  },
  {
   "cell_type": "code",
   "execution_count": 56,
   "id": "de3e0822",
   "metadata": {},
   "outputs": [],
   "source": [
    "T1[0][0]=100"
   ]
  },
  {
   "cell_type": "code",
   "execution_count": 57,
   "id": "cb91323f",
   "metadata": {},
   "outputs": [
    {
     "data": {
      "text/plain": [
       "([100, 20], [30, 40], [50, 60])"
      ]
     },
     "execution_count": 57,
     "metadata": {},
     "output_type": "execute_result"
    }
   ],
   "source": [
    "T1"
   ]
  },
  {
   "cell_type": "code",
   "execution_count": 58,
   "id": "9f1382a8",
   "metadata": {},
   "outputs": [
    {
     "ename": "TypeError",
     "evalue": "'tuple' object does not support item assignment",
     "output_type": "error",
     "traceback": [
      "\u001b[1;31m---------------------------------------------------------------------------\u001b[0m",
      "\u001b[1;31mTypeError\u001b[0m                                 Traceback (most recent call last)",
      "\u001b[1;32m~\\AppData\\Local\\Temp\\ipykernel_10500\\3041741423.py\u001b[0m in \u001b[0;36m<module>\u001b[1;34m\u001b[0m\n\u001b[1;32m----> 1\u001b[1;33m \u001b[0mT1\u001b[0m\u001b[1;33m[\u001b[0m\u001b[1;36m0\u001b[0m\u001b[1;33m]\u001b[0m\u001b[1;33m=\u001b[0m\u001b[1;33m[\u001b[0m\u001b[1;36m111\u001b[0m\u001b[1;33m,\u001b[0m\u001b[1;36m222\u001b[0m\u001b[1;33m]\u001b[0m\u001b[1;33m\u001b[0m\u001b[1;33m\u001b[0m\u001b[0m\n\u001b[0m",
      "\u001b[1;31mTypeError\u001b[0m: 'tuple' object does not support item assignment"
     ]
    }
   ],
   "source": [
    "T1[0]=[111,222]"
   ]
  },
  {
   "cell_type": "code",
   "execution_count": 59,
   "id": "97722e5a",
   "metadata": {},
   "outputs": [],
   "source": [
    "T1=(10,20)"
   ]
  },
  {
   "cell_type": "code",
   "execution_count": 60,
   "id": "48277ff4",
   "metadata": {},
   "outputs": [
    {
     "data": {
      "text/plain": [
       "1807583204416"
      ]
     },
     "execution_count": 60,
     "metadata": {},
     "output_type": "execute_result"
    }
   ],
   "source": [
    "id(T1)"
   ]
  },
  {
   "cell_type": "code",
   "execution_count": 61,
   "id": "9d517ea3",
   "metadata": {},
   "outputs": [],
   "source": [
    "T2=(10,20)"
   ]
  },
  {
   "cell_type": "code",
   "execution_count": 62,
   "id": "c48295a6",
   "metadata": {},
   "outputs": [
    {
     "data": {
      "text/plain": [
       "1807583111616"
      ]
     },
     "execution_count": 62,
     "metadata": {},
     "output_type": "execute_result"
    }
   ],
   "source": [
    "id(T2)"
   ]
  },
  {
   "cell_type": "code",
   "execution_count": 63,
   "id": "a333d9c0",
   "metadata": {},
   "outputs": [
    {
     "data": {
      "text/plain": [
       "10"
      ]
     },
     "execution_count": 63,
     "metadata": {},
     "output_type": "execute_result"
    }
   ],
   "source": [
    "T1[0]"
   ]
  },
  {
   "cell_type": "code",
   "execution_count": 64,
   "id": "9cb72380",
   "metadata": {},
   "outputs": [
    {
     "data": {
      "text/plain": [
       "10"
      ]
     },
     "execution_count": 64,
     "metadata": {},
     "output_type": "execute_result"
    }
   ],
   "source": [
    "T2[0]"
   ]
  },
  {
   "cell_type": "code",
   "execution_count": 65,
   "id": "80db2729",
   "metadata": {},
   "outputs": [
    {
     "data": {
      "text/plain": [
       "1807500274256"
      ]
     },
     "execution_count": 65,
     "metadata": {},
     "output_type": "execute_result"
    }
   ],
   "source": [
    "id(T1[0])"
   ]
  },
  {
   "cell_type": "code",
   "execution_count": 66,
   "id": "45e60e0a",
   "metadata": {},
   "outputs": [
    {
     "data": {
      "text/plain": [
       "1807500274256"
      ]
     },
     "execution_count": 66,
     "metadata": {},
     "output_type": "execute_result"
    }
   ],
   "source": [
    "id(T2[0])"
   ]
  },
  {
   "cell_type": "code",
   "execution_count": 67,
   "id": "8ac15415",
   "metadata": {},
   "outputs": [],
   "source": [
    "T3 = [444,555]"
   ]
  },
  {
   "cell_type": "code",
   "execution_count": 68,
   "id": "37ca3165",
   "metadata": {},
   "outputs": [
    {
     "data": {
      "text/plain": [
       "1807584801344"
      ]
     },
     "execution_count": 68,
     "metadata": {},
     "output_type": "execute_result"
    }
   ],
   "source": [
    "id(T3)"
   ]
  },
  {
   "cell_type": "code",
   "execution_count": 69,
   "id": "0a6e52d0",
   "metadata": {},
   "outputs": [],
   "source": [
    "T4 = T3"
   ]
  },
  {
   "cell_type": "code",
   "execution_count": 70,
   "id": "4c00d98f",
   "metadata": {},
   "outputs": [
    {
     "data": {
      "text/plain": [
       "[444, 555]"
      ]
     },
     "execution_count": 70,
     "metadata": {},
     "output_type": "execute_result"
    }
   ],
   "source": [
    "T4"
   ]
  },
  {
   "cell_type": "code",
   "execution_count": 71,
   "id": "96b84b07",
   "metadata": {},
   "outputs": [
    {
     "data": {
      "text/plain": [
       "1807584801344"
      ]
     },
     "execution_count": 71,
     "metadata": {},
     "output_type": "execute_result"
    }
   ],
   "source": [
    "id(T4)"
   ]
  },
  {
   "cell_type": "code",
   "execution_count": 72,
   "id": "8eadd910",
   "metadata": {},
   "outputs": [
    {
     "data": {
      "text/plain": [
       "[444, 555]"
      ]
     },
     "execution_count": 72,
     "metadata": {},
     "output_type": "execute_result"
    }
   ],
   "source": [
    "T3"
   ]
  },
  {
   "cell_type": "code",
   "execution_count": 73,
   "id": "9bdb2c33",
   "metadata": {},
   "outputs": [
    {
     "data": {
      "text/plain": [
       "[444, 555]"
      ]
     },
     "execution_count": 73,
     "metadata": {},
     "output_type": "execute_result"
    }
   ],
   "source": [
    "T4"
   ]
  },
  {
   "cell_type": "code",
   "execution_count": 74,
   "id": "b2b75c46",
   "metadata": {},
   "outputs": [],
   "source": [
    "T3[0]=666"
   ]
  },
  {
   "cell_type": "code",
   "execution_count": 75,
   "id": "197eed6a",
   "metadata": {},
   "outputs": [
    {
     "data": {
      "text/plain": [
       "[666, 555]"
      ]
     },
     "execution_count": 75,
     "metadata": {},
     "output_type": "execute_result"
    }
   ],
   "source": [
    "T3"
   ]
  },
  {
   "cell_type": "code",
   "execution_count": 76,
   "id": "cba634b9",
   "metadata": {},
   "outputs": [
    {
     "data": {
      "text/plain": [
       "[666, 555]"
      ]
     },
     "execution_count": 76,
     "metadata": {},
     "output_type": "execute_result"
    }
   ],
   "source": [
    "T4"
   ]
  },
  {
   "cell_type": "code",
   "execution_count": null,
   "id": "15432606",
   "metadata": {},
   "outputs": [],
   "source": [
    "T1 = (10,20,30,40,50,60)"
   ]
  },
  {
   "cell_type": "code",
   "execution_count": null,
   "id": "a69b8d90",
   "metadata": {},
   "outputs": [],
   "source": [
    "T1"
   ]
  },
  {
   "cell_type": "code",
   "execution_count": null,
   "id": "fa3070d9",
   "metadata": {},
   "outputs": [],
   "source": [
    "T1[0]"
   ]
  },
  {
   "cell_type": "code",
   "execution_count": null,
   "id": "8c03559d",
   "metadata": {},
   "outputs": [],
   "source": [
    "T1[-1]"
   ]
  },
  {
   "cell_type": "code",
   "execution_count": null,
   "id": "2824b88f",
   "metadata": {},
   "outputs": [],
   "source": [
    "#creating set with single element"
   ]
  },
  {
   "cell_type": "code",
   "execution_count": null,
   "id": "cad805f2",
   "metadata": {},
   "outputs": [],
   "source": [
    "T1 = (100)"
   ]
  },
  {
   "cell_type": "code",
   "execution_count": null,
   "id": "d579f852",
   "metadata": {},
   "outputs": [],
   "source": [
    "type(T1)"
   ]
  },
  {
   "cell_type": "code",
   "execution_count": null,
   "id": "f4ae544b",
   "metadata": {},
   "outputs": [],
   "source": [
    "T1 = ('welcome')"
   ]
  },
  {
   "cell_type": "code",
   "execution_count": null,
   "id": "f3eac02b",
   "metadata": {},
   "outputs": [],
   "source": [
    "type(T1)"
   ]
  },
  {
   "cell_type": "code",
   "execution_count": null,
   "id": "d700f3d1",
   "metadata": {},
   "outputs": [],
   "source": [
    "T1 = (100,)"
   ]
  },
  {
   "cell_type": "code",
   "execution_count": null,
   "id": "6c8def34",
   "metadata": {},
   "outputs": [],
   "source": [
    "type(T1)"
   ]
  },
  {
   "cell_type": "code",
   "execution_count": null,
   "id": "6882c00b",
   "metadata": {},
   "outputs": [],
   "source": [
    "T1 = 10,20,30,40"
   ]
  },
  {
   "cell_type": "code",
   "execution_count": null,
   "id": "44a70d5f",
   "metadata": {},
   "outputs": [],
   "source": [
    "type(T1)"
   ]
  },
  {
   "cell_type": "code",
   "execution_count": null,
   "id": "2d79ee38",
   "metadata": {},
   "outputs": [],
   "source": [
    "T1 = \"welcome\","
   ]
  },
  {
   "cell_type": "code",
   "execution_count": null,
   "id": "7a4dd89f",
   "metadata": {},
   "outputs": [],
   "source": [
    "type(T1)"
   ]
  },
  {
   "cell_type": "code",
   "execution_count": null,
   "id": "a6b65449",
   "metadata": {},
   "outputs": [],
   "source": []
  }
 ],
 "metadata": {
  "kernelspec": {
   "display_name": "Python 3 (ipykernel)",
   "language": "python",
   "name": "python3"
  },
  "language_info": {
   "codemirror_mode": {
    "name": "ipython",
    "version": 3
   },
   "file_extension": ".py",
   "mimetype": "text/x-python",
   "name": "python",
   "nbconvert_exporter": "python",
   "pygments_lexer": "ipython3",
   "version": "3.9.13"
  }
 },
 "nbformat": 4,
 "nbformat_minor": 5
}
