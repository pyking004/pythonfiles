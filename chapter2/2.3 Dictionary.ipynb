{
 "cells": [
  {
   "cell_type": "raw",
   "id": "189a2f0e",
   "metadata": {},
   "source": [
    "#dictionary has key value pair data\n",
    "key are unique\n",
    "values could be duplicates\n",
    "Dict1 = {key1:value,key2:value}\n",
    "dictionaries doesn't have index or slicing"
   ]
  },
  {
   "cell_type": "code",
   "execution_count": 1,
   "id": "92c35c3a",
   "metadata": {},
   "outputs": [],
   "source": [
    "D1 = {1:100,2:200,3:300}\n",
    "D2 = {'a':'apple','b':'banana','c':'cherry','d':'dragon fruit'}\n",
    "D3 = {1:'one',2:'two'}\n",
    "D4 = {101:['ravi','python',10000],102:['ramu','django',12000]}\n",
    "D5 = {101:{'name':'ravi','course':'python','fee':10000},\n",
    "     102:{'name':'ramu','course':'python','fee':10000},\n",
    "     103:{'name':'raghu','course':'python','fee':10000}}"
   ]
  },
  {
   "cell_type": "code",
   "execution_count": 2,
   "id": "6607a3ad",
   "metadata": {},
   "outputs": [
    {
     "data": {
      "text/plain": [
       "{1: 100, 2: 200, 3: 300}"
      ]
     },
     "execution_count": 2,
     "metadata": {},
     "output_type": "execute_result"
    }
   ],
   "source": [
    "D1"
   ]
  },
  {
   "cell_type": "code",
   "execution_count": 3,
   "id": "bfa2e5de",
   "metadata": {},
   "outputs": [
    {
     "data": {
      "text/plain": [
       "{'a': 'apple', 'b': 'banana', 'c': 'cherry', 'd': 'dragon fruit'}"
      ]
     },
     "execution_count": 3,
     "metadata": {},
     "output_type": "execute_result"
    }
   ],
   "source": [
    "D2"
   ]
  },
  {
   "cell_type": "code",
   "execution_count": 4,
   "id": "f0dea996",
   "metadata": {},
   "outputs": [
    {
     "data": {
      "text/plain": [
       "{1: 'one', 2: 'two'}"
      ]
     },
     "execution_count": 4,
     "metadata": {},
     "output_type": "execute_result"
    }
   ],
   "source": [
    "D3"
   ]
  },
  {
   "cell_type": "code",
   "execution_count": 5,
   "id": "0263d837",
   "metadata": {},
   "outputs": [
    {
     "data": {
      "text/plain": [
       "{101: ['ravi', 'python', 10000], 102: ['ramu', 'django', 12000]}"
      ]
     },
     "execution_count": 5,
     "metadata": {},
     "output_type": "execute_result"
    }
   ],
   "source": [
    "D4"
   ]
  },
  {
   "cell_type": "code",
   "execution_count": 6,
   "id": "2d92c202",
   "metadata": {},
   "outputs": [
    {
     "data": {
      "text/plain": [
       "{101: {'name': 'ravi', 'course': 'python', 'fee': 10000},\n",
       " 102: {'name': 'ramu', 'course': 'python', 'fee': 10000},\n",
       " 103: {'name': 'raghu', 'course': 'python', 'fee': 10000}}"
      ]
     },
     "execution_count": 6,
     "metadata": {},
     "output_type": "execute_result"
    }
   ],
   "source": [
    "D5"
   ]
  },
  {
   "cell_type": "code",
   "execution_count": 7,
   "id": "9ae7cd27",
   "metadata": {},
   "outputs": [],
   "source": [
    "D6 = {1:100,2:200,1:130}"
   ]
  },
  {
   "cell_type": "code",
   "execution_count": 8,
   "id": "d34845ab",
   "metadata": {},
   "outputs": [
    {
     "data": {
      "text/plain": [
       "{1: 130, 2: 200}"
      ]
     },
     "execution_count": 8,
     "metadata": {},
     "output_type": "execute_result"
    }
   ],
   "source": [
    "D6"
   ]
  },
  {
   "cell_type": "code",
   "execution_count": 9,
   "id": "af10b159",
   "metadata": {},
   "outputs": [
    {
     "data": {
      "text/plain": [
       "{1: 100, 2: 200, 3: 300}"
      ]
     },
     "execution_count": 9,
     "metadata": {},
     "output_type": "execute_result"
    }
   ],
   "source": [
    "D1"
   ]
  },
  {
   "cell_type": "code",
   "execution_count": 10,
   "id": "af6f231c",
   "metadata": {},
   "outputs": [
    {
     "name": "stdout",
     "output_type": "stream",
     "text": [
      "Pretty printing has been turned OFF\n"
     ]
    }
   ],
   "source": [
    "pprint"
   ]
  },
  {
   "cell_type": "code",
   "execution_count": 11,
   "id": "0a19ed5d",
   "metadata": {},
   "outputs": [
    {
     "data": {
      "text/plain": [
       "['__class__', '__class_getitem__', '__contains__', '__delattr__', '__delitem__', '__dir__', '__doc__', '__eq__', '__format__', '__ge__', '__getattribute__', '__getitem__', '__gt__', '__hash__', '__init__', '__init_subclass__', '__ior__', '__iter__', '__le__', '__len__', '__lt__', '__ne__', '__new__', '__or__', '__reduce__', '__reduce_ex__', '__repr__', '__reversed__', '__ror__', '__setattr__', '__setitem__', '__sizeof__', '__str__', '__subclasshook__', 'clear', 'copy', 'fromkeys', 'get', 'items', 'keys', 'pop', 'popitem', 'setdefault', 'update', 'values']"
      ]
     },
     "execution_count": 11,
     "metadata": {},
     "output_type": "execute_result"
    }
   ],
   "source": [
    "dir(D1)"
   ]
  },
  {
   "cell_type": "code",
   "execution_count": 12,
   "id": "6a21ffeb",
   "metadata": {},
   "outputs": [
    {
     "data": {
      "text/plain": [
       "{'a': 'apple', 'b': 'banana', 'c': 'cherry', 'd': 'dragon fruit'}"
      ]
     },
     "execution_count": 12,
     "metadata": {},
     "output_type": "execute_result"
    }
   ],
   "source": [
    "D2"
   ]
  },
  {
   "cell_type": "code",
   "execution_count": 14,
   "id": "ccd9d0ce",
   "metadata": {},
   "outputs": [
    {
     "data": {
      "text/plain": [
       "'apple'"
      ]
     },
     "execution_count": 14,
     "metadata": {},
     "output_type": "execute_result"
    }
   ],
   "source": [
    "D2['a']"
   ]
  },
  {
   "cell_type": "code",
   "execution_count": 15,
   "id": "e2ea0888",
   "metadata": {},
   "outputs": [],
   "source": [
    "D2['a']='apricot'"
   ]
  },
  {
   "cell_type": "code",
   "execution_count": 16,
   "id": "86ff8c8c",
   "metadata": {},
   "outputs": [
    {
     "data": {
      "text/plain": [
       "{'a': 'apricot', 'b': 'banana', 'c': 'cherry', 'd': 'dragon fruit'}"
      ]
     },
     "execution_count": 16,
     "metadata": {},
     "output_type": "execute_result"
    }
   ],
   "source": [
    "D2"
   ]
  },
  {
   "cell_type": "code",
   "execution_count": 17,
   "id": "fbb0a936",
   "metadata": {},
   "outputs": [
    {
     "name": "stdout",
     "output_type": "stream",
     "text": [
      "a\n",
      "b\n",
      "c\n",
      "d\n"
     ]
    }
   ],
   "source": [
    "for i in D2:\n",
    "    print(i)"
   ]
  },
  {
   "cell_type": "code",
   "execution_count": 18,
   "id": "5a240bad",
   "metadata": {},
   "outputs": [
    {
     "name": "stdout",
     "output_type": "stream",
     "text": [
      "apricot\n",
      "banana\n",
      "cherry\n",
      "dragon fruit\n"
     ]
    }
   ],
   "source": [
    "for i in D2:\n",
    "    print(D2[i])"
   ]
  },
  {
   "cell_type": "code",
   "execution_count": null,
   "id": "f2f07978",
   "metadata": {},
   "outputs": [],
   "source": []
  },
  {
   "cell_type": "code",
   "execution_count": null,
   "id": "574daa81",
   "metadata": {},
   "outputs": [],
   "source": [
    "'clear', 'copy', 'fromkeys', 'get', 'items', 'keys', 'pop', 'popitem', 'setdefault', 'update', 'values'"
   ]
  },
  {
   "cell_type": "code",
   "execution_count": 23,
   "id": "468eaecd",
   "metadata": {},
   "outputs": [],
   "source": [
    "#clear\n",
    "D1={1:100,2:200,3:300}"
   ]
  },
  {
   "cell_type": "code",
   "execution_count": 24,
   "id": "c5f5ed5a",
   "metadata": {},
   "outputs": [
    {
     "data": {
      "text/plain": [
       "{1: 100, 2: 200, 3: 300}"
      ]
     },
     "execution_count": 24,
     "metadata": {},
     "output_type": "execute_result"
    }
   ],
   "source": [
    "D1"
   ]
  },
  {
   "cell_type": "code",
   "execution_count": 25,
   "id": "c449f0d6",
   "metadata": {},
   "outputs": [],
   "source": [
    "D1.clear()"
   ]
  },
  {
   "cell_type": "code",
   "execution_count": 26,
   "id": "803d8992",
   "metadata": {},
   "outputs": [
    {
     "data": {
      "text/plain": [
       "{}"
      ]
     },
     "execution_count": 26,
     "metadata": {},
     "output_type": "execute_result"
    }
   ],
   "source": [
    "D1"
   ]
  },
  {
   "cell_type": "code",
   "execution_count": 27,
   "id": "5b34cacf",
   "metadata": {},
   "outputs": [
    {
     "data": {
      "text/plain": [
       "{'a': 'apricot', 'b': 'banana', 'c': 'cherry', 'd': 'dragon fruit'}"
      ]
     },
     "execution_count": 27,
     "metadata": {},
     "output_type": "execute_result"
    }
   ],
   "source": [
    "#copy\n",
    "D2"
   ]
  },
  {
   "cell_type": "code",
   "execution_count": 28,
   "id": "0747edc5",
   "metadata": {},
   "outputs": [
    {
     "name": "stdout",
     "output_type": "stream",
     "text": [
      "{'a': 'apricot', 'b': 'banana', 'c': 'cherry', 'd': 'dragon fruit'}\n",
      "{'a': 'apricot', 'b': 'banana', 'c': 'cherry', 'd': 'dragon fruit'}\n"
     ]
    }
   ],
   "source": [
    "D3 = D2.copy()\n",
    "print(D2)\n",
    "print(D3)"
   ]
  },
  {
   "cell_type": "code",
   "execution_count": 29,
   "id": "0e17942f",
   "metadata": {},
   "outputs": [
    {
     "data": {
      "text/plain": [
       "2102751617344"
      ]
     },
     "execution_count": 29,
     "metadata": {},
     "output_type": "execute_result"
    }
   ],
   "source": [
    "id(D2)"
   ]
  },
  {
   "cell_type": "code",
   "execution_count": 30,
   "id": "3b736d81",
   "metadata": {},
   "outputs": [
    {
     "data": {
      "text/plain": [
       "2102751624896"
      ]
     },
     "execution_count": 30,
     "metadata": {},
     "output_type": "execute_result"
    }
   ],
   "source": [
    "id(D3)"
   ]
  },
  {
   "cell_type": "code",
   "execution_count": 31,
   "id": "e4484d3f",
   "metadata": {},
   "outputs": [],
   "source": [
    "D4 = D3"
   ]
  },
  {
   "cell_type": "code",
   "execution_count": 32,
   "id": "eb2ce3e8",
   "metadata": {},
   "outputs": [
    {
     "data": {
      "text/plain": [
       "2102751624896"
      ]
     },
     "execution_count": 32,
     "metadata": {},
     "output_type": "execute_result"
    }
   ],
   "source": [
    "id(D3)"
   ]
  },
  {
   "cell_type": "code",
   "execution_count": 33,
   "id": "b4f51b20",
   "metadata": {},
   "outputs": [
    {
     "data": {
      "text/plain": [
       "2102751624896"
      ]
     },
     "execution_count": 33,
     "metadata": {},
     "output_type": "execute_result"
    }
   ],
   "source": [
    "id(D4)"
   ]
  },
  {
   "cell_type": "code",
   "execution_count": 34,
   "id": "1e4e1a32",
   "metadata": {},
   "outputs": [
    {
     "data": {
      "text/plain": [
       "{'a': 'apricot', 'b': 'banana', 'c': 'cherry', 'd': 'dragon fruit'}"
      ]
     },
     "execution_count": 34,
     "metadata": {},
     "output_type": "execute_result"
    }
   ],
   "source": [
    "D3"
   ]
  },
  {
   "cell_type": "code",
   "execution_count": 35,
   "id": "3b2f65f0",
   "metadata": {},
   "outputs": [],
   "source": [
    "D3['a']='apple'"
   ]
  },
  {
   "cell_type": "code",
   "execution_count": 36,
   "id": "1d449de6",
   "metadata": {},
   "outputs": [
    {
     "name": "stdout",
     "output_type": "stream",
     "text": [
      "{'a': 'apple', 'b': 'banana', 'c': 'cherry', 'd': 'dragon fruit'}\n",
      "{'a': 'apple', 'b': 'banana', 'c': 'cherry', 'd': 'dragon fruit'}\n"
     ]
    }
   ],
   "source": [
    "print(D3)\n",
    "print(D4)"
   ]
  },
  {
   "cell_type": "code",
   "execution_count": 37,
   "id": "a2dc15fa",
   "metadata": {},
   "outputs": [
    {
     "name": "stdout",
     "output_type": "stream",
     "text": [
      "{'a': 'apricot', 'b': 'banana', 'c': 'cherry', 'd': 'dragon fruit'}\n"
     ]
    }
   ],
   "source": [
    "print(D2)"
   ]
  },
  {
   "cell_type": "code",
   "execution_count": 40,
   "id": "e6495adf",
   "metadata": {},
   "outputs": [],
   "source": [
    "#fromkeys: It is used to create a dict with keys of any other iterable object\n",
    "sids = [101,102,103,104,105]"
   ]
  },
  {
   "cell_type": "code",
   "execution_count": 41,
   "id": "d2e05fe7",
   "metadata": {},
   "outputs": [],
   "source": [
    "students = dict.fromkeys(sids)"
   ]
  },
  {
   "cell_type": "code",
   "execution_count": 42,
   "id": "8fa9abda",
   "metadata": {},
   "outputs": [
    {
     "data": {
      "text/plain": [
       "<class 'dict'>"
      ]
     },
     "execution_count": 42,
     "metadata": {},
     "output_type": "execute_result"
    }
   ],
   "source": [
    "type(students)"
   ]
  },
  {
   "cell_type": "code",
   "execution_count": 43,
   "id": "d1a0690e",
   "metadata": {},
   "outputs": [
    {
     "data": {
      "text/plain": [
       "{101: None, 102: None, 103: None, 104: None, 105: None}"
      ]
     },
     "execution_count": 43,
     "metadata": {},
     "output_type": "execute_result"
    }
   ],
   "source": [
    "students"
   ]
  },
  {
   "cell_type": "code",
   "execution_count": 44,
   "id": "af0c191f",
   "metadata": {},
   "outputs": [],
   "source": [
    "students2 = dict.fromkeys(sids,'sname')"
   ]
  },
  {
   "cell_type": "code",
   "execution_count": 45,
   "id": "c0c5e277",
   "metadata": {},
   "outputs": [
    {
     "data": {
      "text/plain": [
       "{101: 'sname', 102: 'sname', 103: 'sname', 104: 'sname', 105: 'sname'}"
      ]
     },
     "execution_count": 45,
     "metadata": {},
     "output_type": "execute_result"
    }
   ],
   "source": [
    "students2"
   ]
  },
  {
   "cell_type": "code",
   "execution_count": 46,
   "id": "4fafa532",
   "metadata": {},
   "outputs": [],
   "source": [
    "students[101]='ravi'"
   ]
  },
  {
   "cell_type": "code",
   "execution_count": 47,
   "id": "57651126",
   "metadata": {},
   "outputs": [
    {
     "data": {
      "text/plain": [
       "{101: 'ravi', 102: None, 103: None, 104: None, 105: None}"
      ]
     },
     "execution_count": 47,
     "metadata": {},
     "output_type": "execute_result"
    }
   ],
   "source": [
    "students"
   ]
  },
  {
   "cell_type": "code",
   "execution_count": 48,
   "id": "6c09fc15",
   "metadata": {},
   "outputs": [
    {
     "name": "stdout",
     "output_type": "stream",
     "text": [
      "Enter Student Name = ajay\n"
     ]
    }
   ],
   "source": [
    "students3 = dict.fromkeys(sids,input(\"Enter Student Name = \"))"
   ]
  },
  {
   "cell_type": "code",
   "execution_count": 49,
   "id": "f7505667",
   "metadata": {},
   "outputs": [
    {
     "data": {
      "text/plain": [
       "{101: 'ajay', 102: 'ajay', 103: 'ajay', 104: 'ajay', 105: 'ajay'}"
      ]
     },
     "execution_count": 49,
     "metadata": {},
     "output_type": "execute_result"
    }
   ],
   "source": [
    "students3"
   ]
  },
  {
   "cell_type": "code",
   "execution_count": 50,
   "id": "5d94750a",
   "metadata": {},
   "outputs": [
    {
     "data": {
      "text/plain": [
       "[101, 102, 103, 104, 105]"
      ]
     },
     "execution_count": 50,
     "metadata": {},
     "output_type": "execute_result"
    }
   ],
   "source": [
    "sids"
   ]
  },
  {
   "cell_type": "code",
   "execution_count": 51,
   "id": "437b950e",
   "metadata": {},
   "outputs": [],
   "source": [
    "snames = ['ajay','vikesh','trilok','krrish','siva']"
   ]
  },
  {
   "cell_type": "code",
   "execution_count": 56,
   "id": "de077b6b",
   "metadata": {},
   "outputs": [],
   "source": [
    "students4 = dict.fromkeys(sids,'name')"
   ]
  },
  {
   "cell_type": "code",
   "execution_count": 57,
   "id": "556a8398",
   "metadata": {},
   "outputs": [
    {
     "data": {
      "text/plain": [
       "{101: 'name', 102: 'name', 103: 'name', 104: 'name', 105: 'name'}"
      ]
     },
     "execution_count": 57,
     "metadata": {},
     "output_type": "execute_result"
    }
   ],
   "source": [
    "students4"
   ]
  },
  {
   "cell_type": "code",
   "execution_count": null,
   "id": "24f9acd7",
   "metadata": {},
   "outputs": [],
   "source": []
  },
  {
   "cell_type": "code",
   "execution_count": 62,
   "id": "2f380a4d",
   "metadata": {},
   "outputs": [],
   "source": [
    "v1='welcome'"
   ]
  },
  {
   "cell_type": "code",
   "execution_count": 63,
   "id": "f7118cc4",
   "metadata": {},
   "outputs": [],
   "source": [
    "D1 = dict.fromkeys(v1,0)"
   ]
  },
  {
   "cell_type": "code",
   "execution_count": 64,
   "id": "3f97109a",
   "metadata": {},
   "outputs": [
    {
     "data": {
      "text/plain": [
       "{'w': 0, 'e': 0, 'l': 0, 'c': 0, 'o': 0, 'm': 0}"
      ]
     },
     "execution_count": 64,
     "metadata": {},
     "output_type": "execute_result"
    }
   ],
   "source": [
    "D1"
   ]
  },
  {
   "cell_type": "code",
   "execution_count": 65,
   "id": "8a010806",
   "metadata": {},
   "outputs": [],
   "source": [
    "#get\n",
    "D1={1:100,2:200,3:300}"
   ]
  },
  {
   "cell_type": "code",
   "execution_count": 66,
   "id": "4aad27c0",
   "metadata": {},
   "outputs": [
    {
     "data": {
      "text/plain": [
       "{1: 100, 2: 200, 3: 300}"
      ]
     },
     "execution_count": 66,
     "metadata": {},
     "output_type": "execute_result"
    }
   ],
   "source": [
    "D1"
   ]
  },
  {
   "cell_type": "code",
   "execution_count": 67,
   "id": "e6a7ec50",
   "metadata": {},
   "outputs": [
    {
     "data": {
      "text/plain": [
       "100"
      ]
     },
     "execution_count": 67,
     "metadata": {},
     "output_type": "execute_result"
    }
   ],
   "source": [
    "D1.get(1)"
   ]
  },
  {
   "cell_type": "code",
   "execution_count": 68,
   "id": "320a3fa6",
   "metadata": {},
   "outputs": [
    {
     "name": "stdout",
     "output_type": "stream",
     "text": [
      "None\n"
     ]
    }
   ],
   "source": [
    "print(D1.get(4))"
   ]
  },
  {
   "cell_type": "code",
   "execution_count": 69,
   "id": "d1af1a1d",
   "metadata": {},
   "outputs": [
    {
     "data": {
      "text/plain": [
       "100"
      ]
     },
     "execution_count": 69,
     "metadata": {},
     "output_type": "execute_result"
    }
   ],
   "source": [
    "D1[1]"
   ]
  },
  {
   "cell_type": "code",
   "execution_count": 70,
   "id": "e429c540",
   "metadata": {},
   "outputs": [
    {
     "ename": "KeyError",
     "evalue": "4",
     "output_type": "error",
     "traceback": [
      "\u001b[1;31m---------------------------------------------------------------------------\u001b[0m",
      "\u001b[1;31mKeyError\u001b[0m                                  Traceback (most recent call last)",
      "\u001b[1;32m~\\AppData\\Local\\Temp\\ipykernel_20236\\474746624.py\u001b[0m in \u001b[0;36m<module>\u001b[1;34m\u001b[0m\n\u001b[1;32m----> 1\u001b[1;33m \u001b[0mD1\u001b[0m\u001b[1;33m[\u001b[0m\u001b[1;36m4\u001b[0m\u001b[1;33m]\u001b[0m\u001b[1;33m\u001b[0m\u001b[1;33m\u001b[0m\u001b[0m\n\u001b[0m",
      "\u001b[1;31mKeyError\u001b[0m: 4"
     ]
    }
   ],
   "source": [
    "D1[4]"
   ]
  },
  {
   "cell_type": "code",
   "execution_count": 71,
   "id": "ac38b7be",
   "metadata": {},
   "outputs": [
    {
     "data": {
      "text/plain": [
       "'No Such key existed'"
      ]
     },
     "execution_count": 71,
     "metadata": {},
     "output_type": "execute_result"
    }
   ],
   "source": [
    "D1.get(4,'No Such key existed')"
   ]
  },
  {
   "cell_type": "code",
   "execution_count": 72,
   "id": "264ca5bd",
   "metadata": {},
   "outputs": [
    {
     "data": {
      "text/plain": [
       "{'a': 'apple', 'b': 'banana', 'c': 'cherry', 'd': 'dragon fruit'}"
      ]
     },
     "execution_count": 72,
     "metadata": {},
     "output_type": "execute_result"
    }
   ],
   "source": [
    "#Items\n",
    "D3"
   ]
  },
  {
   "cell_type": "code",
   "execution_count": 73,
   "id": "7d1de0e5",
   "metadata": {},
   "outputs": [
    {
     "data": {
      "text/plain": [
       "dict_items([('a', 'apple'), ('b', 'banana'), ('c', 'cherry'), ('d', 'dragon fruit')])"
      ]
     },
     "execution_count": 73,
     "metadata": {},
     "output_type": "execute_result"
    }
   ],
   "source": [
    "D3.items()"
   ]
  },
  {
   "cell_type": "code",
   "execution_count": 74,
   "id": "8a109d05",
   "metadata": {},
   "outputs": [],
   "source": [
    "dictitems = D3.items()"
   ]
  },
  {
   "cell_type": "code",
   "execution_count": 75,
   "id": "800f42a4",
   "metadata": {},
   "outputs": [
    {
     "data": {
      "text/plain": [
       "dict_items([('a', 'apple'), ('b', 'banana'), ('c', 'cherry'), ('d', 'dragon fruit')])"
      ]
     },
     "execution_count": 75,
     "metadata": {},
     "output_type": "execute_result"
    }
   ],
   "source": [
    "dictitems"
   ]
  },
  {
   "cell_type": "code",
   "execution_count": 76,
   "id": "a6d72810",
   "metadata": {},
   "outputs": [
    {
     "data": {
      "text/plain": [
       "<class 'dict_items'>"
      ]
     },
     "execution_count": 76,
     "metadata": {},
     "output_type": "execute_result"
    }
   ],
   "source": [
    "type(dictitems)"
   ]
  },
  {
   "cell_type": "code",
   "execution_count": 77,
   "id": "0eb7456e",
   "metadata": {},
   "outputs": [
    {
     "ename": "NameError",
     "evalue": "name 'dict_items' is not defined",
     "output_type": "error",
     "traceback": [
      "\u001b[1;31m---------------------------------------------------------------------------\u001b[0m",
      "\u001b[1;31mNameError\u001b[0m                                 Traceback (most recent call last)",
      "\u001b[1;32m~\\AppData\\Local\\Temp\\ipykernel_20236\\3328729855.py\u001b[0m in \u001b[0;36m<module>\u001b[1;34m\u001b[0m\n\u001b[1;32m----> 1\u001b[1;33m \u001b[0mtype\u001b[0m\u001b[1;33m(\u001b[0m\u001b[0mdict_items\u001b[0m\u001b[1;33m)\u001b[0m\u001b[1;33m\u001b[0m\u001b[1;33m\u001b[0m\u001b[0m\n\u001b[0m",
      "\u001b[1;31mNameError\u001b[0m: name 'dict_items' is not defined"
     ]
    }
   ],
   "source": [
    "type(dict_items)"
   ]
  },
  {
   "cell_type": "code",
   "execution_count": 78,
   "id": "7b105bc5",
   "metadata": {},
   "outputs": [
    {
     "data": {
      "text/plain": [
       "dict_items([('a', 'apple'), ('b', 'banana'), ('c', 'cherry'), ('d', 'dragon fruit')])"
      ]
     },
     "execution_count": 78,
     "metadata": {},
     "output_type": "execute_result"
    }
   ],
   "source": [
    "dictitems"
   ]
  },
  {
   "cell_type": "code",
   "execution_count": 81,
   "id": "5fd2014d",
   "metadata": {},
   "outputs": [
    {
     "name": "stdout",
     "output_type": "stream",
     "text": [
      "Pretty printing has been turned OFF\n"
     ]
    }
   ],
   "source": [
    "pprint"
   ]
  },
  {
   "cell_type": "code",
   "execution_count": 82,
   "id": "f3c45f0f",
   "metadata": {},
   "outputs": [
    {
     "data": {
      "text/plain": [
       "['__and__', '__class__', '__contains__', '__delattr__', '__dir__', '__doc__', '__eq__', '__format__', '__ge__', '__getattribute__', '__gt__', '__hash__', '__init__', '__init_subclass__', '__iter__', '__le__', '__len__', '__lt__', '__ne__', '__new__', '__or__', '__rand__', '__reduce__', '__reduce_ex__', '__repr__', '__reversed__', '__ror__', '__rsub__', '__rxor__', '__setattr__', '__sizeof__', '__str__', '__sub__', '__subclasshook__', '__xor__', 'isdisjoint']"
      ]
     },
     "execution_count": 82,
     "metadata": {},
     "output_type": "execute_result"
    }
   ],
   "source": [
    "dir(dictitems)"
   ]
  },
  {
   "cell_type": "code",
   "execution_count": 83,
   "id": "e684118d",
   "metadata": {},
   "outputs": [
    {
     "ename": "TypeError",
     "evalue": "'dict_items' object is not subscriptable",
     "output_type": "error",
     "traceback": [
      "\u001b[1;31m---------------------------------------------------------------------------\u001b[0m",
      "\u001b[1;31mTypeError\u001b[0m                                 Traceback (most recent call last)",
      "\u001b[1;32m~\\AppData\\Local\\Temp\\ipykernel_20236\\3020203667.py\u001b[0m in \u001b[0;36m<module>\u001b[1;34m\u001b[0m\n\u001b[1;32m----> 1\u001b[1;33m \u001b[0mdictitems\u001b[0m\u001b[1;33m[\u001b[0m\u001b[1;36m0\u001b[0m\u001b[1;33m]\u001b[0m\u001b[1;33m\u001b[0m\u001b[1;33m\u001b[0m\u001b[0m\n\u001b[0m",
      "\u001b[1;31mTypeError\u001b[0m: 'dict_items' object is not subscriptable"
     ]
    }
   ],
   "source": [
    "dictitems[0]"
   ]
  },
  {
   "cell_type": "code",
   "execution_count": 84,
   "id": "4fc4f827",
   "metadata": {},
   "outputs": [
    {
     "ename": "TypeError",
     "evalue": "'dict_items' object is not subscriptable",
     "output_type": "error",
     "traceback": [
      "\u001b[1;31m---------------------------------------------------------------------------\u001b[0m",
      "\u001b[1;31mTypeError\u001b[0m                                 Traceback (most recent call last)",
      "\u001b[1;32m~\\AppData\\Local\\Temp\\ipykernel_20236\\3747108726.py\u001b[0m in \u001b[0;36m<module>\u001b[1;34m\u001b[0m\n\u001b[1;32m----> 1\u001b[1;33m \u001b[0mdictitems\u001b[0m\u001b[1;33m[\u001b[0m\u001b[1;33m:\u001b[0m\u001b[1;33m]\u001b[0m\u001b[1;33m\u001b[0m\u001b[1;33m\u001b[0m\u001b[0m\n\u001b[0m",
      "\u001b[1;31mTypeError\u001b[0m: 'dict_items' object is not subscriptable"
     ]
    }
   ],
   "source": [
    "dictitems[:]"
   ]
  },
  {
   "cell_type": "code",
   "execution_count": 85,
   "id": "727e2389",
   "metadata": {},
   "outputs": [
    {
     "name": "stdout",
     "output_type": "stream",
     "text": [
      "('a', 'apple')\n",
      "('b', 'banana')\n",
      "('c', 'cherry')\n",
      "('d', 'dragon fruit')\n"
     ]
    }
   ],
   "source": [
    "for i in dictitems:\n",
    "    print(i)"
   ]
  },
  {
   "cell_type": "code",
   "execution_count": 86,
   "id": "018c22a0",
   "metadata": {},
   "outputs": [
    {
     "data": {
      "text/plain": [
       "<class 'tuple'>"
      ]
     },
     "execution_count": 86,
     "metadata": {},
     "output_type": "execute_result"
    }
   ],
   "source": [
    "type(i)"
   ]
  },
  {
   "cell_type": "code",
   "execution_count": 87,
   "id": "1aaf6c68",
   "metadata": {},
   "outputs": [
    {
     "name": "stdout",
     "output_type": "stream",
     "text": [
      "a\n",
      "b\n",
      "c\n",
      "d\n"
     ]
    }
   ],
   "source": [
    "for i in dictitems:\n",
    "    print(i[0])"
   ]
  },
  {
   "cell_type": "code",
   "execution_count": 88,
   "id": "b0b2a760",
   "metadata": {},
   "outputs": [
    {
     "name": "stdout",
     "output_type": "stream",
     "text": [
      "apple\n",
      "banana\n",
      "cherry\n",
      "dragon fruit\n"
     ]
    }
   ],
   "source": [
    "for i in dictitems:\n",
    "    print(i[1])"
   ]
  },
  {
   "cell_type": "code",
   "execution_count": 89,
   "id": "7a33b6d3",
   "metadata": {},
   "outputs": [
    {
     "name": "stdout",
     "output_type": "stream",
     "text": [
      "a apple\n",
      "b banana\n",
      "c cherry\n",
      "d dragon fruit\n"
     ]
    }
   ],
   "source": [
    "for i in dictitems:\n",
    "    print(i[0],i[1])"
   ]
  },
  {
   "cell_type": "code",
   "execution_count": 90,
   "id": "8b1f72b1",
   "metadata": {},
   "outputs": [
    {
     "data": {
      "text/plain": [
       "{'a': 'apricot', 'b': 'banana', 'c': 'cherry', 'd': 'dragon fruit'}"
      ]
     },
     "execution_count": 90,
     "metadata": {},
     "output_type": "execute_result"
    }
   ],
   "source": [
    "#keys\n",
    "D2"
   ]
  },
  {
   "cell_type": "code",
   "execution_count": 91,
   "id": "9123dd62",
   "metadata": {},
   "outputs": [
    {
     "data": {
      "text/plain": [
       "dict_keys(['a', 'b', 'c', 'd'])"
      ]
     },
     "execution_count": 91,
     "metadata": {},
     "output_type": "execute_result"
    }
   ],
   "source": [
    "D2.keys()"
   ]
  },
  {
   "cell_type": "code",
   "execution_count": 92,
   "id": "a5e9e711",
   "metadata": {},
   "outputs": [],
   "source": [
    "dictkeys = D2.keys()"
   ]
  },
  {
   "cell_type": "code",
   "execution_count": 93,
   "id": "9fdc35d2",
   "metadata": {},
   "outputs": [
    {
     "data": {
      "text/plain": [
       "<class 'dict_keys'>"
      ]
     },
     "execution_count": 93,
     "metadata": {},
     "output_type": "execute_result"
    }
   ],
   "source": [
    "type(dictkeys)"
   ]
  },
  {
   "cell_type": "code",
   "execution_count": 94,
   "id": "98eaacc4",
   "metadata": {},
   "outputs": [
    {
     "ename": "TypeError",
     "evalue": "'dict_keys' object is not subscriptable",
     "output_type": "error",
     "traceback": [
      "\u001b[1;31m---------------------------------------------------------------------------\u001b[0m",
      "\u001b[1;31mTypeError\u001b[0m                                 Traceback (most recent call last)",
      "\u001b[1;32m~\\AppData\\Local\\Temp\\ipykernel_20236\\2735355355.py\u001b[0m in \u001b[0;36m<module>\u001b[1;34m\u001b[0m\n\u001b[1;32m----> 1\u001b[1;33m \u001b[0mdictkeys\u001b[0m\u001b[1;33m[\u001b[0m\u001b[1;36m0\u001b[0m\u001b[1;33m]\u001b[0m\u001b[1;33m\u001b[0m\u001b[1;33m\u001b[0m\u001b[0m\n\u001b[0m",
      "\u001b[1;31mTypeError\u001b[0m: 'dict_keys' object is not subscriptable"
     ]
    }
   ],
   "source": [
    "dictkeys[0]"
   ]
  },
  {
   "cell_type": "code",
   "execution_count": 95,
   "id": "02401228",
   "metadata": {},
   "outputs": [
    {
     "ename": "TypeError",
     "evalue": "'dict_keys' object is not subscriptable",
     "output_type": "error",
     "traceback": [
      "\u001b[1;31m---------------------------------------------------------------------------\u001b[0m",
      "\u001b[1;31mTypeError\u001b[0m                                 Traceback (most recent call last)",
      "\u001b[1;32m~\\AppData\\Local\\Temp\\ipykernel_20236\\2911252805.py\u001b[0m in \u001b[0;36m<module>\u001b[1;34m\u001b[0m\n\u001b[1;32m----> 1\u001b[1;33m \u001b[0mdictkeys\u001b[0m\u001b[1;33m[\u001b[0m\u001b[1;33m:\u001b[0m\u001b[1;33m]\u001b[0m\u001b[1;33m\u001b[0m\u001b[1;33m\u001b[0m\u001b[0m\n\u001b[0m",
      "\u001b[1;31mTypeError\u001b[0m: 'dict_keys' object is not subscriptable"
     ]
    }
   ],
   "source": [
    "dictkeys[:]"
   ]
  },
  {
   "cell_type": "code",
   "execution_count": 96,
   "id": "75ecaf26",
   "metadata": {},
   "outputs": [
    {
     "name": "stdout",
     "output_type": "stream",
     "text": [
      "a\n",
      "b\n",
      "c\n",
      "d\n"
     ]
    }
   ],
   "source": [
    "for key in dictkeys:\n",
    "    print(key)"
   ]
  },
  {
   "cell_type": "code",
   "execution_count": 97,
   "id": "507f52af",
   "metadata": {},
   "outputs": [
    {
     "name": "stdout",
     "output_type": "stream",
     "text": [
      "a\n",
      "b\n",
      "c\n",
      "d\n"
     ]
    }
   ],
   "source": [
    "for key in D2:\n",
    "    print(key)"
   ]
  },
  {
   "cell_type": "code",
   "execution_count": 98,
   "id": "59adee61",
   "metadata": {},
   "outputs": [
    {
     "data": {
      "text/plain": [
       "{'a': 'apricot', 'b': 'banana', 'c': 'cherry', 'd': 'dragon fruit'}"
      ]
     },
     "execution_count": 98,
     "metadata": {},
     "output_type": "execute_result"
    }
   ],
   "source": [
    "#pop\n",
    "D2"
   ]
  },
  {
   "cell_type": "code",
   "execution_count": 99,
   "id": "40abed6b",
   "metadata": {},
   "outputs": [
    {
     "data": {
      "text/plain": [
       "'cherry'"
      ]
     },
     "execution_count": 99,
     "metadata": {},
     "output_type": "execute_result"
    }
   ],
   "source": [
    "D2.pop('c')"
   ]
  },
  {
   "cell_type": "code",
   "execution_count": 100,
   "id": "e2c3027d",
   "metadata": {},
   "outputs": [
    {
     "ename": "TypeError",
     "evalue": "pop expected at least 1 argument, got 0",
     "output_type": "error",
     "traceback": [
      "\u001b[1;31m---------------------------------------------------------------------------\u001b[0m",
      "\u001b[1;31mTypeError\u001b[0m                                 Traceback (most recent call last)",
      "\u001b[1;32m~\\AppData\\Local\\Temp\\ipykernel_20236\\112527121.py\u001b[0m in \u001b[0;36m<module>\u001b[1;34m\u001b[0m\n\u001b[1;32m----> 1\u001b[1;33m \u001b[0mD2\u001b[0m\u001b[1;33m.\u001b[0m\u001b[0mpop\u001b[0m\u001b[1;33m(\u001b[0m\u001b[1;33m)\u001b[0m\u001b[1;33m\u001b[0m\u001b[1;33m\u001b[0m\u001b[0m\n\u001b[0m",
      "\u001b[1;31mTypeError\u001b[0m: pop expected at least 1 argument, got 0"
     ]
    }
   ],
   "source": [
    "D2.pop()"
   ]
  },
  {
   "cell_type": "code",
   "execution_count": 101,
   "id": "fc88e6e3",
   "metadata": {},
   "outputs": [
    {
     "data": {
      "text/plain": [
       "{'a': 'apricot', 'b': 'banana', 'd': 'dragon fruit'}"
      ]
     },
     "execution_count": 101,
     "metadata": {},
     "output_type": "execute_result"
    }
   ],
   "source": [
    "D2"
   ]
  },
  {
   "cell_type": "code",
   "execution_count": 102,
   "id": "ef56aa91",
   "metadata": {},
   "outputs": [
    {
     "data": {
      "text/plain": [
       "('d', 'dragon fruit')"
      ]
     },
     "execution_count": 102,
     "metadata": {},
     "output_type": "execute_result"
    }
   ],
   "source": [
    "D2.popitem()"
   ]
  },
  {
   "cell_type": "code",
   "execution_count": 103,
   "id": "d5a113cc",
   "metadata": {},
   "outputs": [
    {
     "ename": "TypeError",
     "evalue": "dict.popitem() takes no arguments (1 given)",
     "output_type": "error",
     "traceback": [
      "\u001b[1;31m---------------------------------------------------------------------------\u001b[0m",
      "\u001b[1;31mTypeError\u001b[0m                                 Traceback (most recent call last)",
      "\u001b[1;32m~\\AppData\\Local\\Temp\\ipykernel_20236\\3660306266.py\u001b[0m in \u001b[0;36m<module>\u001b[1;34m\u001b[0m\n\u001b[1;32m----> 1\u001b[1;33m \u001b[0mD2\u001b[0m\u001b[1;33m.\u001b[0m\u001b[0mpopitem\u001b[0m\u001b[1;33m(\u001b[0m\u001b[1;34m'b'\u001b[0m\u001b[1;33m)\u001b[0m\u001b[1;33m\u001b[0m\u001b[1;33m\u001b[0m\u001b[0m\n\u001b[0m",
      "\u001b[1;31mTypeError\u001b[0m: dict.popitem() takes no arguments (1 given)"
     ]
    }
   ],
   "source": [
    "D2.popitem('b')"
   ]
  },
  {
   "cell_type": "raw",
   "id": "7ff2af18",
   "metadata": {},
   "source": [
    "#setdefault : it is used to insert new key and value in existing dictinary "
   ]
  },
  {
   "cell_type": "code",
   "execution_count": 104,
   "id": "2361faaf",
   "metadata": {},
   "outputs": [],
   "source": [
    "D1={1:100,2:200}"
   ]
  },
  {
   "cell_type": "code",
   "execution_count": 105,
   "id": "f6d4676a",
   "metadata": {},
   "outputs": [
    {
     "data": {
      "text/plain": [
       "{1: 100, 2: 200}"
      ]
     },
     "execution_count": 105,
     "metadata": {},
     "output_type": "execute_result"
    }
   ],
   "source": [
    "D1"
   ]
  },
  {
   "cell_type": "code",
   "execution_count": 106,
   "id": "1b2ce1dc",
   "metadata": {},
   "outputs": [],
   "source": [
    "D1[3]=300"
   ]
  },
  {
   "cell_type": "code",
   "execution_count": 107,
   "id": "efcd0148",
   "metadata": {},
   "outputs": [
    {
     "data": {
      "text/plain": [
       "{1: 100, 2: 200, 3: 300}"
      ]
     },
     "execution_count": 107,
     "metadata": {},
     "output_type": "execute_result"
    }
   ],
   "source": [
    "D1"
   ]
  },
  {
   "cell_type": "code",
   "execution_count": 108,
   "id": "30fa4c92",
   "metadata": {},
   "outputs": [],
   "source": [
    "D1[2]=220"
   ]
  },
  {
   "cell_type": "code",
   "execution_count": 109,
   "id": "ee293ceb",
   "metadata": {},
   "outputs": [
    {
     "data": {
      "text/plain": [
       "{1: 100, 2: 220, 3: 300}"
      ]
     },
     "execution_count": 109,
     "metadata": {},
     "output_type": "execute_result"
    }
   ],
   "source": [
    "D1"
   ]
  },
  {
   "cell_type": "code",
   "execution_count": 110,
   "id": "77208611",
   "metadata": {},
   "outputs": [
    {
     "data": {
      "text/plain": [
       "100"
      ]
     },
     "execution_count": 110,
     "metadata": {},
     "output_type": "execute_result"
    }
   ],
   "source": [
    "D1.setdefault(1,120)"
   ]
  },
  {
   "cell_type": "code",
   "execution_count": 111,
   "id": "91f80bf3",
   "metadata": {},
   "outputs": [
    {
     "data": {
      "text/plain": [
       "{1: 100, 2: 220, 3: 300}"
      ]
     },
     "execution_count": 111,
     "metadata": {},
     "output_type": "execute_result"
    }
   ],
   "source": [
    "D1"
   ]
  },
  {
   "cell_type": "code",
   "execution_count": 113,
   "id": "ba40c40b",
   "metadata": {},
   "outputs": [
    {
     "data": {
      "text/plain": [
       "300"
      ]
     },
     "execution_count": 113,
     "metadata": {},
     "output_type": "execute_result"
    }
   ],
   "source": [
    "D1.setdefault(3,330)"
   ]
  },
  {
   "cell_type": "code",
   "execution_count": 114,
   "id": "6119bcc2",
   "metadata": {},
   "outputs": [
    {
     "data": {
      "text/plain": [
       "{1: 100, 2: 220, 3: 300}"
      ]
     },
     "execution_count": 114,
     "metadata": {},
     "output_type": "execute_result"
    }
   ],
   "source": [
    "D1"
   ]
  },
  {
   "cell_type": "code",
   "execution_count": 115,
   "id": "2656720e",
   "metadata": {},
   "outputs": [
    {
     "data": {
      "text/plain": [
       "400"
      ]
     },
     "execution_count": 115,
     "metadata": {},
     "output_type": "execute_result"
    }
   ],
   "source": [
    "D1.setdefault(4,400)"
   ]
  },
  {
   "cell_type": "code",
   "execution_count": 116,
   "id": "467391a4",
   "metadata": {},
   "outputs": [
    {
     "data": {
      "text/plain": [
       "{1: 100, 2: 220, 3: 300, 4: 400}"
      ]
     },
     "execution_count": 116,
     "metadata": {},
     "output_type": "execute_result"
    }
   ],
   "source": [
    "D1"
   ]
  },
  {
   "cell_type": "code",
   "execution_count": 117,
   "id": "19b12550",
   "metadata": {},
   "outputs": [
    {
     "data": {
      "text/plain": [
       "{1: 100, 2: 220, 3: 300, 4: 400}"
      ]
     },
     "execution_count": 117,
     "metadata": {},
     "output_type": "execute_result"
    }
   ],
   "source": [
    "#update\n",
    "D1"
   ]
  },
  {
   "cell_type": "code",
   "execution_count": 118,
   "id": "41cf30d0",
   "metadata": {},
   "outputs": [],
   "source": [
    "D1.update({4:440,5:500})"
   ]
  },
  {
   "cell_type": "code",
   "execution_count": 119,
   "id": "e5b6af90",
   "metadata": {},
   "outputs": [
    {
     "data": {
      "text/plain": [
       "{1: 100, 2: 220, 3: 300, 4: 440, 5: 500}"
      ]
     },
     "execution_count": 119,
     "metadata": {},
     "output_type": "execute_result"
    }
   ],
   "source": [
    "D1"
   ]
  },
  {
   "cell_type": "code",
   "execution_count": 120,
   "id": "d3632688",
   "metadata": {},
   "outputs": [],
   "source": [
    "D1={1:100,2:200}\n",
    "D2={3:300,4:400}"
   ]
  },
  {
   "cell_type": "code",
   "execution_count": 121,
   "id": "0a6a2879",
   "metadata": {},
   "outputs": [],
   "source": [
    "D1.update(D2)"
   ]
  },
  {
   "cell_type": "code",
   "execution_count": 122,
   "id": "b9b3e761",
   "metadata": {},
   "outputs": [
    {
     "data": {
      "text/plain": [
       "{1: 100, 2: 200, 3: 300, 4: 400}"
      ]
     },
     "execution_count": 122,
     "metadata": {},
     "output_type": "execute_result"
    }
   ],
   "source": [
    "D1"
   ]
  },
  {
   "cell_type": "code",
   "execution_count": 123,
   "id": "2291cfc0",
   "metadata": {},
   "outputs": [
    {
     "data": {
      "text/plain": [
       "{3: 300, 4: 400}"
      ]
     },
     "execution_count": 123,
     "metadata": {},
     "output_type": "execute_result"
    }
   ],
   "source": [
    "D2"
   ]
  },
  {
   "cell_type": "code",
   "execution_count": 124,
   "id": "c14bb431",
   "metadata": {},
   "outputs": [
    {
     "data": {
      "text/plain": [
       "{'a': 'apple', 'b': 'banana', 'c': 'cherry', 'd': 'dragon fruit'}"
      ]
     },
     "execution_count": 124,
     "metadata": {},
     "output_type": "execute_result"
    }
   ],
   "source": [
    "#values\n",
    "D4"
   ]
  },
  {
   "cell_type": "code",
   "execution_count": null,
   "id": "ad101d78",
   "metadata": {},
   "outputs": [],
   "source": [
    "D3.values()"
   ]
  },
  {
   "cell_type": "code",
   "execution_count": null,
   "id": "6f8e2ecc",
   "metadata": {},
   "outputs": [],
   "source": [
    "dictvalues = D3.values()"
   ]
  },
  {
   "cell_type": "code",
   "execution_count": null,
   "id": "158485f6",
   "metadata": {},
   "outputs": [],
   "source": [
    "type(dictvalues)"
   ]
  },
  {
   "cell_type": "code",
   "execution_count": null,
   "id": "f429e386",
   "metadata": {},
   "outputs": [],
   "source": [
    "dictvalues[0]"
   ]
  },
  {
   "cell_type": "code",
   "execution_count": null,
   "id": "76c77778",
   "metadata": {},
   "outputs": [],
   "source": [
    "dictvalues[:]"
   ]
  },
  {
   "cell_type": "code",
   "execution_count": null,
   "id": "4a9c3693",
   "metadata": {},
   "outputs": [],
   "source": [
    "for value in dictvalues:\n",
    "    print(value)"
   ]
  },
  {
   "cell_type": "code",
   "execution_count": null,
   "id": "7665a09c",
   "metadata": {},
   "outputs": [],
   "source": []
  },
  {
   "cell_type": "code",
   "execution_count": null,
   "id": "e2fe0258",
   "metadata": {},
   "outputs": [],
   "source": [
    "v1=\"welcome\""
   ]
  },
  {
   "cell_type": "code",
   "execution_count": null,
   "id": "23abf8b6",
   "metadata": {},
   "outputs": [],
   "source": [
    "v1"
   ]
  },
  {
   "cell_type": "code",
   "execution_count": null,
   "id": "ada7c307",
   "metadata": {},
   "outputs": [],
   "source": [
    "v1[0]"
   ]
  },
  {
   "cell_type": "code",
   "execution_count": null,
   "id": "db951820",
   "metadata": {},
   "outputs": [],
   "source": [
    "v1[0]='a'"
   ]
  },
  {
   "cell_type": "code",
   "execution_count": null,
   "id": "61bc1d27",
   "metadata": {},
   "outputs": [],
   "source": []
  },
  {
   "cell_type": "code",
   "execution_count": null,
   "id": "d351d4bd",
   "metadata": {},
   "outputs": [],
   "source": []
  },
  {
   "cell_type": "code",
   "execution_count": null,
   "id": "140bf702",
   "metadata": {},
   "outputs": [],
   "source": []
  },
  {
   "cell_type": "code",
   "execution_count": null,
   "id": "a039cee9",
   "metadata": {},
   "outputs": [],
   "source": []
  },
  {
   "cell_type": "code",
   "execution_count": null,
   "id": "47690989",
   "metadata": {},
   "outputs": [],
   "source": []
  },
  {
   "cell_type": "code",
   "execution_count": null,
   "id": "9b266c32",
   "metadata": {},
   "outputs": [],
   "source": []
  },
  {
   "cell_type": "code",
   "execution_count": null,
   "id": "ab337887",
   "metadata": {},
   "outputs": [],
   "source": []
  },
  {
   "cell_type": "code",
   "execution_count": null,
   "id": "de837b51",
   "metadata": {},
   "outputs": [],
   "source": []
  },
  {
   "cell_type": "code",
   "execution_count": null,
   "id": "fd756773",
   "metadata": {},
   "outputs": [],
   "source": []
  }
 ],
 "metadata": {
  "kernelspec": {
   "display_name": "Python 3 (ipykernel)",
   "language": "python",
   "name": "python3"
  },
  "language_info": {
   "codemirror_mode": {
    "name": "ipython",
    "version": 3
   },
   "file_extension": ".py",
   "mimetype": "text/x-python",
   "name": "python",
   "nbconvert_exporter": "python",
   "pygments_lexer": "ipython3",
   "version": "3.9.13"
  }
 },
 "nbformat": 4,
 "nbformat_minor": 5
}
