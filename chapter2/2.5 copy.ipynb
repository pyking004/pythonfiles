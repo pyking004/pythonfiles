{
 "cells": [
  {
   "cell_type": "code",
   "execution_count": 1,
   "id": "a39b806e",
   "metadata": {},
   "outputs": [],
   "source": [
    "#copy\n",
    "# soft , deep , shallow"
   ]
  },
  {
   "cell_type": "code",
   "execution_count": 2,
   "id": "5206fe9b",
   "metadata": {},
   "outputs": [],
   "source": [
    "import copy"
   ]
  },
  {
   "cell_type": "code",
   "execution_count": 3,
   "id": "f6653169",
   "metadata": {},
   "outputs": [
    {
     "data": {
      "text/plain": [
       "module"
      ]
     },
     "execution_count": 3,
     "metadata": {},
     "output_type": "execute_result"
    }
   ],
   "source": [
    "type(copy)"
   ]
  },
  {
   "cell_type": "code",
   "execution_count": 4,
   "id": "563ad210",
   "metadata": {},
   "outputs": [],
   "source": [
    "#in python module means it is .py file which contains functions and  classes"
   ]
  },
  {
   "cell_type": "code",
   "execution_count": null,
   "id": "1c5e7eb1",
   "metadata": {},
   "outputs": [],
   "source": [
    "#softcopy"
   ]
  },
  {
   "cell_type": "code",
   "execution_count": 5,
   "id": "04aa60d2",
   "metadata": {},
   "outputs": [],
   "source": [
    "L1 = [10,20,30]"
   ]
  },
  {
   "cell_type": "code",
   "execution_count": 6,
   "id": "488b6ffa",
   "metadata": {},
   "outputs": [],
   "source": [
    "L2 = [10,20,30]"
   ]
  },
  {
   "cell_type": "code",
   "execution_count": 7,
   "id": "add5561e",
   "metadata": {},
   "outputs": [
    {
     "name": "stdout",
     "output_type": "stream",
     "text": [
      "3066119866944\n",
      "3066119327296\n"
     ]
    }
   ],
   "source": [
    "print(id(L1))\n",
    "print(id(L2))"
   ]
  },
  {
   "cell_type": "code",
   "execution_count": 8,
   "id": "c162cb7b",
   "metadata": {},
   "outputs": [
    {
     "name": "stdout",
     "output_type": "stream",
     "text": [
      "10\n",
      "10\n"
     ]
    }
   ],
   "source": [
    "print(L1[0])\n",
    "print(L2[0])"
   ]
  },
  {
   "cell_type": "code",
   "execution_count": 9,
   "id": "fd944a2f",
   "metadata": {},
   "outputs": [
    {
     "name": "stdout",
     "output_type": "stream",
     "text": [
      "3066019605072\n",
      "3066019605072\n"
     ]
    }
   ],
   "source": [
    "print(id(L1[0]))\n",
    "print(id(L2[0]))"
   ]
  },
  {
   "cell_type": "code",
   "execution_count": 10,
   "id": "51f277a4",
   "metadata": {},
   "outputs": [],
   "source": [
    "L3 = L2"
   ]
  },
  {
   "cell_type": "code",
   "execution_count": 11,
   "id": "0bb650b7",
   "metadata": {},
   "outputs": [
    {
     "name": "stdout",
     "output_type": "stream",
     "text": [
      "3066119327296\n",
      "3066119327296\n"
     ]
    }
   ],
   "source": [
    "print(id(L2))\n",
    "print(id(L3))"
   ]
  },
  {
   "cell_type": "code",
   "execution_count": 12,
   "id": "282039e2",
   "metadata": {},
   "outputs": [
    {
     "data": {
      "text/plain": [
       "[10, 20, 30]"
      ]
     },
     "execution_count": 12,
     "metadata": {},
     "output_type": "execute_result"
    }
   ],
   "source": [
    "L2"
   ]
  },
  {
   "cell_type": "code",
   "execution_count": 13,
   "id": "2028c3e3",
   "metadata": {},
   "outputs": [
    {
     "data": {
      "text/plain": [
       "[10, 20, 30]"
      ]
     },
     "execution_count": 13,
     "metadata": {},
     "output_type": "execute_result"
    }
   ],
   "source": [
    "L3"
   ]
  },
  {
   "cell_type": "code",
   "execution_count": 14,
   "id": "49455842",
   "metadata": {},
   "outputs": [],
   "source": [
    "L2[0]=1000"
   ]
  },
  {
   "cell_type": "code",
   "execution_count": 15,
   "id": "b3a4c2ff",
   "metadata": {},
   "outputs": [
    {
     "name": "stdout",
     "output_type": "stream",
     "text": [
      "[1000, 20, 30]\n",
      "[1000, 20, 30]\n"
     ]
    }
   ],
   "source": [
    "print(L2)\n",
    "print(L3)"
   ]
  },
  {
   "cell_type": "code",
   "execution_count": 2,
   "id": "8d8a7923",
   "metadata": {},
   "outputs": [],
   "source": [
    "#deep copy\n",
    "import copy"
   ]
  },
  {
   "cell_type": "code",
   "execution_count": 14,
   "id": "c34994a1",
   "metadata": {},
   "outputs": [],
   "source": [
    "L1=[[10,20],[30,40],[50,60]]"
   ]
  },
  {
   "cell_type": "code",
   "execution_count": 15,
   "id": "87a57a16",
   "metadata": {},
   "outputs": [],
   "source": [
    "L2 = copy.deepcopy(L1)"
   ]
  },
  {
   "cell_type": "code",
   "execution_count": 16,
   "id": "851d7dfc",
   "metadata": {},
   "outputs": [
    {
     "name": "stdout",
     "output_type": "stream",
     "text": [
      "2932449142656\n",
      "2932449687808\n",
      "2932417309248\n",
      "2932449678016\n"
     ]
    }
   ],
   "source": [
    "print(id(L1))\n",
    "print(id(L2))\n",
    "print(id(L1[0]))\n",
    "print(id(L2[0]))"
   ]
  },
  {
   "cell_type": "code",
   "execution_count": 17,
   "id": "0e084d8a",
   "metadata": {},
   "outputs": [
    {
     "data": {
      "text/plain": [
       "[10, 20]"
      ]
     },
     "execution_count": 17,
     "metadata": {},
     "output_type": "execute_result"
    }
   ],
   "source": [
    "L1[0]"
   ]
  },
  {
   "cell_type": "code",
   "execution_count": 18,
   "id": "f5986b89",
   "metadata": {},
   "outputs": [
    {
     "data": {
      "text/plain": [
       "[10, 20]"
      ]
     },
     "execution_count": 18,
     "metadata": {},
     "output_type": "execute_result"
    }
   ],
   "source": [
    "L2[0]"
   ]
  },
  {
   "cell_type": "code",
   "execution_count": 19,
   "id": "e917e65d",
   "metadata": {},
   "outputs": [],
   "source": [
    "L1[0][0]=100"
   ]
  },
  {
   "cell_type": "code",
   "execution_count": 21,
   "id": "85fb7db7",
   "metadata": {},
   "outputs": [
    {
     "data": {
      "text/plain": [
       "[[100, 20], [30, 40], [50, 60]]"
      ]
     },
     "execution_count": 21,
     "metadata": {},
     "output_type": "execute_result"
    }
   ],
   "source": [
    "L1"
   ]
  },
  {
   "cell_type": "code",
   "execution_count": 22,
   "id": "113272c7",
   "metadata": {},
   "outputs": [
    {
     "data": {
      "text/plain": [
       "[[10, 20], [30, 40], [50, 60]]"
      ]
     },
     "execution_count": 22,
     "metadata": {},
     "output_type": "execute_result"
    }
   ],
   "source": [
    "L2"
   ]
  },
  {
   "cell_type": "code",
   "execution_count": 23,
   "id": "624e296e",
   "metadata": {},
   "outputs": [],
   "source": [
    "#shallow copy"
   ]
  },
  {
   "cell_type": "code",
   "execution_count": 34,
   "id": "2e89ba3d",
   "metadata": {},
   "outputs": [],
   "source": [
    "L1=[[10,20],[30,40],[50,60]]"
   ]
  },
  {
   "cell_type": "code",
   "execution_count": 35,
   "id": "99ed82f2",
   "metadata": {},
   "outputs": [
    {
     "data": {
      "text/plain": [
       "[[10, 20], [30, 40], [50, 60]]"
      ]
     },
     "execution_count": 35,
     "metadata": {},
     "output_type": "execute_result"
    }
   ],
   "source": [
    "L1"
   ]
  },
  {
   "cell_type": "code",
   "execution_count": 36,
   "id": "a71c9893",
   "metadata": {},
   "outputs": [],
   "source": [
    "L3 = copy.copy(L1)"
   ]
  },
  {
   "cell_type": "code",
   "execution_count": 37,
   "id": "6ec55473",
   "metadata": {},
   "outputs": [
    {
     "name": "stdout",
     "output_type": "stream",
     "text": [
      "2932449670720\n",
      "2932449142848\n",
      "2932449697152\n",
      "2932449697152\n"
     ]
    }
   ],
   "source": [
    "print(id(L1))\n",
    "print(id(L3))\n",
    "print(id(L1[0]))\n",
    "print(id(L3[0]))"
   ]
  },
  {
   "cell_type": "code",
   "execution_count": 38,
   "id": "5ed2b5da",
   "metadata": {},
   "outputs": [
    {
     "data": {
      "text/plain": [
       "[[10, 20], [30, 40], [50, 60]]"
      ]
     },
     "execution_count": 38,
     "metadata": {},
     "output_type": "execute_result"
    }
   ],
   "source": [
    "L1"
   ]
  },
  {
   "cell_type": "code",
   "execution_count": 39,
   "id": "e92a68b7",
   "metadata": {},
   "outputs": [
    {
     "data": {
      "text/plain": [
       "[[10, 20], [30, 40], [50, 60]]"
      ]
     },
     "execution_count": 39,
     "metadata": {},
     "output_type": "execute_result"
    }
   ],
   "source": [
    "L2"
   ]
  },
  {
   "cell_type": "code",
   "execution_count": 40,
   "id": "5e1c527f",
   "metadata": {},
   "outputs": [
    {
     "data": {
      "text/plain": [
       "[10, 20]"
      ]
     },
     "execution_count": 40,
     "metadata": {},
     "output_type": "execute_result"
    }
   ],
   "source": [
    "L1[0]"
   ]
  },
  {
   "cell_type": "code",
   "execution_count": 31,
   "id": "867a683c",
   "metadata": {},
   "outputs": [],
   "source": [
    "L1[0]=[100,200]"
   ]
  },
  {
   "cell_type": "code",
   "execution_count": 32,
   "id": "2ca39cd0",
   "metadata": {},
   "outputs": [
    {
     "data": {
      "text/plain": [
       "[[100, 200], [30, 40], [50, 60]]"
      ]
     },
     "execution_count": 32,
     "metadata": {},
     "output_type": "execute_result"
    }
   ],
   "source": [
    "L1"
   ]
  },
  {
   "cell_type": "code",
   "execution_count": 33,
   "id": "aba6c61a",
   "metadata": {},
   "outputs": [
    {
     "data": {
      "text/plain": [
       "[[10, 20], [30, 40], [50, 60]]"
      ]
     },
     "execution_count": 33,
     "metadata": {},
     "output_type": "execute_result"
    }
   ],
   "source": [
    "L3"
   ]
  },
  {
   "cell_type": "code",
   "execution_count": 41,
   "id": "b83b8ac8",
   "metadata": {},
   "outputs": [],
   "source": [
    "L1[0][0]=100"
   ]
  },
  {
   "cell_type": "code",
   "execution_count": 42,
   "id": "5e4c537c",
   "metadata": {},
   "outputs": [
    {
     "data": {
      "text/plain": [
       "[[100, 20], [30, 40], [50, 60]]"
      ]
     },
     "execution_count": 42,
     "metadata": {},
     "output_type": "execute_result"
    }
   ],
   "source": [
    "L1"
   ]
  },
  {
   "cell_type": "code",
   "execution_count": 43,
   "id": "ce46dac3",
   "metadata": {},
   "outputs": [
    {
     "data": {
      "text/plain": [
       "[[10, 20], [30, 40], [50, 60]]"
      ]
     },
     "execution_count": 43,
     "metadata": {},
     "output_type": "execute_result"
    }
   ],
   "source": [
    "L2"
   ]
  },
  {
   "cell_type": "code",
   "execution_count": 48,
   "id": "63881cdb",
   "metadata": {},
   "outputs": [],
   "source": [
    "#soft copy"
   ]
  },
  {
   "cell_type": "code",
   "execution_count": 49,
   "id": "773b23b1",
   "metadata": {},
   "outputs": [],
   "source": [
    "L1=[[10,20],[30,40],[50,60]]"
   ]
  },
  {
   "cell_type": "code",
   "execution_count": 50,
   "id": "2297890c",
   "metadata": {},
   "outputs": [],
   "source": [
    "L4 = L1"
   ]
  },
  {
   "cell_type": "code",
   "execution_count": 51,
   "id": "72b4c1fe",
   "metadata": {},
   "outputs": [
    {
     "data": {
      "text/plain": [
       "[[10, 20], [30, 40], [50, 60]]"
      ]
     },
     "execution_count": 51,
     "metadata": {},
     "output_type": "execute_result"
    }
   ],
   "source": [
    "L1"
   ]
  },
  {
   "cell_type": "code",
   "execution_count": 52,
   "id": "eefde9eb",
   "metadata": {},
   "outputs": [
    {
     "data": {
      "text/plain": [
       "[[10, 20], [30, 40], [50, 60]]"
      ]
     },
     "execution_count": 52,
     "metadata": {},
     "output_type": "execute_result"
    }
   ],
   "source": [
    "L4"
   ]
  },
  {
   "cell_type": "code",
   "execution_count": 53,
   "id": "750b8f91",
   "metadata": {},
   "outputs": [],
   "source": [
    "L1[0][0]=100"
   ]
  },
  {
   "cell_type": "code",
   "execution_count": 54,
   "id": "6047bac2",
   "metadata": {},
   "outputs": [
    {
     "data": {
      "text/plain": [
       "[[100, 20], [30, 40], [50, 60]]"
      ]
     },
     "execution_count": 54,
     "metadata": {},
     "output_type": "execute_result"
    }
   ],
   "source": [
    "L1"
   ]
  },
  {
   "cell_type": "code",
   "execution_count": 55,
   "id": "19405390",
   "metadata": {},
   "outputs": [
    {
     "data": {
      "text/plain": [
       "[[100, 20], [30, 40], [50, 60]]"
      ]
     },
     "execution_count": 55,
     "metadata": {},
     "output_type": "execute_result"
    }
   ],
   "source": [
    "L4"
   ]
  },
  {
   "cell_type": "code",
   "execution_count": null,
   "id": "64279b70",
   "metadata": {},
   "outputs": [],
   "source": []
  },
  {
   "cell_type": "code",
   "execution_count": null,
   "id": "37152438",
   "metadata": {},
   "outputs": [],
   "source": []
  },
  {
   "cell_type": "code",
   "execution_count": null,
   "id": "22f2f03c",
   "metadata": {},
   "outputs": [],
   "source": []
  },
  {
   "cell_type": "code",
   "execution_count": null,
   "id": "542deb8c",
   "metadata": {},
   "outputs": [],
   "source": []
  },
  {
   "cell_type": "code",
   "execution_count": null,
   "id": "db877267",
   "metadata": {},
   "outputs": [],
   "source": []
  },
  {
   "cell_type": "code",
   "execution_count": null,
   "id": "8d6c1a69",
   "metadata": {},
   "outputs": [],
   "source": []
  },
  {
   "cell_type": "code",
   "execution_count": null,
   "id": "c73cc189",
   "metadata": {},
   "outputs": [],
   "source": []
  },
  {
   "cell_type": "code",
   "execution_count": null,
   "id": "a7f6c2c4",
   "metadata": {},
   "outputs": [],
   "source": []
  },
  {
   "cell_type": "code",
   "execution_count": null,
   "id": "c43f0b63",
   "metadata": {},
   "outputs": [],
   "source": []
  },
  {
   "cell_type": "code",
   "execution_count": null,
   "id": "ee1ad823",
   "metadata": {},
   "outputs": [],
   "source": []
  }
 ],
 "metadata": {
  "kernelspec": {
   "display_name": "Python 3 (ipykernel)",
   "language": "python",
   "name": "python3"
  },
  "language_info": {
   "codemirror_mode": {
    "name": "ipython",
    "version": 3
   },
   "file_extension": ".py",
   "mimetype": "text/x-python",
   "name": "python",
   "nbconvert_exporter": "python",
   "pygments_lexer": "ipython3",
   "version": "3.9.13"
  }
 },
 "nbformat": 4,
 "nbformat_minor": 5
}
