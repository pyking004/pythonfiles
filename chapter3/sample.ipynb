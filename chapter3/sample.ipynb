{
 "cells": [
  {
   "cell_type": "code",
   "execution_count": null,
   "id": "2a3beffd",
   "metadata": {},
   "outputs": [],
   "source": [
    "1. function is named code\n",
    "2. it is callable\n",
    "3. It is reusable object"
   ]
  },
  {
   "cell_type": "raw",
   "id": "ba770e96",
   "metadata": {},
   "source": [
    "syntax\n",
    "def <Name>(parameters):\n",
    "    statement1\n",
    "    statement2\n",
    "    ...\n",
    "    ...\n",
    "    return <value/variable/expression/object/....>"
   ]
  },
  {
   "cell_type": "raw",
   "id": "8fb89c56",
   "metadata": {},
   "source": [
    "<Name>(arguments)"
   ]
  },
  {
   "cell_type": "code",
   "execution_count": 1,
   "id": "9d9d4385",
   "metadata": {},
   "outputs": [],
   "source": [
    "def f1():\n",
    "    print(\"welcome to functions\")"
   ]
  },
  {
   "cell_type": "code",
   "execution_count": 2,
   "id": "dca374f5",
   "metadata": {},
   "outputs": [
    {
     "name": "stdout",
     "output_type": "stream",
     "text": [
      "welcome to functions\n"
     ]
    }
   ],
   "source": [
    "f1()"
   ]
  },
  {
   "cell_type": "code",
   "execution_count": 5,
   "id": "acc43d43",
   "metadata": {},
   "outputs": [
    {
     "name": "stdout",
     "output_type": "stream",
     "text": [
      "welcome to functions\n",
      "None\n"
     ]
    }
   ],
   "source": [
    "print(f1())"
   ]
  },
  {
   "cell_type": "code",
   "execution_count": 3,
   "id": "e289a9d3",
   "metadata": {},
   "outputs": [],
   "source": [
    "def f2():\n",
    "    return \"Good Morning\""
   ]
  },
  {
   "cell_type": "code",
   "execution_count": 4,
   "id": "07a8b327",
   "metadata": {},
   "outputs": [
    {
     "data": {
      "text/plain": [
       "'Good Morning'"
      ]
     },
     "execution_count": 4,
     "metadata": {},
     "output_type": "execute_result"
    }
   ],
   "source": [
    "f2()"
   ]
  },
  {
   "cell_type": "raw",
   "id": "40ad2be2",
   "metadata": {},
   "source": [
    "1. every function must return\n",
    "2. function returns with resturn statement only\n",
    "3. function returns None if it doesn't have any return statement"
   ]
  },
  {
   "cell_type": "code",
   "execution_count": 6,
   "id": "a3f10362",
   "metadata": {},
   "outputs": [],
   "source": [
    "def f3():\n",
    "    print(\"welcome to functions\")\n",
    "    return \"Good Morning\""
   ]
  },
  {
   "cell_type": "code",
   "execution_count": 7,
   "id": "07a69b2a",
   "metadata": {},
   "outputs": [
    {
     "name": "stdout",
     "output_type": "stream",
     "text": [
      "welcome to functions\n"
     ]
    },
    {
     "data": {
      "text/plain": [
       "'Good Morning'"
      ]
     },
     "execution_count": 7,
     "metadata": {},
     "output_type": "execute_result"
    }
   ],
   "source": [
    "f3()"
   ]
  },
  {
   "cell_type": "code",
   "execution_count": 8,
   "id": "2b629aed",
   "metadata": {},
   "outputs": [
    {
     "name": "stdout",
     "output_type": "stream",
     "text": [
      "welcome to functions\n"
     ]
    }
   ],
   "source": [
    "v1 = f1()"
   ]
  },
  {
   "cell_type": "code",
   "execution_count": 9,
   "id": "9cc1ec7f",
   "metadata": {},
   "outputs": [
    {
     "name": "stdout",
     "output_type": "stream",
     "text": [
      "None\n"
     ]
    }
   ],
   "source": [
    "print(v1)"
   ]
  },
  {
   "cell_type": "code",
   "execution_count": 10,
   "id": "427ba562",
   "metadata": {},
   "outputs": [],
   "source": [
    "v2 = f2()"
   ]
  },
  {
   "cell_type": "code",
   "execution_count": 11,
   "id": "b5dcbb79",
   "metadata": {},
   "outputs": [
    {
     "name": "stdout",
     "output_type": "stream",
     "text": [
      "Good Morning\n"
     ]
    }
   ],
   "source": [
    "print(v2)"
   ]
  },
  {
   "cell_type": "code",
   "execution_count": 12,
   "id": "acec3f47",
   "metadata": {},
   "outputs": [
    {
     "name": "stdout",
     "output_type": "stream",
     "text": [
      "welcome to functions\n"
     ]
    }
   ],
   "source": [
    "v3 = f3()"
   ]
  },
  {
   "cell_type": "code",
   "execution_count": 13,
   "id": "62ac4c42",
   "metadata": {},
   "outputs": [
    {
     "name": "stdout",
     "output_type": "stream",
     "text": [
      "Good Morning\n"
     ]
    }
   ],
   "source": [
    "print(v3)"
   ]
  },
  {
   "cell_type": "code",
   "execution_count": null,
   "id": "6fae618a",
   "metadata": {},
   "outputs": [],
   "source": [
    "#parameters\n",
    "#no of arguments == no of parameters at time of calling a function"
   ]
  },
  {
   "cell_type": "code",
   "execution_count": 14,
   "id": "0383d48b",
   "metadata": {},
   "outputs": [],
   "source": [
    "def f1(msg):\n",
    "    return msg"
   ]
  },
  {
   "cell_type": "code",
   "execution_count": 15,
   "id": "6878542d",
   "metadata": {},
   "outputs": [
    {
     "data": {
      "text/plain": [
       "'Good Morning'"
      ]
     },
     "execution_count": 15,
     "metadata": {},
     "output_type": "execute_result"
    }
   ],
   "source": [
    "f1(\"Good Morning\")"
   ]
  },
  {
   "cell_type": "code",
   "execution_count": null,
   "id": "fee25523",
   "metadata": {},
   "outputs": [],
   "source": [
    "#default arguement"
   ]
  },
  {
   "cell_type": "code",
   "execution_count": 16,
   "id": "c3a34598",
   "metadata": {},
   "outputs": [],
   "source": [
    "def f1(msg='Good Morning'):\n",
    "    return msg"
   ]
  },
  {
   "cell_type": "code",
   "execution_count": 17,
   "id": "2a97d82a",
   "metadata": {},
   "outputs": [
    {
     "data": {
      "text/plain": [
       "'Good Morning'"
      ]
     },
     "execution_count": 17,
     "metadata": {},
     "output_type": "execute_result"
    }
   ],
   "source": [
    "f1()"
   ]
  },
  {
   "cell_type": "code",
   "execution_count": 18,
   "id": "ee07d397",
   "metadata": {},
   "outputs": [
    {
     "data": {
      "text/plain": [
       "'Good Evening'"
      ]
     },
     "execution_count": 18,
     "metadata": {},
     "output_type": "execute_result"
    }
   ],
   "source": [
    "f1(\"Good Evening\")"
   ]
  },
  {
   "cell_type": "code",
   "execution_count": 24,
   "id": "b07918ca",
   "metadata": {},
   "outputs": [],
   "source": [
    "def add(a,b):\n",
    "    print('a =',a)\n",
    "    print('b =',b)\n",
    "    return a+b"
   ]
  },
  {
   "cell_type": "code",
   "execution_count": 25,
   "id": "8d97f3d0",
   "metadata": {},
   "outputs": [
    {
     "name": "stdout",
     "output_type": "stream",
     "text": [
      "a = 10\n",
      "b = 20\n"
     ]
    },
    {
     "data": {
      "text/plain": [
       "30"
      ]
     },
     "execution_count": 25,
     "metadata": {},
     "output_type": "execute_result"
    }
   ],
   "source": [
    "add(10,20)"
   ]
  },
  {
   "cell_type": "code",
   "execution_count": 26,
   "id": "2585380a",
   "metadata": {},
   "outputs": [
    {
     "name": "stdout",
     "output_type": "stream",
     "text": [
      "a = 20\n",
      "b = 10\n"
     ]
    },
    {
     "data": {
      "text/plain": [
       "30"
      ]
     },
     "execution_count": 26,
     "metadata": {},
     "output_type": "execute_result"
    }
   ],
   "source": [
    "add(20,10)"
   ]
  },
  {
   "cell_type": "code",
   "execution_count": 27,
   "id": "68504f52",
   "metadata": {},
   "outputs": [
    {
     "ename": "TypeError",
     "evalue": "add() missing 1 required positional argument: 'b'",
     "output_type": "error",
     "traceback": [
      "\u001b[1;31m---------------------------------------------------------------------------\u001b[0m",
      "\u001b[1;31mTypeError\u001b[0m                                 Traceback (most recent call last)",
      "\u001b[1;32m~\\AppData\\Local\\Temp\\ipykernel_18120\\53490253.py\u001b[0m in \u001b[0;36m<module>\u001b[1;34m\u001b[0m\n\u001b[1;32m----> 1\u001b[1;33m \u001b[0madd\u001b[0m\u001b[1;33m(\u001b[0m\u001b[1;36m10\u001b[0m\u001b[1;33m)\u001b[0m\u001b[1;33m\u001b[0m\u001b[1;33m\u001b[0m\u001b[0m\n\u001b[0m",
      "\u001b[1;31mTypeError\u001b[0m: add() missing 1 required positional argument: 'b'"
     ]
    }
   ],
   "source": [
    "add(10)"
   ]
  },
  {
   "cell_type": "code",
   "execution_count": 28,
   "id": "07c759f5",
   "metadata": {},
   "outputs": [
    {
     "ename": "TypeError",
     "evalue": "add() takes 2 positional arguments but 3 were given",
     "output_type": "error",
     "traceback": [
      "\u001b[1;31m---------------------------------------------------------------------------\u001b[0m",
      "\u001b[1;31mTypeError\u001b[0m                                 Traceback (most recent call last)",
      "\u001b[1;32m~\\AppData\\Local\\Temp\\ipykernel_18120\\3775841788.py\u001b[0m in \u001b[0;36m<module>\u001b[1;34m\u001b[0m\n\u001b[1;32m----> 1\u001b[1;33m \u001b[0madd\u001b[0m\u001b[1;33m(\u001b[0m\u001b[1;36m10\u001b[0m\u001b[1;33m,\u001b[0m\u001b[1;36m20\u001b[0m\u001b[1;33m,\u001b[0m\u001b[1;36m30\u001b[0m\u001b[1;33m)\u001b[0m\u001b[1;33m\u001b[0m\u001b[1;33m\u001b[0m\u001b[0m\n\u001b[0m",
      "\u001b[1;31mTypeError\u001b[0m: add() takes 2 positional arguments but 3 were given"
     ]
    }
   ],
   "source": [
    "add(10,20,30)"
   ]
  },
  {
   "cell_type": "code",
   "execution_count": null,
   "id": "098937f6",
   "metadata": {},
   "outputs": [],
   "source": [
    "#keyword arguments"
   ]
  },
  {
   "cell_type": "code",
   "execution_count": 31,
   "id": "2a164cd0",
   "metadata": {},
   "outputs": [],
   "source": [
    "def add(a,b):\n",
    "    print('a =',a)\n",
    "    print('b =',b)\n",
    "    return a+b"
   ]
  },
  {
   "cell_type": "code",
   "execution_count": 32,
   "id": "38c7e418",
   "metadata": {},
   "outputs": [
    {
     "name": "stdout",
     "output_type": "stream",
     "text": [
      "a = 10\n",
      "b = 20\n"
     ]
    },
    {
     "data": {
      "text/plain": [
       "30"
      ]
     },
     "execution_count": 32,
     "metadata": {},
     "output_type": "execute_result"
    }
   ],
   "source": [
    "add(a=10,b=20)"
   ]
  },
  {
   "cell_type": "code",
   "execution_count": 33,
   "id": "7d979542",
   "metadata": {},
   "outputs": [
    {
     "name": "stdout",
     "output_type": "stream",
     "text": [
      "a = 20\n",
      "b = 10\n"
     ]
    },
    {
     "data": {
      "text/plain": [
       "30"
      ]
     },
     "execution_count": 33,
     "metadata": {},
     "output_type": "execute_result"
    }
   ],
   "source": [
    "add(b=10,a=20)"
   ]
  },
  {
   "cell_type": "code",
   "execution_count": 34,
   "id": "862911a1",
   "metadata": {},
   "outputs": [
    {
     "ename": "TypeError",
     "evalue": "add() got an unexpected keyword argument 'c'",
     "output_type": "error",
     "traceback": [
      "\u001b[1;31m---------------------------------------------------------------------------\u001b[0m",
      "\u001b[1;31mTypeError\u001b[0m                                 Traceback (most recent call last)",
      "\u001b[1;32m~\\AppData\\Local\\Temp\\ipykernel_18120\\2496683614.py\u001b[0m in \u001b[0;36m<module>\u001b[1;34m\u001b[0m\n\u001b[1;32m----> 1\u001b[1;33m \u001b[0madd\u001b[0m\u001b[1;33m(\u001b[0m\u001b[0mc\u001b[0m\u001b[1;33m=\u001b[0m\u001b[1;36m10\u001b[0m\u001b[1;33m,\u001b[0m\u001b[0md\u001b[0m\u001b[1;33m=\u001b[0m\u001b[1;36m10\u001b[0m\u001b[1;33m)\u001b[0m\u001b[1;33m\u001b[0m\u001b[1;33m\u001b[0m\u001b[0m\n\u001b[0m",
      "\u001b[1;31mTypeError\u001b[0m: add() got an unexpected keyword argument 'c'"
     ]
    }
   ],
   "source": [
    "add(c=10,d=10)"
   ]
  },
  {
   "cell_type": "code",
   "execution_count": 35,
   "id": "a2c70042",
   "metadata": {},
   "outputs": [
    {
     "ename": "TypeError",
     "evalue": "add() got an unexpected keyword argument 'c'",
     "output_type": "error",
     "traceback": [
      "\u001b[1;31m---------------------------------------------------------------------------\u001b[0m",
      "\u001b[1;31mTypeError\u001b[0m                                 Traceback (most recent call last)",
      "\u001b[1;32m~\\AppData\\Local\\Temp\\ipykernel_18120\\4123181641.py\u001b[0m in \u001b[0;36m<module>\u001b[1;34m\u001b[0m\n\u001b[1;32m----> 1\u001b[1;33m \u001b[0madd\u001b[0m\u001b[1;33m(\u001b[0m\u001b[0ma\u001b[0m\u001b[1;33m=\u001b[0m\u001b[1;36m15\u001b[0m\u001b[1;33m,\u001b[0m\u001b[0mc\u001b[0m\u001b[1;33m=\u001b[0m\u001b[1;36m10\u001b[0m\u001b[1;33m)\u001b[0m\u001b[1;33m\u001b[0m\u001b[1;33m\u001b[0m\u001b[0m\n\u001b[0m",
      "\u001b[1;31mTypeError\u001b[0m: add() got an unexpected keyword argument 'c'"
     ]
    }
   ],
   "source": [
    "add(a=15,c=10)"
   ]
  },
  {
   "cell_type": "code",
   "execution_count": null,
   "id": "4b1823e3",
   "metadata": {},
   "outputs": [],
   "source": [
    "#keywords must match with parameters"
   ]
  },
  {
   "cell_type": "code",
   "execution_count": null,
   "id": "4f0712eb",
   "metadata": {},
   "outputs": [],
   "source": [
    "#mixed arguments(postional+keywords)"
   ]
  },
  {
   "cell_type": "code",
   "execution_count": 36,
   "id": "028190d4",
   "metadata": {},
   "outputs": [],
   "source": [
    "def add(a,b):\n",
    "    return a+b"
   ]
  },
  {
   "cell_type": "code",
   "execution_count": 37,
   "id": "916ff17b",
   "metadata": {},
   "outputs": [
    {
     "data": {
      "text/plain": [
       "30"
      ]
     },
     "execution_count": 37,
     "metadata": {},
     "output_type": "execute_result"
    }
   ],
   "source": [
    "add(10,20)"
   ]
  },
  {
   "cell_type": "code",
   "execution_count": 38,
   "id": "50deb789",
   "metadata": {},
   "outputs": [
    {
     "data": {
      "text/plain": [
       "25"
      ]
     },
     "execution_count": 38,
     "metadata": {},
     "output_type": "execute_result"
    }
   ],
   "source": [
    "add(b=15,a=10)"
   ]
  },
  {
   "cell_type": "code",
   "execution_count": 39,
   "id": "0f107ba6",
   "metadata": {},
   "outputs": [
    {
     "ename": "SyntaxError",
     "evalue": "positional argument follows keyword argument (681155466.py, line 1)",
     "output_type": "error",
     "traceback": [
      "\u001b[1;36m  File \u001b[1;32m\"C:\\Users\\91789\\AppData\\Local\\Temp\\ipykernel_18120\\681155466.py\"\u001b[1;36m, line \u001b[1;32m1\u001b[0m\n\u001b[1;33m    add(a=10,15)\u001b[0m\n\u001b[1;37m               ^\u001b[0m\n\u001b[1;31mSyntaxError\u001b[0m\u001b[1;31m:\u001b[0m positional argument follows keyword argument\n"
     ]
    }
   ],
   "source": [
    "add(a=10,15)"
   ]
  },
  {
   "cell_type": "code",
   "execution_count": 40,
   "id": "9e1efd2e",
   "metadata": {},
   "outputs": [
    {
     "ename": "TypeError",
     "evalue": "add() got multiple values for argument 'a'",
     "output_type": "error",
     "traceback": [
      "\u001b[1;31m---------------------------------------------------------------------------\u001b[0m",
      "\u001b[1;31mTypeError\u001b[0m                                 Traceback (most recent call last)",
      "\u001b[1;32m~\\AppData\\Local\\Temp\\ipykernel_18120\\4097022090.py\u001b[0m in \u001b[0;36m<module>\u001b[1;34m\u001b[0m\n\u001b[1;32m----> 1\u001b[1;33m \u001b[0madd\u001b[0m\u001b[1;33m(\u001b[0m\u001b[1;36m15\u001b[0m\u001b[1;33m,\u001b[0m\u001b[0ma\u001b[0m\u001b[1;33m=\u001b[0m\u001b[1;36m15\u001b[0m\u001b[1;33m)\u001b[0m\u001b[1;33m\u001b[0m\u001b[1;33m\u001b[0m\u001b[0m\n\u001b[0m",
      "\u001b[1;31mTypeError\u001b[0m: add() got multiple values for argument 'a'"
     ]
    }
   ],
   "source": [
    "add(15,a=15)"
   ]
  },
  {
   "cell_type": "code",
   "execution_count": 41,
   "id": "b2aaa5fb",
   "metadata": {},
   "outputs": [
    {
     "data": {
      "text/plain": [
       "30"
      ]
     },
     "execution_count": 41,
     "metadata": {},
     "output_type": "execute_result"
    }
   ],
   "source": [
    "add(10,b=20)"
   ]
  },
  {
   "cell_type": "code",
   "execution_count": 42,
   "id": "ce076c70",
   "metadata": {},
   "outputs": [],
   "source": [
    "#variables in functions"
   ]
  },
  {
   "cell_type": "code",
   "execution_count": 43,
   "id": "73cc465a",
   "metadata": {},
   "outputs": [],
   "source": [
    "a=1000"
   ]
  },
  {
   "cell_type": "code",
   "execution_count": 44,
   "id": "ec114dfb",
   "metadata": {},
   "outputs": [
    {
     "data": {
      "text/plain": [
       "1000"
      ]
     },
     "execution_count": 44,
     "metadata": {},
     "output_type": "execute_result"
    }
   ],
   "source": [
    "a"
   ]
  },
  {
   "cell_type": "code",
   "execution_count": 45,
   "id": "4a09acb9",
   "metadata": {},
   "outputs": [],
   "source": [
    "def f1():\n",
    "    a = 100\n",
    "    return a"
   ]
  },
  {
   "cell_type": "code",
   "execution_count": 46,
   "id": "df14ef9a",
   "metadata": {},
   "outputs": [
    {
     "data": {
      "text/plain": [
       "100"
      ]
     },
     "execution_count": 46,
     "metadata": {},
     "output_type": "execute_result"
    }
   ],
   "source": [
    "f1()"
   ]
  },
  {
   "cell_type": "code",
   "execution_count": 47,
   "id": "bec12821",
   "metadata": {},
   "outputs": [
    {
     "data": {
      "text/plain": [
       "1000"
      ]
     },
     "execution_count": 47,
     "metadata": {},
     "output_type": "execute_result"
    }
   ],
   "source": [
    "a"
   ]
  },
  {
   "cell_type": "code",
   "execution_count": 48,
   "id": "2c38d8c8",
   "metadata": {},
   "outputs": [],
   "source": [
    "def f2():\n",
    "    x=111\n",
    "    return x"
   ]
  },
  {
   "cell_type": "code",
   "execution_count": 49,
   "id": "fe1bab0d",
   "metadata": {},
   "outputs": [
    {
     "data": {
      "text/plain": [
       "111"
      ]
     },
     "execution_count": 49,
     "metadata": {},
     "output_type": "execute_result"
    }
   ],
   "source": [
    "f2()"
   ]
  },
  {
   "cell_type": "code",
   "execution_count": 50,
   "id": "8f6d6669",
   "metadata": {},
   "outputs": [
    {
     "ename": "NameError",
     "evalue": "name 'x' is not defined",
     "output_type": "error",
     "traceback": [
      "\u001b[1;31m---------------------------------------------------------------------------\u001b[0m",
      "\u001b[1;31mNameError\u001b[0m                                 Traceback (most recent call last)",
      "\u001b[1;32m~\\AppData\\Local\\Temp\\ipykernel_18120\\32546335.py\u001b[0m in \u001b[0;36m<module>\u001b[1;34m\u001b[0m\n\u001b[1;32m----> 1\u001b[1;33m \u001b[0mx\u001b[0m\u001b[1;33m\u001b[0m\u001b[1;33m\u001b[0m\u001b[0m\n\u001b[0m",
      "\u001b[1;31mNameError\u001b[0m: name 'x' is not defined"
     ]
    }
   ],
   "source": [
    "x"
   ]
  },
  {
   "cell_type": "code",
   "execution_count": 51,
   "id": "c2b073cc",
   "metadata": {},
   "outputs": [
    {
     "data": {
      "text/plain": [
       "1000"
      ]
     },
     "execution_count": 51,
     "metadata": {},
     "output_type": "execute_result"
    }
   ],
   "source": [
    "a"
   ]
  },
  {
   "cell_type": "code",
   "execution_count": 52,
   "id": "f7339788",
   "metadata": {},
   "outputs": [],
   "source": [
    "def f3():\n",
    "    return a"
   ]
  },
  {
   "cell_type": "code",
   "execution_count": 53,
   "id": "997dd282",
   "metadata": {},
   "outputs": [
    {
     "data": {
      "text/plain": [
       "1000"
      ]
     },
     "execution_count": 53,
     "metadata": {},
     "output_type": "execute_result"
    }
   ],
   "source": [
    "f3()"
   ]
  },
  {
   "cell_type": "code",
   "execution_count": 54,
   "id": "697f1258",
   "metadata": {},
   "outputs": [],
   "source": [
    "def f4():\n",
    "    a = 111\n",
    "    b = 222\n",
    "    print(locals())\n",
    "    return a+b"
   ]
  },
  {
   "cell_type": "code",
   "execution_count": 55,
   "id": "43c497b9",
   "metadata": {},
   "outputs": [
    {
     "name": "stdout",
     "output_type": "stream",
     "text": [
      "{'a': 111, 'b': 222}\n"
     ]
    },
    {
     "data": {
      "text/plain": [
       "333"
      ]
     },
     "execution_count": 55,
     "metadata": {},
     "output_type": "execute_result"
    }
   ],
   "source": [
    "f4()"
   ]
  },
  {
   "cell_type": "code",
   "execution_count": 56,
   "id": "59c9d17c",
   "metadata": {},
   "outputs": [
    {
     "name": "stdout",
     "output_type": "stream",
     "text": [
      "{'__name__': '__main__', '__doc__': 'Automatically created module for IPython interactive environment', '__package__': None, '__loader__': None, '__spec__': None, '__builtin__': <module 'builtins' (built-in)>, '__builtins__': <module 'builtins' (built-in)>, '_ih': ['', 'def f1():\\n    print(\"welcome to functions\")', 'f1()', 'def f2():\\n    return \"Good Morning\"', 'f2()', 'print(f1())', 'def f3():\\n    print(\"welcome to functions\")\\n    return \"Good Morning\"', 'f3()', 'v1 = f1()', 'print(v1)', 'v2 = f2()', 'print(v2)', 'v3 = f3()', 'print(v3)', 'def f1(msg):\\n    return msg', 'f1(\"Good Morning\")', \"def f1(msg='Good Morning'):\\n    return msg\", 'f1()', 'f1(\"Good Evening\")', 'def add(a,b):\\n    return a+b', 'add(10,20)', 'add(20,10)', 'add(10)', 'add(10,20,30)', \"def add(a,b):\\n    print('a =',a)\\n    print('b =',b)\\n    return a+b\", 'add(10,20)', 'add(20,10)', 'add(10)', 'add(10,20,30)', 'def add(a,b):', 'def add(a,b):\\n    return a+b', \"def add(a,b):\\n    print('a =',a)\\n    print('b =',b)\\n    return a+b\", 'add(a=10,b=20)', 'add(b=10,a=20)', 'add(c=10,d=10)', 'add(a=15,c=10)', 'def add(a,b):\\n    return a+b', 'add(10,20)', 'add(b=15,a=10)', 'add(a=10,15)', 'add(15,a=15)', 'add(10,b=20)', '#variables in functions', 'a=1000', 'a', 'def f1():\\n    a = 100\\n    return a', 'f1()', 'a', 'def f2():\\n    x=111\\n    return x', 'f2()', 'x', 'a', 'def f3():\\n    return a', 'f3()', 'def f4():\\n    a = 111\\n    b = 222\\n    print(locals())\\n    return a+b', 'f4()', 'print(globals())'], '_oh': {4: 'Good Morning', 7: 'Good Morning', 15: 'Good Morning', 17: 'Good Morning', 18: 'Good Evening', 20: 30, 21: 30, 25: 30, 26: 30, 32: 30, 33: 30, 37: 30, 38: 25, 41: 30, 44: 1000, 46: 100, 47: 1000, 49: 111, 51: 1000, 53: 1000, 55: 333}, '_dh': ['C:\\\\Users\\\\91789\\\\pythonfiles\\\\chapter3'], 'In': ['', 'def f1():\\n    print(\"welcome to functions\")', 'f1()', 'def f2():\\n    return \"Good Morning\"', 'f2()', 'print(f1())', 'def f3():\\n    print(\"welcome to functions\")\\n    return \"Good Morning\"', 'f3()', 'v1 = f1()', 'print(v1)', 'v2 = f2()', 'print(v2)', 'v3 = f3()', 'print(v3)', 'def f1(msg):\\n    return msg', 'f1(\"Good Morning\")', \"def f1(msg='Good Morning'):\\n    return msg\", 'f1()', 'f1(\"Good Evening\")', 'def add(a,b):\\n    return a+b', 'add(10,20)', 'add(20,10)', 'add(10)', 'add(10,20,30)', \"def add(a,b):\\n    print('a =',a)\\n    print('b =',b)\\n    return a+b\", 'add(10,20)', 'add(20,10)', 'add(10)', 'add(10,20,30)', 'def add(a,b):', 'def add(a,b):\\n    return a+b', \"def add(a,b):\\n    print('a =',a)\\n    print('b =',b)\\n    return a+b\", 'add(a=10,b=20)', 'add(b=10,a=20)', 'add(c=10,d=10)', 'add(a=15,c=10)', 'def add(a,b):\\n    return a+b', 'add(10,20)', 'add(b=15,a=10)', 'add(a=10,15)', 'add(15,a=15)', 'add(10,b=20)', '#variables in functions', 'a=1000', 'a', 'def f1():\\n    a = 100\\n    return a', 'f1()', 'a', 'def f2():\\n    x=111\\n    return x', 'f2()', 'x', 'a', 'def f3():\\n    return a', 'f3()', 'def f4():\\n    a = 111\\n    b = 222\\n    print(locals())\\n    return a+b', 'f4()', 'print(globals())'], 'Out': {4: 'Good Morning', 7: 'Good Morning', 15: 'Good Morning', 17: 'Good Morning', 18: 'Good Evening', 20: 30, 21: 30, 25: 30, 26: 30, 32: 30, 33: 30, 37: 30, 38: 25, 41: 30, 44: 1000, 46: 100, 47: 1000, 49: 111, 51: 1000, 53: 1000, 55: 333}, 'get_ipython': <bound method InteractiveShell.get_ipython of <ipykernel.zmqshell.ZMQInteractiveShell object at 0x0000023B0EE6C5E0>>, 'exit': <IPython.core.autocall.ZMQExitAutocall object at 0x0000023B0EF0A280>, 'quit': <IPython.core.autocall.ZMQExitAutocall object at 0x0000023B0EF0A280>, '_': 333, '__': 1000, '___': 1000, '_i': 'f4()', '_ii': 'def f4():\\n    a = 111\\n    b = 222\\n    print(locals())\\n    return a+b', '_iii': 'f3()', '_i1': 'def f1():\\n    print(\"welcome to functions\")', 'f1': <function f1 at 0x0000023B112235E0>, '_i2': 'f1()', '_i3': 'def f2():\\n    return \"Good Morning\"', 'f2': <function f2 at 0x0000023B11D17F70>, '_i4': 'f2()', '_4': 'Good Morning', '_i5': 'print(f1())', '_i6': 'def f3():\\n    print(\"welcome to functions\")\\n    return \"Good Morning\"', 'f3': <function f3 at 0x0000023B11488790>, '_i7': 'f3()', '_7': 'Good Morning', '_i8': 'v1 = f1()', 'v1': None, '_i9': 'print(v1)', '_i10': 'v2 = f2()', 'v2': 'Good Morning', '_i11': 'print(v2)', '_i12': 'v3 = f3()', 'v3': 'Good Morning', '_i13': 'print(v3)', '_i14': 'def f1(msg):\\n    return msg', '_i15': 'f1(\"Good Morning\")', '_15': 'Good Morning', '_i16': \"def f1(msg='Good Morning'):\\n    return msg\", '_i17': 'f1()', '_17': 'Good Morning', '_i18': 'f1(\"Good Evening\")', '_18': 'Good Evening', '_i19': 'def add(a,b):\\n    return a+b', 'add': <function add at 0x0000023B11423670>, '_i20': 'add(10,20)', '_20': 30, '_i21': 'add(20,10)', '_21': 30, '_i22': 'add(10)', '_i23': 'add(10,20,30)', '_i24': \"def add(a,b):\\n    print('a =',a)\\n    print('b =',b)\\n    return a+b\", '_i25': 'add(10,20)', '_25': 30, '_i26': 'add(20,10)', '_26': 30, '_i27': 'add(10)', '_i28': 'add(10,20,30)', '_i29': 'def add(a,b):', '_i30': 'def add(a,b):\\n    return a+b', '_i31': \"def add(a,b):\\n    print('a =',a)\\n    print('b =',b)\\n    return a+b\", '_i32': 'add(a=10,b=20)', '_32': 30, '_i33': 'add(b=10,a=20)', '_33': 30, '_i34': 'add(c=10,d=10)', '_i35': 'add(a=15,c=10)', '_i36': 'def add(a,b):\\n    return a+b', '_i37': 'add(10,20)', '_37': 30, '_i38': 'add(b=15,a=10)', '_38': 25, '_i39': 'add(a=10,15)', '_i40': 'add(15,a=15)', '_i41': 'add(10,b=20)', '_41': 30, '_i42': '#variables in functions', '_i43': 'a=1000', 'a': 1000, '_i44': 'a', '_44': 1000, '_i45': 'def f1():\\n    a = 100\\n    return a', '_i46': 'f1()', '_46': 100, '_i47': 'a', '_47': 1000, '_i48': 'def f2():\\n    x=111\\n    return x', '_i49': 'f2()', '_49': 111, '_i50': 'x', '_i51': 'a', '_51': 1000, '_i52': 'def f3():\\n    return a', '_i53': 'f3()', '_53': 1000, '_i54': 'def f4():\\n    a = 111\\n    b = 222\\n    print(locals())\\n    return a+b', 'f4': <function f4 at 0x0000023B114238B0>, '_i55': 'f4()', '_55': 333, '_i56': 'print(globals())'}\n"
     ]
    }
   ],
   "source": [
    "print(globals())"
   ]
  },
  {
   "cell_type": "code",
   "execution_count": 59,
   "id": "4c40d6d5",
   "metadata": {},
   "outputs": [],
   "source": [
    "a=1000\n",
    "def f1():\n",
    "    a=100\n",
    "    def f2():\n",
    "        a=10\n",
    "        return a\n",
    "    return f2()"
   ]
  },
  {
   "cell_type": "code",
   "execution_count": 60,
   "id": "8add61c4",
   "metadata": {},
   "outputs": [
    {
     "data": {
      "text/plain": [
       "10"
      ]
     },
     "execution_count": 60,
     "metadata": {},
     "output_type": "execute_result"
    }
   ],
   "source": [
    "f1()"
   ]
  },
  {
   "cell_type": "code",
   "execution_count": 61,
   "id": "f9a9c663",
   "metadata": {},
   "outputs": [],
   "source": [
    "a=1000\n",
    "def f1():\n",
    "    a=100\n",
    "    def f2():\n",
    "#         a=10\n",
    "        return a\n",
    "    return f2()"
   ]
  },
  {
   "cell_type": "code",
   "execution_count": 62,
   "id": "4b83b8bc",
   "metadata": {},
   "outputs": [
    {
     "data": {
      "text/plain": [
       "100"
      ]
     },
     "execution_count": 62,
     "metadata": {},
     "output_type": "execute_result"
    }
   ],
   "source": [
    "f1()"
   ]
  },
  {
   "cell_type": "code",
   "execution_count": 63,
   "id": "001eb5b4",
   "metadata": {},
   "outputs": [],
   "source": [
    "a=1000\n",
    "def f1():\n",
    "#     a=100\n",
    "    def f2():\n",
    "#         a=10\n",
    "        return a\n",
    "    return f2()"
   ]
  },
  {
   "cell_type": "code",
   "execution_count": 64,
   "id": "b47a05b3",
   "metadata": {},
   "outputs": [
    {
     "data": {
      "text/plain": [
       "1000"
      ]
     },
     "execution_count": 64,
     "metadata": {},
     "output_type": "execute_result"
    }
   ],
   "source": [
    "f1()"
   ]
  },
  {
   "cell_type": "code",
   "execution_count": 65,
   "id": "ef0c0f13",
   "metadata": {},
   "outputs": [],
   "source": [
    "a=1000\n",
    "def f1():\n",
    "    a=100\n",
    "    def f2():\n",
    "        global a\n",
    "        return a\n",
    "    return f2()"
   ]
  },
  {
   "cell_type": "code",
   "execution_count": 66,
   "id": "f181d781",
   "metadata": {},
   "outputs": [
    {
     "data": {
      "text/plain": [
       "1000"
      ]
     },
     "execution_count": 66,
     "metadata": {},
     "output_type": "execute_result"
    }
   ],
   "source": [
    "f1()"
   ]
  },
  {
   "cell_type": "code",
   "execution_count": 71,
   "id": "ba621de9",
   "metadata": {},
   "outputs": [],
   "source": [
    "a=1000\n",
    "def f1():\n",
    "    a=100\n",
    "    def f2():\n",
    "        nonlocal a\n",
    "        a = 10 + a\n",
    "        return a\n",
    "    return f2()"
   ]
  },
  {
   "cell_type": "code",
   "execution_count": 72,
   "id": "61154a27",
   "metadata": {},
   "outputs": [
    {
     "data": {
      "text/plain": [
       "110"
      ]
     },
     "execution_count": 72,
     "metadata": {},
     "output_type": "execute_result"
    }
   ],
   "source": [
    "f1()"
   ]
  },
  {
   "cell_type": "code",
   "execution_count": 73,
   "id": "442fcf85",
   "metadata": {},
   "outputs": [],
   "source": [
    "a=1000\n",
    "def f1():\n",
    "    a=100\n",
    "    def f2():\n",
    "        global a\n",
    "        a = 10 + a\n",
    "        return a\n",
    "    return f2()"
   ]
  },
  {
   "cell_type": "code",
   "execution_count": 74,
   "id": "67533e79",
   "metadata": {},
   "outputs": [
    {
     "data": {
      "text/plain": [
       "1010"
      ]
     },
     "execution_count": 74,
     "metadata": {},
     "output_type": "execute_result"
    }
   ],
   "source": [
    "f1()"
   ]
  },
  {
   "cell_type": "code",
   "execution_count": null,
   "id": "0445a05a",
   "metadata": {},
   "outputs": [],
   "source": []
  },
  {
   "cell_type": "code",
   "execution_count": null,
   "id": "c6bd05e8",
   "metadata": {},
   "outputs": [],
   "source": []
  },
  {
   "cell_type": "code",
   "execution_count": null,
   "id": "2d868d1c",
   "metadata": {},
   "outputs": [],
   "source": []
  },
  {
   "cell_type": "code",
   "execution_count": null,
   "id": "5efa9fd8",
   "metadata": {},
   "outputs": [],
   "source": []
  },
  {
   "cell_type": "code",
   "execution_count": null,
   "id": "6007a479",
   "metadata": {},
   "outputs": [],
   "source": []
  },
  {
   "cell_type": "code",
   "execution_count": null,
   "id": "422e177b",
   "metadata": {},
   "outputs": [],
   "source": []
  },
  {
   "cell_type": "code",
   "execution_count": null,
   "id": "74a807dd",
   "metadata": {},
   "outputs": [],
   "source": []
  }
 ],
 "metadata": {
  "kernelspec": {
   "display_name": "Python 3 (ipykernel)",
   "language": "python",
   "name": "python3"
  },
  "language_info": {
   "codemirror_mode": {
    "name": "ipython",
    "version": 3
   },
   "file_extension": ".py",
   "mimetype": "text/x-python",
   "name": "python",
   "nbconvert_exporter": "python",
   "pygments_lexer": "ipython3",
   "version": "3.9.13"
  }
 },
 "nbformat": 4,
 "nbformat_minor": 5
}
