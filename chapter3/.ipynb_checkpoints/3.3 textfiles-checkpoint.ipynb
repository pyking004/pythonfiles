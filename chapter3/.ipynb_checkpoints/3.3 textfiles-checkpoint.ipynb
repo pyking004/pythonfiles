{
 "cells": [
  {
   "cell_type": "code",
   "execution_count": null,
   "id": "5137afaa",
   "metadata": {},
   "outputs": [],
   "source": [
    "#reading files data"
   ]
  },
  {
   "cell_type": "code",
   "execution_count": null,
   "id": "7fcb64f8",
   "metadata": {},
   "outputs": [],
   "source": [
    "#there few modes while reading data\n",
    "#read  =>  r(read only) , r+(read and write), rb(read binary file) , rb+ (read binary data and write binary)\n",
    "#write  =>  w(write only) , w+(write and read), wb(write binary file) , wb+ (write binary data and read binary)\n",
    "#append  =>  a(append only) , a+(append and read), ab(append binary file) , ab+ (append binary data and read binary)"
   ]
  },
  {
   "cell_type": "code",
   "execution_count": null,
   "id": "654974c6",
   "metadata": {},
   "outputs": [],
   "source": [
    "#in python we have in built open function to work with files\n",
    "#open(path,mode)"
   ]
  },
  {
   "cell_type": "code",
   "execution_count": 1,
   "id": "1aca5506",
   "metadata": {},
   "outputs": [
    {
     "data": {
      "text/plain": [
       "builtin_function_or_method"
      ]
     },
     "execution_count": 1,
     "metadata": {},
     "output_type": "execute_result"
    }
   ],
   "source": [
    "type(open)"
   ]
  },
  {
   "cell_type": "code",
   "execution_count": 5,
   "id": "f3fc2670",
   "metadata": {},
   "outputs": [
    {
     "ename": "OSError",
     "evalue": "[Errno 22] Invalid argument: 'D:\\\\pfiles\\x0cile1.txt'",
     "output_type": "error",
     "traceback": [
      "\u001b[1;31m---------------------------------------------------------------------------\u001b[0m",
      "\u001b[1;31mOSError\u001b[0m                                   Traceback (most recent call last)",
      "\u001b[1;32m~\\AppData\\Local\\Temp\\ipykernel_15908\\2273597600.py\u001b[0m in \u001b[0;36m<module>\u001b[1;34m\u001b[0m\n\u001b[1;32m----> 1\u001b[1;33m \u001b[0mfobj1\u001b[0m \u001b[1;33m=\u001b[0m \u001b[0mopen\u001b[0m\u001b[1;33m(\u001b[0m\u001b[1;34m'D:\\pfiles\\file1.txt'\u001b[0m\u001b[1;33m,\u001b[0m\u001b[1;34m'r'\u001b[0m\u001b[1;33m)\u001b[0m\u001b[1;33m\u001b[0m\u001b[1;33m\u001b[0m\u001b[0m\n\u001b[0m",
      "\u001b[1;31mOSError\u001b[0m: [Errno 22] Invalid argument: 'D:\\\\pfiles\\x0cile1.txt'"
     ]
    }
   ],
   "source": [
    "fobj1 = open('D:\\pfiles\\file1.txt','r')"
   ]
  },
  {
   "cell_type": "code",
   "execution_count": 6,
   "id": "85a204b3",
   "metadata": {},
   "outputs": [
    {
     "data": {
      "text/plain": [
       "True"
      ]
     },
     "execution_count": 6,
     "metadata": {},
     "output_type": "execute_result"
    }
   ],
   "source": [
    "bool(fobj1)"
   ]
  },
  {
   "cell_type": "code",
   "execution_count": 7,
   "id": "eac21925",
   "metadata": {},
   "outputs": [],
   "source": [
    "fobj1 = open('D:\\\\pfiles\\\\file1.txt','r')"
   ]
  },
  {
   "cell_type": "code",
   "execution_count": 8,
   "id": "8af49f55",
   "metadata": {},
   "outputs": [
    {
     "data": {
      "text/plain": [
       "True"
      ]
     },
     "execution_count": 8,
     "metadata": {},
     "output_type": "execute_result"
    }
   ],
   "source": [
    "bool(fobj1)"
   ]
  },
  {
   "cell_type": "code",
   "execution_count": 9,
   "id": "41252a93",
   "metadata": {},
   "outputs": [],
   "source": [
    "fobj2 = open(r'D:\\pfiles\\file1.txt','r')"
   ]
  },
  {
   "cell_type": "code",
   "execution_count": 10,
   "id": "38f9f83c",
   "metadata": {},
   "outputs": [
    {
     "data": {
      "text/plain": [
       "True"
      ]
     },
     "execution_count": 10,
     "metadata": {},
     "output_type": "execute_result"
    }
   ],
   "source": [
    "bool(fobj2)"
   ]
  },
  {
   "cell_type": "code",
   "execution_count": 11,
   "id": "38860e7a",
   "metadata": {},
   "outputs": [],
   "source": [
    "fobj3 = open('D:/pfiles/file1.txt','r')"
   ]
  },
  {
   "cell_type": "code",
   "execution_count": 12,
   "id": "c24fa7b7",
   "metadata": {},
   "outputs": [
    {
     "data": {
      "text/plain": [
       "True"
      ]
     },
     "execution_count": 12,
     "metadata": {},
     "output_type": "execute_result"
    }
   ],
   "source": [
    "bool(fobj3)"
   ]
  },
  {
   "cell_type": "code",
   "execution_count": 13,
   "id": "4929b633",
   "metadata": {},
   "outputs": [
    {
     "name": "stdout",
     "output_type": "stream",
     "text": [
      "None\n",
      "None\n",
      "None\n"
     ]
    }
   ],
   "source": [
    "print(fobj1.close())\n",
    "print(fobj2.close())\n",
    "print(fobj3.close())"
   ]
  },
  {
   "cell_type": "code",
   "execution_count": 14,
   "id": "2b88acdd",
   "metadata": {},
   "outputs": [
    {
     "data": {
      "text/plain": [
       "True"
      ]
     },
     "execution_count": 14,
     "metadata": {},
     "output_type": "execute_result"
    }
   ],
   "source": [
    "bool(fobj3)"
   ]
  },
  {
   "cell_type": "code",
   "execution_count": 15,
   "id": "389c5a20",
   "metadata": {},
   "outputs": [
    {
     "data": {
      "text/plain": [
       "1773156603792"
      ]
     },
     "execution_count": 15,
     "metadata": {},
     "output_type": "execute_result"
    }
   ],
   "source": [
    "id(fobj3)"
   ]
  },
  {
   "cell_type": "code",
   "execution_count": 16,
   "id": "6da6a837",
   "metadata": {},
   "outputs": [],
   "source": [
    "del fobj3"
   ]
  },
  {
   "cell_type": "code",
   "execution_count": 17,
   "id": "a5608c8c",
   "metadata": {},
   "outputs": [
    {
     "ename": "NameError",
     "evalue": "name 'fobj3' is not defined",
     "output_type": "error",
     "traceback": [
      "\u001b[1;31m---------------------------------------------------------------------------\u001b[0m",
      "\u001b[1;31mNameError\u001b[0m                                 Traceback (most recent call last)",
      "\u001b[1;32m~\\AppData\\Local\\Temp\\ipykernel_15908\\1598322005.py\u001b[0m in \u001b[0;36m<module>\u001b[1;34m\u001b[0m\n\u001b[1;32m----> 1\u001b[1;33m \u001b[0mid\u001b[0m\u001b[1;33m(\u001b[0m\u001b[0mfobj3\u001b[0m\u001b[1;33m)\u001b[0m\u001b[1;33m\u001b[0m\u001b[1;33m\u001b[0m\u001b[0m\n\u001b[0m",
      "\u001b[1;31mNameError\u001b[0m: name 'fobj3' is not defined"
     ]
    }
   ],
   "source": [
    "id(fobj3)"
   ]
  },
  {
   "cell_type": "code",
   "execution_count": 18,
   "id": "7255d626",
   "metadata": {},
   "outputs": [],
   "source": [
    "fobj = open('D:/pfiles/file1.txt')"
   ]
  },
  {
   "cell_type": "code",
   "execution_count": 19,
   "id": "57829aeb",
   "metadata": {},
   "outputs": [
    {
     "data": {
      "text/plain": [
       "True"
      ]
     },
     "execution_count": 19,
     "metadata": {},
     "output_type": "execute_result"
    }
   ],
   "source": [
    "bool(fobj)"
   ]
  },
  {
   "cell_type": "code",
   "execution_count": 20,
   "id": "e1a9238a",
   "metadata": {},
   "outputs": [
    {
     "data": {
      "text/plain": [
       "1773156603792"
      ]
     },
     "execution_count": 20,
     "metadata": {},
     "output_type": "execute_result"
    }
   ],
   "source": [
    "id(fobj)"
   ]
  },
  {
   "cell_type": "code",
   "execution_count": 21,
   "id": "163dd689",
   "metadata": {},
   "outputs": [
    {
     "name": "stdout",
     "output_type": "stream",
     "text": [
      "D:/pfiles/file1.txt\n",
      "False\n",
      "r\n",
      "4\n",
      "False\n",
      "True\n",
      "True\n",
      "None\n",
      "True\n"
     ]
    }
   ],
   "source": [
    "print(fobj.name)\n",
    "print(fobj.closed) # False\n",
    "print(fobj.mode)\n",
    "print(fobj.fileno())\n",
    "print(fobj.writable())\n",
    "print(fobj.readable())\n",
    "print(fobj.seekable())\n",
    "print(fobj.close()) # here file object is closed and output is None\n",
    "print(fobj.closed)  # True"
   ]
  },
  {
   "cell_type": "code",
   "execution_count": 22,
   "id": "10d8a0b2",
   "metadata": {},
   "outputs": [
    {
     "data": {
      "text/plain": [
       "1773156603792"
      ]
     },
     "execution_count": 22,
     "metadata": {},
     "output_type": "execute_result"
    }
   ],
   "source": [
    "id(fobj)"
   ]
  },
  {
   "cell_type": "code",
   "execution_count": 23,
   "id": "0a705884",
   "metadata": {},
   "outputs": [
    {
     "data": {
      "text/plain": [
       "True"
      ]
     },
     "execution_count": 23,
     "metadata": {},
     "output_type": "execute_result"
    }
   ],
   "source": [
    "bool(fobj)"
   ]
  },
  {
   "cell_type": "code",
   "execution_count": 24,
   "id": "af659d57",
   "metadata": {},
   "outputs": [
    {
     "ename": "ValueError",
     "evalue": "I/O operation on closed file.",
     "output_type": "error",
     "traceback": [
      "\u001b[1;31m---------------------------------------------------------------------------\u001b[0m",
      "\u001b[1;31mValueError\u001b[0m                                Traceback (most recent call last)",
      "\u001b[1;32m~\\AppData\\Local\\Temp\\ipykernel_15908\\3875495213.py\u001b[0m in \u001b[0;36m<module>\u001b[1;34m\u001b[0m\n\u001b[1;32m----> 1\u001b[1;33m \u001b[0mfobj\u001b[0m\u001b[1;33m.\u001b[0m\u001b[0mread\u001b[0m\u001b[1;33m(\u001b[0m\u001b[1;33m)\u001b[0m\u001b[1;33m\u001b[0m\u001b[1;33m\u001b[0m\u001b[0m\n\u001b[0m",
      "\u001b[1;31mValueError\u001b[0m: I/O operation on closed file."
     ]
    }
   ],
   "source": [
    "fobj.read()"
   ]
  },
  {
   "cell_type": "code",
   "execution_count": 25,
   "id": "2ac93dbc",
   "metadata": {},
   "outputs": [],
   "source": [
    "fname = 'D:/pfiles/file1.txt'"
   ]
  },
  {
   "cell_type": "code",
   "execution_count": 26,
   "id": "d6f557f6",
   "metadata": {},
   "outputs": [],
   "source": [
    "fobj1 = open(fname)"
   ]
  },
  {
   "cell_type": "code",
   "execution_count": 27,
   "id": "52122c0f",
   "metadata": {},
   "outputs": [
    {
     "data": {
      "text/plain": [
       "'welcome'"
      ]
     },
     "execution_count": 27,
     "metadata": {},
     "output_type": "execute_result"
    }
   ],
   "source": [
    "fobj1.read(7)"
   ]
  },
  {
   "cell_type": "code",
   "execution_count": 28,
   "id": "96817443",
   "metadata": {},
   "outputs": [
    {
     "data": {
      "text/plain": [
       "7"
      ]
     },
     "execution_count": 28,
     "metadata": {},
     "output_type": "execute_result"
    }
   ],
   "source": [
    "fobj1.tell()"
   ]
  },
  {
   "cell_type": "code",
   "execution_count": 29,
   "id": "3c893724",
   "metadata": {},
   "outputs": [
    {
     "data": {
      "text/plain": [
       "' to '"
      ]
     },
     "execution_count": 29,
     "metadata": {},
     "output_type": "execute_result"
    }
   ],
   "source": [
    "fobj1.read(4)"
   ]
  },
  {
   "cell_type": "code",
   "execution_count": 30,
   "id": "7710f138",
   "metadata": {},
   "outputs": [
    {
     "data": {
      "text/plain": [
       "11"
      ]
     },
     "execution_count": 30,
     "metadata": {},
     "output_type": "execute_result"
    }
   ],
   "source": [
    "fobj1.tell()"
   ]
  },
  {
   "cell_type": "code",
   "execution_count": 31,
   "id": "006091a6",
   "metadata": {},
   "outputs": [
    {
     "data": {
      "text/plain": [
       "5"
      ]
     },
     "execution_count": 31,
     "metadata": {},
     "output_type": "execute_result"
    }
   ],
   "source": [
    "fobj1.seek(5)"
   ]
  },
  {
   "cell_type": "code",
   "execution_count": 32,
   "id": "0eff4713",
   "metadata": {},
   "outputs": [
    {
     "data": {
      "text/plain": [
       "5"
      ]
     },
     "execution_count": 32,
     "metadata": {},
     "output_type": "execute_result"
    }
   ],
   "source": [
    "fobj1.tell()"
   ]
  },
  {
   "cell_type": "code",
   "execution_count": 33,
   "id": "d92102fc",
   "metadata": {},
   "outputs": [
    {
     "data": {
      "text/plain": [
       "'me '"
      ]
     },
     "execution_count": 33,
     "metadata": {},
     "output_type": "execute_result"
    }
   ],
   "source": [
    "fobj1.read(3)"
   ]
  },
  {
   "cell_type": "code",
   "execution_count": 34,
   "id": "34bc7423",
   "metadata": {},
   "outputs": [
    {
     "data": {
      "text/plain": [
       "8"
      ]
     },
     "execution_count": 34,
     "metadata": {},
     "output_type": "execute_result"
    }
   ],
   "source": [
    "fobj1.tell()"
   ]
  },
  {
   "cell_type": "code",
   "execution_count": 35,
   "id": "b8ff6642",
   "metadata": {},
   "outputs": [],
   "source": [
    "fobj1.close()"
   ]
  },
  {
   "cell_type": "code",
   "execution_count": 36,
   "id": "52c2a0bd",
   "metadata": {},
   "outputs": [
    {
     "ename": "ValueError",
     "evalue": "I/O operation on closed file.",
     "output_type": "error",
     "traceback": [
      "\u001b[1;31m---------------------------------------------------------------------------\u001b[0m",
      "\u001b[1;31mValueError\u001b[0m                                Traceback (most recent call last)",
      "\u001b[1;32m~\\AppData\\Local\\Temp\\ipykernel_15908\\206622783.py\u001b[0m in \u001b[0;36m<module>\u001b[1;34m\u001b[0m\n\u001b[1;32m----> 1\u001b[1;33m \u001b[0mfobj1\u001b[0m\u001b[1;33m.\u001b[0m\u001b[0mread\u001b[0m\u001b[1;33m(\u001b[0m\u001b[1;36m2\u001b[0m\u001b[1;33m)\u001b[0m\u001b[1;33m\u001b[0m\u001b[1;33m\u001b[0m\u001b[0m\n\u001b[0m",
      "\u001b[1;31mValueError\u001b[0m: I/O operation on closed file."
     ]
    }
   ],
   "source": [
    "fobj1.read(2)"
   ]
  },
  {
   "cell_type": "code",
   "execution_count": 37,
   "id": "5354b20d",
   "metadata": {},
   "outputs": [
    {
     "data": {
      "text/plain": [
       "'D:/pfiles/file1.txt'"
      ]
     },
     "execution_count": 37,
     "metadata": {},
     "output_type": "execute_result"
    }
   ],
   "source": [
    "fname"
   ]
  },
  {
   "cell_type": "code",
   "execution_count": 38,
   "id": "4afb5b73",
   "metadata": {},
   "outputs": [],
   "source": [
    "fobj2 = open(fname)"
   ]
  },
  {
   "cell_type": "code",
   "execution_count": 39,
   "id": "ca9cfffe",
   "metadata": {},
   "outputs": [
    {
     "data": {
      "text/plain": [
       "'welcome to python files\\npython\\ndjango\\nmongodb\\nreact\\nnodejs'"
      ]
     },
     "execution_count": 39,
     "metadata": {},
     "output_type": "execute_result"
    }
   ],
   "source": [
    "fobj2.read()"
   ]
  },
  {
   "cell_type": "code",
   "execution_count": 40,
   "id": "8f69ff59",
   "metadata": {},
   "outputs": [
    {
     "data": {
      "text/plain": [
       "63"
      ]
     },
     "execution_count": 40,
     "metadata": {},
     "output_type": "execute_result"
    }
   ],
   "source": [
    "fobj2.tell()"
   ]
  },
  {
   "cell_type": "code",
   "execution_count": 41,
   "id": "6177f49e",
   "metadata": {},
   "outputs": [
    {
     "data": {
      "text/plain": [
       "''"
      ]
     },
     "execution_count": 41,
     "metadata": {},
     "output_type": "execute_result"
    }
   ],
   "source": [
    "fobj2.read(4)"
   ]
  },
  {
   "cell_type": "code",
   "execution_count": 42,
   "id": "b545a73d",
   "metadata": {},
   "outputs": [
    {
     "data": {
      "text/plain": [
       "0"
      ]
     },
     "execution_count": 42,
     "metadata": {},
     "output_type": "execute_result"
    }
   ],
   "source": [
    "fobj2.seek(0)"
   ]
  },
  {
   "cell_type": "code",
   "execution_count": 43,
   "id": "e870168b",
   "metadata": {},
   "outputs": [
    {
     "name": "stdout",
     "output_type": "stream",
     "text": [
      "welcome to python files\n",
      "python\n",
      "django\n",
      "mongodb\n",
      "react\n",
      "nodejs\n"
     ]
    }
   ],
   "source": [
    "print(fobj2.read())"
   ]
  },
  {
   "cell_type": "code",
   "execution_count": 44,
   "id": "041de628",
   "metadata": {},
   "outputs": [
    {
     "data": {
      "text/plain": [
       "0"
      ]
     },
     "execution_count": 44,
     "metadata": {},
     "output_type": "execute_result"
    }
   ],
   "source": [
    "fobj2.seek(0)"
   ]
  },
  {
   "cell_type": "code",
   "execution_count": 45,
   "id": "22ee4b50",
   "metadata": {},
   "outputs": [],
   "source": [
    "filedata = fobj2.read()"
   ]
  },
  {
   "cell_type": "code",
   "execution_count": 46,
   "id": "155b2820",
   "metadata": {},
   "outputs": [
    {
     "data": {
      "text/plain": [
       "'welcome to python files\\npython\\ndjango\\nmongodb\\nreact\\nnodejs'"
      ]
     },
     "execution_count": 46,
     "metadata": {},
     "output_type": "execute_result"
    }
   ],
   "source": [
    "filedata"
   ]
  },
  {
   "cell_type": "code",
   "execution_count": 47,
   "id": "9dcb0e77",
   "metadata": {},
   "outputs": [
    {
     "name": "stdout",
     "output_type": "stream",
     "text": [
      "welcome to python files\n",
      "python\n",
      "django\n",
      "mongodb\n",
      "react\n",
      "nodejs\n"
     ]
    }
   ],
   "source": [
    "print(filedata)"
   ]
  },
  {
   "cell_type": "code",
   "execution_count": 48,
   "id": "8e69f70e",
   "metadata": {},
   "outputs": [
    {
     "data": {
      "text/plain": [
       "str"
      ]
     },
     "execution_count": 48,
     "metadata": {},
     "output_type": "execute_result"
    }
   ],
   "source": [
    "type(filedata)"
   ]
  },
  {
   "cell_type": "code",
   "execution_count": 49,
   "id": "159cdcba",
   "metadata": {},
   "outputs": [],
   "source": [
    "fname='D:/pfiles/courses.txt'"
   ]
  },
  {
   "cell_type": "code",
   "execution_count": 50,
   "id": "d9ed10d1",
   "metadata": {},
   "outputs": [],
   "source": [
    "fobj3 = open(fname)"
   ]
  },
  {
   "cell_type": "code",
   "execution_count": 51,
   "id": "a94dd7bb",
   "metadata": {},
   "outputs": [
    {
     "data": {
      "text/plain": [
       "'python\\n'"
      ]
     },
     "execution_count": 51,
     "metadata": {},
     "output_type": "execute_result"
    }
   ],
   "source": [
    "fobj3.readline()"
   ]
  },
  {
   "cell_type": "code",
   "execution_count": 52,
   "id": "120158a8",
   "metadata": {},
   "outputs": [
    {
     "data": {
      "text/plain": [
       "'django\\n'"
      ]
     },
     "execution_count": 52,
     "metadata": {},
     "output_type": "execute_result"
    }
   ],
   "source": [
    "fobj3.readline()"
   ]
  },
  {
   "cell_type": "code",
   "execution_count": 53,
   "id": "924950df",
   "metadata": {},
   "outputs": [
    {
     "data": {
      "text/plain": [
       "'reactjs\\n'"
      ]
     },
     "execution_count": 53,
     "metadata": {},
     "output_type": "execute_result"
    }
   ],
   "source": [
    "fobj3.readline()"
   ]
  },
  {
   "cell_type": "code",
   "execution_count": 54,
   "id": "9cb74dbd",
   "metadata": {},
   "outputs": [
    {
     "data": {
      "text/plain": [
       "25"
      ]
     },
     "execution_count": 54,
     "metadata": {},
     "output_type": "execute_result"
    }
   ],
   "source": [
    "fobj3.tell()"
   ]
  },
  {
   "cell_type": "code",
   "execution_count": 55,
   "id": "f4d88428",
   "metadata": {},
   "outputs": [
    {
     "data": {
      "text/plain": [
       "'D:/pfiles/courses.txt'"
      ]
     },
     "execution_count": 55,
     "metadata": {},
     "output_type": "execute_result"
    }
   ],
   "source": [
    "fname"
   ]
  },
  {
   "cell_type": "code",
   "execution_count": 56,
   "id": "6f8c486f",
   "metadata": {},
   "outputs": [],
   "source": [
    "fobj4 = open(fname)"
   ]
  },
  {
   "cell_type": "code",
   "execution_count": 57,
   "id": "0917c5bb",
   "metadata": {},
   "outputs": [
    {
     "data": {
      "text/plain": [
       "['python\\n',\n",
       " 'django\\n',\n",
       " 'reactjs\\n',\n",
       " 'nodejs\\n',\n",
       " 'html\\n',\n",
       " 'css\\n',\n",
       " 'mongodb\\n',\n",
       " 'aws\\n',\n",
       " 'postgresql\\n',\n",
       " 'git\\n',\n",
       " 'github']"
      ]
     },
     "execution_count": 57,
     "metadata": {},
     "output_type": "execute_result"
    }
   ],
   "source": [
    "fobj4.readlines()"
   ]
  },
  {
   "cell_type": "code",
   "execution_count": 58,
   "id": "364631e4",
   "metadata": {},
   "outputs": [
    {
     "data": {
      "text/plain": [
       "0"
      ]
     },
     "execution_count": 58,
     "metadata": {},
     "output_type": "execute_result"
    }
   ],
   "source": [
    "fobj4.seek(0)"
   ]
  },
  {
   "cell_type": "code",
   "execution_count": 59,
   "id": "81311e1a",
   "metadata": {},
   "outputs": [],
   "source": [
    "courses = fobj4.readlines()"
   ]
  },
  {
   "cell_type": "code",
   "execution_count": 60,
   "id": "1e385c3a",
   "metadata": {},
   "outputs": [
    {
     "data": {
      "text/plain": [
       "list"
      ]
     },
     "execution_count": 60,
     "metadata": {},
     "output_type": "execute_result"
    }
   ],
   "source": [
    "type(courses)"
   ]
  },
  {
   "cell_type": "code",
   "execution_count": 61,
   "id": "9342d80d",
   "metadata": {},
   "outputs": [
    {
     "data": {
      "text/plain": [
       "'python\\n'"
      ]
     },
     "execution_count": 61,
     "metadata": {},
     "output_type": "execute_result"
    }
   ],
   "source": [
    "courses[0]"
   ]
  },
  {
   "cell_type": "code",
   "execution_count": 62,
   "id": "c81afb0e",
   "metadata": {},
   "outputs": [
    {
     "data": {
      "text/plain": [
       "'github'"
      ]
     },
     "execution_count": 62,
     "metadata": {},
     "output_type": "execute_result"
    }
   ],
   "source": [
    "courses[-1]"
   ]
  },
  {
   "cell_type": "code",
   "execution_count": 63,
   "id": "5f577ba9",
   "metadata": {},
   "outputs": [
    {
     "data": {
      "text/plain": [
       "['postgresql\\n', 'git\\n', 'github']"
      ]
     },
     "execution_count": 63,
     "metadata": {},
     "output_type": "execute_result"
    }
   ],
   "source": [
    "courses[-3:]"
   ]
  },
  {
   "cell_type": "code",
   "execution_count": 64,
   "id": "2c286f28",
   "metadata": {},
   "outputs": [
    {
     "data": {
      "text/plain": [
       "['python\\n',\n",
       " 'django\\n',\n",
       " 'reactjs\\n',\n",
       " 'nodejs\\n',\n",
       " 'html\\n',\n",
       " 'css\\n',\n",
       " 'mongodb\\n',\n",
       " 'aws\\n',\n",
       " 'postgresql\\n',\n",
       " 'git\\n',\n",
       " 'github']"
      ]
     },
     "execution_count": 64,
     "metadata": {},
     "output_type": "execute_result"
    }
   ],
   "source": [
    "courses[:]"
   ]
  },
  {
   "cell_type": "code",
   "execution_count": null,
   "id": "e3620f15",
   "metadata": {},
   "outputs": [],
   "source": [
    "#reading file data with for loop"
   ]
  },
  {
   "cell_type": "code",
   "execution_count": 65,
   "id": "80f68c2f",
   "metadata": {},
   "outputs": [
    {
     "data": {
      "text/plain": [
       "'D:/pfiles/courses.txt'"
      ]
     },
     "execution_count": 65,
     "metadata": {},
     "output_type": "execute_result"
    }
   ],
   "source": [
    "fname"
   ]
  },
  {
   "cell_type": "code",
   "execution_count": 66,
   "id": "d7ff92eb",
   "metadata": {},
   "outputs": [],
   "source": [
    "fobj = open(fname)"
   ]
  },
  {
   "cell_type": "code",
   "execution_count": 67,
   "id": "6c83a2fd",
   "metadata": {},
   "outputs": [
    {
     "name": "stdout",
     "output_type": "stream",
     "text": [
      "python\n",
      "\n",
      "django\n",
      "\n",
      "reactjs\n",
      "\n",
      "nodejs\n",
      "\n",
      "html\n",
      "\n",
      "css\n",
      "\n",
      "mongodb\n",
      "\n",
      "aws\n",
      "\n",
      "postgresql\n",
      "\n",
      "git\n",
      "\n",
      "github\n"
     ]
    }
   ],
   "source": [
    "for course in fobj:\n",
    "    print(course)"
   ]
  },
  {
   "cell_type": "code",
   "execution_count": 68,
   "id": "d5c0be4e",
   "metadata": {},
   "outputs": [],
   "source": [
    "for course in fobj:\n",
    "    print(course)"
   ]
  },
  {
   "cell_type": "code",
   "execution_count": 70,
   "id": "8cfec0c8",
   "metadata": {},
   "outputs": [
    {
     "name": "stdout",
     "output_type": "stream",
     "text": [
      "python\n",
      "\n",
      "django\n",
      "\n",
      "reactjs\n",
      "\n",
      "nodejs\n",
      "\n",
      "html\n",
      "\n",
      "css\n",
      "\n",
      "mongodb\n",
      "\n",
      "aws\n",
      "\n",
      "postgresql\n",
      "\n",
      "git\n",
      "\n",
      "github\n"
     ]
    }
   ],
   "source": [
    "for course in open(fname):\n",
    "    print(course)"
   ]
  },
  {
   "cell_type": "code",
   "execution_count": 4,
   "id": "1611a507",
   "metadata": {},
   "outputs": [],
   "source": [
    "fname = 'D:/pfiles/students.txt'"
   ]
  },
  {
   "cell_type": "code",
   "execution_count": 74,
   "id": "b03970f8",
   "metadata": {},
   "outputs": [
    {
     "name": "stdout",
     "output_type": "stream",
     "text": [
      "101,kumar,python,5000\n",
      "\n",
      "102,varma,django,12000\n",
      "\n",
      "103,kiran,javascript,4000\n",
      "\n",
      "104,abdi,python,4000\n"
     ]
    }
   ],
   "source": [
    "for i in open(fname):\n",
    "    print(i)"
   ]
  },
  {
   "cell_type": "code",
   "execution_count": 75,
   "id": "c9910565",
   "metadata": {},
   "outputs": [
    {
     "data": {
      "text/plain": [
       "True"
      ]
     },
     "execution_count": 75,
     "metadata": {},
     "output_type": "execute_result"
    }
   ],
   "source": [
    "\"python\" in \"101,ravi,python,8000\""
   ]
  },
  {
   "cell_type": "code",
   "execution_count": 76,
   "id": "d3303fe8",
   "metadata": {},
   "outputs": [
    {
     "data": {
      "text/plain": [
       "'D:/pfiles/students.txt'"
      ]
     },
     "execution_count": 76,
     "metadata": {},
     "output_type": "execute_result"
    }
   ],
   "source": [
    "fname"
   ]
  },
  {
   "cell_type": "code",
   "execution_count": 78,
   "id": "59b406cb",
   "metadata": {},
   "outputs": [
    {
     "name": "stdout",
     "output_type": "stream",
     "text": [
      "Enter Course Name = python\n",
      "101,kumar,python,5000\n",
      "\n",
      "104,abdi,python,4000\n",
      "\n"
     ]
    }
   ],
   "source": [
    "#display students information who joined for python\n",
    "course = input(\"Enter Course Name = \") #python\n",
    "fobj = open(fname)\n",
    "for i in fobj:\n",
    "    if course in i:\n",
    "        print(i)"
   ]
  },
  {
   "cell_type": "code",
   "execution_count": 2,
   "id": "f597902b",
   "metadata": {},
   "outputs": [],
   "source": [
    "import re"
   ]
  },
  {
   "cell_type": "code",
   "execution_count": 5,
   "id": "749eef66",
   "metadata": {},
   "outputs": [
    {
     "name": "stdout",
     "output_type": "stream",
     "text": [
      "Enter Course Name = python\n",
      "101,kumar,python,5000\n",
      "\n",
      "104,abdi,python,4000\n",
      "\n",
      "105,ramu,PYTHON,5000\n",
      "\n"
     ]
    }
   ],
   "source": [
    "#display students information who joined for python\n",
    "course = input(\"Enter Course Name = \") #python\n",
    "fobj = open(fname)\n",
    "for i in fobj:\n",
    "    if re.search(course,i,re.I):\n",
    "        print(i)"
   ]
  },
  {
   "cell_type": "code",
   "execution_count": 87,
   "id": "1a619337",
   "metadata": {},
   "outputs": [
    {
     "ename": "error",
     "evalue": "multiple repeat at position 2",
     "output_type": "error",
     "traceback": [
      "\u001b[1;31m---------------------------------------------------------------------------\u001b[0m",
      "\u001b[1;31merror\u001b[0m                                     Traceback (most recent call last)",
      "\u001b[1;32m~\\AppData\\Local\\Temp\\ipykernel_15908\\3916972335.py\u001b[0m in \u001b[0;36m<module>\u001b[1;34m\u001b[0m\n\u001b[1;32m----> 1\u001b[1;33m \u001b[0mre\u001b[0m\u001b[1;33m.\u001b[0m\u001b[0msearch\u001b[0m\u001b[1;33m(\u001b[0m\u001b[1;34m'c++'\u001b[0m\u001b[1;33m,\u001b[0m\u001b[1;34m'cccccc'\u001b[0m\u001b[1;33m)\u001b[0m\u001b[1;33m\u001b[0m\u001b[1;33m\u001b[0m\u001b[0m\n\u001b[0m",
      "\u001b[1;32m~\\anaconda3\\lib\\re.py\u001b[0m in \u001b[0;36msearch\u001b[1;34m(pattern, string, flags)\u001b[0m\n\u001b[0;32m    199\u001b[0m     \"\"\"Scan through string looking for a match to the pattern, returning\n\u001b[0;32m    200\u001b[0m     a Match object, or None if no match was found.\"\"\"\n\u001b[1;32m--> 201\u001b[1;33m     \u001b[1;32mreturn\u001b[0m \u001b[0m_compile\u001b[0m\u001b[1;33m(\u001b[0m\u001b[0mpattern\u001b[0m\u001b[1;33m,\u001b[0m \u001b[0mflags\u001b[0m\u001b[1;33m)\u001b[0m\u001b[1;33m.\u001b[0m\u001b[0msearch\u001b[0m\u001b[1;33m(\u001b[0m\u001b[0mstring\u001b[0m\u001b[1;33m)\u001b[0m\u001b[1;33m\u001b[0m\u001b[1;33m\u001b[0m\u001b[0m\n\u001b[0m\u001b[0;32m    202\u001b[0m \u001b[1;33m\u001b[0m\u001b[0m\n\u001b[0;32m    203\u001b[0m \u001b[1;32mdef\u001b[0m \u001b[0msub\u001b[0m\u001b[1;33m(\u001b[0m\u001b[0mpattern\u001b[0m\u001b[1;33m,\u001b[0m \u001b[0mrepl\u001b[0m\u001b[1;33m,\u001b[0m \u001b[0mstring\u001b[0m\u001b[1;33m,\u001b[0m \u001b[0mcount\u001b[0m\u001b[1;33m=\u001b[0m\u001b[1;36m0\u001b[0m\u001b[1;33m,\u001b[0m \u001b[0mflags\u001b[0m\u001b[1;33m=\u001b[0m\u001b[1;36m0\u001b[0m\u001b[1;33m)\u001b[0m\u001b[1;33m:\u001b[0m\u001b[1;33m\u001b[0m\u001b[1;33m\u001b[0m\u001b[0m\n",
      "\u001b[1;32m~\\anaconda3\\lib\\re.py\u001b[0m in \u001b[0;36m_compile\u001b[1;34m(pattern, flags)\u001b[0m\n\u001b[0;32m    302\u001b[0m     \u001b[1;32mif\u001b[0m \u001b[1;32mnot\u001b[0m \u001b[0msre_compile\u001b[0m\u001b[1;33m.\u001b[0m\u001b[0misstring\u001b[0m\u001b[1;33m(\u001b[0m\u001b[0mpattern\u001b[0m\u001b[1;33m)\u001b[0m\u001b[1;33m:\u001b[0m\u001b[1;33m\u001b[0m\u001b[1;33m\u001b[0m\u001b[0m\n\u001b[0;32m    303\u001b[0m         \u001b[1;32mraise\u001b[0m \u001b[0mTypeError\u001b[0m\u001b[1;33m(\u001b[0m\u001b[1;34m\"first argument must be string or compiled pattern\"\u001b[0m\u001b[1;33m)\u001b[0m\u001b[1;33m\u001b[0m\u001b[1;33m\u001b[0m\u001b[0m\n\u001b[1;32m--> 304\u001b[1;33m     \u001b[0mp\u001b[0m \u001b[1;33m=\u001b[0m \u001b[0msre_compile\u001b[0m\u001b[1;33m.\u001b[0m\u001b[0mcompile\u001b[0m\u001b[1;33m(\u001b[0m\u001b[0mpattern\u001b[0m\u001b[1;33m,\u001b[0m \u001b[0mflags\u001b[0m\u001b[1;33m)\u001b[0m\u001b[1;33m\u001b[0m\u001b[1;33m\u001b[0m\u001b[0m\n\u001b[0m\u001b[0;32m    305\u001b[0m     \u001b[1;32mif\u001b[0m \u001b[1;32mnot\u001b[0m \u001b[1;33m(\u001b[0m\u001b[0mflags\u001b[0m \u001b[1;33m&\u001b[0m \u001b[0mDEBUG\u001b[0m\u001b[1;33m)\u001b[0m\u001b[1;33m:\u001b[0m\u001b[1;33m\u001b[0m\u001b[1;33m\u001b[0m\u001b[0m\n\u001b[0;32m    306\u001b[0m         \u001b[1;32mif\u001b[0m \u001b[0mlen\u001b[0m\u001b[1;33m(\u001b[0m\u001b[0m_cache\u001b[0m\u001b[1;33m)\u001b[0m \u001b[1;33m>=\u001b[0m \u001b[0m_MAXCACHE\u001b[0m\u001b[1;33m:\u001b[0m\u001b[1;33m\u001b[0m\u001b[1;33m\u001b[0m\u001b[0m\n",
      "\u001b[1;32m~\\anaconda3\\lib\\sre_compile.py\u001b[0m in \u001b[0;36mcompile\u001b[1;34m(p, flags)\u001b[0m\n\u001b[0;32m    786\u001b[0m     \u001b[1;32mif\u001b[0m \u001b[0misstring\u001b[0m\u001b[1;33m(\u001b[0m\u001b[0mp\u001b[0m\u001b[1;33m)\u001b[0m\u001b[1;33m:\u001b[0m\u001b[1;33m\u001b[0m\u001b[1;33m\u001b[0m\u001b[0m\n\u001b[0;32m    787\u001b[0m         \u001b[0mpattern\u001b[0m \u001b[1;33m=\u001b[0m \u001b[0mp\u001b[0m\u001b[1;33m\u001b[0m\u001b[1;33m\u001b[0m\u001b[0m\n\u001b[1;32m--> 788\u001b[1;33m         \u001b[0mp\u001b[0m \u001b[1;33m=\u001b[0m \u001b[0msre_parse\u001b[0m\u001b[1;33m.\u001b[0m\u001b[0mparse\u001b[0m\u001b[1;33m(\u001b[0m\u001b[0mp\u001b[0m\u001b[1;33m,\u001b[0m \u001b[0mflags\u001b[0m\u001b[1;33m)\u001b[0m\u001b[1;33m\u001b[0m\u001b[1;33m\u001b[0m\u001b[0m\n\u001b[0m\u001b[0;32m    789\u001b[0m     \u001b[1;32melse\u001b[0m\u001b[1;33m:\u001b[0m\u001b[1;33m\u001b[0m\u001b[1;33m\u001b[0m\u001b[0m\n\u001b[0;32m    790\u001b[0m         \u001b[0mpattern\u001b[0m \u001b[1;33m=\u001b[0m \u001b[1;32mNone\u001b[0m\u001b[1;33m\u001b[0m\u001b[1;33m\u001b[0m\u001b[0m\n",
      "\u001b[1;32m~\\anaconda3\\lib\\sre_parse.py\u001b[0m in \u001b[0;36mparse\u001b[1;34m(str, flags, state)\u001b[0m\n\u001b[0;32m    953\u001b[0m \u001b[1;33m\u001b[0m\u001b[0m\n\u001b[0;32m    954\u001b[0m     \u001b[1;32mtry\u001b[0m\u001b[1;33m:\u001b[0m\u001b[1;33m\u001b[0m\u001b[1;33m\u001b[0m\u001b[0m\n\u001b[1;32m--> 955\u001b[1;33m         \u001b[0mp\u001b[0m \u001b[1;33m=\u001b[0m \u001b[0m_parse_sub\u001b[0m\u001b[1;33m(\u001b[0m\u001b[0msource\u001b[0m\u001b[1;33m,\u001b[0m \u001b[0mstate\u001b[0m\u001b[1;33m,\u001b[0m \u001b[0mflags\u001b[0m \u001b[1;33m&\u001b[0m \u001b[0mSRE_FLAG_VERBOSE\u001b[0m\u001b[1;33m,\u001b[0m \u001b[1;36m0\u001b[0m\u001b[1;33m)\u001b[0m\u001b[1;33m\u001b[0m\u001b[1;33m\u001b[0m\u001b[0m\n\u001b[0m\u001b[0;32m    956\u001b[0m     \u001b[1;32mexcept\u001b[0m \u001b[0mVerbose\u001b[0m\u001b[1;33m:\u001b[0m\u001b[1;33m\u001b[0m\u001b[1;33m\u001b[0m\u001b[0m\n\u001b[0;32m    957\u001b[0m         \u001b[1;31m# the VERBOSE flag was switched on inside the pattern.  to be\u001b[0m\u001b[1;33m\u001b[0m\u001b[1;33m\u001b[0m\u001b[0m\n",
      "\u001b[1;32m~\\anaconda3\\lib\\sre_parse.py\u001b[0m in \u001b[0;36m_parse_sub\u001b[1;34m(source, state, verbose, nested)\u001b[0m\n\u001b[0;32m    442\u001b[0m     \u001b[0mstart\u001b[0m \u001b[1;33m=\u001b[0m \u001b[0msource\u001b[0m\u001b[1;33m.\u001b[0m\u001b[0mtell\u001b[0m\u001b[1;33m(\u001b[0m\u001b[1;33m)\u001b[0m\u001b[1;33m\u001b[0m\u001b[1;33m\u001b[0m\u001b[0m\n\u001b[0;32m    443\u001b[0m     \u001b[1;32mwhile\u001b[0m \u001b[1;32mTrue\u001b[0m\u001b[1;33m:\u001b[0m\u001b[1;33m\u001b[0m\u001b[1;33m\u001b[0m\u001b[0m\n\u001b[1;32m--> 444\u001b[1;33m         itemsappend(_parse(source, state, verbose, nested + 1,\n\u001b[0m\u001b[0;32m    445\u001b[0m                            not nested and not items))\n\u001b[0;32m    446\u001b[0m         \u001b[1;32mif\u001b[0m \u001b[1;32mnot\u001b[0m \u001b[0msourcematch\u001b[0m\u001b[1;33m(\u001b[0m\u001b[1;34m\"|\"\u001b[0m\u001b[1;33m)\u001b[0m\u001b[1;33m:\u001b[0m\u001b[1;33m\u001b[0m\u001b[1;33m\u001b[0m\u001b[0m\n",
      "\u001b[1;32m~\\anaconda3\\lib\\sre_parse.py\u001b[0m in \u001b[0;36m_parse\u001b[1;34m(source, state, verbose, nested, first)\u001b[0m\n\u001b[0;32m    670\u001b[0m                                    source.tell() - here + len(this))\n\u001b[0;32m    671\u001b[0m             \u001b[1;32mif\u001b[0m \u001b[0mitem\u001b[0m\u001b[1;33m[\u001b[0m\u001b[1;36m0\u001b[0m\u001b[1;33m]\u001b[0m\u001b[1;33m[\u001b[0m\u001b[1;36m0\u001b[0m\u001b[1;33m]\u001b[0m \u001b[1;32min\u001b[0m \u001b[0m_REPEATCODES\u001b[0m\u001b[1;33m:\u001b[0m\u001b[1;33m\u001b[0m\u001b[1;33m\u001b[0m\u001b[0m\n\u001b[1;32m--> 672\u001b[1;33m                 raise source.error(\"multiple repeat\",\n\u001b[0m\u001b[0;32m    673\u001b[0m                                    source.tell() - here + len(this))\n\u001b[0;32m    674\u001b[0m             \u001b[1;32mif\u001b[0m \u001b[0mitem\u001b[0m\u001b[1;33m[\u001b[0m\u001b[1;36m0\u001b[0m\u001b[1;33m]\u001b[0m\u001b[1;33m[\u001b[0m\u001b[1;36m0\u001b[0m\u001b[1;33m]\u001b[0m \u001b[1;32mis\u001b[0m \u001b[0mSUBPATTERN\u001b[0m\u001b[1;33m:\u001b[0m\u001b[1;33m\u001b[0m\u001b[1;33m\u001b[0m\u001b[0m\n",
      "\u001b[1;31merror\u001b[0m: multiple repeat at position 2"
     ]
    }
   ],
   "source": [
    "re.search('c++','cccccc')"
   ]
  },
  {
   "cell_type": "code",
   "execution_count": null,
   "id": "3d9079b6",
   "metadata": {},
   "outputs": [],
   "source": []
  },
  {
   "cell_type": "code",
   "execution_count": 7,
   "id": "b8bfb60c",
   "metadata": {},
   "outputs": [
    {
     "name": "stdout",
     "output_type": "stream",
     "text": [
      "Enter Course Name = c++\n"
     ]
    },
    {
     "ename": "error",
     "evalue": "multiple repeat at position 2",
     "output_type": "error",
     "traceback": [
      "\u001b[1;31m---------------------------------------------------------------------------\u001b[0m",
      "\u001b[1;31merror\u001b[0m                                     Traceback (most recent call last)",
      "\u001b[1;32m~\\AppData\\Local\\Temp\\ipykernel_14936\\2473582583.py\u001b[0m in \u001b[0;36m<module>\u001b[1;34m\u001b[0m\n\u001b[0;32m      3\u001b[0m \u001b[0mfobj\u001b[0m \u001b[1;33m=\u001b[0m \u001b[0mopen\u001b[0m\u001b[1;33m(\u001b[0m\u001b[0mfname\u001b[0m\u001b[1;33m)\u001b[0m\u001b[1;33m\u001b[0m\u001b[1;33m\u001b[0m\u001b[0m\n\u001b[0;32m      4\u001b[0m \u001b[1;32mfor\u001b[0m \u001b[0mi\u001b[0m \u001b[1;32min\u001b[0m \u001b[0mfobj\u001b[0m\u001b[1;33m:\u001b[0m\u001b[1;33m\u001b[0m\u001b[1;33m\u001b[0m\u001b[0m\n\u001b[1;32m----> 5\u001b[1;33m     \u001b[1;32mif\u001b[0m \u001b[0mre\u001b[0m\u001b[1;33m.\u001b[0m\u001b[0msearch\u001b[0m\u001b[1;33m(\u001b[0m\u001b[0mcourse\u001b[0m\u001b[1;33m,\u001b[0m\u001b[0mi\u001b[0m\u001b[1;33m,\u001b[0m\u001b[0mre\u001b[0m\u001b[1;33m.\u001b[0m\u001b[0mI\u001b[0m\u001b[1;33m)\u001b[0m\u001b[1;33m:\u001b[0m\u001b[1;33m\u001b[0m\u001b[1;33m\u001b[0m\u001b[0m\n\u001b[0m\u001b[0;32m      6\u001b[0m         \u001b[0mprint\u001b[0m\u001b[1;33m(\u001b[0m\u001b[0mi\u001b[0m\u001b[1;33m)\u001b[0m\u001b[1;33m\u001b[0m\u001b[1;33m\u001b[0m\u001b[0m\n",
      "\u001b[1;32m~\\anaconda3\\lib\\re.py\u001b[0m in \u001b[0;36msearch\u001b[1;34m(pattern, string, flags)\u001b[0m\n\u001b[0;32m    199\u001b[0m     \"\"\"Scan through string looking for a match to the pattern, returning\n\u001b[0;32m    200\u001b[0m     a Match object, or None if no match was found.\"\"\"\n\u001b[1;32m--> 201\u001b[1;33m     \u001b[1;32mreturn\u001b[0m \u001b[0m_compile\u001b[0m\u001b[1;33m(\u001b[0m\u001b[0mpattern\u001b[0m\u001b[1;33m,\u001b[0m \u001b[0mflags\u001b[0m\u001b[1;33m)\u001b[0m\u001b[1;33m.\u001b[0m\u001b[0msearch\u001b[0m\u001b[1;33m(\u001b[0m\u001b[0mstring\u001b[0m\u001b[1;33m)\u001b[0m\u001b[1;33m\u001b[0m\u001b[1;33m\u001b[0m\u001b[0m\n\u001b[0m\u001b[0;32m    202\u001b[0m \u001b[1;33m\u001b[0m\u001b[0m\n\u001b[0;32m    203\u001b[0m \u001b[1;32mdef\u001b[0m \u001b[0msub\u001b[0m\u001b[1;33m(\u001b[0m\u001b[0mpattern\u001b[0m\u001b[1;33m,\u001b[0m \u001b[0mrepl\u001b[0m\u001b[1;33m,\u001b[0m \u001b[0mstring\u001b[0m\u001b[1;33m,\u001b[0m \u001b[0mcount\u001b[0m\u001b[1;33m=\u001b[0m\u001b[1;36m0\u001b[0m\u001b[1;33m,\u001b[0m \u001b[0mflags\u001b[0m\u001b[1;33m=\u001b[0m\u001b[1;36m0\u001b[0m\u001b[1;33m)\u001b[0m\u001b[1;33m:\u001b[0m\u001b[1;33m\u001b[0m\u001b[1;33m\u001b[0m\u001b[0m\n",
      "\u001b[1;32m~\\anaconda3\\lib\\re.py\u001b[0m in \u001b[0;36m_compile\u001b[1;34m(pattern, flags)\u001b[0m\n\u001b[0;32m    302\u001b[0m     \u001b[1;32mif\u001b[0m \u001b[1;32mnot\u001b[0m \u001b[0msre_compile\u001b[0m\u001b[1;33m.\u001b[0m\u001b[0misstring\u001b[0m\u001b[1;33m(\u001b[0m\u001b[0mpattern\u001b[0m\u001b[1;33m)\u001b[0m\u001b[1;33m:\u001b[0m\u001b[1;33m\u001b[0m\u001b[1;33m\u001b[0m\u001b[0m\n\u001b[0;32m    303\u001b[0m         \u001b[1;32mraise\u001b[0m \u001b[0mTypeError\u001b[0m\u001b[1;33m(\u001b[0m\u001b[1;34m\"first argument must be string or compiled pattern\"\u001b[0m\u001b[1;33m)\u001b[0m\u001b[1;33m\u001b[0m\u001b[1;33m\u001b[0m\u001b[0m\n\u001b[1;32m--> 304\u001b[1;33m     \u001b[0mp\u001b[0m \u001b[1;33m=\u001b[0m \u001b[0msre_compile\u001b[0m\u001b[1;33m.\u001b[0m\u001b[0mcompile\u001b[0m\u001b[1;33m(\u001b[0m\u001b[0mpattern\u001b[0m\u001b[1;33m,\u001b[0m \u001b[0mflags\u001b[0m\u001b[1;33m)\u001b[0m\u001b[1;33m\u001b[0m\u001b[1;33m\u001b[0m\u001b[0m\n\u001b[0m\u001b[0;32m    305\u001b[0m     \u001b[1;32mif\u001b[0m \u001b[1;32mnot\u001b[0m \u001b[1;33m(\u001b[0m\u001b[0mflags\u001b[0m \u001b[1;33m&\u001b[0m \u001b[0mDEBUG\u001b[0m\u001b[1;33m)\u001b[0m\u001b[1;33m:\u001b[0m\u001b[1;33m\u001b[0m\u001b[1;33m\u001b[0m\u001b[0m\n\u001b[0;32m    306\u001b[0m         \u001b[1;32mif\u001b[0m \u001b[0mlen\u001b[0m\u001b[1;33m(\u001b[0m\u001b[0m_cache\u001b[0m\u001b[1;33m)\u001b[0m \u001b[1;33m>=\u001b[0m \u001b[0m_MAXCACHE\u001b[0m\u001b[1;33m:\u001b[0m\u001b[1;33m\u001b[0m\u001b[1;33m\u001b[0m\u001b[0m\n",
      "\u001b[1;32m~\\anaconda3\\lib\\sre_compile.py\u001b[0m in \u001b[0;36mcompile\u001b[1;34m(p, flags)\u001b[0m\n\u001b[0;32m    786\u001b[0m     \u001b[1;32mif\u001b[0m \u001b[0misstring\u001b[0m\u001b[1;33m(\u001b[0m\u001b[0mp\u001b[0m\u001b[1;33m)\u001b[0m\u001b[1;33m:\u001b[0m\u001b[1;33m\u001b[0m\u001b[1;33m\u001b[0m\u001b[0m\n\u001b[0;32m    787\u001b[0m         \u001b[0mpattern\u001b[0m \u001b[1;33m=\u001b[0m \u001b[0mp\u001b[0m\u001b[1;33m\u001b[0m\u001b[1;33m\u001b[0m\u001b[0m\n\u001b[1;32m--> 788\u001b[1;33m         \u001b[0mp\u001b[0m \u001b[1;33m=\u001b[0m \u001b[0msre_parse\u001b[0m\u001b[1;33m.\u001b[0m\u001b[0mparse\u001b[0m\u001b[1;33m(\u001b[0m\u001b[0mp\u001b[0m\u001b[1;33m,\u001b[0m \u001b[0mflags\u001b[0m\u001b[1;33m)\u001b[0m\u001b[1;33m\u001b[0m\u001b[1;33m\u001b[0m\u001b[0m\n\u001b[0m\u001b[0;32m    789\u001b[0m     \u001b[1;32melse\u001b[0m\u001b[1;33m:\u001b[0m\u001b[1;33m\u001b[0m\u001b[1;33m\u001b[0m\u001b[0m\n\u001b[0;32m    790\u001b[0m         \u001b[0mpattern\u001b[0m \u001b[1;33m=\u001b[0m \u001b[1;32mNone\u001b[0m\u001b[1;33m\u001b[0m\u001b[1;33m\u001b[0m\u001b[0m\n",
      "\u001b[1;32m~\\anaconda3\\lib\\sre_parse.py\u001b[0m in \u001b[0;36mparse\u001b[1;34m(str, flags, state)\u001b[0m\n\u001b[0;32m    953\u001b[0m \u001b[1;33m\u001b[0m\u001b[0m\n\u001b[0;32m    954\u001b[0m     \u001b[1;32mtry\u001b[0m\u001b[1;33m:\u001b[0m\u001b[1;33m\u001b[0m\u001b[1;33m\u001b[0m\u001b[0m\n\u001b[1;32m--> 955\u001b[1;33m         \u001b[0mp\u001b[0m \u001b[1;33m=\u001b[0m \u001b[0m_parse_sub\u001b[0m\u001b[1;33m(\u001b[0m\u001b[0msource\u001b[0m\u001b[1;33m,\u001b[0m \u001b[0mstate\u001b[0m\u001b[1;33m,\u001b[0m \u001b[0mflags\u001b[0m \u001b[1;33m&\u001b[0m \u001b[0mSRE_FLAG_VERBOSE\u001b[0m\u001b[1;33m,\u001b[0m \u001b[1;36m0\u001b[0m\u001b[1;33m)\u001b[0m\u001b[1;33m\u001b[0m\u001b[1;33m\u001b[0m\u001b[0m\n\u001b[0m\u001b[0;32m    956\u001b[0m     \u001b[1;32mexcept\u001b[0m \u001b[0mVerbose\u001b[0m\u001b[1;33m:\u001b[0m\u001b[1;33m\u001b[0m\u001b[1;33m\u001b[0m\u001b[0m\n\u001b[0;32m    957\u001b[0m         \u001b[1;31m# the VERBOSE flag was switched on inside the pattern.  to be\u001b[0m\u001b[1;33m\u001b[0m\u001b[1;33m\u001b[0m\u001b[0m\n",
      "\u001b[1;32m~\\anaconda3\\lib\\sre_parse.py\u001b[0m in \u001b[0;36m_parse_sub\u001b[1;34m(source, state, verbose, nested)\u001b[0m\n\u001b[0;32m    442\u001b[0m     \u001b[0mstart\u001b[0m \u001b[1;33m=\u001b[0m \u001b[0msource\u001b[0m\u001b[1;33m.\u001b[0m\u001b[0mtell\u001b[0m\u001b[1;33m(\u001b[0m\u001b[1;33m)\u001b[0m\u001b[1;33m\u001b[0m\u001b[1;33m\u001b[0m\u001b[0m\n\u001b[0;32m    443\u001b[0m     \u001b[1;32mwhile\u001b[0m \u001b[1;32mTrue\u001b[0m\u001b[1;33m:\u001b[0m\u001b[1;33m\u001b[0m\u001b[1;33m\u001b[0m\u001b[0m\n\u001b[1;32m--> 444\u001b[1;33m         itemsappend(_parse(source, state, verbose, nested + 1,\n\u001b[0m\u001b[0;32m    445\u001b[0m                            not nested and not items))\n\u001b[0;32m    446\u001b[0m         \u001b[1;32mif\u001b[0m \u001b[1;32mnot\u001b[0m \u001b[0msourcematch\u001b[0m\u001b[1;33m(\u001b[0m\u001b[1;34m\"|\"\u001b[0m\u001b[1;33m)\u001b[0m\u001b[1;33m:\u001b[0m\u001b[1;33m\u001b[0m\u001b[1;33m\u001b[0m\u001b[0m\n",
      "\u001b[1;32m~\\anaconda3\\lib\\sre_parse.py\u001b[0m in \u001b[0;36m_parse\u001b[1;34m(source, state, verbose, nested, first)\u001b[0m\n\u001b[0;32m    670\u001b[0m                                    source.tell() - here + len(this))\n\u001b[0;32m    671\u001b[0m             \u001b[1;32mif\u001b[0m \u001b[0mitem\u001b[0m\u001b[1;33m[\u001b[0m\u001b[1;36m0\u001b[0m\u001b[1;33m]\u001b[0m\u001b[1;33m[\u001b[0m\u001b[1;36m0\u001b[0m\u001b[1;33m]\u001b[0m \u001b[1;32min\u001b[0m \u001b[0m_REPEATCODES\u001b[0m\u001b[1;33m:\u001b[0m\u001b[1;33m\u001b[0m\u001b[1;33m\u001b[0m\u001b[0m\n\u001b[1;32m--> 672\u001b[1;33m                 raise source.error(\"multiple repeat\",\n\u001b[0m\u001b[0;32m    673\u001b[0m                                    source.tell() - here + len(this))\n\u001b[0;32m    674\u001b[0m             \u001b[1;32mif\u001b[0m \u001b[0mitem\u001b[0m\u001b[1;33m[\u001b[0m\u001b[1;36m0\u001b[0m\u001b[1;33m]\u001b[0m\u001b[1;33m[\u001b[0m\u001b[1;36m0\u001b[0m\u001b[1;33m]\u001b[0m \u001b[1;32mis\u001b[0m \u001b[0mSUBPATTERN\u001b[0m\u001b[1;33m:\u001b[0m\u001b[1;33m\u001b[0m\u001b[1;33m\u001b[0m\u001b[0m\n",
      "\u001b[1;31merror\u001b[0m: multiple repeat at position 2"
     ]
    }
   ],
   "source": [
    "#display students information who joined for python\n",
    "course = input(\"Enter Course Name = \") # python , c++\n",
    "fobj = open(fname)\n",
    "for i in fobj:\n",
    "    if re.search(course,i,re.I):\n",
    "        print(i)"
   ]
  },
  {
   "cell_type": "code",
   "execution_count": 8,
   "id": "9f8d27f2",
   "metadata": {},
   "outputs": [
    {
     "data": {
      "text/plain": [
       "'c\\\\+\\\\+'"
      ]
     },
     "execution_count": 8,
     "metadata": {},
     "output_type": "execute_result"
    }
   ],
   "source": [
    "re.escape('c++')"
   ]
  },
  {
   "cell_type": "code",
   "execution_count": 10,
   "id": "912530d6",
   "metadata": {},
   "outputs": [
    {
     "name": "stdout",
     "output_type": "stream",
     "text": [
      "Enter Course Name = c++\n",
      "106,ravi,c++,6000\n",
      "\n"
     ]
    }
   ],
   "source": [
    "#display students information who joined for python\n",
    "course = input(\"Enter Course Name = \") # python , c++\n",
    "fobj = open(fname)\n",
    "for i in fobj:\n",
    "    if re.search(re.escape(course),i,re.I):\n",
    "        print(i)"
   ]
  },
  {
   "cell_type": "code",
   "execution_count": 32,
   "id": "d317ecbb",
   "metadata": {},
   "outputs": [
    {
     "name": "stdout",
     "output_type": "stream",
     "text": [
      "Enter Course Name = javascript\n",
      "103,kiran,javascript,4000\n",
      "\n"
     ]
    }
   ],
   "source": [
    "#display students information who joined for javascript\n",
    "course = input(\"Enter Course Name = \") # python , c++, javascript\n",
    "fobj = open(fname)\n",
    "for i in fobj:\n",
    "    if re.search(re.escape(course),i,re.I):\n",
    "        print(i)"
   ]
  },
  {
   "cell_type": "code",
   "execution_count": 15,
   "id": "a42278d4",
   "metadata": {},
   "outputs": [
    {
     "data": {
      "text/plain": [
       "['103', 'somu', 'java script', '7000']"
      ]
     },
     "execution_count": 15,
     "metadata": {},
     "output_type": "execute_result"
    }
   ],
   "source": [
    "\"103,somu,java script,7000\".split(\",\")"
   ]
  },
  {
   "cell_type": "code",
   "execution_count": 17,
   "id": "4cff11af",
   "metadata": {},
   "outputs": [
    {
     "data": {
      "text/plain": [
       "'ja va script'"
      ]
     },
     "execution_count": 17,
     "metadata": {},
     "output_type": "execute_result"
    }
   ],
   "source": [
    "\"103,somu,ja va script,7000\".split(\",\")[2]"
   ]
  },
  {
   "cell_type": "code",
   "execution_count": 18,
   "id": "c34a0765",
   "metadata": {},
   "outputs": [
    {
     "data": {
      "text/plain": [
       "'javascript'"
      ]
     },
     "execution_count": 18,
     "metadata": {},
     "output_type": "execute_result"
    }
   ],
   "source": [
    "\"103,somu,jav a script,7000\".split(\",\")[2].replace(\" \",\"\")"
   ]
  },
  {
   "cell_type": "code",
   "execution_count": 37,
   "id": "747b097e",
   "metadata": {},
   "outputs": [],
   "source": [
    "import re"
   ]
  },
  {
   "cell_type": "code",
   "execution_count": 40,
   "id": "be0d003b",
   "metadata": {},
   "outputs": [
    {
     "data": {
      "text/plain": [
       "<re.Match object; span=(9, 13), match='java'>"
      ]
     },
     "execution_count": 40,
     "metadata": {},
     "output_type": "execute_result"
    }
   ],
   "source": [
    "re.search('java',\"103,somu,java script,7000\")"
   ]
  },
  {
   "cell_type": "code",
   "execution_count": 42,
   "id": "d119b852",
   "metadata": {},
   "outputs": [
    {
     "name": "stdout",
     "output_type": "stream",
     "text": [
      "None\n"
     ]
    }
   ],
   "source": [
    "print(re.fullmatch('java',\"103,somu,java script,7000\"))"
   ]
  },
  {
   "cell_type": "code",
   "execution_count": 44,
   "id": "29888d89",
   "metadata": {},
   "outputs": [
    {
     "data": {
      "text/plain": [
       "['103', 'somu', 'java script', '7000']"
      ]
     },
     "execution_count": 44,
     "metadata": {},
     "output_type": "execute_result"
    }
   ],
   "source": [
    "\"103,somu,java script,7000\".split(\",\")"
   ]
  },
  {
   "cell_type": "code",
   "execution_count": 45,
   "id": "ce5edf1f",
   "metadata": {},
   "outputs": [
    {
     "data": {
      "text/plain": [
       "'java script'"
      ]
     },
     "execution_count": 45,
     "metadata": {},
     "output_type": "execute_result"
    }
   ],
   "source": [
    "\"103,somu,java script,7000\".split(\",\")[2]"
   ]
  },
  {
   "cell_type": "code",
   "execution_count": 48,
   "id": "3a00aa3e",
   "metadata": {},
   "outputs": [
    {
     "name": "stdout",
     "output_type": "stream",
     "text": [
      "<re.Match object; span=(0, 4), match='java'>\n"
     ]
    }
   ],
   "source": [
    "print(re.fullmatch('java',\"103,somu,java script,7000\".split(\",\")[2].replace(\" \",\"\")))"
   ]
  },
  {
   "cell_type": "code",
   "execution_count": null,
   "id": "a16ea528",
   "metadata": {},
   "outputs": [],
   "source": []
  },
  {
   "cell_type": "code",
   "execution_count": 36,
   "id": "4dd7eaa3",
   "metadata": {},
   "outputs": [
    {
     "name": "stdout",
     "output_type": "stream",
     "text": [
      "Enter Course Name = java\n",
      "103,kiran,javascript,4000\n",
      "\n",
      "107,sujala,java script,4000\n",
      "\n",
      "109,deepu,java,11000\n"
     ]
    }
   ],
   "source": [
    "#display students information who joined for java s cri pt\n",
    "course = input(\"Enter Course Name = \") # python , c++,java script,javascript\n",
    "fobj = open(fname)\n",
    "for i in fobj:\n",
    "    if re.search(re.escape(course),i,re.I):\n",
    "        print(i)"
   ]
  },
  {
   "cell_type": "code",
   "execution_count": 21,
   "id": "a03449f9",
   "metadata": {},
   "outputs": [
    {
     "data": {
      "text/plain": [
       "['110', 'venkat', 'JAVA SCRIPT', '12000']"
      ]
     },
     "execution_count": 21,
     "metadata": {},
     "output_type": "execute_result"
    }
   ],
   "source": [
    "\"110,venkat,JAVA SCRIPT,12000\".split(\",\")"
   ]
  },
  {
   "cell_type": "code",
   "execution_count": 22,
   "id": "a42f91ba",
   "metadata": {},
   "outputs": [
    {
     "data": {
      "text/plain": [
       "'JAVA SCRIPT'"
      ]
     },
     "execution_count": 22,
     "metadata": {},
     "output_type": "execute_result"
    }
   ],
   "source": [
    "\"110,venkat,JAVA SCRIPT,12000\".split(\",\")[2]"
   ]
  },
  {
   "cell_type": "code",
   "execution_count": 23,
   "id": "3c94366d",
   "metadata": {},
   "outputs": [
    {
     "data": {
      "text/plain": [
       "'JAVASCRIPT'"
      ]
     },
     "execution_count": 23,
     "metadata": {},
     "output_type": "execute_result"
    }
   ],
   "source": [
    "\"110,venkat,JAVA SCRIPT,12000\".split(\",\")[2].replace(\" \",\"\")"
   ]
  },
  {
   "cell_type": "code",
   "execution_count": 50,
   "id": "3bba3276",
   "metadata": {},
   "outputs": [
    {
     "name": "stdout",
     "output_type": "stream",
     "text": [
      "Enter Course Name = javascript\n",
      "103,kiran,javascript,4000\n",
      "\n",
      "107,sujala,java script,4000\n",
      "\n"
     ]
    }
   ],
   "source": [
    "#display students information who joined for python\n",
    "course = input(\"Enter Course Name = \").replace(\" \",\"\") # python , c++,java script,java\n",
    "fobj = open(fname)\n",
    "for i in fobj:\n",
    "    if re.fullmatch(re.escape(course),i.split(\",\")[2].replace(\" \",\"\"),re.I):\n",
    "        print(i)"
   ]
  },
  {
   "cell_type": "code",
   "execution_count": 59,
   "id": "c162d706",
   "metadata": {},
   "outputs": [
    {
     "name": "stdout",
     "output_type": "stream",
     "text": [
      "Enter Course Name = python\n",
      "No of students joined for python = 1\n"
     ]
    }
   ],
   "source": [
    "#no of students count based on course\n",
    "cnt=0\n",
    "course = input(\"Enter Course Name = \").replace(\" \",\"\") # python , c++,java script\n",
    "fobj = open(fname)\n",
    "for i in fobj:\n",
    "    if re.fullmatch(re.escape(course),i.split(\",\")[2].replace(\" \",\"\"),re.I):\n",
    "        cnt+=1\n",
    "print(\"No of students joined for {} = {}\".format(course,cnt))"
   ]
  },
  {
   "cell_type": "code",
   "execution_count": 52,
   "id": "4fee2f7d",
   "metadata": {},
   "outputs": [
    {
     "data": {
      "text/plain": [
       "'12000'"
      ]
     },
     "execution_count": 52,
     "metadata": {},
     "output_type": "execute_result"
    }
   ],
   "source": [
    "\"110,venkat,JAVA SCRIPT,12000\".split(\",\")[3]"
   ]
  },
  {
   "cell_type": "code",
   "execution_count": 53,
   "id": "1749e213",
   "metadata": {},
   "outputs": [
    {
     "data": {
      "text/plain": [
       "12000"
      ]
     },
     "execution_count": 53,
     "metadata": {},
     "output_type": "execute_result"
    }
   ],
   "source": [
    "int(\"110,venkat,JAVA SCRIPT,12000\".split(\",\")[3])"
   ]
  },
  {
   "cell_type": "code",
   "execution_count": null,
   "id": "e5828203",
   "metadata": {},
   "outputs": [],
   "source": []
  },
  {
   "cell_type": "code",
   "execution_count": 63,
   "id": "ccf54c2d",
   "metadata": {},
   "outputs": [
    {
     "name": "stdout",
     "output_type": "stream",
     "text": [
      "Enter Course Name = python\n"
     ]
    }
   ],
   "source": [
    "#Total revenue for specific course\n",
    "rev=0\n",
    "course = input(\"Enter Course Name = \").replace(\" \",\"\") # python , c++,java script\n",
    "fobj = open(fname)\n",
    "for i in fobj:\n",
    "    if re.fullmatch(re.escape(course),i.split(\",\")[2].replace(\" \",\"\"),re.I):\n",
    "        rev+=int(i.split(\",\")[3])\n",
    "        break\n",
    "else:\n",
    "    print(\"No of students joined for {} = {}\".format(course,rev))"
   ]
  },
  {
   "cell_type": "code",
   "execution_count": 68,
   "id": "55a25f47",
   "metadata": {},
   "outputs": [
    {
     "name": "stdout",
     "output_type": "stream",
     "text": [
      "Enter Course Name = sap\n",
      "No student joined for given course sap\n"
     ]
    }
   ],
   "source": [
    "#Total count and revenue for specific course\n",
    "rev=0\n",
    "cnt=0\n",
    "course = input(\"Enter Course Name = \").replace(\" \",\"\") # python , c++,java script\n",
    "fobj = open(fname)\n",
    "for i in fobj:\n",
    "    if re.fullmatch(re.escape(course),i.split(\",\")[2].replace(\" \",\"\"),re.I):\n",
    "        cnt+=1\n",
    "        rev+=int(i.split(\",\")[3])\n",
    "if cnt==0:\n",
    "    print(\"No student joined for given course {}\".format(course))\n",
    "else:\n",
    "    print(\"No of students joined for {} = {}\".format(course,rev))"
   ]
  },
  {
   "cell_type": "code",
   "execution_count": 69,
   "id": "a07c79d0",
   "metadata": {},
   "outputs": [
    {
     "data": {
      "text/plain": [
       "False"
      ]
     },
     "execution_count": 69,
     "metadata": {},
     "output_type": "execute_result"
    }
   ],
   "source": [
    "fobj.closed"
   ]
  },
  {
   "cell_type": "code",
   "execution_count": 70,
   "id": "2d1e77c2",
   "metadata": {},
   "outputs": [
    {
     "data": {
      "text/plain": [
       "'D:/pfiles/students.txt'"
      ]
     },
     "execution_count": 70,
     "metadata": {},
     "output_type": "execute_result"
    }
   ],
   "source": [
    "fname"
   ]
  },
  {
   "cell_type": "code",
   "execution_count": 71,
   "id": "6b05c984",
   "metadata": {},
   "outputs": [
    {
     "name": "stdout",
     "output_type": "stream",
     "text": [
      "101,kumar,python,5000\n",
      "\n",
      "102,varma,django,12000\n",
      "\n",
      "103,kiran,javascript,4000\n",
      "\n",
      "104,abdi,python,4000\n",
      "\n",
      "105,ramu,PYTHON,5000\n",
      "\n",
      "106,ravi,c++,6000\n",
      "\n",
      "107,sujala,java script,4000\n",
      "\n",
      "108,vijay,django,12000\n",
      "\n",
      "109,deepu,java,11000\n"
     ]
    }
   ],
   "source": [
    "#context manager\n",
    "with open(fname) as fobj:\n",
    "    for i in fobj:\n",
    "        print(i)"
   ]
  },
  {
   "cell_type": "code",
   "execution_count": 72,
   "id": "20373905",
   "metadata": {},
   "outputs": [
    {
     "data": {
      "text/plain": [
       "True"
      ]
     },
     "execution_count": 72,
     "metadata": {},
     "output_type": "execute_result"
    }
   ],
   "source": [
    "fobj.closed"
   ]
  },
  {
   "cell_type": "code",
   "execution_count": 74,
   "id": "8db64294",
   "metadata": {},
   "outputs": [
    {
     "ename": "ValueError",
     "evalue": "I/O operation on closed file.",
     "output_type": "error",
     "traceback": [
      "\u001b[1;31m---------------------------------------------------------------------------\u001b[0m",
      "\u001b[1;31mValueError\u001b[0m                                Traceback (most recent call last)",
      "\u001b[1;32m~\\AppData\\Local\\Temp\\ipykernel_14936\\3875495213.py\u001b[0m in \u001b[0;36m<module>\u001b[1;34m\u001b[0m\n\u001b[1;32m----> 1\u001b[1;33m \u001b[0mfobj\u001b[0m\u001b[1;33m.\u001b[0m\u001b[0mread\u001b[0m\u001b[1;33m(\u001b[0m\u001b[1;33m)\u001b[0m\u001b[1;33m\u001b[0m\u001b[1;33m\u001b[0m\u001b[0m\n\u001b[0m",
      "\u001b[1;31mValueError\u001b[0m: I/O operation on closed file."
     ]
    }
   ],
   "source": [
    "fobj.read()"
   ]
  },
  {
   "cell_type": "code",
   "execution_count": 76,
   "id": "94ad97aa",
   "metadata": {},
   "outputs": [
    {
     "data": {
      "text/plain": [
       "True"
      ]
     },
     "execution_count": 76,
     "metadata": {},
     "output_type": "execute_result"
    }
   ],
   "source": [
    "not False"
   ]
  },
  {
   "cell_type": "code",
   "execution_count": 77,
   "id": "a3a3c3ad",
   "metadata": {},
   "outputs": [
    {
     "name": "stdout",
     "output_type": "stream",
     "text": [
      "Welcome\n"
     ]
    }
   ],
   "source": [
    "if not False:\n",
    "    print(\"Welcome\")"
   ]
  },
  {
   "cell_type": "code",
   "execution_count": 78,
   "id": "5c4fb2be",
   "metadata": {},
   "outputs": [],
   "source": [
    "class CourseNotFoundError(Exception):\n",
    "    pass"
   ]
  },
  {
   "cell_type": "code",
   "execution_count": 79,
   "id": "14b4d294",
   "metadata": {},
   "outputs": [],
   "source": [
    "import re"
   ]
  },
  {
   "cell_type": "code",
   "execution_count": 80,
   "id": "fad1ed0a",
   "metadata": {},
   "outputs": [
    {
     "data": {
      "text/plain": [
       "'D:/pfiles/students.txt'"
      ]
     },
     "execution_count": 80,
     "metadata": {},
     "output_type": "execute_result"
    }
   ],
   "source": [
    "fname"
   ]
  },
  {
   "cell_type": "code",
   "execution_count": 81,
   "id": "faadb320",
   "metadata": {},
   "outputs": [
    {
     "ename": "CourseNotFoundError",
     "evalue": "",
     "output_type": "error",
     "traceback": [
      "\u001b[1;31m---------------------------------------------------------------------------\u001b[0m",
      "\u001b[1;31mCourseNotFoundError\u001b[0m                       Traceback (most recent call last)",
      "\u001b[1;32m~\\AppData\\Local\\Temp\\ipykernel_14936\\3726337610.py\u001b[0m in \u001b[0;36m<module>\u001b[1;34m\u001b[0m\n\u001b[1;32m----> 1\u001b[1;33m \u001b[1;32mraise\u001b[0m \u001b[0mCourseNotFoundError\u001b[0m\u001b[1;33m\u001b[0m\u001b[1;33m\u001b[0m\u001b[0m\n\u001b[0m",
      "\u001b[1;31mCourseNotFoundError\u001b[0m: "
     ]
    }
   ],
   "source": [
    "raise CourseNotFoundError"
   ]
  },
  {
   "cell_type": "code",
   "execution_count": 82,
   "id": "4d51e5fa",
   "metadata": {},
   "outputs": [
    {
     "ename": "IndexError",
     "evalue": "",
     "output_type": "error",
     "traceback": [
      "\u001b[1;31m---------------------------------------------------------------------------\u001b[0m",
      "\u001b[1;31mIndexError\u001b[0m                                Traceback (most recent call last)",
      "\u001b[1;32m~\\AppData\\Local\\Temp\\ipykernel_14936\\3102017834.py\u001b[0m in \u001b[0;36m<module>\u001b[1;34m\u001b[0m\n\u001b[1;32m----> 1\u001b[1;33m \u001b[1;32mraise\u001b[0m \u001b[0mIndexError\u001b[0m\u001b[1;33m\u001b[0m\u001b[1;33m\u001b[0m\u001b[0m\n\u001b[0m",
      "\u001b[1;31mIndexError\u001b[0m: "
     ]
    }
   ],
   "source": [
    "raise IndexError"
   ]
  },
  {
   "cell_type": "code",
   "execution_count": 83,
   "id": "db1e742c",
   "metadata": {},
   "outputs": [
    {
     "ename": "NameError",
     "evalue": "name 'InvalidFee' is not defined",
     "output_type": "error",
     "traceback": [
      "\u001b[1;31m---------------------------------------------------------------------------\u001b[0m",
      "\u001b[1;31mNameError\u001b[0m                                 Traceback (most recent call last)",
      "\u001b[1;32m~\\AppData\\Local\\Temp\\ipykernel_14936\\3044319717.py\u001b[0m in \u001b[0;36m<module>\u001b[1;34m\u001b[0m\n\u001b[1;32m----> 1\u001b[1;33m \u001b[1;32mraise\u001b[0m \u001b[0mInvalidFee\u001b[0m\u001b[1;33m\u001b[0m\u001b[1;33m\u001b[0m\u001b[0m\n\u001b[0m",
      "\u001b[1;31mNameError\u001b[0m: name 'InvalidFee' is not defined"
     ]
    }
   ],
   "source": [
    "raise InvalidFee"
   ]
  },
  {
   "cell_type": "code",
   "execution_count": 87,
   "id": "285112b4",
   "metadata": {},
   "outputs": [
    {
     "data": {
      "text/plain": [
       "'D:/pfiles/students.txt'"
      ]
     },
     "execution_count": 87,
     "metadata": {},
     "output_type": "execute_result"
    }
   ],
   "source": [
    "fname"
   ]
  },
  {
   "cell_type": "code",
   "execution_count": 92,
   "id": "c2b8db3f",
   "metadata": {},
   "outputs": [],
   "source": [
    "fname = 'D:/pfiles/students.txt'"
   ]
  },
  {
   "cell_type": "code",
   "execution_count": 93,
   "id": "fa0b8e5d",
   "metadata": {},
   "outputs": [
    {
     "name": "stdout",
     "output_type": "stream",
     "text": [
      "Enter a course name = java\n",
      "Total Number of students 1 and Revenue for java course is 11000\n"
     ]
    }
   ],
   "source": [
    "try:\n",
    "    fobj = open(fname)\n",
    "    course = input(\"Enter a course name = \").replace(\" \",\"\")\n",
    "    for i in fobj:\n",
    "        if re.fullmatch(re.escape(course),i.split(\",\")[2].replace(\" \",\"\"),re.I):\n",
    "            break\n",
    "    else:\n",
    "        raise CourseNotFoundError\n",
    "except(FileNotFoundError):\n",
    "    print(\"Given File Name not Existed at \",fname)\n",
    "except(CourseNotFoundError):\n",
    "    print(\"Given Course {} is not existed in this file {}\".format(course,fname))\n",
    "else:\n",
    "    cnt=0\n",
    "    rev=0\n",
    "    with open(fname) as fobj:\n",
    "        for i in fobj:\n",
    "            if re.fullmatch(re.escape(course),i.split(\",\")[2].replace(\" \",\"\"),re.I):\n",
    "                cnt+=1\n",
    "                rev+=int(i.split(\",\")[3])\n",
    "    print(\"Total Number of students {} and Revenue for {} course is {}\".format(cnt,course,rev))\n",
    "finally:\n",
    "    fobj.close"
   ]
  },
  {
   "cell_type": "code",
   "execution_count": 95,
   "id": "12d53f42",
   "metadata": {},
   "outputs": [],
   "source": [
    "courses = ['python','javascript','java','django','reactjs']"
   ]
  },
  {
   "cell_type": "code",
   "execution_count": 96,
   "id": "e4116e04",
   "metadata": {},
   "outputs": [],
   "source": [
    "courses = {'python':5000,'javascript':6000,'java':10000,'django':12000}"
   ]
  },
  {
   "cell_type": "code",
   "execution_count": null,
   "id": "9aa37948",
   "metadata": {},
   "outputs": [],
   "source": [
    "#output\n",
    "summary = {'python':[3,25000],'javascript':[4,18000],'django':[0,0]}"
   ]
  },
  {
   "cell_type": "code",
   "execution_count": null,
   "id": "0b26658a",
   "metadata": {},
   "outputs": [],
   "source": [
    "#Write"
   ]
  },
  {
   "cell_type": "code",
   "execution_count": null,
   "id": "71046f7b",
   "metadata": {},
   "outputs": [],
   "source": [
    "import re"
   ]
  },
  {
   "cell_type": "code",
   "execution_count": 1,
   "id": "a0550d61",
   "metadata": {},
   "outputs": [],
   "source": [
    "fname= r'D:\\pfiles\\file2.txt'"
   ]
  },
  {
   "cell_type": "code",
   "execution_count": 2,
   "id": "9e58c056",
   "metadata": {},
   "outputs": [],
   "source": [
    "fobj1 = open(fname,'w')"
   ]
  },
  {
   "cell_type": "code",
   "execution_count": 3,
   "id": "22e0eb66",
   "metadata": {},
   "outputs": [
    {
     "data": {
      "text/plain": [
       "29"
      ]
     },
     "execution_count": 3,
     "metadata": {},
     "output_type": "execute_result"
    }
   ],
   "source": [
    "fobj1.write(\"Welcome To Python Programming\")"
   ]
  },
  {
   "cell_type": "code",
   "execution_count": 4,
   "id": "c590fe69",
   "metadata": {},
   "outputs": [],
   "source": [
    "fobj1.close()"
   ]
  },
  {
   "cell_type": "code",
   "execution_count": 5,
   "id": "0d239708",
   "metadata": {},
   "outputs": [
    {
     "data": {
      "text/plain": [
       "'D:\\\\pfiles\\\\file2.txt'"
      ]
     },
     "execution_count": 5,
     "metadata": {},
     "output_type": "execute_result"
    }
   ],
   "source": [
    "fname"
   ]
  },
  {
   "cell_type": "code",
   "execution_count": 6,
   "id": "a918725f",
   "metadata": {},
   "outputs": [],
   "source": [
    "fobj1 = open(fname,'w')\n",
    "fobj1.write(\"Welcome To Python\")\n",
    "fobj1.close()"
   ]
  },
  {
   "cell_type": "code",
   "execution_count": null,
   "id": "ee2ad078",
   "metadata": {},
   "outputs": [],
   "source": [
    "#write mode always creates new file , if file is exited it create new file old file will be replaced"
   ]
  },
  {
   "cell_type": "code",
   "execution_count": 7,
   "id": "5d2b5136",
   "metadata": {},
   "outputs": [
    {
     "data": {
      "text/plain": [
       "'D:\\\\pfiles\\\\file2.txt'"
      ]
     },
     "execution_count": 7,
     "metadata": {},
     "output_type": "execute_result"
    }
   ],
   "source": [
    "fname"
   ]
  },
  {
   "cell_type": "code",
   "execution_count": 8,
   "id": "e615f08b",
   "metadata": {},
   "outputs": [],
   "source": [
    "fobj1 = open(fname,'w')"
   ]
  },
  {
   "cell_type": "code",
   "execution_count": 9,
   "id": "0e0319c6",
   "metadata": {},
   "outputs": [
    {
     "data": {
      "text/plain": [
       "12"
      ]
     },
     "execution_count": 9,
     "metadata": {},
     "output_type": "execute_result"
    }
   ],
   "source": [
    "fobj1.write(\"Good Morning\")"
   ]
  },
  {
   "cell_type": "code",
   "execution_count": 10,
   "id": "fb1eb9cf",
   "metadata": {},
   "outputs": [],
   "source": [
    "fobj1.close()"
   ]
  },
  {
   "cell_type": "code",
   "execution_count": 11,
   "id": "1ecde24b",
   "metadata": {},
   "outputs": [],
   "source": [
    "students = ['venkat','kumar','varma','vinay','sunder']"
   ]
  },
  {
   "cell_type": "code",
   "execution_count": 13,
   "id": "87103439",
   "metadata": {},
   "outputs": [],
   "source": [
    "fname = 'D:/pfiles/file101.txt'"
   ]
  },
  {
   "cell_type": "code",
   "execution_count": null,
   "id": "49d1adcb",
   "metadata": {},
   "outputs": [],
   "source": []
  },
  {
   "cell_type": "code",
   "execution_count": 16,
   "id": "e58946c9",
   "metadata": {},
   "outputs": [],
   "source": [
    "fobj1 = open(fname,'w')\n",
    "fobj1.writelines(students)\n",
    "fobj1.close()"
   ]
  },
  {
   "cell_type": "code",
   "execution_count": 17,
   "id": "221737ce",
   "metadata": {},
   "outputs": [],
   "source": [
    "fname = 'D:/pfiles/file102.txt'"
   ]
  },
  {
   "cell_type": "code",
   "execution_count": 18,
   "id": "5c86aa9e",
   "metadata": {},
   "outputs": [],
   "source": [
    "with open(fname,'w') as fobj:\n",
    "    fobj.writelines(student + '\\n' for student in students)"
   ]
  },
  {
   "cell_type": "code",
   "execution_count": 20,
   "id": "a79eb81f",
   "metadata": {},
   "outputs": [],
   "source": [
    "#truncate\n",
    "fname = 'D:/pfiles/file102.txt'"
   ]
  },
  {
   "cell_type": "code",
   "execution_count": 21,
   "id": "d44fe5cf",
   "metadata": {},
   "outputs": [],
   "source": [
    "fobj1 = open(fname,'r+')\n",
    "fobj1.truncate()\n",
    "fobj1.close()"
   ]
  },
  {
   "cell_type": "code",
   "execution_count": 22,
   "id": "f010b9a1",
   "metadata": {},
   "outputs": [
    {
     "data": {
      "text/plain": [
       "'D:/pfiles/file102.txt'"
      ]
     },
     "execution_count": 22,
     "metadata": {},
     "output_type": "execute_result"
    }
   ],
   "source": [
    "#truncate\n",
    "fname"
   ]
  },
  {
   "cell_type": "code",
   "execution_count": 23,
   "id": "71431a62",
   "metadata": {},
   "outputs": [],
   "source": [
    "fobj1 = open(fname,'r+')\n",
    "fobj1.truncate(8)\n",
    "fobj1.close()"
   ]
  },
  {
   "cell_type": "code",
   "execution_count": 24,
   "id": "8b7207bf",
   "metadata": {},
   "outputs": [],
   "source": [
    "#append\n",
    "fname = 'D:/pfiles/students2.txt'"
   ]
  },
  {
   "cell_type": "code",
   "execution_count": 25,
   "id": "8c6fac95",
   "metadata": {},
   "outputs": [],
   "source": [
    "fobj1 = open(fname,'a')\n",
    "fobj1.write(\"\\n\"+\"110,somesh,python,5000\")\n",
    "fobj1.close()"
   ]
  },
  {
   "cell_type": "code",
   "execution_count": null,
   "id": "8df1bab8",
   "metadata": {},
   "outputs": [],
   "source": [
    "#read and write will work on existing file\n",
    "#write and read will work on new file only"
   ]
  },
  {
   "cell_type": "code",
   "execution_count": 26,
   "id": "a09312d6",
   "metadata": {},
   "outputs": [],
   "source": [
    "fname = 'D:/pfiles/file1.txt'"
   ]
  },
  {
   "cell_type": "code",
   "execution_count": 27,
   "id": "38d3cb5f",
   "metadata": {},
   "outputs": [],
   "source": [
    "fobj = open(fname,'r+')"
   ]
  },
  {
   "cell_type": "code",
   "execution_count": 28,
   "id": "676b4fdf",
   "metadata": {},
   "outputs": [
    {
     "data": {
      "text/plain": [
       "'welcome to python files\\n'"
      ]
     },
     "execution_count": 28,
     "metadata": {},
     "output_type": "execute_result"
    }
   ],
   "source": [
    "fobj.readline()"
   ]
  },
  {
   "cell_type": "code",
   "execution_count": 29,
   "id": "faed55d2",
   "metadata": {},
   "outputs": [
    {
     "data": {
      "text/plain": [
       "25"
      ]
     },
     "execution_count": 29,
     "metadata": {},
     "output_type": "execute_result"
    }
   ],
   "source": [
    "fobj.tell()"
   ]
  },
  {
   "cell_type": "code",
   "execution_count": 30,
   "id": "c30a16ff",
   "metadata": {},
   "outputs": [
    {
     "data": {
      "text/plain": [
       "7"
      ]
     },
     "execution_count": 30,
     "metadata": {},
     "output_type": "execute_result"
    }
   ],
   "source": [
    "fobj.write(\"Pyspark\")"
   ]
  },
  {
   "cell_type": "code",
   "execution_count": 31,
   "id": "1356831a",
   "metadata": {},
   "outputs": [],
   "source": [
    "fobj.close()"
   ]
  },
  {
   "cell_type": "code",
   "execution_count": 32,
   "id": "15177db4",
   "metadata": {},
   "outputs": [
    {
     "data": {
      "text/plain": [
       "'D:/pfiles/file1.txt'"
      ]
     },
     "execution_count": 32,
     "metadata": {},
     "output_type": "execute_result"
    }
   ],
   "source": [
    "#r+ without reading writing file\n",
    "fname"
   ]
  },
  {
   "cell_type": "code",
   "execution_count": 33,
   "id": "fddb5a97",
   "metadata": {},
   "outputs": [],
   "source": [
    "fobj = open(fname,'r+')"
   ]
  },
  {
   "cell_type": "code",
   "execution_count": 34,
   "id": "f92a3256",
   "metadata": {},
   "outputs": [
    {
     "data": {
      "text/plain": [
       "0"
      ]
     },
     "execution_count": 34,
     "metadata": {},
     "output_type": "execute_result"
    }
   ],
   "source": [
    "fobj.tell()"
   ]
  },
  {
   "cell_type": "code",
   "execution_count": 35,
   "id": "4f4b31c5",
   "metadata": {},
   "outputs": [
    {
     "data": {
      "text/plain": [
       "7"
      ]
     },
     "execution_count": 35,
     "metadata": {},
     "output_type": "execute_result"
    }
   ],
   "source": [
    "fobj.write(\"GraphQL\")"
   ]
  },
  {
   "cell_type": "code",
   "execution_count": 36,
   "id": "7e5e54a2",
   "metadata": {},
   "outputs": [],
   "source": [
    "fobj.close()"
   ]
  },
  {
   "cell_type": "code",
   "execution_count": null,
   "id": "edcdb2e7",
   "metadata": {},
   "outputs": [],
   "source": [
    "#r+ can not write newfile"
   ]
  },
  {
   "cell_type": "code",
   "execution_count": 37,
   "id": "88125be5",
   "metadata": {},
   "outputs": [],
   "source": [
    "fname='D:/pfiles/file111.txt'"
   ]
  },
  {
   "cell_type": "code",
   "execution_count": 38,
   "id": "88c1c0c4",
   "metadata": {},
   "outputs": [
    {
     "ename": "FileNotFoundError",
     "evalue": "[Errno 2] No such file or directory: 'D:/pfiles/file111.txt'",
     "output_type": "error",
     "traceback": [
      "\u001b[1;31m---------------------------------------------------------------------------\u001b[0m",
      "\u001b[1;31mFileNotFoundError\u001b[0m                         Traceback (most recent call last)",
      "\u001b[1;32m~\\AppData\\Local\\Temp\\ipykernel_8768\\3107029398.py\u001b[0m in \u001b[0;36m<module>\u001b[1;34m\u001b[0m\n\u001b[1;32m----> 1\u001b[1;33m \u001b[0mfobj\u001b[0m \u001b[1;33m=\u001b[0m \u001b[0mopen\u001b[0m\u001b[1;33m(\u001b[0m\u001b[0mfname\u001b[0m\u001b[1;33m,\u001b[0m\u001b[1;34m'r+'\u001b[0m\u001b[1;33m)\u001b[0m\u001b[1;33m\u001b[0m\u001b[1;33m\u001b[0m\u001b[0m\n\u001b[0m",
      "\u001b[1;31mFileNotFoundError\u001b[0m: [Errno 2] No such file or directory: 'D:/pfiles/file111.txt'"
     ]
    }
   ],
   "source": [
    "fobj = open(fname,'r+')"
   ]
  },
  {
   "cell_type": "code",
   "execution_count": null,
   "id": "2e598392",
   "metadata": {},
   "outputs": [],
   "source": [
    "#w+ write and read it will create everytime new file"
   ]
  },
  {
   "cell_type": "code",
   "execution_count": 39,
   "id": "5cc52d3d",
   "metadata": {},
   "outputs": [],
   "source": [
    "fname = 'D:/pfiles/file111.txt'"
   ]
  },
  {
   "cell_type": "code",
   "execution_count": 40,
   "id": "80d0dfe8",
   "metadata": {},
   "outputs": [],
   "source": [
    "fobj = open(fname,'w+')"
   ]
  },
  {
   "cell_type": "code",
   "execution_count": 41,
   "id": "905720b6",
   "metadata": {},
   "outputs": [
    {
     "data": {
      "text/plain": [
       "31"
      ]
     },
     "execution_count": 41,
     "metadata": {},
     "output_type": "execute_result"
    }
   ],
   "source": [
    "fobj.write(\"Welcome to Python files chapter\")"
   ]
  },
  {
   "cell_type": "code",
   "execution_count": 42,
   "id": "3b7d2652",
   "metadata": {},
   "outputs": [
    {
     "data": {
      "text/plain": [
       "31"
      ]
     },
     "execution_count": 42,
     "metadata": {},
     "output_type": "execute_result"
    }
   ],
   "source": [
    "fobj.tell()"
   ]
  },
  {
   "cell_type": "code",
   "execution_count": 43,
   "id": "d0fc4564",
   "metadata": {},
   "outputs": [
    {
     "data": {
      "text/plain": [
       "''"
      ]
     },
     "execution_count": 43,
     "metadata": {},
     "output_type": "execute_result"
    }
   ],
   "source": [
    "fobj.read()"
   ]
  },
  {
   "cell_type": "code",
   "execution_count": 44,
   "id": "260adfc8",
   "metadata": {},
   "outputs": [
    {
     "data": {
      "text/plain": [
       "0"
      ]
     },
     "execution_count": 44,
     "metadata": {},
     "output_type": "execute_result"
    }
   ],
   "source": [
    "fobj.seek(0)"
   ]
  },
  {
   "cell_type": "code",
   "execution_count": 45,
   "id": "0038f28d",
   "metadata": {},
   "outputs": [
    {
     "data": {
      "text/plain": [
       "'Welcome to Python files chapter'"
      ]
     },
     "execution_count": 45,
     "metadata": {},
     "output_type": "execute_result"
    }
   ],
   "source": [
    "fobj.read()"
   ]
  },
  {
   "cell_type": "code",
   "execution_count": 46,
   "id": "511cd011",
   "metadata": {},
   "outputs": [
    {
     "data": {
      "text/plain": [
       "31"
      ]
     },
     "execution_count": 46,
     "metadata": {},
     "output_type": "execute_result"
    }
   ],
   "source": [
    "fobj.tell()"
   ]
  },
  {
   "cell_type": "code",
   "execution_count": 47,
   "id": "17652b08",
   "metadata": {},
   "outputs": [
    {
     "data": {
      "text/plain": [
       "0"
      ]
     },
     "execution_count": 47,
     "metadata": {},
     "output_type": "execute_result"
    }
   ],
   "source": [
    "fobj.seek(0)"
   ]
  },
  {
   "cell_type": "code",
   "execution_count": 48,
   "id": "cad71ba1",
   "metadata": {},
   "outputs": [
    {
     "data": {
      "text/plain": [
       "7"
      ]
     },
     "execution_count": 48,
     "metadata": {},
     "output_type": "execute_result"
    }
   ],
   "source": [
    "fobj.write(\"Morning\")"
   ]
  },
  {
   "cell_type": "code",
   "execution_count": 49,
   "id": "4218d9a2",
   "metadata": {},
   "outputs": [],
   "source": [
    "fobj.close()"
   ]
  },
  {
   "cell_type": "code",
   "execution_count": null,
   "id": "3355471f",
   "metadata": {},
   "outputs": [],
   "source": [
    "#append: adding new lines to existing file"
   ]
  },
  {
   "cell_type": "code",
   "execution_count": null,
   "id": "b60b7aed",
   "metadata": {},
   "outputs": [],
   "source": [
    "fname = 'students.txt'"
   ]
  },
  {
   "cell_type": "code",
   "execution_count": null,
   "id": "4b0f9dd6",
   "metadata": {},
   "outputs": [],
   "source": [
    "fobj = open(fname,'a')"
   ]
  },
  {
   "cell_type": "code",
   "execution_count": null,
   "id": "b4e06cf6",
   "metadata": {},
   "outputs": [],
   "source": [
    "fobj.write('\\n112,kumar,dajngo,5000')"
   ]
  },
  {
   "cell_type": "code",
   "execution_count": null,
   "id": "2d3478a3",
   "metadata": {},
   "outputs": [],
   "source": [
    "fobj.close()"
   ]
  },
  {
   "cell_type": "code",
   "execution_count": null,
   "id": "84d0d125",
   "metadata": {},
   "outputs": [],
   "source": [
    "#in append mode we can not read the data"
   ]
  },
  {
   "cell_type": "code",
   "execution_count": 50,
   "id": "99de76d3",
   "metadata": {},
   "outputs": [
    {
     "data": {
      "text/plain": [
       "'D:/pfiles/file111.txt'"
      ]
     },
     "execution_count": 50,
     "metadata": {},
     "output_type": "execute_result"
    }
   ],
   "source": [
    "fname"
   ]
  },
  {
   "cell_type": "code",
   "execution_count": 51,
   "id": "9227ebd2",
   "metadata": {},
   "outputs": [],
   "source": [
    "fobj = open(fname,'a')"
   ]
  },
  {
   "cell_type": "code",
   "execution_count": 52,
   "id": "45b787b7",
   "metadata": {},
   "outputs": [
    {
     "ename": "UnsupportedOperation",
     "evalue": "not readable",
     "output_type": "error",
     "traceback": [
      "\u001b[1;31m---------------------------------------------------------------------------\u001b[0m",
      "\u001b[1;31mUnsupportedOperation\u001b[0m                      Traceback (most recent call last)",
      "\u001b[1;32m~\\AppData\\Local\\Temp\\ipykernel_8768\\3875495213.py\u001b[0m in \u001b[0;36m<module>\u001b[1;34m\u001b[0m\n\u001b[1;32m----> 1\u001b[1;33m \u001b[0mfobj\u001b[0m\u001b[1;33m.\u001b[0m\u001b[0mread\u001b[0m\u001b[1;33m(\u001b[0m\u001b[1;33m)\u001b[0m\u001b[1;33m\u001b[0m\u001b[1;33m\u001b[0m\u001b[0m\n\u001b[0m",
      "\u001b[1;31mUnsupportedOperation\u001b[0m: not readable"
     ]
    }
   ],
   "source": [
    "fobj.read()"
   ]
  },
  {
   "cell_type": "code",
   "execution_count": 53,
   "id": "2ac1a79e",
   "metadata": {},
   "outputs": [
    {
     "data": {
      "text/plain": [
       "False"
      ]
     },
     "execution_count": 53,
     "metadata": {},
     "output_type": "execute_result"
    }
   ],
   "source": [
    "fobj.readable()"
   ]
  },
  {
   "cell_type": "code",
   "execution_count": 54,
   "id": "cebca3f1",
   "metadata": {},
   "outputs": [
    {
     "data": {
      "text/plain": [
       "True"
      ]
     },
     "execution_count": 54,
     "metadata": {},
     "output_type": "execute_result"
    }
   ],
   "source": [
    "fobj.writable()"
   ]
  },
  {
   "cell_type": "code",
   "execution_count": 55,
   "id": "f7b53afe",
   "metadata": {},
   "outputs": [],
   "source": [
    "fobj.close()"
   ]
  },
  {
   "cell_type": "code",
   "execution_count": null,
   "id": "16527b0e",
   "metadata": {},
   "outputs": [],
   "source": [
    "#example3"
   ]
  },
  {
   "cell_type": "code",
   "execution_count": 56,
   "id": "b4e71dd4",
   "metadata": {},
   "outputs": [
    {
     "ename": "NameError",
     "evalue": "name 'UnsupportedOperation' is not defined",
     "output_type": "error",
     "traceback": [
      "\u001b[1;31m---------------------------------------------------------------------------\u001b[0m",
      "\u001b[1;31mUnsupportedOperation\u001b[0m                      Traceback (most recent call last)",
      "\u001b[1;32m~\\AppData\\Local\\Temp\\ipykernel_8768\\1274605272.py\u001b[0m in \u001b[0;36m<module>\u001b[1;34m\u001b[0m\n\u001b[0;32m      2\u001b[0m     \u001b[0mfobj\u001b[0m \u001b[1;33m=\u001b[0m \u001b[0mopen\u001b[0m\u001b[1;33m(\u001b[0m\u001b[0mfname\u001b[0m\u001b[1;33m,\u001b[0m\u001b[1;34m'a'\u001b[0m\u001b[1;33m)\u001b[0m\u001b[1;33m\u001b[0m\u001b[1;33m\u001b[0m\u001b[0m\n\u001b[1;32m----> 3\u001b[1;33m     \u001b[0mfobj\u001b[0m\u001b[1;33m.\u001b[0m\u001b[0mread\u001b[0m\u001b[1;33m(\u001b[0m\u001b[1;33m)\u001b[0m\u001b[1;33m\u001b[0m\u001b[1;33m\u001b[0m\u001b[0m\n\u001b[0m\u001b[0;32m      4\u001b[0m \u001b[1;32mexcept\u001b[0m\u001b[1;33m(\u001b[0m\u001b[0mUnsupportedOperation\u001b[0m\u001b[1;33m)\u001b[0m\u001b[1;33m:\u001b[0m\u001b[1;33m\u001b[0m\u001b[1;33m\u001b[0m\u001b[0m\n",
      "\u001b[1;31mUnsupportedOperation\u001b[0m: not readable",
      "\nDuring handling of the above exception, another exception occurred:\n",
      "\u001b[1;31mNameError\u001b[0m                                 Traceback (most recent call last)",
      "\u001b[1;32m~\\AppData\\Local\\Temp\\ipykernel_8768\\1274605272.py\u001b[0m in \u001b[0;36m<module>\u001b[1;34m\u001b[0m\n\u001b[0;32m      2\u001b[0m     \u001b[0mfobj\u001b[0m \u001b[1;33m=\u001b[0m \u001b[0mopen\u001b[0m\u001b[1;33m(\u001b[0m\u001b[0mfname\u001b[0m\u001b[1;33m,\u001b[0m\u001b[1;34m'a'\u001b[0m\u001b[1;33m)\u001b[0m\u001b[1;33m\u001b[0m\u001b[1;33m\u001b[0m\u001b[0m\n\u001b[0;32m      3\u001b[0m     \u001b[0mfobj\u001b[0m\u001b[1;33m.\u001b[0m\u001b[0mread\u001b[0m\u001b[1;33m(\u001b[0m\u001b[1;33m)\u001b[0m\u001b[1;33m\u001b[0m\u001b[1;33m\u001b[0m\u001b[0m\n\u001b[1;32m----> 4\u001b[1;33m \u001b[1;32mexcept\u001b[0m\u001b[1;33m(\u001b[0m\u001b[0mUnsupportedOperation\u001b[0m\u001b[1;33m)\u001b[0m\u001b[1;33m:\u001b[0m\u001b[1;33m\u001b[0m\u001b[1;33m\u001b[0m\u001b[0m\n\u001b[0m\u001b[0;32m      5\u001b[0m     \u001b[0mprint\u001b[0m\u001b[1;33m(\u001b[0m\u001b[1;34m\"Append Mode can Write Only\"\u001b[0m\u001b[1;33m)\u001b[0m\u001b[1;33m\u001b[0m\u001b[1;33m\u001b[0m\u001b[0m\n",
      "\u001b[1;31mNameError\u001b[0m: name 'UnsupportedOperation' is not defined"
     ]
    }
   ],
   "source": [
    "try:\n",
    "    fobj = open(fname,'a')\n",
    "    fobj.read()\n",
    "except(UnsupportedOperation):\n",
    "    print(\"Append Mode can Write Only\")"
   ]
  },
  {
   "cell_type": "code",
   "execution_count": null,
   "id": "1c730bc3",
   "metadata": {},
   "outputs": [],
   "source": [
    "#example4"
   ]
  },
  {
   "cell_type": "code",
   "execution_count": 57,
   "id": "c8bff368",
   "metadata": {},
   "outputs": [],
   "source": [
    "import builtins"
   ]
  },
  {
   "cell_type": "code",
   "execution_count": 58,
   "id": "4b7b1ba2",
   "metadata": {},
   "outputs": [
    {
     "name": "stdout",
     "output_type": "stream",
     "text": [
      "Pretty printing has been turned OFF\n"
     ]
    }
   ],
   "source": [
    "pprint"
   ]
  },
  {
   "cell_type": "code",
   "execution_count": 59,
   "id": "a1b10ca4",
   "metadata": {},
   "outputs": [
    {
     "data": {
      "text/plain": [
       "['ArithmeticError', 'AssertionError', 'AttributeError', 'BaseException', 'BlockingIOError', 'BrokenPipeError', 'BufferError', 'BytesWarning', 'ChildProcessError', 'ConnectionAbortedError', 'ConnectionError', 'ConnectionRefusedError', 'ConnectionResetError', 'DeprecationWarning', 'EOFError', 'Ellipsis', 'EnvironmentError', 'Exception', 'False', 'FileExistsError', 'FileNotFoundError', 'FloatingPointError', 'FutureWarning', 'GeneratorExit', 'IOError', 'ImportError', 'ImportWarning', 'IndentationError', 'IndexError', 'InterruptedError', 'IsADirectoryError', 'KeyError', 'KeyboardInterrupt', 'LookupError', 'MemoryError', 'ModuleNotFoundError', 'NameError', 'None', 'NotADirectoryError', 'NotImplemented', 'NotImplementedError', 'OSError', 'OverflowError', 'PendingDeprecationWarning', 'PermissionError', 'ProcessLookupError', 'RecursionError', 'ReferenceError', 'ResourceWarning', 'RuntimeError', 'RuntimeWarning', 'StopAsyncIteration', 'StopIteration', 'SyntaxError', 'SyntaxWarning', 'SystemError', 'SystemExit', 'TabError', 'TimeoutError', 'True', 'TypeError', 'UnboundLocalError', 'UnicodeDecodeError', 'UnicodeEncodeError', 'UnicodeError', 'UnicodeTranslateError', 'UnicodeWarning', 'UserWarning', 'ValueError', 'Warning', 'WindowsError', 'ZeroDivisionError', '__IPYTHON__', '__build_class__', '__debug__', '__doc__', '__import__', '__loader__', '__name__', '__package__', '__spec__', 'abs', 'all', 'any', 'ascii', 'bin', 'bool', 'breakpoint', 'bytearray', 'bytes', 'callable', 'chr', 'classmethod', 'compile', 'complex', 'copyright', 'credits', 'delattr', 'dict', 'dir', 'display', 'divmod', 'enumerate', 'eval', 'exec', 'execfile', 'filter', 'float', 'format', 'frozenset', 'get_ipython', 'getattr', 'globals', 'hasattr', 'hash', 'help', 'hex', 'id', 'input', 'int', 'isinstance', 'issubclass', 'iter', 'len', 'license', 'list', 'locals', 'map', 'max', 'memoryview', 'min', 'next', 'object', 'oct', 'open', 'ord', 'pow', 'print', 'property', 'range', 'repr', 'reversed', 'round', 'runfile', 'set', 'setattr', 'slice', 'sorted', 'staticmethod', 'str', 'sum', 'super', 'tuple', 'type', 'vars', 'zip']"
      ]
     },
     "execution_count": 59,
     "metadata": {},
     "output_type": "execute_result"
    }
   ],
   "source": [
    "dir(builtins)"
   ]
  },
  {
   "cell_type": "code",
   "execution_count": 60,
   "id": "ba156f46",
   "metadata": {},
   "outputs": [],
   "source": [
    "class UnsupportedOperation(Exception):\n",
    "    pass"
   ]
  },
  {
   "cell_type": "code",
   "execution_count": 61,
   "id": "aa39731c",
   "metadata": {},
   "outputs": [
    {
     "name": "stdout",
     "output_type": "stream",
     "text": [
      "Append mode we can not write \n"
     ]
    }
   ],
   "source": [
    "try:\n",
    "    fobj = open(fname,'a')\n",
    "    if not fobj.readable():\n",
    "        raise UnsupportedOperation\n",
    "except(FileNotFoundError):\n",
    "    print(\"Given file {} is not existed\".format(fname))\n",
    "except(UnsupportedOperation):\n",
    "    print(\"Append mode we can not write \")\n",
    "else:\n",
    "    data = fobj.read()\n",
    "    print(data)\n",
    "finally:\n",
    "    fobj.close()"
   ]
  },
  {
   "cell_type": "code",
   "execution_count": null,
   "id": "dbc55662",
   "metadata": {},
   "outputs": [],
   "source": [
    "#example5"
   ]
  },
  {
   "cell_type": "code",
   "execution_count": 62,
   "id": "a5180b1c",
   "metadata": {},
   "outputs": [],
   "source": [
    "fname='D:/pfiles/file201.txt'"
   ]
  },
  {
   "cell_type": "code",
   "execution_count": 63,
   "id": "4eddf95c",
   "metadata": {},
   "outputs": [],
   "source": [
    "fobj = open(fname,'a')"
   ]
  },
  {
   "cell_type": "code",
   "execution_count": 64,
   "id": "ce4ceedd",
   "metadata": {},
   "outputs": [],
   "source": [
    "fobj.close()"
   ]
  },
  {
   "cell_type": "code",
   "execution_count": null,
   "id": "fb3f942c",
   "metadata": {},
   "outputs": [],
   "source": [
    "#append+ => a+"
   ]
  },
  {
   "cell_type": "code",
   "execution_count": 65,
   "id": "e16daf5d",
   "metadata": {},
   "outputs": [],
   "source": [
    "fname = 'D:/pfiles/file1.txt'"
   ]
  },
  {
   "cell_type": "code",
   "execution_count": 66,
   "id": "f250e2b2",
   "metadata": {},
   "outputs": [],
   "source": [
    "fobj = open(fname,'a+')"
   ]
  },
  {
   "cell_type": "code",
   "execution_count": 67,
   "id": "df742772",
   "metadata": {},
   "outputs": [
    {
     "data": {
      "text/plain": [
       "23"
      ]
     },
     "execution_count": 67,
     "metadata": {},
     "output_type": "execute_result"
    }
   ],
   "source": [
    "fobj.write(\"Welcome to python files\")"
   ]
  },
  {
   "cell_type": "code",
   "execution_count": 68,
   "id": "215e7e55",
   "metadata": {},
   "outputs": [
    {
     "data": {
      "text/plain": [
       "''"
      ]
     },
     "execution_count": 68,
     "metadata": {},
     "output_type": "execute_result"
    }
   ],
   "source": [
    "fobj.read()"
   ]
  },
  {
   "cell_type": "code",
   "execution_count": 69,
   "id": "15ba6e2a",
   "metadata": {},
   "outputs": [
    {
     "data": {
      "text/plain": [
       "0"
      ]
     },
     "execution_count": 69,
     "metadata": {},
     "output_type": "execute_result"
    }
   ],
   "source": [
    "fobj.seek(0)"
   ]
  },
  {
   "cell_type": "code",
   "execution_count": 70,
   "id": "d635d8c1",
   "metadata": {},
   "outputs": [
    {
     "data": {
      "text/plain": [
       "'GraphQL to python files\\npython\\ndjango\\nmongodb\\nreact\\nnodejsWelcome to python files'"
      ]
     },
     "execution_count": 70,
     "metadata": {},
     "output_type": "execute_result"
    }
   ],
   "source": [
    "fobj.read()"
   ]
  },
  {
   "cell_type": "code",
   "execution_count": 71,
   "id": "043d535d",
   "metadata": {},
   "outputs": [],
   "source": [
    "fobj.close()"
   ]
  },
  {
   "cell_type": "code",
   "execution_count": null,
   "id": "3dc720d2",
   "metadata": {},
   "outputs": [],
   "source": [
    "#Handling binary data"
   ]
  },
  {
   "cell_type": "code",
   "execution_count": 74,
   "id": "65d64373",
   "metadata": {},
   "outputs": [],
   "source": [
    "fobj1 = open('D:/pfiles/sample.pdf','rb')\n",
    "fobj2 = open('D:/pfiles/sample2.pdf','wb')"
   ]
  },
  {
   "cell_type": "code",
   "execution_count": 75,
   "id": "af00ce6a",
   "metadata": {},
   "outputs": [],
   "source": [
    "pdfdata = fobj1.read()"
   ]
  },
  {
   "cell_type": "code",
   "execution_count": 76,
   "id": "0d97e0c2",
   "metadata": {},
   "outputs": [
    {
     "data": {
      "text/plain": [
       "<class 'bytes'>"
      ]
     },
     "execution_count": 76,
     "metadata": {},
     "output_type": "execute_result"
    }
   ],
   "source": [
    "type(pdfdata)"
   ]
  },
  {
   "cell_type": "code",
   "execution_count": 77,
   "id": "a4c86d34",
   "metadata": {},
   "outputs": [
    {
     "data": {
      "text/plain": [
       "88226"
      ]
     },
     "execution_count": 77,
     "metadata": {},
     "output_type": "execute_result"
    }
   ],
   "source": [
    "fobj2.write(pdfdata)"
   ]
  },
  {
   "cell_type": "code",
   "execution_count": 78,
   "id": "c4832328",
   "metadata": {},
   "outputs": [],
   "source": [
    "fobj1.close()\n",
    "fobj2.close()"
   ]
  },
  {
   "cell_type": "code",
   "execution_count": null,
   "id": "bac6e420",
   "metadata": {},
   "outputs": [],
   "source": [
    "#location1 : i have 3 images availabe in .png format file\n",
    "#location2 : i want one file of any image file with above 3 images"
   ]
  },
  {
   "cell_type": "code",
   "execution_count": null,
   "id": "554a0696",
   "metadata": {},
   "outputs": [],
   "source": [
    "fobj1 = read first file\n",
    "fobj2 = read second file\n",
    "fobj3 = read third file\n",
    "fobj4 = write fobj1 and fobj2 and fobj3 data"
   ]
  },
  {
   "cell_type": "code",
   "execution_count": null,
   "id": "6bcb2363",
   "metadata": {},
   "outputs": [],
   "source": []
  },
  {
   "cell_type": "code",
   "execution_count": null,
   "id": "51bb3e9f",
   "metadata": {},
   "outputs": [],
   "source": []
  },
  {
   "cell_type": "code",
   "execution_count": null,
   "id": "1c49ec8e",
   "metadata": {},
   "outputs": [],
   "source": []
  },
  {
   "cell_type": "code",
   "execution_count": null,
   "id": "b9520533",
   "metadata": {},
   "outputs": [],
   "source": []
  },
  {
   "cell_type": "code",
   "execution_count": null,
   "id": "7ebaca71",
   "metadata": {},
   "outputs": [],
   "source": []
  },
  {
   "cell_type": "code",
   "execution_count": null,
   "id": "e2e134ee",
   "metadata": {},
   "outputs": [],
   "source": []
  },
  {
   "cell_type": "code",
   "execution_count": null,
   "id": "b2f5d1b7",
   "metadata": {},
   "outputs": [],
   "source": []
  },
  {
   "cell_type": "code",
   "execution_count": null,
   "id": "522c679e",
   "metadata": {},
   "outputs": [],
   "source": []
  },
  {
   "cell_type": "code",
   "execution_count": null,
   "id": "4e4560c4",
   "metadata": {},
   "outputs": [],
   "source": []
  },
  {
   "cell_type": "code",
   "execution_count": null,
   "id": "71440808",
   "metadata": {},
   "outputs": [],
   "source": []
  }
 ],
 "metadata": {
  "kernelspec": {
   "display_name": "Python 3 (ipykernel)",
   "language": "python",
   "name": "python3"
  },
  "language_info": {
   "codemirror_mode": {
    "name": "ipython",
    "version": 3
   },
   "file_extension": ".py",
   "mimetype": "text/x-python",
   "name": "python",
   "nbconvert_exporter": "python",
   "pygments_lexer": "ipython3",
   "version": "3.9.13"
  }
 },
 "nbformat": 4,
 "nbformat_minor": 5
}
