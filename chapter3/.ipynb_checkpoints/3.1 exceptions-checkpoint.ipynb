{
 "cells": [
  {
   "cell_type": "raw",
   "id": "50e2a3c7",
   "metadata": {},
   "source": [
    "#exceptions are handling errors\n",
    "#there are two types of errors\n",
    "#1 syntax error\n",
    "#2 run time errors\n",
    "#here we handle runtime errors\n",
    "#run time errors means programme executing daily but it failed one day\n",
    "#try....except....else....finally\n",
    "#try : Block should contain error code \n",
    "#except : this block will execute when there is error which is mentioned in exception block\n",
    "#else: this block will execute when there is no error\n",
    "#finally: this block always executes\n",
    "#case1 : error is existed\n",
    "#case2 : no error\n",
    "#case3 : error existed but not handle by except block(because error not mentioned)"
   ]
  },
  {
   "cell_type": "raw",
   "id": "b60f602e",
   "metadata": {},
   "source": [
    "syntax\n",
    "try:\n",
    "    error code\n",
    "except(er1,er2,.....,ern):\n",
    "    exception code\n",
    "else:\n",
    "    code will execute if there is no error\n",
    "finally:\n",
    "    code will execute always"
   ]
  },
  {
   "cell_type": "raw",
   "id": "3620c1d9",
   "metadata": {},
   "source": [
    "#case1: there is a error\n",
    "try:\n",
    "    error code => er1 raised\n",
    "except(er1,er2,...,ern):\n",
    "    exception code\n",
    "finally:\n",
    "    code will execute always"
   ]
  },
  {
   "cell_type": "raw",
   "id": "9c41a98e",
   "metadata": {},
   "source": [
    "#case2: there is no error\n",
    "try:\n",
    "    error code  => no error raised\n",
    "else:\n",
    "    code will execute when there is no error\n",
    "finally:\n",
    "    code will execute always"
   ]
  },
  {
   "cell_type": "raw",
   "id": "540cfd88",
   "metadata": {},
   "source": [
    "#case3: there is error but it is not mentioned\n",
    "try:\n",
    "    error code   => er10 raised\n",
    "except(er1,er2,....,ern):\n",
    "    code will execute if mentioned error occured\n",
    "else:\n",
    "    code will execute when there is no error\n",
    "finally:\n",
    "    code will execute always"
   ]
  },
  {
   "cell_type": "code",
   "execution_count": null,
   "id": "c2dcc82e",
   "metadata": {},
   "outputs": [],
   "source": [
    "print(\"hi\"+10)"
   ]
  },
  {
   "cell_type": "code",
   "execution_count": null,
   "id": "9e8a5b35",
   "metadata": {},
   "outputs": [],
   "source": [
    "print(100+'hi')"
   ]
  },
  {
   "cell_type": "code",
   "execution_count": null,
   "id": "701520d7",
   "metadata": {},
   "outputs": [],
   "source": [
    "try:\n",
    "    print(\"hi\"+100)\n",
    "except(TypeError):\n",
    "    print(\"Both should be Int or Str\")"
   ]
  },
  {
   "cell_type": "code",
   "execution_count": null,
   "id": "050b7c79",
   "metadata": {},
   "outputs": [],
   "source": [
    "v1=input(\"Enter a value for V1 = \")\n",
    "type(v1)"
   ]
  },
  {
   "cell_type": "code",
   "execution_count": null,
   "id": "c160c874",
   "metadata": {},
   "outputs": [],
   "source": [
    "v1=int(input(\"Enter a value for V1 = \"))\n",
    "print(v1)"
   ]
  },
  {
   "cell_type": "code",
   "execution_count": null,
   "id": "ccb1af5c",
   "metadata": {},
   "outputs": [],
   "source": [
    "try:\n",
    "    v1=int(input(\"Enter a value for V1 = \"))\n",
    "except(ValueError):\n",
    "    print(\"String or Float values can not convert into integer\")\n",
    "else:\n",
    "    print(\"Entered value for V1 is \",v1)\n",
    "finally:\n",
    "    print(\"Thanks\")"
   ]
  },
  {
   "cell_type": "code",
   "execution_count": null,
   "id": "18803559",
   "metadata": {},
   "outputs": [],
   "source": [
    "L1 = [10,20,30,40,50]"
   ]
  },
  {
   "cell_type": "code",
   "execution_count": null,
   "id": "7b82eee2",
   "metadata": {
    "scrolled": true
   },
   "outputs": [],
   "source": [
    "L1"
   ]
  },
  {
   "cell_type": "code",
   "execution_count": null,
   "id": "d225ab38",
   "metadata": {},
   "outputs": [],
   "source": [
    "L1[0]"
   ]
  },
  {
   "cell_type": "code",
   "execution_count": null,
   "id": "ecb3e9a1",
   "metadata": {},
   "outputs": [],
   "source": [
    "L1[7]"
   ]
  },
  {
   "cell_type": "code",
   "execution_count": null,
   "id": "dd97032c",
   "metadata": {},
   "outputs": [],
   "source": [
    "D1={'a':'apple','b':'banana'}"
   ]
  },
  {
   "cell_type": "code",
   "execution_count": null,
   "id": "fd77c434",
   "metadata": {},
   "outputs": [],
   "source": [
    "D1['c']"
   ]
  },
  {
   "cell_type": "code",
   "execution_count": null,
   "id": "eb1443e3",
   "metadata": {},
   "outputs": [],
   "source": [
    "import time"
   ]
  },
  {
   "cell_type": "code",
   "execution_count": null,
   "id": "a188b6cc",
   "metadata": {},
   "outputs": [],
   "source": [
    "for i in range(1,10000):\n",
    "    print(i)\n",
    "    time.sleep(3)"
   ]
  },
  {
   "cell_type": "code",
   "execution_count": null,
   "id": "c58f5394",
   "metadata": {},
   "outputs": [],
   "source": [
    "15/0"
   ]
  },
  {
   "cell_type": "code",
   "execution_count": null,
   "id": "72bd2a74",
   "metadata": {},
   "outputs": [],
   "source": [
    "try:\n",
    "    print(15/0)\n",
    "except Exception as err:\n",
    "    print(\"Some New Error\")"
   ]
  },
  {
   "cell_type": "code",
   "execution_count": null,
   "id": "2fca9b41",
   "metadata": {},
   "outputs": [],
   "source": [
    "try:\n",
    "    print(15/0)\n",
    "except Exception as err:\n",
    "    print(err.args)"
   ]
  },
  {
   "cell_type": "code",
   "execution_count": null,
   "id": "d25cb898",
   "metadata": {},
   "outputs": [],
   "source": [
    "try:\n",
    "    value = L1[7]\n",
    "except Exception as err:\n",
    "    print(err.args)\n",
    "else:\n",
    "    print(value)\n",
    "finally:\n",
    "    print(\"Thanks\")"
   ]
  },
  {
   "cell_type": "code",
   "execution_count": null,
   "id": "dfeb2dee",
   "metadata": {},
   "outputs": [],
   "source": [
    "import builtins"
   ]
  },
  {
   "cell_type": "code",
   "execution_count": null,
   "id": "89800f49",
   "metadata": {},
   "outputs": [],
   "source": [
    "#module menas it is .py file\n",
    "type(builtins)"
   ]
  },
  {
   "cell_type": "code",
   "execution_count": null,
   "id": "266c8c50",
   "metadata": {},
   "outputs": [],
   "source": [
    "pprint"
   ]
  },
  {
   "cell_type": "code",
   "execution_count": null,
   "id": "66e9a783",
   "metadata": {},
   "outputs": [],
   "source": [
    "dir(builtins)"
   ]
  },
  {
   "cell_type": "code",
   "execution_count": null,
   "id": "b490ea66",
   "metadata": {},
   "outputs": [],
   "source": [
    "#python builtins exceptions \n",
    "'ArithmeticError', 'AssertionError', 'AttributeError', 'BaseException', 'BlockingIOError', 'BrokenPipeError', 'BufferError',\n",
    "'BytesWarning', 'ChildProcessError', 'ConnectionAbortedError', 'ConnectionError', 'ConnectionRefusedError', \n",
    "'ConnectionResetError', 'DeprecationWarning', 'EOFError', 'Ellipsis', 'EnvironmentError', 'Exception', 'False', \n",
    "'FileExistsError', 'FileNotFoundError', 'FloatingPointError', 'FutureWarning', 'GeneratorExit', 'IOError', 'ImportError', \n",
    "'ImportWarning', 'IndentationError', 'IndexError', 'InterruptedError', 'IsADirectoryError', 'KeyError', 'KeyboardInterrupt', \n",
    "'LookupError', 'MemoryError', 'ModuleNotFoundError', 'NameError', 'None', 'NotADirectoryError', 'NotImplemented',\n",
    "'NotImplementedError', 'OSError', 'OverflowError', 'PendingDeprecationWarning', 'PermissionError', 'ProcessLookupError',\n",
    "'RecursionError', 'ReferenceError', 'ResourceWarning', 'RuntimeError', 'RuntimeWarning', 'StopAsyncIteration', 'StopIteration',\n",
    "'SyntaxError', 'SyntaxWarning', 'SystemError', 'SystemExit', 'TabError', 'TimeoutError', 'True', 'TypeError', \n",
    "'UnboundLocalError', 'UnicodeDecodeError', 'UnicodeEncodeError', 'UnicodeError', 'UnicodeTranslateError', 'UnicodeWarning',\n",
    "'UserWarning', 'ValueError', 'Warning', 'WindowsError', 'ZeroDivisionError',"
   ]
  },
  {
   "cell_type": "code",
   "execution_count": null,
   "id": "562ca295",
   "metadata": {},
   "outputs": [],
   "source": [
    "'Exception'\n",
    "'IndexError',\n",
    "'KeyError',\n",
    "'NameError',\n",
    "'SyntaxError',\n",
    "'TypeError', \n",
    "'ValueError',\n",
    "'ZeroDivisionError'"
   ]
  },
  {
   "cell_type": "code",
   "execution_count": null,
   "id": "bdcf19c9",
   "metadata": {},
   "outputs": [],
   "source": [
    "m"
   ]
  },
  {
   "cell_type": "code",
   "execution_count": null,
   "id": "aa72e487",
   "metadata": {},
   "outputs": [],
   "source": [
    "D1={1:\"one\",2:\"two\"}"
   ]
  },
  {
   "cell_type": "code",
   "execution_count": null,
   "id": "0935e705",
   "metadata": {},
   "outputs": [],
   "source": [
    "D1[1]"
   ]
  },
  {
   "cell_type": "code",
   "execution_count": null,
   "id": "6a4f033b",
   "metadata": {},
   "outputs": [],
   "source": [
    "D1[3]"
   ]
  },
  {
   "cell_type": "code",
   "execution_count": null,
   "id": "3625d265",
   "metadata": {},
   "outputs": [],
   "source": [
    "D1['a']"
   ]
  },
  {
   "cell_type": "code",
   "execution_count": null,
   "id": "3beaaa28",
   "metadata": {},
   "outputs": [],
   "source": [
    "key=int(input(\"Enter key to get value = \"))\n",
    "D1[key]"
   ]
  },
  {
   "cell_type": "code",
   "execution_count": null,
   "id": "2aba1e8a",
   "metadata": {},
   "outputs": [],
   "source": [
    "key=int(input(\"Enter key to get value = \"))\n",
    "D1[key]"
   ]
  },
  {
   "cell_type": "code",
   "execution_count": null,
   "id": "8a9f64fd",
   "metadata": {},
   "outputs": [],
   "source": [
    "try:\n",
    "    key = int(input(\"Enter a key to get value = \"))\n",
    "    value = D1[key]\n",
    "except(KeyError,ValueError):\n",
    "    print(\"Enter a valid Key to get a value\")\n",
    "else:\n",
    "    print(\"Value for given key is \",value)\n",
    "finally:\n",
    "    print(\"Thanks\")"
   ]
  },
  {
   "cell_type": "code",
   "execution_count": null,
   "id": "45659ce7",
   "metadata": {},
   "outputs": [],
   "source": [
    "try:\n",
    "    key = int(input(\"Enter a key to get value = \"))\n",
    "    value = D1[key]\n",
    "except(KeyError):\n",
    "    print(\"Given is not existed\")\n",
    "except(ValueError):\n",
    "    print(\"Key should be Integer only not string or alphabetics\")\n",
    "else:\n",
    "    print(\"Value for given key is \",value)\n",
    "finally:\n",
    "    print(\"Thanks\")"
   ]
  },
  {
   "cell_type": "code",
   "execution_count": null,
   "id": "875d64e7",
   "metadata": {},
   "outputs": [],
   "source": [
    "D1={1:'one',2:'two','a':'apple','b':'banana'}"
   ]
  },
  {
   "cell_type": "code",
   "execution_count": null,
   "id": "087ada63",
   "metadata": {},
   "outputs": [],
   "source": [
    "D1"
   ]
  },
  {
   "cell_type": "code",
   "execution_count": null,
   "id": "5966a7b9",
   "metadata": {},
   "outputs": [],
   "source": [
    "D1[1]"
   ]
  },
  {
   "cell_type": "code",
   "execution_count": null,
   "id": "05a410e4",
   "metadata": {},
   "outputs": [],
   "source": [
    "D1[3]"
   ]
  },
  {
   "cell_type": "code",
   "execution_count": null,
   "id": "267ccc13",
   "metadata": {},
   "outputs": [],
   "source": [
    "D1['a']"
   ]
  },
  {
   "cell_type": "code",
   "execution_count": null,
   "id": "2142aa27",
   "metadata": {},
   "outputs": [],
   "source": [
    "D1['c']"
   ]
  },
  {
   "cell_type": "code",
   "execution_count": null,
   "id": "9a815958",
   "metadata": {},
   "outputs": [],
   "source": [
    "D1"
   ]
  },
  {
   "cell_type": "code",
   "execution_count": null,
   "id": "db8133fb",
   "metadata": {},
   "outputs": [],
   "source": [
    "\"100\".isdigit()"
   ]
  },
  {
   "cell_type": "code",
   "execution_count": null,
   "id": "0c7a6f23",
   "metadata": {},
   "outputs": [],
   "source": [
    "key = input(\"Enter a key to get value = \")\n",
    "try:\n",
    "    if key.isdigit():\n",
    "        key = int(key)\n",
    "        value = D1[key]\n",
    "    else:\n",
    "        value = D1[key]\n",
    "except(KeyError):\n",
    "    print(\"Given key is not existed\")\n",
    "except(ValueError):\n",
    "    print(\"Key should be Integer only not string or alphabetics\")\n",
    "else:\n",
    "    print(\"Value for given key is \",value)\n",
    "finally:\n",
    "    print(\"Thanks\")"
   ]
  },
  {
   "cell_type": "code",
   "execution_count": null,
   "id": "2d301fbc",
   "metadata": {},
   "outputs": [],
   "source": []
  },
  {
   "cell_type": "code",
   "execution_count": null,
   "id": "caa52275",
   "metadata": {},
   "outputs": [],
   "source": []
  },
  {
   "cell_type": "code",
   "execution_count": null,
   "id": "e1ee6523",
   "metadata": {},
   "outputs": [],
   "source": []
  }
 ],
 "metadata": {
  "kernelspec": {
   "display_name": "Python 3 (ipykernel)",
   "language": "python",
   "name": "python3"
  },
  "language_info": {
   "codemirror_mode": {
    "name": "ipython",
    "version": 3
   },
   "file_extension": ".py",
   "mimetype": "text/x-python",
   "name": "python",
   "nbconvert_exporter": "python",
   "pygments_lexer": "ipython3",
   "version": "3.9.13"
  }
 },
 "nbformat": 4,
 "nbformat_minor": 5
}
