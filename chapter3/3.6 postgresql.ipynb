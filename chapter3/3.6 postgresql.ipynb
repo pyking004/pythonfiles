{
 "cells": [
  {
   "cell_type": "code",
   "execution_count": null,
   "id": "e1698d6a",
   "metadata": {},
   "outputs": [],
   "source": [
    "#postgresql"
   ]
  },
  {
   "cell_type": "raw",
   "id": "7d947f8e",
   "metadata": {},
   "source": [
    "!pip install psycopg2"
   ]
  },
  {
   "cell_type": "code",
   "execution_count": 2,
   "id": "8018b2dc",
   "metadata": {},
   "outputs": [],
   "source": [
    "import psycopg2"
   ]
  },
  {
   "cell_type": "code",
   "execution_count": 3,
   "id": "d104860e",
   "metadata": {},
   "outputs": [
    {
     "data": {
      "text/plain": [
       "module"
      ]
     },
     "execution_count": 3,
     "metadata": {},
     "output_type": "execute_result"
    }
   ],
   "source": [
    "type(psycopg2)"
   ]
  },
  {
   "cell_type": "raw",
   "id": "f05190d6",
   "metadata": {},
   "source": [
    "1. connection\n",
    "2. cursor create\n",
    "3. execute query\n",
    "4. read the data from cursor\n",
    "5. close cursor\n",
    "6. close connection"
   ]
  },
  {
   "cell_type": "code",
   "execution_count": 4,
   "id": "bd1607c9",
   "metadata": {},
   "outputs": [],
   "source": [
    "conn = psycopg2.connect(\"dbname='postgres' user='postgres' password='Welcome1234' host='localhost'\")"
   ]
  },
  {
   "cell_type": "code",
   "execution_count": 5,
   "id": "5238d0ab",
   "metadata": {},
   "outputs": [],
   "source": [
    "cur = conn.cursor()"
   ]
  },
  {
   "cell_type": "code",
   "execution_count": 6,
   "id": "98643de5",
   "metadata": {},
   "outputs": [],
   "source": [
    "cur.execute('select * from student')"
   ]
  },
  {
   "cell_type": "code",
   "execution_count": 7,
   "id": "54285481",
   "metadata": {},
   "outputs": [
    {
     "name": "stdout",
     "output_type": "stream",
     "text": [
      "(1, 'somesh', 'python', Decimal('4000.00'))\n",
      "(2, 'venkat', 'django', Decimal('9000.00'))\n",
      "(3, 'murali', 'sql', Decimal('3000.00'))\n",
      "(4, 'ramu', 'react', Decimal('7000.00'))\n",
      "(5, 'kumar', 'nodejs', Decimal('10000.00'))\n",
      "(6, 'surendar', 'python', Decimal('5000.00'))\n",
      "(7, 'vimal', 'django', Decimal('8000.00'))\n",
      "(8, 'kotesh', 'python', Decimal('6000.00'))\n",
      "(9, 'ravi', 'django', Decimal('6600.00'))\n",
      "(10, 'ravi', 'django', Decimal('6600.00'))\n",
      "(11, 'ramu', 'flutter', Decimal('4500.00'))\n",
      "(12, 'somesh', 'flet', Decimal('15000.00'))\n"
     ]
    }
   ],
   "source": [
    "for i in cur:\n",
    "    print(i)"
   ]
  },
  {
   "cell_type": "code",
   "execution_count": 8,
   "id": "566c38f4",
   "metadata": {},
   "outputs": [],
   "source": [
    "cur.close()"
   ]
  },
  {
   "cell_type": "code",
   "execution_count": 9,
   "id": "7b4a7f3d",
   "metadata": {},
   "outputs": [],
   "source": [
    "conn.close()"
   ]
  },
  {
   "cell_type": "code",
   "execution_count": 10,
   "id": "8396a4c8",
   "metadata": {},
   "outputs": [
    {
     "name": "stdout",
     "output_type": "stream",
     "text": [
      "(1, 'somesh', 'python', Decimal('4000.00'))\n",
      "(2, 'venkat', 'django', Decimal('9000.00'))\n",
      "(3, 'murali', 'sql', Decimal('3000.00'))\n",
      "(4, 'ramu', 'react', Decimal('7000.00'))\n",
      "(5, 'kumar', 'nodejs', Decimal('10000.00'))\n",
      "(6, 'surendar', 'python', Decimal('5000.00'))\n",
      "(7, 'vimal', 'django', Decimal('8000.00'))\n",
      "(8, 'kotesh', 'python', Decimal('6000.00'))\n",
      "(9, 'ravi', 'django', Decimal('6600.00'))\n",
      "(10, 'ravi', 'django', Decimal('6600.00'))\n",
      "(11, 'ramu', 'flutter', Decimal('4500.00'))\n",
      "(12, 'somesh', 'flet', Decimal('15000.00'))\n"
     ]
    }
   ],
   "source": [
    "conn = psycopg2.connect(\"dbname='postgres' user='postgres' password='Welcome1234' host='localhost'\")\n",
    "cur = conn.cursor()\n",
    "cur.execute('select * from student')\n",
    "for i in cur:\n",
    "    print(i)\n",
    "cur.close()\n",
    "conn.close()"
   ]
  },
  {
   "cell_type": "code",
   "execution_count": 11,
   "id": "087ac559",
   "metadata": {},
   "outputs": [
    {
     "name": "stdout",
     "output_type": "stream",
     "text": [
      "[(1, 'somesh', 'python', Decimal('4000.00')), (2, 'venkat', 'django', Decimal('9000.00')), (3, 'murali', 'sql', Decimal('3000.00')), (4, 'ramu', 'react', Decimal('7000.00')), (5, 'kumar', 'nodejs', Decimal('10000.00')), (6, 'surendar', 'python', Decimal('5000.00')), (7, 'vimal', 'django', Decimal('8000.00')), (8, 'kotesh', 'python', Decimal('6000.00')), (9, 'ravi', 'django', Decimal('6600.00')), (10, 'ravi', 'django', Decimal('6600.00')), (11, 'ramu', 'flutter', Decimal('4500.00')), (12, 'somesh', 'flet', Decimal('15000.00'))]\n"
     ]
    }
   ],
   "source": [
    "conn = psycopg2.connect(\"dbname='postgres' user='postgres' password='Welcome1234' host='localhost'\")\n",
    "cur = conn.cursor()\n",
    "cur.execute('select * from student')\n",
    "print(cur.fetchall())\n",
    "cur.close()\n",
    "conn.close()"
   ]
  },
  {
   "cell_type": "code",
   "execution_count": 12,
   "id": "992a1091",
   "metadata": {},
   "outputs": [
    {
     "name": "stdout",
     "output_type": "stream",
     "text": [
      "[(1, 'somesh', 'python', Decimal('4000.00'))]\n"
     ]
    }
   ],
   "source": [
    "conn = psycopg2.connect(\"dbname='postgres' user='postgres' password='Welcome1234' host='localhost'\")\n",
    "cur = conn.cursor()\n",
    "cur.execute('select * from student')\n",
    "print(cur.fetchmany())\n",
    "cur.close()\n",
    "conn.close()"
   ]
  },
  {
   "cell_type": "code",
   "execution_count": 13,
   "id": "32c477c6",
   "metadata": {},
   "outputs": [
    {
     "name": "stdout",
     "output_type": "stream",
     "text": [
      "[(1, 'somesh', 'python', Decimal('4000.00')), (2, 'venkat', 'django', Decimal('9000.00'))]\n"
     ]
    }
   ],
   "source": [
    "conn = psycopg2.connect(\"dbname='postgres' user='postgres' password='Welcome1234' host='localhost'\")\n",
    "cur = conn.cursor()\n",
    "cur.execute('select * from student')\n",
    "print(cur.fetchmany(2))\n",
    "cur.close()\n",
    "conn.close()"
   ]
  },
  {
   "cell_type": "code",
   "execution_count": 14,
   "id": "29197801",
   "metadata": {},
   "outputs": [
    {
     "name": "stdout",
     "output_type": "stream",
     "text": [
      "(1, 'somesh', 'python', Decimal('4000.00'))\n",
      "(2, 'venkat', 'django', Decimal('9000.00'))\n",
      "(3, 'murali', 'sql', Decimal('3000.00'))\n"
     ]
    }
   ],
   "source": [
    "conn = psycopg2.connect(\"dbname='postgres' user='postgres' password='Welcome1234' host='localhost'\")\n",
    "cur = conn.cursor()\n",
    "cur.execute('select * from student')\n",
    "print(cur.fetchone())\n",
    "print(cur.fetchone())\n",
    "print(cur.fetchone())\n",
    "cur.close()\n",
    "conn.close()"
   ]
  },
  {
   "cell_type": "code",
   "execution_count": 15,
   "id": "13a134b6",
   "metadata": {},
   "outputs": [
    {
     "name": "stdout",
     "output_type": "stream",
     "text": [
      "One Record Inserted Successfully!\n"
     ]
    }
   ],
   "source": [
    "conn = psycopg2.connect(\"dbname='postgres' user='postgres' password='Welcome1234' host='localhost'\")\n",
    "cur = conn.cursor()\n",
    "cur.execute(\"insert into student(sname,course,fee) values('saddam','nodejs',12000)\")\n",
    "conn.commit()\n",
    "print(\"One Record Inserted Successfully!\")\n",
    "cur.close()\n",
    "conn.close()"
   ]
  },
  {
   "cell_type": "code",
   "execution_count": 17,
   "id": "586ff99c",
   "metadata": {},
   "outputs": [],
   "source": [
    "studentsinfo = [\n",
    "    ('harish','python',5000),\n",
    "    ('pavan','django',8000),\n",
    "    ('lokesh','python',6000),\n",
    "]"
   ]
  },
  {
   "cell_type": "code",
   "execution_count": 18,
   "id": "11cf01bf",
   "metadata": {},
   "outputs": [
    {
     "name": "stdout",
     "output_type": "stream",
     "text": [
      "Transactions completed Successfully!\n"
     ]
    }
   ],
   "source": [
    "conn = psycopg2.connect(\"dbname='postgres' user='postgres' password='Welcome1234' host='localhost'\")\n",
    "cur = conn.cursor()\n",
    "cur.executemany(\"insert into student(sname,course,fee) values(%s,%s,%s);\",studentsinfo)\n",
    "conn.commit()\n",
    "print(\"Transactions completed Successfully!\")\n",
    "cur.close()\n",
    "conn.close()"
   ]
  },
  {
   "cell_type": "code",
   "execution_count": null,
   "id": "22758b89",
   "metadata": {},
   "outputs": [],
   "source": [
    "#stored procedure name is insert_student"
   ]
  },
  {
   "cell_type": "code",
   "execution_count": 19,
   "id": "c184c94b",
   "metadata": {},
   "outputs": [],
   "source": [
    "import psycopg2"
   ]
  },
  {
   "cell_type": "code",
   "execution_count": 20,
   "id": "e6f177c1",
   "metadata": {},
   "outputs": [
    {
     "name": "stdout",
     "output_type": "stream",
     "text": [
      "Enter student Name = yagvendar\n",
      "Enter student Course = mongodb\n",
      "Enter student fee = 5000\n",
      "Transactions completed Successfully!\n"
     ]
    }
   ],
   "source": [
    "sname=input(\"Enter student Name = \")\n",
    "course=input(\"Enter student Course = \")\n",
    "fee=float(input(\"Enter student fee = \"))\n",
    "conn = psycopg2.connect(\"dbname='postgres' user='postgres' password='Welcome1234' host='localhost'\")\n",
    "cur = conn.cursor()\n",
    "cur.execute(\"CALL insert_student(%s,%s,%s)\",(sname,course,fee))\n",
    "conn.commit()\n",
    "print(\"Transactions completed Successfully!\")\n",
    "cur.close()\n",
    "conn.close()"
   ]
  },
  {
   "cell_type": "code",
   "execution_count": null,
   "id": "77c0bb6e",
   "metadata": {},
   "outputs": [],
   "source": []
  }
 ],
 "metadata": {
  "kernelspec": {
   "display_name": "Python 3 (ipykernel)",
   "language": "python",
   "name": "python3"
  },
  "language_info": {
   "codemirror_mode": {
    "name": "ipython",
    "version": 3
   },
   "file_extension": ".py",
   "mimetype": "text/x-python",
   "name": "python",
   "nbconvert_exporter": "python",
   "pygments_lexer": "ipython3",
   "version": "3.9.13"
  }
 },
 "nbformat": 4,
 "nbformat_minor": 5
}
