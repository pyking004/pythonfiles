{
 "cells": [
  {
   "cell_type": "raw",
   "id": "50e2a3c7",
   "metadata": {},
   "source": [
    "#exceptions are handling errors\n",
    "#there are two types of errors\n",
    "#1 syntax error\n",
    "#2 run time errors\n",
    "#here we handle runtime errors\n",
    "#run time errors means programme executing daily but it failed one day\n",
    "#try....except....else....finally\n",
    "#try : Block should contain error code \n",
    "#except : this block will execute when there is error which is mentioned in exception block\n",
    "#else: this block will execute when there is no error\n",
    "#finally: this block always executes\n",
    "#case1 : error is existed\n",
    "#case2 : no error\n",
    "#case3 : error existed but not handle by except block(because error not mentioned)"
   ]
  },
  {
   "cell_type": "raw",
   "id": "b60f602e",
   "metadata": {},
   "source": [
    "syntax\n",
    "try:\n",
    "    error code\n",
    "except(er1,er2,.....,ern):\n",
    "    exception code\n",
    "else:\n",
    "    code will execute if there is no error\n",
    "finally:\n",
    "    code will execute always"
   ]
  },
  {
   "cell_type": "raw",
   "id": "3620c1d9",
   "metadata": {},
   "source": [
    "#case1: there is a error\n",
    "try:\n",
    "    error code => er1 raised\n",
    "except(er1,er2,...,ern):\n",
    "    exception code\n",
    "finally:\n",
    "    code will execute always"
   ]
  },
  {
   "cell_type": "raw",
   "id": "9c41a98e",
   "metadata": {},
   "source": [
    "#case2: there is no error\n",
    "try:\n",
    "    error code  => no error raised\n",
    "else:\n",
    "    code will execute when there is no error\n",
    "finally:\n",
    "    code will execute always"
   ]
  },
  {
   "cell_type": "raw",
   "id": "540cfd88",
   "metadata": {},
   "source": [
    "#case3: there is error but it is not mentioned\n",
    "try:\n",
    "    error code   => er10 raised\n",
    "except(er1,er2,....,ern):\n",
    "    code will execute if mentioned error occured\n",
    "else:\n",
    "    code will execute when there is no error\n",
    "finally:\n",
    "    code will execute always"
   ]
  },
  {
   "cell_type": "code",
   "execution_count": 1,
   "id": "c2dcc82e",
   "metadata": {},
   "outputs": [
    {
     "ename": "TypeError",
     "evalue": "can only concatenate str (not \"int\") to str",
     "output_type": "error",
     "traceback": [
      "\u001b[1;31m---------------------------------------------------------------------------\u001b[0m",
      "\u001b[1;31mTypeError\u001b[0m                                 Traceback (most recent call last)",
      "\u001b[1;32m~\\AppData\\Local\\Temp\\ipykernel_5552\\760261907.py\u001b[0m in \u001b[0;36m<module>\u001b[1;34m\u001b[0m\n\u001b[1;32m----> 1\u001b[1;33m \u001b[0mprint\u001b[0m\u001b[1;33m(\u001b[0m\u001b[1;34m\"hi\"\u001b[0m\u001b[1;33m+\u001b[0m\u001b[1;36m10\u001b[0m\u001b[1;33m)\u001b[0m\u001b[1;33m\u001b[0m\u001b[1;33m\u001b[0m\u001b[0m\n\u001b[0m",
      "\u001b[1;31mTypeError\u001b[0m: can only concatenate str (not \"int\") to str"
     ]
    }
   ],
   "source": [
    "print(\"hi\"+10)"
   ]
  },
  {
   "cell_type": "code",
   "execution_count": 2,
   "id": "9e8a5b35",
   "metadata": {},
   "outputs": [
    {
     "ename": "TypeError",
     "evalue": "unsupported operand type(s) for +: 'int' and 'str'",
     "output_type": "error",
     "traceback": [
      "\u001b[1;31m---------------------------------------------------------------------------\u001b[0m",
      "\u001b[1;31mTypeError\u001b[0m                                 Traceback (most recent call last)",
      "\u001b[1;32m~\\AppData\\Local\\Temp\\ipykernel_5552\\2761056045.py\u001b[0m in \u001b[0;36m<module>\u001b[1;34m\u001b[0m\n\u001b[1;32m----> 1\u001b[1;33m \u001b[0mprint\u001b[0m\u001b[1;33m(\u001b[0m\u001b[1;36m100\u001b[0m\u001b[1;33m+\u001b[0m\u001b[1;34m'hi'\u001b[0m\u001b[1;33m)\u001b[0m\u001b[1;33m\u001b[0m\u001b[1;33m\u001b[0m\u001b[0m\n\u001b[0m",
      "\u001b[1;31mTypeError\u001b[0m: unsupported operand type(s) for +: 'int' and 'str'"
     ]
    }
   ],
   "source": [
    "print(100+'hi')"
   ]
  },
  {
   "cell_type": "code",
   "execution_count": 3,
   "id": "701520d7",
   "metadata": {},
   "outputs": [
    {
     "name": "stdout",
     "output_type": "stream",
     "text": [
      "Both should be Int or Str\n"
     ]
    }
   ],
   "source": [
    "try:\n",
    "    print(\"hi\"+100)\n",
    "except(TypeError):\n",
    "    print(\"Both should be Int or Str\")"
   ]
  },
  {
   "cell_type": "code",
   "execution_count": 5,
   "id": "050b7c79",
   "metadata": {},
   "outputs": [
    {
     "name": "stdout",
     "output_type": "stream",
     "text": [
      "Enter a value for V1 = 100\n"
     ]
    },
    {
     "data": {
      "text/plain": [
       "str"
      ]
     },
     "execution_count": 5,
     "metadata": {},
     "output_type": "execute_result"
    }
   ],
   "source": [
    "v1=input(\"Enter a value for V1 = \")\n",
    "type(v1)"
   ]
  },
  {
   "cell_type": "code",
   "execution_count": 7,
   "id": "c160c874",
   "metadata": {},
   "outputs": [
    {
     "name": "stdout",
     "output_type": "stream",
     "text": [
      "Enter a value for V1 = hi\n"
     ]
    },
    {
     "ename": "ValueError",
     "evalue": "invalid literal for int() with base 10: 'hi'",
     "output_type": "error",
     "traceback": [
      "\u001b[1;31m---------------------------------------------------------------------------\u001b[0m",
      "\u001b[1;31mValueError\u001b[0m                                Traceback (most recent call last)",
      "\u001b[1;32m~\\AppData\\Local\\Temp\\ipykernel_5552\\572258621.py\u001b[0m in \u001b[0;36m<module>\u001b[1;34m\u001b[0m\n\u001b[1;32m----> 1\u001b[1;33m \u001b[0mv1\u001b[0m\u001b[1;33m=\u001b[0m\u001b[0mint\u001b[0m\u001b[1;33m(\u001b[0m\u001b[0minput\u001b[0m\u001b[1;33m(\u001b[0m\u001b[1;34m\"Enter a value for V1 = \"\u001b[0m\u001b[1;33m)\u001b[0m\u001b[1;33m)\u001b[0m\u001b[1;33m\u001b[0m\u001b[1;33m\u001b[0m\u001b[0m\n\u001b[0m\u001b[0;32m      2\u001b[0m \u001b[0mprint\u001b[0m\u001b[1;33m(\u001b[0m\u001b[0mv1\u001b[0m\u001b[1;33m)\u001b[0m\u001b[1;33m\u001b[0m\u001b[1;33m\u001b[0m\u001b[0m\n",
      "\u001b[1;31mValueError\u001b[0m: invalid literal for int() with base 10: 'hi'"
     ]
    }
   ],
   "source": [
    "v1=int(input(\"Enter a value for V1 = \"))\n",
    "print(v1)"
   ]
  },
  {
   "cell_type": "code",
   "execution_count": 10,
   "id": "ccb1af5c",
   "metadata": {},
   "outputs": [
    {
     "name": "stdout",
     "output_type": "stream",
     "text": [
      "Enter a value for V1 = 10.45\n",
      "String or Float values can not convert into integer\n",
      "Thanks\n"
     ]
    }
   ],
   "source": [
    "try:\n",
    "    v1=int(input(\"Enter a value for V1 = \"))\n",
    "except(ValueError):\n",
    "    print(\"String or Float values can not convert into integer\")\n",
    "else:\n",
    "    print(\"Entered value for V1 is \",v1)\n",
    "finally:\n",
    "    print(\"Thanks\")"
   ]
  },
  {
   "cell_type": "code",
   "execution_count": 11,
   "id": "18803559",
   "metadata": {},
   "outputs": [],
   "source": [
    "L1 = [10,20,30,40,50]"
   ]
  },
  {
   "cell_type": "code",
   "execution_count": 12,
   "id": "7b82eee2",
   "metadata": {
    "scrolled": true
   },
   "outputs": [
    {
     "data": {
      "text/plain": [
       "[10, 20, 30, 40, 50]"
      ]
     },
     "execution_count": 12,
     "metadata": {},
     "output_type": "execute_result"
    }
   ],
   "source": [
    "L1"
   ]
  },
  {
   "cell_type": "code",
   "execution_count": 13,
   "id": "d225ab38",
   "metadata": {},
   "outputs": [
    {
     "data": {
      "text/plain": [
       "10"
      ]
     },
     "execution_count": 13,
     "metadata": {},
     "output_type": "execute_result"
    }
   ],
   "source": [
    "L1[0]"
   ]
  },
  {
   "cell_type": "code",
   "execution_count": 14,
   "id": "ecb3e9a1",
   "metadata": {},
   "outputs": [
    {
     "ename": "IndexError",
     "evalue": "list index out of range",
     "output_type": "error",
     "traceback": [
      "\u001b[1;31m---------------------------------------------------------------------------\u001b[0m",
      "\u001b[1;31mIndexError\u001b[0m                                Traceback (most recent call last)",
      "\u001b[1;32m~\\AppData\\Local\\Temp\\ipykernel_5552\\3215810960.py\u001b[0m in \u001b[0;36m<module>\u001b[1;34m\u001b[0m\n\u001b[1;32m----> 1\u001b[1;33m \u001b[0mL1\u001b[0m\u001b[1;33m[\u001b[0m\u001b[1;36m7\u001b[0m\u001b[1;33m]\u001b[0m\u001b[1;33m\u001b[0m\u001b[1;33m\u001b[0m\u001b[0m\n\u001b[0m",
      "\u001b[1;31mIndexError\u001b[0m: list index out of range"
     ]
    }
   ],
   "source": [
    "L1[7]"
   ]
  },
  {
   "cell_type": "code",
   "execution_count": 15,
   "id": "dd97032c",
   "metadata": {},
   "outputs": [],
   "source": [
    "D1={'a':'apple','b':'banana'}"
   ]
  },
  {
   "cell_type": "code",
   "execution_count": 16,
   "id": "fd77c434",
   "metadata": {},
   "outputs": [
    {
     "ename": "KeyError",
     "evalue": "'c'",
     "output_type": "error",
     "traceback": [
      "\u001b[1;31m---------------------------------------------------------------------------\u001b[0m",
      "\u001b[1;31mKeyError\u001b[0m                                  Traceback (most recent call last)",
      "\u001b[1;32m~\\AppData\\Local\\Temp\\ipykernel_5552\\3043769389.py\u001b[0m in \u001b[0;36m<module>\u001b[1;34m\u001b[0m\n\u001b[1;32m----> 1\u001b[1;33m \u001b[0mD1\u001b[0m\u001b[1;33m[\u001b[0m\u001b[1;34m'c'\u001b[0m\u001b[1;33m]\u001b[0m\u001b[1;33m\u001b[0m\u001b[1;33m\u001b[0m\u001b[0m\n\u001b[0m",
      "\u001b[1;31mKeyError\u001b[0m: 'c'"
     ]
    }
   ],
   "source": [
    "D1['c']"
   ]
  },
  {
   "cell_type": "code",
   "execution_count": 17,
   "id": "eb1443e3",
   "metadata": {},
   "outputs": [],
   "source": [
    "import time"
   ]
  },
  {
   "cell_type": "code",
   "execution_count": 18,
   "id": "a188b6cc",
   "metadata": {},
   "outputs": [
    {
     "name": "stdout",
     "output_type": "stream",
     "text": [
      "1\n",
      "2\n",
      "3\n",
      "4\n",
      "5\n",
      "6\n",
      "7\n"
     ]
    },
    {
     "ename": "KeyboardInterrupt",
     "evalue": "",
     "output_type": "error",
     "traceback": [
      "\u001b[1;31m---------------------------------------------------------------------------\u001b[0m",
      "\u001b[1;31mKeyboardInterrupt\u001b[0m                         Traceback (most recent call last)",
      "\u001b[1;32m~\\AppData\\Local\\Temp\\ipykernel_5552\\2385096517.py\u001b[0m in \u001b[0;36m<module>\u001b[1;34m\u001b[0m\n\u001b[0;32m      1\u001b[0m \u001b[1;32mfor\u001b[0m \u001b[0mi\u001b[0m \u001b[1;32min\u001b[0m \u001b[0mrange\u001b[0m\u001b[1;33m(\u001b[0m\u001b[1;36m1\u001b[0m\u001b[1;33m,\u001b[0m\u001b[1;36m10000\u001b[0m\u001b[1;33m)\u001b[0m\u001b[1;33m:\u001b[0m\u001b[1;33m\u001b[0m\u001b[1;33m\u001b[0m\u001b[0m\n\u001b[0;32m      2\u001b[0m     \u001b[0mprint\u001b[0m\u001b[1;33m(\u001b[0m\u001b[0mi\u001b[0m\u001b[1;33m)\u001b[0m\u001b[1;33m\u001b[0m\u001b[1;33m\u001b[0m\u001b[0m\n\u001b[1;32m----> 3\u001b[1;33m     \u001b[0mtime\u001b[0m\u001b[1;33m.\u001b[0m\u001b[0msleep\u001b[0m\u001b[1;33m(\u001b[0m\u001b[1;36m3\u001b[0m\u001b[1;33m)\u001b[0m\u001b[1;33m\u001b[0m\u001b[1;33m\u001b[0m\u001b[0m\n\u001b[0m",
      "\u001b[1;31mKeyboardInterrupt\u001b[0m: "
     ]
    }
   ],
   "source": [
    "for i in range(1,10000):\n",
    "    print(i)\n",
    "    time.sleep(3)"
   ]
  },
  {
   "cell_type": "code",
   "execution_count": 19,
   "id": "c58f5394",
   "metadata": {},
   "outputs": [
    {
     "ename": "ZeroDivisionError",
     "evalue": "division by zero",
     "output_type": "error",
     "traceback": [
      "\u001b[1;31m---------------------------------------------------------------------------\u001b[0m",
      "\u001b[1;31mZeroDivisionError\u001b[0m                         Traceback (most recent call last)",
      "\u001b[1;32m~\\AppData\\Local\\Temp\\ipykernel_5552\\1441998455.py\u001b[0m in \u001b[0;36m<module>\u001b[1;34m\u001b[0m\n\u001b[1;32m----> 1\u001b[1;33m \u001b[1;36m15\u001b[0m\u001b[1;33m/\u001b[0m\u001b[1;36m0\u001b[0m\u001b[1;33m\u001b[0m\u001b[1;33m\u001b[0m\u001b[0m\n\u001b[0m",
      "\u001b[1;31mZeroDivisionError\u001b[0m: division by zero"
     ]
    }
   ],
   "source": [
    "15/0"
   ]
  },
  {
   "cell_type": "code",
   "execution_count": 20,
   "id": "72bd2a74",
   "metadata": {},
   "outputs": [
    {
     "name": "stdout",
     "output_type": "stream",
     "text": [
      "Some New Error\n"
     ]
    }
   ],
   "source": [
    "try:\n",
    "    print(15/0)\n",
    "except Exception as err:\n",
    "    print(\"Some New Error\")"
   ]
  },
  {
   "cell_type": "code",
   "execution_count": 21,
   "id": "3f56abff",
   "metadata": {},
   "outputs": [
    {
     "name": "stdout",
     "output_type": "stream",
     "text": [
      "Some New Error\n"
     ]
    }
   ],
   "source": [
    "try:\n",
    "    print(\"hi\"+10)\n",
    "except Exception as err:\n",
    "    print(\"Some New Error\")"
   ]
  },
  {
   "cell_type": "code",
   "execution_count": 22,
   "id": "2fca9b41",
   "metadata": {},
   "outputs": [
    {
     "name": "stdout",
     "output_type": "stream",
     "text": [
      "('division by zero',)\n"
     ]
    }
   ],
   "source": [
    "try:\n",
    "    print(15/0)\n",
    "except Exception as err:\n",
    "    print(err.args)"
   ]
  },
  {
   "cell_type": "code",
   "execution_count": 23,
   "id": "f512abef",
   "metadata": {},
   "outputs": [
    {
     "name": "stdout",
     "output_type": "stream",
     "text": [
      "('can only concatenate str (not \"int\") to str',)\n"
     ]
    }
   ],
   "source": [
    "try:\n",
    "    print(\"hi\"+10)\n",
    "except Exception as err:\n",
    "    print(err.args)"
   ]
  },
  {
   "cell_type": "code",
   "execution_count": 24,
   "id": "4bc8038b",
   "metadata": {},
   "outputs": [
    {
     "data": {
      "text/plain": [
       "[10, 20, 30, 40, 50]"
      ]
     },
     "execution_count": 24,
     "metadata": {},
     "output_type": "execute_result"
    }
   ],
   "source": [
    "L1"
   ]
  },
  {
   "cell_type": "code",
   "execution_count": 26,
   "id": "d25cb898",
   "metadata": {},
   "outputs": [
    {
     "name": "stdout",
     "output_type": "stream",
     "text": [
      "Enter Index Number = 8\n",
      "('list index out of range',)\n",
      "Thanks\n"
     ]
    }
   ],
   "source": [
    "try:\n",
    "    indx = int(input(\"Enter Index Number = \"))\n",
    "    value = L1[indx]\n",
    "except Exception as err:\n",
    "    print(err.args)\n",
    "else:\n",
    "    print(value)\n",
    "finally:\n",
    "    print(\"Thanks\")"
   ]
  },
  {
   "cell_type": "code",
   "execution_count": 27,
   "id": "dfeb2dee",
   "metadata": {},
   "outputs": [],
   "source": [
    "import builtins"
   ]
  },
  {
   "cell_type": "code",
   "execution_count": 28,
   "id": "89800f49",
   "metadata": {},
   "outputs": [
    {
     "data": {
      "text/plain": [
       "module"
      ]
     },
     "execution_count": 28,
     "metadata": {},
     "output_type": "execute_result"
    }
   ],
   "source": [
    "#module menas it is .py file\n",
    "type(builtins)"
   ]
  },
  {
   "cell_type": "code",
   "execution_count": 29,
   "id": "266c8c50",
   "metadata": {},
   "outputs": [
    {
     "name": "stdout",
     "output_type": "stream",
     "text": [
      "Pretty printing has been turned OFF\n"
     ]
    }
   ],
   "source": [
    "pprint"
   ]
  },
  {
   "cell_type": "code",
   "execution_count": 30,
   "id": "66e9a783",
   "metadata": {},
   "outputs": [
    {
     "data": {
      "text/plain": [
       "['ArithmeticError', 'AssertionError', 'AttributeError', 'BaseException', 'BlockingIOError', 'BrokenPipeError', 'BufferError', 'BytesWarning', 'ChildProcessError', 'ConnectionAbortedError', 'ConnectionError', 'ConnectionRefusedError', 'ConnectionResetError', 'DeprecationWarning', 'EOFError', 'Ellipsis', 'EnvironmentError', 'Exception', 'False', 'FileExistsError', 'FileNotFoundError', 'FloatingPointError', 'FutureWarning', 'GeneratorExit', 'IOError', 'ImportError', 'ImportWarning', 'IndentationError', 'IndexError', 'InterruptedError', 'IsADirectoryError', 'KeyError', 'KeyboardInterrupt', 'LookupError', 'MemoryError', 'ModuleNotFoundError', 'NameError', 'None', 'NotADirectoryError', 'NotImplemented', 'NotImplementedError', 'OSError', 'OverflowError', 'PendingDeprecationWarning', 'PermissionError', 'ProcessLookupError', 'RecursionError', 'ReferenceError', 'ResourceWarning', 'RuntimeError', 'RuntimeWarning', 'StopAsyncIteration', 'StopIteration', 'SyntaxError', 'SyntaxWarning', 'SystemError', 'SystemExit', 'TabError', 'TimeoutError', 'True', 'TypeError', 'UnboundLocalError', 'UnicodeDecodeError', 'UnicodeEncodeError', 'UnicodeError', 'UnicodeTranslateError', 'UnicodeWarning', 'UserWarning', 'ValueError', 'Warning', 'WindowsError', 'ZeroDivisionError', '__IPYTHON__', '__build_class__', '__debug__', '__doc__', '__import__', '__loader__', '__name__', '__package__', '__spec__', 'abs', 'all', 'any', 'ascii', 'bin', 'bool', 'breakpoint', 'bytearray', 'bytes', 'callable', 'chr', 'classmethod', 'compile', 'complex', 'copyright', 'credits', 'delattr', 'dict', 'dir', 'display', 'divmod', 'enumerate', 'eval', 'exec', 'execfile', 'filter', 'float', 'format', 'frozenset', 'get_ipython', 'getattr', 'globals', 'hasattr', 'hash', 'help', 'hex', 'id', 'input', 'int', 'isinstance', 'issubclass', 'iter', 'len', 'license', 'list', 'locals', 'map', 'max', 'memoryview', 'min', 'next', 'object', 'oct', 'open', 'ord', 'pow', 'print', 'property', 'range', 'repr', 'reversed', 'round', 'runfile', 'set', 'setattr', 'slice', 'sorted', 'staticmethod', 'str', 'sum', 'super', 'tuple', 'type', 'vars', 'zip']"
      ]
     },
     "execution_count": 30,
     "metadata": {},
     "output_type": "execute_result"
    }
   ],
   "source": [
    "dir(builtins)"
   ]
  },
  {
   "cell_type": "code",
   "execution_count": null,
   "id": "b490ea66",
   "metadata": {},
   "outputs": [],
   "source": [
    "#python builtins exceptions \n",
    "'ArithmeticError', 'AssertionError', 'AttributeError', 'BaseException', 'BlockingIOError', 'BrokenPipeError', 'BufferError',\n",
    "'BytesWarning', 'ChildProcessError', 'ConnectionAbortedError', 'ConnectionError', 'ConnectionRefusedError', \n",
    "'ConnectionResetError', 'DeprecationWarning', 'EOFError', 'Ellipsis', 'EnvironmentError', 'Exception', 'False', \n",
    "'FileExistsError', 'FileNotFoundError', 'FloatingPointError', 'FutureWarning', 'GeneratorExit', 'IOError', 'ImportError', \n",
    "'ImportWarning', 'IndentationError', 'IndexError', 'InterruptedError', 'IsADirectoryError', 'KeyError', 'KeyboardInterrupt', \n",
    "'LookupError', 'MemoryError', 'ModuleNotFoundError', 'NameError', 'None', 'NotADirectoryError', 'NotImplemented',\n",
    "'NotImplementedError', 'OSError', 'OverflowError', 'PendingDeprecationWarning', 'PermissionError', 'ProcessLookupError',\n",
    "'RecursionError', 'ReferenceError', 'ResourceWarning', 'RuntimeError', 'RuntimeWarning', 'StopAsyncIteration', 'StopIteration',\n",
    "'SyntaxError', 'SyntaxWarning', 'SystemError', 'SystemExit', 'TabError', 'TimeoutError', 'True', 'TypeError', \n",
    "'UnboundLocalError', 'UnicodeDecodeError', 'UnicodeEncodeError', 'UnicodeError', 'UnicodeTranslateError', 'UnicodeWarning',\n",
    "'UserWarning', 'ValueError', 'Warning', 'WindowsError', 'ZeroDivisionError',"
   ]
  },
  {
   "cell_type": "code",
   "execution_count": null,
   "id": "562ca295",
   "metadata": {},
   "outputs": [],
   "source": [
    "'Exception'\n",
    "'IndexError',\n",
    "'KeyError',\n",
    "'NameError',\n",
    "'SyntaxError',\n",
    "'TypeError', \n",
    "'ValueError',\n",
    "'ZeroDivisionError'"
   ]
  },
  {
   "cell_type": "code",
   "execution_count": 1,
   "id": "bdcf19c9",
   "metadata": {},
   "outputs": [
    {
     "ename": "NameError",
     "evalue": "name 'm' is not defined",
     "output_type": "error",
     "traceback": [
      "\u001b[1;31m---------------------------------------------------------------------------\u001b[0m",
      "\u001b[1;31mNameError\u001b[0m                                 Traceback (most recent call last)",
      "\u001b[1;32m~\\AppData\\Local\\Temp\\ipykernel_15500\\1497821502.py\u001b[0m in \u001b[0;36m<module>\u001b[1;34m\u001b[0m\n\u001b[1;32m----> 1\u001b[1;33m \u001b[0mm\u001b[0m\u001b[1;33m\u001b[0m\u001b[1;33m\u001b[0m\u001b[0m\n\u001b[0m",
      "\u001b[1;31mNameError\u001b[0m: name 'm' is not defined"
     ]
    }
   ],
   "source": [
    "m"
   ]
  },
  {
   "cell_type": "code",
   "execution_count": 2,
   "id": "5f954c19",
   "metadata": {},
   "outputs": [
    {
     "name": "stdout",
     "output_type": "stream",
     "text": [
      "m is not created yet\n"
     ]
    }
   ],
   "source": [
    "try:\n",
    "    print(m)\n",
    "except(NameError):\n",
    "    print(\"m is not created yet\")"
   ]
  },
  {
   "cell_type": "code",
   "execution_count": 3,
   "id": "aa72e487",
   "metadata": {},
   "outputs": [],
   "source": [
    "D1={1:\"one\",2:\"two\"}"
   ]
  },
  {
   "cell_type": "code",
   "execution_count": 4,
   "id": "0935e705",
   "metadata": {},
   "outputs": [
    {
     "data": {
      "text/plain": [
       "'one'"
      ]
     },
     "execution_count": 4,
     "metadata": {},
     "output_type": "execute_result"
    }
   ],
   "source": [
    "D1[1]"
   ]
  },
  {
   "cell_type": "code",
   "execution_count": 5,
   "id": "6a4f033b",
   "metadata": {},
   "outputs": [
    {
     "ename": "KeyError",
     "evalue": "3",
     "output_type": "error",
     "traceback": [
      "\u001b[1;31m---------------------------------------------------------------------------\u001b[0m",
      "\u001b[1;31mKeyError\u001b[0m                                  Traceback (most recent call last)",
      "\u001b[1;32m~\\AppData\\Local\\Temp\\ipykernel_15500\\3374433356.py\u001b[0m in \u001b[0;36m<module>\u001b[1;34m\u001b[0m\n\u001b[1;32m----> 1\u001b[1;33m \u001b[0mD1\u001b[0m\u001b[1;33m[\u001b[0m\u001b[1;36m3\u001b[0m\u001b[1;33m]\u001b[0m\u001b[1;33m\u001b[0m\u001b[1;33m\u001b[0m\u001b[0m\n\u001b[0m",
      "\u001b[1;31mKeyError\u001b[0m: 3"
     ]
    }
   ],
   "source": [
    "D1[3]"
   ]
  },
  {
   "cell_type": "code",
   "execution_count": 6,
   "id": "3625d265",
   "metadata": {},
   "outputs": [
    {
     "ename": "KeyError",
     "evalue": "'a'",
     "output_type": "error",
     "traceback": [
      "\u001b[1;31m---------------------------------------------------------------------------\u001b[0m",
      "\u001b[1;31mKeyError\u001b[0m                                  Traceback (most recent call last)",
      "\u001b[1;32m~\\AppData\\Local\\Temp\\ipykernel_15500\\122394216.py\u001b[0m in \u001b[0;36m<module>\u001b[1;34m\u001b[0m\n\u001b[1;32m----> 1\u001b[1;33m \u001b[0mD1\u001b[0m\u001b[1;33m[\u001b[0m\u001b[1;34m'a'\u001b[0m\u001b[1;33m]\u001b[0m\u001b[1;33m\u001b[0m\u001b[1;33m\u001b[0m\u001b[0m\n\u001b[0m",
      "\u001b[1;31mKeyError\u001b[0m: 'a'"
     ]
    }
   ],
   "source": [
    "D1['a']"
   ]
  },
  {
   "cell_type": "code",
   "execution_count": 13,
   "id": "3beaaa28",
   "metadata": {},
   "outputs": [
    {
     "name": "stdout",
     "output_type": "stream",
     "text": [
      "Enter key to get value = 3\n"
     ]
    },
    {
     "ename": "KeyError",
     "evalue": "3",
     "output_type": "error",
     "traceback": [
      "\u001b[1;31m---------------------------------------------------------------------------\u001b[0m",
      "\u001b[1;31mKeyError\u001b[0m                                  Traceback (most recent call last)",
      "\u001b[1;32m~\\AppData\\Local\\Temp\\ipykernel_15500\\168574953.py\u001b[0m in \u001b[0;36m<module>\u001b[1;34m\u001b[0m\n\u001b[0;32m      1\u001b[0m \u001b[0mkey\u001b[0m\u001b[1;33m=\u001b[0m\u001b[0mint\u001b[0m\u001b[1;33m(\u001b[0m\u001b[0minput\u001b[0m\u001b[1;33m(\u001b[0m\u001b[1;34m\"Enter key to get value = \"\u001b[0m\u001b[1;33m)\u001b[0m\u001b[1;33m)\u001b[0m\u001b[1;33m\u001b[0m\u001b[1;33m\u001b[0m\u001b[0m\n\u001b[1;32m----> 2\u001b[1;33m \u001b[0mD1\u001b[0m\u001b[1;33m[\u001b[0m\u001b[0mkey\u001b[0m\u001b[1;33m]\u001b[0m\u001b[1;33m\u001b[0m\u001b[1;33m\u001b[0m\u001b[0m\n\u001b[0m",
      "\u001b[1;31mKeyError\u001b[0m: 3"
     ]
    }
   ],
   "source": [
    "key=int(input(\"Enter key to get value = \"))\n",
    "D1[key]"
   ]
  },
  {
   "cell_type": "code",
   "execution_count": 14,
   "id": "2aba1e8a",
   "metadata": {},
   "outputs": [
    {
     "name": "stdout",
     "output_type": "stream",
     "text": [
      "Enter key to get value = a\n"
     ]
    },
    {
     "ename": "ValueError",
     "evalue": "invalid literal for int() with base 10: 'a'",
     "output_type": "error",
     "traceback": [
      "\u001b[1;31m---------------------------------------------------------------------------\u001b[0m",
      "\u001b[1;31mValueError\u001b[0m                                Traceback (most recent call last)",
      "\u001b[1;32m~\\AppData\\Local\\Temp\\ipykernel_15500\\168574953.py\u001b[0m in \u001b[0;36m<module>\u001b[1;34m\u001b[0m\n\u001b[1;32m----> 1\u001b[1;33m \u001b[0mkey\u001b[0m\u001b[1;33m=\u001b[0m\u001b[0mint\u001b[0m\u001b[1;33m(\u001b[0m\u001b[0minput\u001b[0m\u001b[1;33m(\u001b[0m\u001b[1;34m\"Enter key to get value = \"\u001b[0m\u001b[1;33m)\u001b[0m\u001b[1;33m)\u001b[0m\u001b[1;33m\u001b[0m\u001b[1;33m\u001b[0m\u001b[0m\n\u001b[0m\u001b[0;32m      2\u001b[0m \u001b[0mD1\u001b[0m\u001b[1;33m[\u001b[0m\u001b[0mkey\u001b[0m\u001b[1;33m]\u001b[0m\u001b[1;33m\u001b[0m\u001b[1;33m\u001b[0m\u001b[0m\n",
      "\u001b[1;31mValueError\u001b[0m: invalid literal for int() with base 10: 'a'"
     ]
    }
   ],
   "source": [
    "key=int(input(\"Enter key to get value = \"))\n",
    "D1[key]"
   ]
  },
  {
   "cell_type": "code",
   "execution_count": 17,
   "id": "8a9f64fd",
   "metadata": {},
   "outputs": [
    {
     "name": "stdout",
     "output_type": "stream",
     "text": [
      "Enter a key to get value = a\n",
      "Enter a valid Key to get a value\n",
      "Thanks\n"
     ]
    }
   ],
   "source": [
    "try:\n",
    "    key = int(input(\"Enter a key to get value = \"))\n",
    "    value = D1[key]\n",
    "except(KeyError,ValueError):\n",
    "    print(\"Enter a valid Key to get a value\")\n",
    "else:\n",
    "    print(\"Value for given key is \",value)\n",
    "finally:\n",
    "    print(\"Thanks\")"
   ]
  },
  {
   "cell_type": "code",
   "execution_count": 20,
   "id": "45659ce7",
   "metadata": {},
   "outputs": [
    {
     "name": "stdout",
     "output_type": "stream",
     "text": [
      "Enter a key to get value = 1\n",
      "Value for given key is  one\n",
      "Thanks\n"
     ]
    }
   ],
   "source": [
    "try:\n",
    "    key = int(input(\"Enter a key to get value = \"))\n",
    "    value = D1[key]\n",
    "except(KeyError):\n",
    "    print(\"Given key = {} is not existed\".format(key))\n",
    "except(ValueError):\n",
    "    print(\"Key should be Integer only not string or alphabetics\")\n",
    "else:\n",
    "    print(\"Value for given key is \",value)\n",
    "finally:\n",
    "    print(\"Thanks\")"
   ]
  },
  {
   "cell_type": "code",
   "execution_count": 21,
   "id": "875d64e7",
   "metadata": {},
   "outputs": [],
   "source": [
    "D1={1:'one',2:'two','a':'apple','b':'banana'}"
   ]
  },
  {
   "cell_type": "code",
   "execution_count": null,
   "id": "a7f91a06",
   "metadata": {},
   "outputs": [],
   "source": []
  },
  {
   "cell_type": "code",
   "execution_count": 22,
   "id": "087ada63",
   "metadata": {},
   "outputs": [
    {
     "data": {
      "text/plain": [
       "{1: 'one', 2: 'two', 'a': 'apple', 'b': 'banana'}"
      ]
     },
     "execution_count": 22,
     "metadata": {},
     "output_type": "execute_result"
    }
   ],
   "source": [
    "D1"
   ]
  },
  {
   "cell_type": "code",
   "execution_count": 23,
   "id": "5966a7b9",
   "metadata": {},
   "outputs": [
    {
     "data": {
      "text/plain": [
       "'one'"
      ]
     },
     "execution_count": 23,
     "metadata": {},
     "output_type": "execute_result"
    }
   ],
   "source": [
    "D1[1]"
   ]
  },
  {
   "cell_type": "code",
   "execution_count": 24,
   "id": "05a410e4",
   "metadata": {},
   "outputs": [
    {
     "ename": "KeyError",
     "evalue": "3",
     "output_type": "error",
     "traceback": [
      "\u001b[1;31m---------------------------------------------------------------------------\u001b[0m",
      "\u001b[1;31mKeyError\u001b[0m                                  Traceback (most recent call last)",
      "\u001b[1;32m~\\AppData\\Local\\Temp\\ipykernel_15500\\3374433356.py\u001b[0m in \u001b[0;36m<module>\u001b[1;34m\u001b[0m\n\u001b[1;32m----> 1\u001b[1;33m \u001b[0mD1\u001b[0m\u001b[1;33m[\u001b[0m\u001b[1;36m3\u001b[0m\u001b[1;33m]\u001b[0m\u001b[1;33m\u001b[0m\u001b[1;33m\u001b[0m\u001b[0m\n\u001b[0m",
      "\u001b[1;31mKeyError\u001b[0m: 3"
     ]
    }
   ],
   "source": [
    "D1[3]"
   ]
  },
  {
   "cell_type": "code",
   "execution_count": 25,
   "id": "267ccc13",
   "metadata": {},
   "outputs": [
    {
     "data": {
      "text/plain": [
       "'apple'"
      ]
     },
     "execution_count": 25,
     "metadata": {},
     "output_type": "execute_result"
    }
   ],
   "source": [
    "D1['a']"
   ]
  },
  {
   "cell_type": "code",
   "execution_count": 26,
   "id": "2142aa27",
   "metadata": {},
   "outputs": [
    {
     "ename": "KeyError",
     "evalue": "'c'",
     "output_type": "error",
     "traceback": [
      "\u001b[1;31m---------------------------------------------------------------------------\u001b[0m",
      "\u001b[1;31mKeyError\u001b[0m                                  Traceback (most recent call last)",
      "\u001b[1;32m~\\AppData\\Local\\Temp\\ipykernel_15500\\3043769389.py\u001b[0m in \u001b[0;36m<module>\u001b[1;34m\u001b[0m\n\u001b[1;32m----> 1\u001b[1;33m \u001b[0mD1\u001b[0m\u001b[1;33m[\u001b[0m\u001b[1;34m'c'\u001b[0m\u001b[1;33m]\u001b[0m\u001b[1;33m\u001b[0m\u001b[1;33m\u001b[0m\u001b[0m\n\u001b[0m",
      "\u001b[1;31mKeyError\u001b[0m: 'c'"
     ]
    }
   ],
   "source": [
    "D1['c']"
   ]
  },
  {
   "cell_type": "code",
   "execution_count": 27,
   "id": "9a815958",
   "metadata": {},
   "outputs": [
    {
     "data": {
      "text/plain": [
       "{1: 'one', 2: 'two', 'a': 'apple', 'b': 'banana'}"
      ]
     },
     "execution_count": 27,
     "metadata": {},
     "output_type": "execute_result"
    }
   ],
   "source": [
    "D1"
   ]
  },
  {
   "cell_type": "code",
   "execution_count": 30,
   "id": "1edc5391",
   "metadata": {},
   "outputs": [
    {
     "name": "stdout",
     "output_type": "stream",
     "text": [
      "Enter a key to get value = a\n",
      "Key should be Integer only not string or alphabetics\n",
      "Thanks\n"
     ]
    }
   ],
   "source": [
    "try:\n",
    "    key = int(input(\"Enter a key to get value = \"))\n",
    "    value = D1[key]\n",
    "except(KeyError):\n",
    "    print(\"Given key = {} is not existed\".format(key))\n",
    "except(ValueError):\n",
    "    print(\"Key should be Integer only not string or alphabetics\")\n",
    "else:\n",
    "    print(\"Value for given key is \",value)\n",
    "finally:\n",
    "    print(\"Thanks\")"
   ]
  },
  {
   "cell_type": "code",
   "execution_count": 31,
   "id": "9d103c73",
   "metadata": {},
   "outputs": [
    {
     "data": {
      "text/plain": [
       "{1: 'one', 2: 'two', 'a': 'apple', 'b': 'banana'}"
      ]
     },
     "execution_count": 31,
     "metadata": {},
     "output_type": "execute_result"
    }
   ],
   "source": [
    "D1"
   ]
  },
  {
   "cell_type": "code",
   "execution_count": 34,
   "id": "db8133fb",
   "metadata": {},
   "outputs": [
    {
     "data": {
      "text/plain": [
       "True"
      ]
     },
     "execution_count": 34,
     "metadata": {},
     "output_type": "execute_result"
    }
   ],
   "source": [
    "\"100\".isdigit()"
   ]
  },
  {
   "cell_type": "code",
   "execution_count": 42,
   "id": "0c7a6f23",
   "metadata": {},
   "outputs": [
    {
     "name": "stdout",
     "output_type": "stream",
     "text": [
      "Enter a key to get value = d\n",
      "Given key is not existed\n",
      "Thanks\n"
     ]
    }
   ],
   "source": [
    "key = input(\"Enter a key to get value = \")\n",
    "try:\n",
    "    if key.isdigit():\n",
    "        key = int(key)\n",
    "        value = D1[key]\n",
    "    else:\n",
    "        value = D1[key]\n",
    "except(KeyError):\n",
    "    print(\"Given key is not existed\")\n",
    "else:\n",
    "    print(\"Value for given key is \",value)\n",
    "finally:\n",
    "    print(\"Thanks\")"
   ]
  },
  {
   "cell_type": "code",
   "execution_count": 1,
   "id": "2d301fbc",
   "metadata": {},
   "outputs": [],
   "source": [
    "courses = {'python':3000,'django':5000,'react':3000}"
   ]
  },
  {
   "cell_type": "code",
   "execution_count": 2,
   "id": "b80b652f",
   "metadata": {},
   "outputs": [
    {
     "data": {
      "text/plain": [
       "3000"
      ]
     },
     "execution_count": 2,
     "metadata": {},
     "output_type": "execute_result"
    }
   ],
   "source": [
    "courses['python']"
   ]
  },
  {
   "cell_type": "code",
   "execution_count": 3,
   "id": "56a7ee93",
   "metadata": {},
   "outputs": [],
   "source": [
    "students = {}"
   ]
  },
  {
   "cell_type": "code",
   "execution_count": 4,
   "id": "626fabaa",
   "metadata": {},
   "outputs": [],
   "source": [
    "import itertools"
   ]
  },
  {
   "cell_type": "code",
   "execution_count": 5,
   "id": "356e0cfc",
   "metadata": {},
   "outputs": [
    {
     "data": {
      "text/plain": [
       "module"
      ]
     },
     "execution_count": 5,
     "metadata": {},
     "output_type": "execute_result"
    }
   ],
   "source": [
    "# module means it is a .py file  that mean itertools.py is module\n",
    "#.py file contains classes and functions\n",
    "type(itertools)"
   ]
  },
  {
   "cell_type": "code",
   "execution_count": 6,
   "id": "2d8f9f55",
   "metadata": {},
   "outputs": [],
   "source": [
    "from itertools import count"
   ]
  },
  {
   "cell_type": "code",
   "execution_count": 7,
   "id": "76fdd449",
   "metadata": {},
   "outputs": [
    {
     "data": {
      "text/plain": [
       "type"
      ]
     },
     "execution_count": 7,
     "metadata": {},
     "output_type": "execute_result"
    }
   ],
   "source": [
    "type(count)"
   ]
  },
  {
   "cell_type": "code",
   "execution_count": 8,
   "id": "6857ea64",
   "metadata": {},
   "outputs": [],
   "source": [
    "sid = count(101)"
   ]
  },
  {
   "cell_type": "code",
   "execution_count": 53,
   "id": "9a5f83c7",
   "metadata": {},
   "outputs": [
    {
     "data": {
      "text/plain": [
       "105"
      ]
     },
     "execution_count": 53,
     "metadata": {},
     "output_type": "execute_result"
    }
   ],
   "source": [
    "#next(sid)"
   ]
  },
  {
   "cell_type": "code",
   "execution_count": null,
   "id": "db756273",
   "metadata": {},
   "outputs": [],
   "source": []
  },
  {
   "cell_type": "code",
   "execution_count": 12,
   "id": "0a9f706f",
   "metadata": {},
   "outputs": [
    {
     "name": "stdout",
     "output_type": "stream",
     "text": [
      "Enter student Name = kumar\n",
      "Enter course Name = python\n",
      "Enter Fee Paid = 6000\n"
     ]
    },
    {
     "data": {
      "text/plain": [
       "{101: ['ramu', 'django', '3000'],\n",
       " 102: ['suresh', 'react', '1000'],\n",
       " 103: ['ravi', 'python', '2500'],\n",
       " 104: ['kumar', 'python', '6000']}"
      ]
     },
     "execution_count": 12,
     "metadata": {},
     "output_type": "execute_result"
    }
   ],
   "source": [
    "sname = input(\"Enter student Name = \")\n",
    "cname = input(\"Enter course Name = \")\n",
    "fee = input(\"Enter Fee Paid = \")\n",
    "students.setdefault(next(sid),[sname,cname,fee])\n",
    "students"
   ]
  },
  {
   "cell_type": "code",
   "execution_count": 14,
   "id": "e1ee6523",
   "metadata": {},
   "outputs": [],
   "source": [
    "students = {}"
   ]
  },
  {
   "cell_type": "code",
   "execution_count": 15,
   "id": "d436b544",
   "metadata": {},
   "outputs": [
    {
     "data": {
      "text/plain": [
       "3000"
      ]
     },
     "execution_count": 15,
     "metadata": {},
     "output_type": "execute_result"
    }
   ],
   "source": [
    "courses['python']"
   ]
  },
  {
   "cell_type": "code",
   "execution_count": 16,
   "id": "78bd5428",
   "metadata": {},
   "outputs": [
    {
     "ename": "NameError",
     "evalue": "name 'InvalidFee' is not defined",
     "output_type": "error",
     "traceback": [
      "\u001b[1;31m---------------------------------------------------------------------------\u001b[0m",
      "\u001b[1;31mNameError\u001b[0m                                 Traceback (most recent call last)",
      "\u001b[1;32m~\\AppData\\Local\\Temp\\ipykernel_2800\\3044319717.py\u001b[0m in \u001b[0;36m<module>\u001b[1;34m\u001b[0m\n\u001b[1;32m----> 1\u001b[1;33m \u001b[1;32mraise\u001b[0m \u001b[0mInvalidFee\u001b[0m\u001b[1;33m\u001b[0m\u001b[1;33m\u001b[0m\u001b[0m\n\u001b[0m",
      "\u001b[1;31mNameError\u001b[0m: name 'InvalidFee' is not defined"
     ]
    }
   ],
   "source": [
    "raise InvalidFee"
   ]
  },
  {
   "cell_type": "code",
   "execution_count": 19,
   "id": "db434ab6",
   "metadata": {},
   "outputs": [],
   "source": [
    "courses = {'python':3000,'django':5000,'react':3000}"
   ]
  },
  {
   "cell_type": "code",
   "execution_count": 20,
   "id": "cd12c95a",
   "metadata": {},
   "outputs": [],
   "source": [
    "class InvalidFee(Exception):\n",
    "    pass"
   ]
  },
  {
   "cell_type": "code",
   "execution_count": 29,
   "id": "b4b8364a",
   "metadata": {},
   "outputs": [],
   "source": [
    "class CourseNotExisted(Exception):\n",
    "    pass"
   ]
  },
  {
   "cell_type": "code",
   "execution_count": 28,
   "id": "1a7be5a2",
   "metadata": {},
   "outputs": [
    {
     "ename": "InvalidFee",
     "evalue": "",
     "output_type": "error",
     "traceback": [
      "\u001b[1;31m---------------------------------------------------------------------------\u001b[0m",
      "\u001b[1;31mInvalidFee\u001b[0m                                Traceback (most recent call last)",
      "\u001b[1;32m~\\AppData\\Local\\Temp\\ipykernel_2800\\3044319717.py\u001b[0m in \u001b[0;36m<module>\u001b[1;34m\u001b[0m\n\u001b[1;32m----> 1\u001b[1;33m \u001b[1;32mraise\u001b[0m \u001b[0mInvalidFee\u001b[0m\u001b[1;33m\u001b[0m\u001b[1;33m\u001b[0m\u001b[0m\n\u001b[0m",
      "\u001b[1;31mInvalidFee\u001b[0m: "
     ]
    }
   ],
   "source": [
    "raise InvalidFee"
   ]
  },
  {
   "cell_type": "code",
   "execution_count": 23,
   "id": "4a526622",
   "metadata": {},
   "outputs": [
    {
     "name": "stdout",
     "output_type": "stream",
     "text": [
      "Enter course Name = python\n"
     ]
    },
    {
     "data": {
      "text/plain": [
       "3000"
      ]
     },
     "execution_count": 23,
     "metadata": {},
     "output_type": "execute_result"
    }
   ],
   "source": [
    "cname = input(\"Enter course Name = \")\n",
    "courses[cname]"
   ]
  },
  {
   "cell_type": "code",
   "execution_count": 30,
   "id": "33869450",
   "metadata": {},
   "outputs": [
    {
     "name": "stdout",
     "output_type": "stream",
     "text": [
      "Enter student Name = ravi\n",
      "Enter course Name = sap\n",
      "Enter Fee Paid = 67000\n",
      "Given Course is not Existed in our institute\n",
      "{105: ['kumar', 'python', 2000], 106: ['venkat', 'django', 3000]}\n"
     ]
    }
   ],
   "source": [
    "sname = input(\"Enter student Name = \")\n",
    "cname = input(\"Enter course Name = \")\n",
    "fee = int(input(\"Enter Fee Paid = \")) #4000\n",
    "try:\n",
    "    if cname not in courses:\n",
    "        raise CourseNotExisted\n",
    "    if fee>courses[cname]:\n",
    "        raise InvalidFee\n",
    "except(CourseNotExisted):\n",
    "    print(\"Given Course is not Existed in our institute\")\n",
    "except(InvalidFee):\n",
    "    print(\"Course Paid Fee is More than Total Fee!!\")\n",
    "else:\n",
    "    students.setdefault(next(sid),[sname,cname,fee])\n",
    "finally:\n",
    "    print(students)"
   ]
  },
  {
   "cell_type": "code",
   "execution_count": null,
   "id": "de0b40f9",
   "metadata": {},
   "outputs": [],
   "source": []
  }
 ],
 "metadata": {
  "kernelspec": {
   "display_name": "Python 3 (ipykernel)",
   "language": "python",
   "name": "python3"
  },
  "language_info": {
   "codemirror_mode": {
    "name": "ipython",
    "version": 3
   },
   "file_extension": ".py",
   "mimetype": "text/x-python",
   "name": "python",
   "nbconvert_exporter": "python",
   "pygments_lexer": "ipython3",
   "version": "3.9.13"
  }
 },
 "nbformat": 4,
 "nbformat_minor": 5
}
