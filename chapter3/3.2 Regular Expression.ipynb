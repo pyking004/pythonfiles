{
 "cells": [
  {
   "cell_type": "code",
   "execution_count": null,
   "id": "defedbd4",
   "metadata": {},
   "outputs": [],
   "source": [
    "#Regular Expression"
   ]
  },
  {
   "cell_type": "code",
   "execution_count": null,
   "id": "e6a5d223",
   "metadata": {},
   "outputs": [],
   "source": [
    "# Meta Characters\n",
    "# Special sequences\n",
    "# inbuilt methods"
   ]
  },
  {
   "cell_type": "code",
   "execution_count": null,
   "id": "b95767b4",
   "metadata": {},
   "outputs": [],
   "source": [
    "ans = input(\"Are your coming for today class? \")\n",
    "if ans == 'Yes':\n",
    "    print(\"Welcome\")\n",
    "else:\n",
    "    print(\"Take Rest\")"
   ]
  },
  {
   "cell_type": "code",
   "execution_count": null,
   "id": "3321724d",
   "metadata": {},
   "outputs": [],
   "source": [
    "import re"
   ]
  },
  {
   "cell_type": "code",
   "execution_count": null,
   "id": "9f1b88f6",
   "metadata": {},
   "outputs": [],
   "source": [
    "type(re)"
   ]
  },
  {
   "cell_type": "code",
   "execution_count": null,
   "id": "52875914",
   "metadata": {},
   "outputs": [],
   "source": [
    "pprint"
   ]
  },
  {
   "cell_type": "code",
   "execution_count": null,
   "id": "6fa23269",
   "metadata": {},
   "outputs": [],
   "source": [
    "dir(re)"
   ]
  },
  {
   "cell_type": "code",
   "execution_count": null,
   "id": "fb249659",
   "metadata": {},
   "outputs": [],
   "source": [
    "type(re.match)"
   ]
  },
  {
   "cell_type": "raw",
   "id": "b19e648a",
   "metadata": {},
   "source": [
    "re.match(pattern,string,flags=None) => if it is true it will return match object, match object will give span and string\n",
    "re.match(pattern,string,flags=None) => if it is false it will return None"
   ]
  },
  {
   "cell_type": "code",
   "execution_count": null,
   "id": "0eb443ab",
   "metadata": {},
   "outputs": [],
   "source": [
    "str1 = \"python is better than java for AI applications\""
   ]
  },
  {
   "cell_type": "code",
   "execution_count": null,
   "id": "619ec7d6",
   "metadata": {},
   "outputs": [],
   "source": [
    "print(re.match('python',str1))"
   ]
  },
  {
   "cell_type": "code",
   "execution_count": null,
   "id": "f0c7c354",
   "metadata": {},
   "outputs": [],
   "source": [
    "print(re.match('python',str1))\n",
    "print(re.match('java',str1))\n",
    "print(re.match('PYTHON',str1))\n",
    "print(re.match('PYTHON',str1,flags=re.I))\n",
    "print(re.match('PYTHON',str1,flags=re.IGNORECASE))"
   ]
  },
  {
   "cell_type": "code",
   "execution_count": null,
   "id": "b63229e7",
   "metadata": {},
   "outputs": [],
   "source": [
    "str1 = \"python is better than java for AI applications\""
   ]
  },
  {
   "cell_type": "code",
   "execution_count": null,
   "id": "0fcd1bb4",
   "metadata": {},
   "outputs": [],
   "source": [
    "#re.search"
   ]
  },
  {
   "cell_type": "code",
   "execution_count": null,
   "id": "06d0d06e",
   "metadata": {},
   "outputs": [],
   "source": [
    "print(re.search('java',str1))\n",
    "print(re.search('python',str1))\n",
    "print(re.search('JAVA',str1))\n",
    "print(re.search('JAVA',str1,flags=re.I))\n",
    "print(re.search('JAVA',str1,flags=re.IGNORECASE))"
   ]
  },
  {
   "cell_type": "code",
   "execution_count": null,
   "id": "b1ab5400",
   "metadata": {},
   "outputs": [],
   "source": [
    "ans = input(\"Are you coming for today class? \")\n",
    "if re.search('yes',ans,re.I):\n",
    "    print(\"Welcome\")\n",
    "else:\n",
    "    print(\"Take Rest\")"
   ]
  },
  {
   "cell_type": "raw",
   "id": "fc1125e8",
   "metadata": {},
   "source": [
    "#we can design and develop patterns with the help of metacharacters\n",
    "[] ^ $ {m,n} (element|element|element)  .  ?  * "
   ]
  },
  {
   "cell_type": "code",
   "execution_count": null,
   "id": "fc23e502",
   "metadata": {},
   "outputs": [],
   "source": []
  },
  {
   "cell_type": "code",
   "execution_count": null,
   "id": "2273a105",
   "metadata": {},
   "outputs": [],
   "source": [
    "#[0123456789] It maches at least one digit in given string\n",
    "str1 = input(\"Enter some string value = \")\n",
    "if re.search('[0123456789]',str1):\n",
    "    print(\"Matched\")\n",
    "else:\n",
    "    print(\"Not Matched\")"
   ]
  },
  {
   "cell_type": "code",
   "execution_count": null,
   "id": "12dd8232",
   "metadata": {},
   "outputs": [],
   "source": [
    "#[456] It maches at least one digit from 456 in given string\n",
    "str1 = input(\"Enter some string value = \")\n",
    "if re.search('[456]',str1):\n",
    "    print(\"Matched\")\n",
    "else:\n",
    "    print(\"Not Matched\")"
   ]
  },
  {
   "cell_type": "code",
   "execution_count": null,
   "id": "1c99cffe",
   "metadata": {},
   "outputs": [],
   "source": [
    "#[0-9] It maches at least one digit in given string\n",
    "str1 = input(\"Enter some string value = \")\n",
    "if re.search('[0-9]',str1):\n",
    "    print(\"Matched\")\n",
    "else:\n",
    "    print(\"Not Matched\")"
   ]
  },
  {
   "cell_type": "code",
   "execution_count": null,
   "id": "984e683d",
   "metadata": {},
   "outputs": [],
   "source": [
    "str1 = input(\"Enter some string value = \")\n",
    "if re.search('[9-0]',str1):\n",
    "    print(\"Matched\")\n",
    "else:\n",
    "    print(\"Not Matched\")"
   ]
  },
  {
   "cell_type": "code",
   "execution_count": null,
   "id": "2fd10b65",
   "metadata": {},
   "outputs": [],
   "source": [
    "#[0-5] It maches at least one digit in given string\n",
    "str1 = input(\"Enter some string value = \")\n",
    "if re.search('[0-5]',str1):\n",
    "    print(\"Matched\")\n",
    "else:\n",
    "    print(\"Not Matched\")"
   ]
  },
  {
   "cell_type": "code",
   "execution_count": null,
   "id": "c6f794c3",
   "metadata": {},
   "outputs": [],
   "source": [
    "#[0-9][0-9] It maches at least two digit number in given string\n",
    "str1 = input(\"Enter some string value = \")\n",
    "if re.search('[0-9][0-9]',str1):\n",
    "    print(\"Matched\")\n",
    "else:\n",
    "    print(\"Not Matched\")"
   ]
  },
  {
   "cell_type": "code",
   "execution_count": null,
   "id": "d003d606",
   "metadata": {},
   "outputs": [],
   "source": [
    "#[a-z] It maches at least one alphabet in given string\n",
    "str1 = input(\"Enter some string value = \")\n",
    "if re.search('[a-z]',str1):\n",
    "    print(\"Matched\")\n",
    "else:\n",
    "    print(\"Not Matched\")"
   ]
  },
  {
   "cell_type": "code",
   "execution_count": null,
   "id": "f93bb704",
   "metadata": {},
   "outputs": [],
   "source": [
    "#^[0-9] It maches at least one digit in starting of given string\n",
    "str1 = input(\"Enter some string value = \")\n",
    "if re.search('^[0-9]',str1):\n",
    "    print(\"Matched\")\n",
    "else:\n",
    "    print(\"Not Matched\")"
   ]
  },
  {
   "cell_type": "code",
   "execution_count": null,
   "id": "9a6502af",
   "metadata": {},
   "outputs": [],
   "source": [
    "#^[0-9] It maches at least two digit in starting of given string\n",
    "str1 = input(\"Enter some string value = \")\n",
    "if re.search('^[0-9][0-9]',str1):\n",
    "    print(\"Matched\")\n",
    "else:\n",
    "    print(\"Not Matched\")"
   ]
  },
  {
   "cell_type": "code",
   "execution_count": null,
   "id": "20a002b2",
   "metadata": {},
   "outputs": [],
   "source": [
    "#[^0-9] It maches all input except numbers of given string\n",
    "str1 = input(\"Enter some string value = \")\n",
    "if re.search('[^0-9]',str1):\n",
    "    print(\"Matched\")\n",
    "else:\n",
    "    print(\"Not Matched\")"
   ]
  },
  {
   "cell_type": "code",
   "execution_count": null,
   "id": "e0b0bb43",
   "metadata": {},
   "outputs": [],
   "source": [
    "#^[a-z] It maches at least one digit in starting of given string\n",
    "str1 = input(\"Enter some string value = \")\n",
    "if re.search('^[a-z]',str1):\n",
    "    print(\"Matched\")\n",
    "else:\n",
    "    print(\"Not Matched\")"
   ]
  },
  {
   "cell_type": "code",
   "execution_count": null,
   "id": "3e4b5d84",
   "metadata": {},
   "outputs": [],
   "source": [
    "#[0-9]$ It maches at least one digit in the end of given string\n",
    "str1 = input(\"Enter some string value = \")\n",
    "if re.search('[0-9]$',str1):\n",
    "    print(\"Matched\")\n",
    "else:\n",
    "    print(\"Not Matched\")"
   ]
  },
  {
   "cell_type": "code",
   "execution_count": null,
   "id": "2c8b04a7",
   "metadata": {},
   "outputs": [],
   "source": [
    "#^[0-9]$ It maches only one digit in given string\n",
    "str1 = input(\"Enter some string value = \")\n",
    "if re.search('^[0-9]$',str1):\n",
    "    print(\"Matched\")\n",
    "else:\n",
    "    print(\"Not Matched\")"
   ]
  },
  {
   "cell_type": "code",
   "execution_count": null,
   "id": "5e59e282",
   "metadata": {},
   "outputs": [],
   "source": [
    "#^[0-9][0-9]$ It maches only one digit in given string\n",
    "str1 = input(\"Enter some string value = \")\n",
    "if re.search('^[0-9][0-9]$',str1):\n",
    "    print(\"Matched\")\n",
    "else:\n",
    "    print(\"Not Matched\")"
   ]
  },
  {
   "cell_type": "code",
   "execution_count": null,
   "id": "9d77958b",
   "metadata": {},
   "outputs": [],
   "source": [
    "#^[0-9][0-9]$ It maches only one digit in given string\n",
    "str1 = input(\"Enter some string value = \")\n",
    "if re.search('^[0-9][0-9][0-9][0-9][0-9][0-9][0-9][0-9][0-9][0-9]$',str1):\n",
    "    print(\"Matched\")\n",
    "else:\n",
    "    print(\"Not Matched\")"
   ]
  },
  {
   "cell_type": "code",
   "execution_count": null,
   "id": "2e2511c5",
   "metadata": {},
   "outputs": [],
   "source": [
    "#^[0-9][0-9]$ It maches only one digit in given string\n",
    "str1 = input(\"Enter some string value = \")\n",
    "if re.search('^[0-9]+$',str1):\n",
    "    print(\"Matched\")\n",
    "else:\n",
    "    print(\"Not Matched\")"
   ]
  },
  {
   "cell_type": "code",
   "execution_count": null,
   "id": "fab7b70a",
   "metadata": {},
   "outputs": [],
   "source": [
    "#^[0-9][0-9]$ It maches only one digit in given string\n",
    "str1 = input(\"Enter some string value = \")\n",
    "if re.search('^[0-9]{10}$',str1):\n",
    "    print(\"Matched\")\n",
    "else:\n",
    "    print(\"Not Matched\")"
   ]
  },
  {
   "cell_type": "code",
   "execution_count": null,
   "id": "b50b734a",
   "metadata": {},
   "outputs": [],
   "source": [
    "#^[0-9][0-9]$ It maches only one digit in given string\n",
    "str1 = input(\"Enter some string value = \")\n",
    "if re.search('^[0-9]{5}$',str1):\n",
    "    print(\"Matched\")\n",
    "else:\n",
    "    print(\"Not Matched\")"
   ]
  },
  {
   "cell_type": "code",
   "execution_count": null,
   "id": "bfbe95f0",
   "metadata": {},
   "outputs": [],
   "source": [
    "#^[0-9][0-9]$ It maches only one digit in given string\n",
    "str1 = input(\"Enter some string value = \")\n",
    "if re.search('^[0-9]{5,}$',str1):\n",
    "    print(\"Matched\")\n",
    "else:\n",
    "    print(\"Not Matched\")"
   ]
  },
  {
   "cell_type": "code",
   "execution_count": null,
   "id": "602c9474",
   "metadata": {},
   "outputs": [],
   "source": [
    "#^[0-9][0-9]$ It maches only one digit in given string\n",
    "str1 = input(\"Enter some string value = \")\n",
    "if re.search('^[0-9]{5,7}$',str1):\n",
    "    print(\"Matched\")\n",
    "else:\n",
    "    print(\"Not Matched\")"
   ]
  },
  {
   "cell_type": "code",
   "execution_count": null,
   "id": "358fb6f8",
   "metadata": {},
   "outputs": [],
   "source": [
    "str1 = input(\"Enter some string value = \")\n",
    "if re.search('^[6789][0-9]{9}$',str1):\n",
    "    print(\"Matched\")\n",
    "else:\n",
    "    print(\"Not Matched\")"
   ]
  },
  {
   "cell_type": "code",
   "execution_count": null,
   "id": "171cc282",
   "metadata": {},
   "outputs": [],
   "source": [
    "str1 = input(\"Enter some string value = \")\n",
    "if re.search('(python|django|react)',str1):\n",
    "    print(\"Matched\")\n",
    "else:\n",
    "    print(\"Not Matched\")"
   ]
  },
  {
   "cell_type": "code",
   "execution_count": null,
   "id": "2f40b031",
   "metadata": {},
   "outputs": [],
   "source": [
    "str1 = input(\"Enter some string value = \")\n",
    "if re.search('^(python|django|react)$',str1):\n",
    "    print(\"Matched\")\n",
    "else:\n",
    "    print(\"Not Matched\")"
   ]
  },
  {
   "cell_type": "raw",
   "id": "e6235182",
   "metadata": {},
   "source": [
    "."
   ]
  },
  {
   "cell_type": "code",
   "execution_count": null,
   "id": "cdd4d805",
   "metadata": {},
   "outputs": [],
   "source": [
    "import re"
   ]
  },
  {
   "cell_type": "code",
   "execution_count": null,
   "id": "0e69e2fc",
   "metadata": {},
   "outputs": [],
   "source": [
    "str1 = input(\"Enter some string value = \")\n",
    "if re.search('^[0-9].$',str1):\n",
    "    print(\"Matched\")\n",
    "else:\n",
    "    print(\"Not Matched\")"
   ]
  },
  {
   "cell_type": "code",
   "execution_count": null,
   "id": "42a34c75",
   "metadata": {},
   "outputs": [],
   "source": [
    "str1 = input(\"Enter some string value = \")\n",
    "if re.search('^[0-9]..$',str1):\n",
    "    print(\"Matched\")\n",
    "else:\n",
    "    print(\"Not Matched\")"
   ]
  },
  {
   "cell_type": "code",
   "execution_count": null,
   "id": "de53b09d",
   "metadata": {},
   "outputs": [],
   "source": [
    "str1 = input(\"Enter some string value = \")\n",
    "if re.search('^[0-9].[0-9]$',str1):\n",
    "    print(\"Matched\")\n",
    "else:\n",
    "    print(\"Not Matched\")"
   ]
  },
  {
   "cell_type": "code",
   "execution_count": null,
   "id": "5f6cd2bb",
   "metadata": {},
   "outputs": [],
   "source": [
    "import re"
   ]
  },
  {
   "cell_type": "code",
   "execution_count": null,
   "id": "3c08baad",
   "metadata": {},
   "outputs": [],
   "source": [
    "#?\n",
    "str1 = input(\"Enter some string value = \")\n",
    "if re.search('^python9?$',str1):\n",
    "    print(\"Matched\")\n",
    "else:\n",
    "    print(\"Not Matched\")"
   ]
  },
  {
   "cell_type": "code",
   "execution_count": null,
   "id": "1b6607b6",
   "metadata": {},
   "outputs": [],
   "source": [
    "str1 = input(\"Enter some string value = \")\n",
    "if re.search('^python[1234]?$',str1):\n",
    "    print(\"Matched\")\n",
    "else:\n",
    "    print(\"Not Matched\")"
   ]
  },
  {
   "cell_type": "code",
   "execution_count": null,
   "id": "42d6422b",
   "metadata": {},
   "outputs": [],
   "source": [
    "str1 = input(\"Enter some string value = \")\n",
    "if re.search('^python[1-4]?$',str1):\n",
    "    print(\"Matched\")\n",
    "else:\n",
    "    print(\"Not Matched\")"
   ]
  },
  {
   "cell_type": "code",
   "execution_count": null,
   "id": "5e6cd56f",
   "metadata": {},
   "outputs": [],
   "source": [
    "*"
   ]
  },
  {
   "cell_type": "code",
   "execution_count": null,
   "id": "e82e5aeb",
   "metadata": {},
   "outputs": [],
   "source": [
    "str1 = input(\"Enter some string value = \")\n",
    "if re.search('^python9*$',str1):\n",
    "    print(\"Matched\")\n",
    "else:\n",
    "    print(\"Not Matched\")"
   ]
  },
  {
   "cell_type": "code",
   "execution_count": null,
   "id": "43fdbdf1",
   "metadata": {},
   "outputs": [],
   "source": [
    "str1 = input(\"Enter some string value = \")\n",
    "if re.search('^python[1234]*$',str1):\n",
    "    print(\"Matched\")\n",
    "else:\n",
    "    print(\"Not Matched\")"
   ]
  },
  {
   "cell_type": "code",
   "execution_count": null,
   "id": "65480d4c",
   "metadata": {},
   "outputs": [],
   "source": [
    "#develop a pattern for valid email addres as per below rules\n",
    "1. email should start with alphabetics only\n",
    "2. after first character (alphabetics,_,-,.)\n",
    "3. before @ min characters 3 max = 25\n",
    "4. between @ and . only characters length is 3 to 15\n",
    "5. after . only characters length 2 to 4\n",
    "^[a-z][a-z_.-]{2,24}@[a-z]{3,15}.[a-z]{2,4}$"
   ]
  },
  {
   "cell_type": "code",
   "execution_count": null,
   "id": "e52d6d53",
   "metadata": {},
   "outputs": [],
   "source": [
    "email = input(\"Enter valid Email Address = \")\n",
    "if re.search('^[a-z][a-z0-9_.-]{2,24}@[a-z]{3,15}\\.[a-z]{2,4}$',email,re.I):\n",
    "    print(\"Valid Email Address\")\n",
    "else:\n",
    "    print(\"Invalid Email Address\")"
   ]
  },
  {
   "cell_type": "code",
   "execution_count": null,
   "id": "c4d1e195",
   "metadata": {},
   "outputs": [],
   "source": []
  },
  {
   "cell_type": "code",
   "execution_count": null,
   "id": "5a9920e1",
   "metadata": {},
   "outputs": [],
   "source": [
    "# special sequences\n",
    "#\\d \\D \\s \\S \\w \\W"
   ]
  },
  {
   "cell_type": "code",
   "execution_count": null,
   "id": "1e699888",
   "metadata": {},
   "outputs": [],
   "source": [
    "import re"
   ]
  },
  {
   "cell_type": "code",
   "execution_count": null,
   "id": "ae4ba946",
   "metadata": {},
   "outputs": [],
   "source": [
    "#\\d == [0-9]\n",
    "str1 = input(\"Enter some string value = \")\n",
    "if re.search('\\d',str1):\n",
    "    print(\"Matched\")\n",
    "else:\n",
    "    print(\"Not Matched\")"
   ]
  },
  {
   "cell_type": "code",
   "execution_count": null,
   "id": "c47d7037",
   "metadata": {},
   "outputs": [],
   "source": [
    "#\\d == [0-9]\n",
    "str1 = input(\"Enter some string value = \")\n",
    "if re.search('^\\d$',str1):\n",
    "    print(\"Matched\")\n",
    "else:\n",
    "    print(\"Not Matched\")"
   ]
  },
  {
   "cell_type": "code",
   "execution_count": null,
   "id": "d7c37996",
   "metadata": {},
   "outputs": [],
   "source": [
    "#\\d == [0-9]\n",
    "str1 = input(\"Enter some string value = \")\n",
    "if re.search('^\\d{2}$',str1):\n",
    "    print(\"Matched\")\n",
    "else:\n",
    "    print(\"Not Matched\")"
   ]
  },
  {
   "cell_type": "code",
   "execution_count": null,
   "id": "5b5c0706",
   "metadata": {},
   "outputs": [],
   "source": [
    "#\\D == [^0-9]\n",
    "str1 = input(\"Enter some string value = \")\n",
    "if re.search('^\\D$',str1):\n",
    "    print(\"Matched\")\n",
    "else:\n",
    "    print(\"Not Matched\")"
   ]
  },
  {
   "cell_type": "code",
   "execution_count": null,
   "id": "a3356c58",
   "metadata": {},
   "outputs": [],
   "source": [
    "#\\s == single space\n",
    "str1 = input(\"Enter some string value = \")\n",
    "if re.search('^\\s$',str1):\n",
    "    print(\"Matched\")\n",
    "else:\n",
    "    print(\"Not Matched\")"
   ]
  },
  {
   "cell_type": "code",
   "execution_count": null,
   "id": "bcda9bad",
   "metadata": {},
   "outputs": [],
   "source": [
    "#\\S == except space it matches anything\n",
    "str1 = input(\"Enter some string value = \")\n",
    "if re.search('^\\S$',str1):\n",
    "    print(\"Matched\")\n",
    "else:\n",
    "    print(\"Not Matched\")"
   ]
  },
  {
   "cell_type": "code",
   "execution_count": null,
   "id": "1b26ff7c",
   "metadata": {},
   "outputs": [],
   "source": [
    "#\\w == except special characters\n",
    "str1 = input(\"Enter some string value = \")\n",
    "if re.search('^\\w$',str1):\n",
    "    print(\"Matched\")\n",
    "else:\n",
    "    print(\"Not Matched\")"
   ]
  },
  {
   "cell_type": "code",
   "execution_count": null,
   "id": "93cb38de",
   "metadata": {},
   "outputs": [],
   "source": [
    "#\\W == it accepts only special characters\n",
    "str1 = input(\"Enter some string value = \")\n",
    "if re.search('^\\W$',str1):\n",
    "    print(\"Matched\")\n",
    "else:\n",
    "    print(\"Not Matched\")"
   ]
  },
  {
   "cell_type": "code",
   "execution_count": null,
   "id": "25e35e0b",
   "metadata": {},
   "outputs": [],
   "source": [
    "#regular expression for email address and indian mobile number"
   ]
  },
  {
   "cell_type": "code",
   "execution_count": null,
   "id": "b3e400d9",
   "metadata": {},
   "outputs": [],
   "source": [
    "email = input(\"Enter valid email address = \")\n",
    "if re.search('^[a-z][a-z0-9_.-]{2,24}@[a-z]{3,10}\\.[a-z]{2,4}$',email,re.I):\n",
    "    print(\"Valid Email Address\")\n",
    "else:\n",
    "    print(\"Invallid Email Address\")"
   ]
  },
  {
   "cell_type": "raw",
   "id": "5393263e",
   "metadata": {},
   "source": [
    "re methods"
   ]
  },
  {
   "cell_type": "code",
   "execution_count": null,
   "id": "4a463707",
   "metadata": {},
   "outputs": [],
   "source": [
    "import re"
   ]
  },
  {
   "cell_type": "code",
   "execution_count": null,
   "id": "075b7d41",
   "metadata": {},
   "outputs": [],
   "source": [
    "email_check = re.compile('^[a-z][a-z0-9_.-]{2,24}@[a-z]{3,10}\\.[a-z]{2,4}$',re.I)"
   ]
  },
  {
   "cell_type": "code",
   "execution_count": null,
   "id": "6e12e96b",
   "metadata": {},
   "outputs": [],
   "source": [
    "email_check.search('raju.raju@gmail.com')"
   ]
  },
  {
   "cell_type": "code",
   "execution_count": null,
   "id": "a0c139a2",
   "metadata": {},
   "outputs": [],
   "source": [
    "print(email_check.search('raju.rajugmail.com'))"
   ]
  },
  {
   "cell_type": "code",
   "execution_count": null,
   "id": "ca17d744",
   "metadata": {},
   "outputs": [],
   "source": [
    "email = input(\"Enter valid email address = \")\n",
    "if email_check.search(email):\n",
    "    print(\"Valid Email Address\")\n",
    "else:\n",
    "    print(\"Invallid Email Address\")"
   ]
  },
  {
   "cell_type": "code",
   "execution_count": null,
   "id": "143bbed7",
   "metadata": {},
   "outputs": [],
   "source": [
    "#sub and subn"
   ]
  },
  {
   "cell_type": "code",
   "execution_count": null,
   "id": "2cc8886b",
   "metadata": {},
   "outputs": [],
   "source": [
    "str1 = \"Bombay is Bombay financial bombay city Bombay of bombay india BOMBAY\""
   ]
  },
  {
   "cell_type": "code",
   "execution_count": null,
   "id": "8419d793",
   "metadata": {},
   "outputs": [],
   "source": [
    "print(re.sub('Bombay','Mumbai',str1,count=1))"
   ]
  },
  {
   "cell_type": "code",
   "execution_count": null,
   "id": "3e0f255f",
   "metadata": {},
   "outputs": [],
   "source": [
    "print(re.sub('Bombay','Mumbai',str1,count=2))"
   ]
  },
  {
   "cell_type": "code",
   "execution_count": null,
   "id": "6c06a3e2",
   "metadata": {},
   "outputs": [],
   "source": [
    "print(re.sub('Bombay','Mumbai',str1,count=0))"
   ]
  },
  {
   "cell_type": "code",
   "execution_count": null,
   "id": "458e0820",
   "metadata": {},
   "outputs": [],
   "source": [
    "print(re.sub('Bombay','Mumbai',str1,count=0,flags=re.I))"
   ]
  },
  {
   "cell_type": "code",
   "execution_count": null,
   "id": "295ac6ed",
   "metadata": {},
   "outputs": [],
   "source": [
    "#subn\n",
    "print(re.subn('Bombay','Mumbai',str1,count=0,flags=re.I))"
   ]
  },
  {
   "cell_type": "code",
   "execution_count": null,
   "id": "fa17d36c",
   "metadata": {},
   "outputs": [],
   "source": [
    "#re.escape"
   ]
  },
  {
   "cell_type": "code",
   "execution_count": null,
   "id": "17064689",
   "metadata": {},
   "outputs": [],
   "source": [
    "re.search('python.org','always i look in to python.org for my doubts')"
   ]
  },
  {
   "cell_type": "code",
   "execution_count": null,
   "id": "a59749e4",
   "metadata": {},
   "outputs": [],
   "source": [
    "re.search('python.org','always i look in to pythonXorg for my doubts')"
   ]
  },
  {
   "cell_type": "code",
   "execution_count": null,
   "id": "3f36859c",
   "metadata": {},
   "outputs": [],
   "source": [
    "print(re.search('python\\.org','always i look in to pythonXorg for my doubts'))"
   ]
  },
  {
   "cell_type": "code",
   "execution_count": null,
   "id": "a4d57669",
   "metadata": {},
   "outputs": [],
   "source": [
    "print(re.search('python\\.org','always i look in to python.org for my doubts'))"
   ]
  },
  {
   "cell_type": "code",
   "execution_count": null,
   "id": "5376d687",
   "metadata": {},
   "outputs": [],
   "source": [
    "re.escape('python.org')"
   ]
  },
  {
   "cell_type": "code",
   "execution_count": null,
   "id": "6cdee018",
   "metadata": {},
   "outputs": [],
   "source": [
    "pat=input(\"Enter your data = \")\n",
    "str1=\"i always search in python9org website only for any doubts in python\"\n",
    "if re.search(pat,str1,re.I):\n",
    "    print(\"Existed\")\n",
    "else:\n",
    "    print(\"Not Existed\")"
   ]
  },
  {
   "cell_type": "code",
   "execution_count": null,
   "id": "b3d2f4d6",
   "metadata": {},
   "outputs": [],
   "source": [
    "pat=input(\"Enter your data = \")\n",
    "str1=\"i always search in python9org website only for any doubts in python\"\n",
    "if re.search(re.escape(pat),str1,re.I):\n",
    "    print(\"Existed\")\n",
    "else:\n",
    "    print(\"Not Existed\")"
   ]
  },
  {
   "cell_type": "code",
   "execution_count": null,
   "id": "e1f6ec39",
   "metadata": {},
   "outputs": [],
   "source": [
    "#re.escape\n",
    "re.escape('python.org')"
   ]
  },
  {
   "cell_type": "code",
   "execution_count": null,
   "id": "e37c8c12",
   "metadata": {},
   "outputs": [],
   "source": [
    "print(re.escape(input(\"Enter a string value = \")))"
   ]
  },
  {
   "cell_type": "code",
   "execution_count": null,
   "id": "5c43867b",
   "metadata": {},
   "outputs": [],
   "source": [
    "#re.split\n",
    "re.split('x',\"welcomexpythonx,programmingxinXmachinexlearning\")"
   ]
  },
  {
   "cell_type": "code",
   "execution_count": null,
   "id": "1a03a5b4",
   "metadata": {},
   "outputs": [],
   "source": [
    "re.split('x',\"welcomexpythonx,programmingxinXmachinexlearning\",maxsplit=2)"
   ]
  },
  {
   "cell_type": "code",
   "execution_count": null,
   "id": "ea66b23e",
   "metadata": {},
   "outputs": [],
   "source": [
    "re.split('x',\"welcomexpythonx,programmingxinXmachinexlearning\",maxsplit=0)"
   ]
  },
  {
   "cell_type": "code",
   "execution_count": null,
   "id": "2d11eef9",
   "metadata": {},
   "outputs": [],
   "source": [
    "re.split('x',\"welcome1xpythonx12programmingx345xinXmachine3xlearning\",maxsplit=0,flags=re.I)"
   ]
  },
  {
   "cell_type": "code",
   "execution_count": null,
   "id": "66858539",
   "metadata": {},
   "outputs": [],
   "source": [
    "re.split('[0-9]',\"welcome1xpythonx12programmingx345inXmachine3xlearning\",maxsplit=0,flags=re.I)"
   ]
  },
  {
   "cell_type": "code",
   "execution_count": null,
   "id": "4516f018",
   "metadata": {},
   "outputs": [],
   "source": [
    "re.split('[0-9]+',\"welcome1xpythonx12programmingx345inXmachine3xlearning\",maxsplit=0,flags=re.I)"
   ]
  },
  {
   "cell_type": "code",
   "execution_count": null,
   "id": "bf0bd55e",
   "metadata": {},
   "outputs": [],
   "source": [
    "re.split('[0-9]{2}',\"welcome1xpythonx12programmingx345inXmachine3xlearning\",maxsplit=0,flags=re.I)"
   ]
  },
  {
   "cell_type": "code",
   "execution_count": null,
   "id": "438ef262",
   "metadata": {},
   "outputs": [],
   "source": [
    "#re.fullmatch"
   ]
  },
  {
   "cell_type": "code",
   "execution_count": null,
   "id": "845bca53",
   "metadata": {},
   "outputs": [],
   "source": [
    "#re.fullmatch\n",
    "str1 = input(\"Enter some string value = \")\n",
    "if re.search('\\d',str1):\n",
    "    print(\"Matched\")\n",
    "else:\n",
    "    print(\"Not Matched\")"
   ]
  },
  {
   "cell_type": "code",
   "execution_count": null,
   "id": "32c31e5f",
   "metadata": {},
   "outputs": [],
   "source": [
    "str1 = input(\"Enter some string value = \")\n",
    "if re.fullmatch('\\d',str1):\n",
    "    print(\"Matched\")\n",
    "else:\n",
    "    print(\"Not Matched\")"
   ]
  },
  {
   "cell_type": "code",
   "execution_count": null,
   "id": "989f4036",
   "metadata": {},
   "outputs": [],
   "source": [
    "#re.findall\n",
    "print(re.findall(\"\\w\",\"we1l come#to@pyt3hon\"))"
   ]
  },
  {
   "cell_type": "code",
   "execution_count": null,
   "id": "20f8921e",
   "metadata": {},
   "outputs": [],
   "source": [
    "print(re.findall(\"\\W\",\"we1l com_e#to@pyt3hon\"))"
   ]
  },
  {
   "cell_type": "code",
   "execution_count": null,
   "id": "dad790e2",
   "metadata": {},
   "outputs": [],
   "source": [
    "re.split(\"\\W\",\"raju_raju@gmail.com\")"
   ]
  },
  {
   "cell_type": "code",
   "execution_count": null,
   "id": "de5d72cd",
   "metadata": {},
   "outputs": [],
   "source": [
    "re.split(\"\\W\",\"raju.raju@gmail.com\")"
   ]
  },
  {
   "cell_type": "code",
   "execution_count": null,
   "id": "032f109e",
   "metadata": {},
   "outputs": [],
   "source": [
    "re.split(\"[@.]\",\"raju.raju@gmail.com\")"
   ]
  },
  {
   "cell_type": "code",
   "execution_count": null,
   "id": "6c4960c9",
   "metadata": {},
   "outputs": [],
   "source": [
    "help(re.split)"
   ]
  },
  {
   "cell_type": "code",
   "execution_count": null,
   "id": "7bcd5628",
   "metadata": {},
   "outputs": [],
   "source": [
    "#groups and grouping"
   ]
  },
  {
   "cell_type": "code",
   "execution_count": 1,
   "id": "2d4b2ad5",
   "metadata": {},
   "outputs": [],
   "source": [
    "import re"
   ]
  },
  {
   "cell_type": "code",
   "execution_count": 4,
   "id": "e8c33421",
   "metadata": {},
   "outputs": [],
   "source": [
    "contact1 = re.search('(\\d{3})-(\\d{3})-(\\d{4})','123-456-4567')"
   ]
  },
  {
   "cell_type": "code",
   "execution_count": 5,
   "id": "4f3b3556",
   "metadata": {},
   "outputs": [
    {
     "data": {
      "text/plain": [
       "{}"
      ]
     },
     "execution_count": 5,
     "metadata": {},
     "output_type": "execute_result"
    }
   ],
   "source": [
    "contact1.groupdict()"
   ]
  },
  {
   "cell_type": "code",
   "execution_count": 6,
   "id": "d5711d7e",
   "metadata": {},
   "outputs": [
    {
     "data": {
      "text/plain": [
       "('123', '456', '4567')"
      ]
     },
     "execution_count": 6,
     "metadata": {},
     "output_type": "execute_result"
    }
   ],
   "source": [
    "contact1.groups()"
   ]
  },
  {
   "cell_type": "code",
   "execution_count": 7,
   "id": "732dad41",
   "metadata": {},
   "outputs": [
    {
     "data": {
      "text/plain": [
       "'123-456-4567'"
      ]
     },
     "execution_count": 7,
     "metadata": {},
     "output_type": "execute_result"
    }
   ],
   "source": [
    "contact1.group(0)"
   ]
  },
  {
   "cell_type": "code",
   "execution_count": 8,
   "id": "68a7adc2",
   "metadata": {},
   "outputs": [
    {
     "data": {
      "text/plain": [
       "'123'"
      ]
     },
     "execution_count": 8,
     "metadata": {},
     "output_type": "execute_result"
    }
   ],
   "source": [
    "contact1.group(1)"
   ]
  },
  {
   "cell_type": "code",
   "execution_count": 9,
   "id": "b74447e8",
   "metadata": {},
   "outputs": [
    {
     "data": {
      "text/plain": [
       "'456'"
      ]
     },
     "execution_count": 9,
     "metadata": {},
     "output_type": "execute_result"
    }
   ],
   "source": [
    "contact1.group(2)"
   ]
  },
  {
   "cell_type": "code",
   "execution_count": 10,
   "id": "ed14720c",
   "metadata": {},
   "outputs": [
    {
     "data": {
      "text/plain": [
       "'4567'"
      ]
     },
     "execution_count": 10,
     "metadata": {},
     "output_type": "execute_result"
    }
   ],
   "source": [
    "contact1.group(3)"
   ]
  },
  {
   "cell_type": "code",
   "execution_count": null,
   "id": "dd6093b2",
   "metadata": {},
   "outputs": [],
   "source": [
    "#group dictionary by providing name for group"
   ]
  },
  {
   "cell_type": "code",
   "execution_count": 13,
   "id": "14057c43",
   "metadata": {},
   "outputs": [],
   "source": [
    "contact2 = re.search('(?P<Area>\\d{3})-(?P<City>\\d{3})-(?P<contact>\\d{4})','234-432-6787')"
   ]
  },
  {
   "cell_type": "code",
   "execution_count": 14,
   "id": "5ffc845c",
   "metadata": {},
   "outputs": [
    {
     "data": {
      "text/plain": [
       "{'Area': '234', 'City': '432', 'contact': '6787'}"
      ]
     },
     "execution_count": 14,
     "metadata": {},
     "output_type": "execute_result"
    }
   ],
   "source": [
    "contact2.groupdict()"
   ]
  },
  {
   "cell_type": "code",
   "execution_count": 15,
   "id": "0ed93220",
   "metadata": {},
   "outputs": [
    {
     "data": {
      "text/plain": [
       "'234'"
      ]
     },
     "execution_count": 15,
     "metadata": {},
     "output_type": "execute_result"
    }
   ],
   "source": [
    "contact2.groupdict()['Area']"
   ]
  },
  {
   "cell_type": "code",
   "execution_count": 16,
   "id": "88727517",
   "metadata": {},
   "outputs": [
    {
     "data": {
      "text/plain": [
       "'432'"
      ]
     },
     "execution_count": 16,
     "metadata": {},
     "output_type": "execute_result"
    }
   ],
   "source": [
    "contact2.groupdict()['City']"
   ]
  },
  {
   "cell_type": "code",
   "execution_count": 17,
   "id": "eea574ca",
   "metadata": {},
   "outputs": [
    {
     "data": {
      "text/plain": [
       "'6787'"
      ]
     },
     "execution_count": 17,
     "metadata": {},
     "output_type": "execute_result"
    }
   ],
   "source": [
    "contact2.groupdict()['contact']"
   ]
  },
  {
   "cell_type": "code",
   "execution_count": 18,
   "id": "000525ac",
   "metadata": {},
   "outputs": [
    {
     "data": {
      "text/plain": [
       "('234', '432', '6787')"
      ]
     },
     "execution_count": 18,
     "metadata": {},
     "output_type": "execute_result"
    }
   ],
   "source": [
    "contact2.groups()"
   ]
  },
  {
   "cell_type": "code",
   "execution_count": 19,
   "id": "c7fcdc8c",
   "metadata": {},
   "outputs": [
    {
     "data": {
      "text/plain": [
       "'234-432-6787'"
      ]
     },
     "execution_count": 19,
     "metadata": {},
     "output_type": "execute_result"
    }
   ],
   "source": [
    "contact2.group(0)"
   ]
  },
  {
   "cell_type": "code",
   "execution_count": 20,
   "id": "d2c83c8c",
   "metadata": {},
   "outputs": [
    {
     "data": {
      "text/plain": [
       "'234'"
      ]
     },
     "execution_count": 20,
     "metadata": {},
     "output_type": "execute_result"
    }
   ],
   "source": [
    "contact2.group(1)"
   ]
  },
  {
   "cell_type": "code",
   "execution_count": 21,
   "id": "84cf2b03",
   "metadata": {},
   "outputs": [
    {
     "data": {
      "text/plain": [
       "'432'"
      ]
     },
     "execution_count": 21,
     "metadata": {},
     "output_type": "execute_result"
    }
   ],
   "source": [
    "contact2.group(2)"
   ]
  },
  {
   "cell_type": "code",
   "execution_count": 22,
   "id": "46b43500",
   "metadata": {},
   "outputs": [
    {
     "data": {
      "text/plain": [
       "'6787'"
      ]
     },
     "execution_count": 22,
     "metadata": {},
     "output_type": "execute_result"
    }
   ],
   "source": [
    "contact2.group(3)"
   ]
  },
  {
   "cell_type": "code",
   "execution_count": 23,
   "id": "c021c781",
   "metadata": {},
   "outputs": [],
   "source": [
    "mobile_numbers = [\n",
    "    \"654-657-6578\",\n",
    "    \"652-657-6578\",\n",
    "    \"651-647-6578\",\n",
    "    \"654-657-6578\",\n",
    "    \"655-657-6573\",\n",
    "    \"654-657-6574\",\n",
    "    \"655-657-6576\",\n",
    "    \"657-657-6573\",\n",
    "    \"653-657-6578\",\n",
    "    \"654-657-6578\",\n",
    "]"
   ]
  },
  {
   "cell_type": "code",
   "execution_count": 24,
   "id": "a1f0f2e3",
   "metadata": {},
   "outputs": [
    {
     "name": "stdout",
     "output_type": "stream",
     "text": [
      "654-657-6578\n",
      "652-657-6578\n",
      "651-647-6578\n",
      "654-657-6578\n",
      "655-657-6573\n",
      "654-657-6574\n",
      "655-657-6576\n",
      "657-657-6573\n",
      "653-657-6578\n",
      "654-657-6578\n"
     ]
    }
   ],
   "source": [
    "for i in mobile_numbers:\n",
    "    print(i)"
   ]
  },
  {
   "cell_type": "code",
   "execution_count": 25,
   "id": "04315a50",
   "metadata": {},
   "outputs": [
    {
     "data": {
      "text/plain": [
       "'654-657-6578'"
      ]
     },
     "execution_count": 25,
     "metadata": {},
     "output_type": "execute_result"
    }
   ],
   "source": [
    "mobile_numbers[0]"
   ]
  },
  {
   "cell_type": "code",
   "execution_count": 26,
   "id": "a27e70a0",
   "metadata": {},
   "outputs": [],
   "source": [
    "contact3 = re.search(\"(?P<City>\\d{3})-(?P<Area>\\d{3})-(?P<Phone>\\d{4})\",mobile_numbers[0])"
   ]
  },
  {
   "cell_type": "code",
   "execution_count": 27,
   "id": "1170d9d9",
   "metadata": {},
   "outputs": [
    {
     "data": {
      "text/plain": [
       "{'City': '654', 'Area': '657', 'Phone': '6578'}"
      ]
     },
     "execution_count": 27,
     "metadata": {},
     "output_type": "execute_result"
    }
   ],
   "source": [
    "contact3.groupdict()"
   ]
  },
  {
   "cell_type": "code",
   "execution_count": 28,
   "id": "173cb9d1",
   "metadata": {},
   "outputs": [
    {
     "data": {
      "text/plain": [
       "'654'"
      ]
     },
     "execution_count": 28,
     "metadata": {},
     "output_type": "execute_result"
    }
   ],
   "source": [
    "contact3.groupdict()['City']"
   ]
  },
  {
   "cell_type": "code",
   "execution_count": 29,
   "id": "9db87d86",
   "metadata": {},
   "outputs": [
    {
     "name": "stdout",
     "output_type": "stream",
     "text": [
      "654\n",
      "652\n",
      "651\n",
      "654\n",
      "655\n",
      "654\n",
      "655\n",
      "657\n",
      "653\n",
      "654\n"
     ]
    }
   ],
   "source": [
    "for i in mobile_numbers:\n",
    "    grp = re.search(\"(?P<City>\\d{3})-(?P<Area>\\d{3})-(?P<Phone>\\d{4})\",i)\n",
    "    print(grp.groupdict()['City'])"
   ]
  },
  {
   "cell_type": "code",
   "execution_count": 30,
   "id": "ab15cbac",
   "metadata": {},
   "outputs": [
    {
     "name": "stdout",
     "output_type": "stream",
     "text": [
      "655-657-6573\n",
      "655-657-6576\n"
     ]
    }
   ],
   "source": [
    "for i in mobile_numbers:\n",
    "    grp = re.search(\"(?P<City>\\d{3})-(?P<Area>\\d{3})-(?P<PhoneNumber>\\d{4})\",i)\n",
    "    if grp.groupdict()['City']=='655':\n",
    "        print(grp.group(0))"
   ]
  },
  {
   "cell_type": "code",
   "execution_count": 31,
   "id": "98edb11b",
   "metadata": {},
   "outputs": [],
   "source": [
    "email = 'raju.raju@gmail.com'"
   ]
  },
  {
   "cell_type": "code",
   "execution_count": 32,
   "id": "8e6f13c4",
   "metadata": {},
   "outputs": [],
   "source": [
    "myemail = re.search(\"([a-z][a-z0-9_.-]{2,24})@([a-z]{3,10})\\.([a-z]{2,4})\",email)"
   ]
  },
  {
   "cell_type": "code",
   "execution_count": 33,
   "id": "4a12a5ae",
   "metadata": {},
   "outputs": [
    {
     "data": {
      "text/plain": [
       "{}"
      ]
     },
     "execution_count": 33,
     "metadata": {},
     "output_type": "execute_result"
    }
   ],
   "source": [
    "myemail.groupdict()"
   ]
  },
  {
   "cell_type": "code",
   "execution_count": 34,
   "id": "1c2f2015",
   "metadata": {},
   "outputs": [
    {
     "data": {
      "text/plain": [
       "('raju.raju', 'gmail', 'com')"
      ]
     },
     "execution_count": 34,
     "metadata": {},
     "output_type": "execute_result"
    }
   ],
   "source": [
    "myemail.groups()"
   ]
  },
  {
   "cell_type": "code",
   "execution_count": 35,
   "id": "06b5437b",
   "metadata": {},
   "outputs": [
    {
     "data": {
      "text/plain": [
       "'raju.raju'"
      ]
     },
     "execution_count": 35,
     "metadata": {},
     "output_type": "execute_result"
    }
   ],
   "source": [
    "myemail.group(1)"
   ]
  },
  {
   "cell_type": "code",
   "execution_count": 36,
   "id": "908e2a67",
   "metadata": {},
   "outputs": [
    {
     "data": {
      "text/plain": [
       "'gmail'"
      ]
     },
     "execution_count": 36,
     "metadata": {},
     "output_type": "execute_result"
    }
   ],
   "source": [
    "myemail.group(2)"
   ]
  },
  {
   "cell_type": "code",
   "execution_count": 37,
   "id": "2f67eb3a",
   "metadata": {},
   "outputs": [
    {
     "data": {
      "text/plain": [
       "'com'"
      ]
     },
     "execution_count": 37,
     "metadata": {},
     "output_type": "execute_result"
    }
   ],
   "source": [
    "myemail.group(3)"
   ]
  },
  {
   "cell_type": "code",
   "execution_count": 40,
   "id": "f8cda8f6",
   "metadata": {},
   "outputs": [],
   "source": [
    "myemail2 = re.search(\"(?P<user>[a-z][a-z0-9_.-]{2,24})@(?P<domain>[a-z]{3,10})\\.(?P<subdomain>[a-z]{2,4})\",email)"
   ]
  },
  {
   "cell_type": "code",
   "execution_count": 41,
   "id": "b6ac2d10",
   "metadata": {},
   "outputs": [
    {
     "data": {
      "text/plain": [
       "{'user': 'raju.raju', 'domain': 'gmail', 'subdomain': 'com'}"
      ]
     },
     "execution_count": 41,
     "metadata": {},
     "output_type": "execute_result"
    }
   ],
   "source": [
    "myemail2.groupdict()"
   ]
  },
  {
   "cell_type": "code",
   "execution_count": 42,
   "id": "a8e24ced",
   "metadata": {},
   "outputs": [],
   "source": [
    "emails = [\n",
    "    'raju.raju@gmail.com',\n",
    "    'raju_raju@gmail.com',\n",
    "    'ravi@yahoo.com',\n",
    "    'ramesh@yahoo.com',\n",
    "    'kumar@mysite.com',\n",
    "    'venakt@gmail.com'\n",
    "]"
   ]
  },
  {
   "cell_type": "code",
   "execution_count": 43,
   "id": "9cecdd00",
   "metadata": {},
   "outputs": [
    {
     "name": "stdout",
     "output_type": "stream",
     "text": [
      "raju.raju@gmail.com\n",
      "raju_raju@gmail.com\n",
      "ravi@yahoo.com\n",
      "ramesh@yahoo.com\n",
      "kumar@mysite.com\n",
      "venakt@gmail.com\n"
     ]
    }
   ],
   "source": [
    "for email in emails:\n",
    "    print(email)"
   ]
  },
  {
   "cell_type": "code",
   "execution_count": 44,
   "id": "1b978a57",
   "metadata": {},
   "outputs": [
    {
     "data": {
      "text/plain": [
       "'raju.raju@gmail.com'"
      ]
     },
     "execution_count": 44,
     "metadata": {},
     "output_type": "execute_result"
    }
   ],
   "source": [
    "emails[0]"
   ]
  },
  {
   "cell_type": "code",
   "execution_count": 45,
   "id": "d5570e34",
   "metadata": {},
   "outputs": [
    {
     "name": "stdout",
     "output_type": "stream",
     "text": [
      "raju.raju\n",
      "raju_raju\n",
      "ravi\n",
      "ramesh\n",
      "kumar\n",
      "venakt\n"
     ]
    }
   ],
   "source": [
    "for email in emails:\n",
    "    grp = re.search(\"(?P<user>[a-z][a-z0-9_.-]{2,24})@(?P<domain>[a-z]{3,10})\\.(?P<subdomain>[a-z]{2,4})\",email)\n",
    "    print(grp['user'])"
   ]
  },
  {
   "cell_type": "code",
   "execution_count": 48,
   "id": "9015841f",
   "metadata": {},
   "outputs": [
    {
     "name": "stdout",
     "output_type": "stream",
     "text": [
      "raju.raju@gmail.com\n",
      "raju_raju@gmail.com\n",
      "venakt@gmail.com\n"
     ]
    }
   ],
   "source": [
    "for email in emails:\n",
    "    grp = re.search(\"(?P<user>[a-z][a-z0-9_.-]{2,24})@(?P<domain>[a-z]{3,10})\\.(?P<subdomain>[a-z]{2,4})\",email)\n",
    "    if grp['domain']=='gmail':\n",
    "        print(grp[0])"
   ]
  },
  {
   "cell_type": "code",
   "execution_count": null,
   "id": "42e5b66f",
   "metadata": {},
   "outputs": [],
   "source": []
  }
 ],
 "metadata": {
  "kernelspec": {
   "display_name": "Python 3 (ipykernel)",
   "language": "python",
   "name": "python3"
  },
  "language_info": {
   "codemirror_mode": {
    "name": "ipython",
    "version": 3
   },
   "file_extension": ".py",
   "mimetype": "text/x-python",
   "name": "python",
   "nbconvert_exporter": "python",
   "pygments_lexer": "ipython3",
   "version": "3.9.13"
  }
 },
 "nbformat": 4,
 "nbformat_minor": 5
}
