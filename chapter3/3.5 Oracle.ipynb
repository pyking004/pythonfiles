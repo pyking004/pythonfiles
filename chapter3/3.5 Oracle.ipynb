{
 "cells": [
  {
   "cell_type": "raw",
   "id": "82f2d9b1",
   "metadata": {},
   "source": [
    "!pip install cx_oracle"
   ]
  },
  {
   "cell_type": "code",
   "execution_count": 1,
   "id": "8507be11",
   "metadata": {},
   "outputs": [],
   "source": [
    "import cx_Oracle"
   ]
  },
  {
   "cell_type": "code",
   "execution_count": 2,
   "id": "354be8f0",
   "metadata": {},
   "outputs": [],
   "source": [
    "conn = cx_Oracle.connect(\"c##scott/tiger@XE\")"
   ]
  },
  {
   "cell_type": "code",
   "execution_count": 3,
   "id": "8559d6a9",
   "metadata": {},
   "outputs": [],
   "source": [
    "cur = conn.cursor()"
   ]
  },
  {
   "cell_type": "code",
   "execution_count": 4,
   "id": "029784a4",
   "metadata": {},
   "outputs": [
    {
     "data": {
      "text/plain": [
       "<cx_Oracle.Cursor on <cx_Oracle.Connection to c##scott@XE>>"
      ]
     },
     "execution_count": 4,
     "metadata": {},
     "output_type": "execute_result"
    }
   ],
   "source": [
    "cur.execute(\"select * from dept\")"
   ]
  },
  {
   "cell_type": "code",
   "execution_count": 5,
   "id": "b24a1e20",
   "metadata": {},
   "outputs": [
    {
     "name": "stdout",
     "output_type": "stream",
     "text": [
      "(10, 'ACCOUNTING', 'NEW YORK')\n",
      "(20, 'RESEARCH', 'DALLAS')\n",
      "(30, 'SALES', 'CHICAGO')\n",
      "(40, 'OPERATIONS', 'BOSTON')\n"
     ]
    }
   ],
   "source": [
    "for i in cur:\n",
    "    print(i)"
   ]
  },
  {
   "cell_type": "code",
   "execution_count": 6,
   "id": "fc24f941",
   "metadata": {},
   "outputs": [],
   "source": [
    "cur.close()"
   ]
  },
  {
   "cell_type": "code",
   "execution_count": 7,
   "id": "47a63350",
   "metadata": {},
   "outputs": [],
   "source": [
    "conn.close()"
   ]
  },
  {
   "cell_type": "code",
   "execution_count": null,
   "id": "dc6f2687",
   "metadata": {},
   "outputs": [],
   "source": []
  },
  {
   "cell_type": "code",
   "execution_count": 8,
   "id": "78ad223c",
   "metadata": {},
   "outputs": [
    {
     "name": "stdout",
     "output_type": "stream",
     "text": [
      "(10, 'ACCOUNTING', 'NEW YORK')\n",
      "(20, 'RESEARCH', 'DALLAS')\n",
      "(30, 'SALES', 'CHICAGO')\n",
      "(40, 'OPERATIONS', 'BOSTON')\n"
     ]
    }
   ],
   "source": [
    "conn = cx_Oracle.connect(\"c##scott/tiger@XE\")\n",
    "cur = conn.cursor()\n",
    "cur.execute(\"select * from dept\")\n",
    "for i in cur:\n",
    "    print(i)\n",
    "cur.close()\n",
    "conn.close()"
   ]
  },
  {
   "cell_type": "code",
   "execution_count": 9,
   "id": "a557d320",
   "metadata": {},
   "outputs": [
    {
     "name": "stdout",
     "output_type": "stream",
     "text": [
      "[(10, 'ACCOUNTING', 'NEW YORK'), (20, 'RESEARCH', 'DALLAS'), (30, 'SALES', 'CHICAGO'), (40, 'OPERATIONS', 'BOSTON')]\n"
     ]
    }
   ],
   "source": [
    "conn = cx_Oracle.connect(\"c##scott/tiger@XE\")\n",
    "cur = conn.cursor()\n",
    "cur.execute(\"select * from dept\")\n",
    "print(cur.fetchall())\n",
    "cur.close()\n",
    "conn.close()"
   ]
  },
  {
   "cell_type": "code",
   "execution_count": 12,
   "id": "5d715af9",
   "metadata": {},
   "outputs": [
    {
     "name": "stdout",
     "output_type": "stream",
     "text": [
      "[(10, 'ACCOUNTING', 'NEW YORK'), (20, 'RESEARCH', 'DALLAS')]\n"
     ]
    }
   ],
   "source": [
    "conn = cx_Oracle.connect(\"c##scott/tiger@XE\")\n",
    "cur = conn.cursor()\n",
    "cur.execute(\"select * from dept\")\n",
    "print(cur.fetchmany(2))\n",
    "cur.close()\n",
    "conn.close()"
   ]
  },
  {
   "cell_type": "code",
   "execution_count": 13,
   "id": "d4fcc285",
   "metadata": {},
   "outputs": [
    {
     "name": "stdout",
     "output_type": "stream",
     "text": [
      "(10, 'ACCOUNTING', 'NEW YORK')\n",
      "(20, 'RESEARCH', 'DALLAS')\n",
      "(30, 'SALES', 'CHICAGO')\n"
     ]
    }
   ],
   "source": [
    "conn = cx_Oracle.connect(\"c##scott/tiger@XE\")\n",
    "cur = conn.cursor()\n",
    "cur.execute(\"select * from dept\")\n",
    "print(cur.fetchone())\n",
    "print(cur.fetchone())\n",
    "print(cur.fetchone())\n",
    "cur.close()\n",
    "conn.close()"
   ]
  },
  {
   "cell_type": "code",
   "execution_count": 17,
   "id": "0547064d",
   "metadata": {},
   "outputs": [],
   "source": [
    "conn = cx_Oracle.connect(\"c##scott/tiger@XE\")\n",
    "cur = conn.cursor()\n",
    "cur.execute(\"insert into student values(101,'ajay','django',12000)\")\n",
    "conn.commit()\n",
    "cur.close()\n",
    "conn.close()"
   ]
  },
  {
   "cell_type": "code",
   "execution_count": 18,
   "id": "b3d2ae2d",
   "metadata": {},
   "outputs": [],
   "source": [
    "studentdata = [(102,'ramu','python',7000),(103,'suman','django',12000),(104,'suresh','nodejs',11000)]"
   ]
  },
  {
   "cell_type": "code",
   "execution_count": 19,
   "id": "4428a879",
   "metadata": {},
   "outputs": [],
   "source": [
    "import cx_Oracle"
   ]
  },
  {
   "cell_type": "code",
   "execution_count": 20,
   "id": "681462e6",
   "metadata": {},
   "outputs": [
    {
     "name": "stdout",
     "output_type": "stream",
     "text": [
      "Transaction completed Successfully\n"
     ]
    }
   ],
   "source": [
    "conn = cx_Oracle.connect('c##scott/tiger@XE')\n",
    "cur = conn.cursor()\n",
    "cur.executemany(\"insert into student(sid,sname,course,fee) values(:sid,:sname,:course,:fee)\",studentdata)\n",
    "conn.commit()\n",
    "print(\"Transaction completed Successfully\")\n",
    "cur.close()\n",
    "conn.close()"
   ]
  },
  {
   "cell_type": "raw",
   "id": "6b71dd93",
   "metadata": {},
   "source": [
    "Procedure:newstudent\n",
    "create or replace procedure newstudent\n",
    "(\n",
    "i_sid number,\n",
    "i_sname varchar2,\n",
    "i_course varchar2,\n",
    "i_fee number\n",
    ")\n",
    "as\n",
    "begin\n",
    "insert into student values(i_sid,i_sname,i_course,i_fee);\n",
    "end;\n",
    "/"
   ]
  },
  {
   "cell_type": "code",
   "execution_count": 21,
   "id": "b6914526",
   "metadata": {},
   "outputs": [
    {
     "name": "stdout",
     "output_type": "stream",
     "text": [
      "Enter student id = 105\n",
      "Enter student Name = trilok\n",
      "Enter student Course = python\n",
      "Enter student Fee = 35000\n",
      "Transaction completed Successfully\n"
     ]
    }
   ],
   "source": [
    "sid = int(input(\"Enter student id = \"))\n",
    "sname = input(\"Enter student Name = \")\n",
    "course = input(\"Enter student Course = \")\n",
    "fee = int(input(\"Enter student Fee = \"))\n",
    "conn = cx_Oracle.connect('c##scott/tiger@XE')\n",
    "cur = conn.cursor()\n",
    "cur.callproc(\"newstudent\",(sid,sname,course,fee))\n",
    "conn.commit()\n",
    "print(\"Transaction completed Successfully\")\n",
    "cur.close()\n",
    "conn.close()"
   ]
  },
  {
   "cell_type": "code",
   "execution_count": 22,
   "id": "35a3d13b",
   "metadata": {},
   "outputs": [
    {
     "name": "stdout",
     "output_type": "stream",
     "text": [
      "101 kumar python 5000\n",
      "\n",
      "102 varma django 12000\n",
      "\n",
      "103 kiran javascript 4000\n",
      "\n",
      "104 abdi python 4000\n",
      "\n",
      "105 ramu PYTHON 5000\n",
      "\n",
      "106 ravi c++ 6000\n",
      "\n",
      "107 sujala java script 4000\n",
      "\n",
      "108 vijay django 12000\n",
      "\n",
      "109 deepu java 12000\n",
      "\n",
      "110 saddam Python 12000\n",
      "\n",
      "111 yagvendra JAVA script 5000\n",
      "\n",
      "112 saddam graphql 8000\n",
      "\n",
      "113 raviteja java 12000\n",
      "\n",
      "114 sujith react 6000\n",
      "\n",
      "115 trilok graphql 10000\n"
     ]
    }
   ],
   "source": [
    "fname = r\"D:/pfiles/students.txt\"\n",
    "fobj = open(fname)\n",
    "for i in fobj:\n",
    "    sid,sname,course,fee = i.split(\",\")[:]\n",
    "    print(sid,sname,course,fee)\n",
    "fobj.close()"
   ]
  },
  {
   "cell_type": "code",
   "execution_count": null,
   "id": "4d68721e",
   "metadata": {},
   "outputs": [],
   "source": [
    "#loading the file data to database table in oracle"
   ]
  },
  {
   "cell_type": "code",
   "execution_count": 23,
   "id": "bc5e9550",
   "metadata": {},
   "outputs": [],
   "source": [
    "fname = r\"D:/pfiles/students.txt\"\n",
    "fobj = open(fname)\n",
    "conn = cx_Oracle.connect('c##scott/tiger@XE')\n",
    "cur = conn.cursor()\n",
    "for i in fobj:\n",
    "    sid,sname,course,fee = i.split(\",\")[:]\n",
    "    cur.callproc(\"newstudent\",(sid,sname,course,fee))\n",
    "conn.commit()\n",
    "cur.close()\n",
    "conn.close()\n",
    "fobj.close()"
   ]
  },
  {
   "cell_type": "code",
   "execution_count": null,
   "id": "24c77c03",
   "metadata": {},
   "outputs": [],
   "source": []
  },
  {
   "cell_type": "code",
   "execution_count": null,
   "id": "28428e7f",
   "metadata": {},
   "outputs": [],
   "source": []
  },
  {
   "cell_type": "code",
   "execution_count": null,
   "id": "18c653a5",
   "metadata": {},
   "outputs": [],
   "source": []
  },
  {
   "cell_type": "code",
   "execution_count": null,
   "id": "d533c14c",
   "metadata": {},
   "outputs": [],
   "source": []
  },
  {
   "cell_type": "code",
   "execution_count": null,
   "id": "2932b9c1",
   "metadata": {},
   "outputs": [],
   "source": []
  }
 ],
 "metadata": {
  "kernelspec": {
   "display_name": "Python 3 (ipykernel)",
   "language": "python",
   "name": "python3"
  },
  "language_info": {
   "codemirror_mode": {
    "name": "ipython",
    "version": 3
   },
   "file_extension": ".py",
   "mimetype": "text/x-python",
   "name": "python",
   "nbconvert_exporter": "python",
   "pygments_lexer": "ipython3",
   "version": "3.9.13"
  }
 },
 "nbformat": 4,
 "nbformat_minor": 5
}
