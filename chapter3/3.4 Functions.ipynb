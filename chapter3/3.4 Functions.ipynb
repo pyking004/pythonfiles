{
 "cells": [
  {
   "cell_type": "code",
   "execution_count": null,
   "id": "843607f3",
   "metadata": {},
   "outputs": [],
   "source": [
    "#python userdefined functions"
   ]
  },
  {
   "cell_type": "raw",
   "id": "8b06710c",
   "metadata": {},
   "source": [
    "#syntax to create function\n",
    "def <funName> (parameter1,p2,p3,....,pN):\n",
    "    statement1\n",
    "    statement2\n",
    "    .....\n",
    "    .....\n",
    "    statementN\n",
    "    return <value/variable/statement/expression/object>"
   ]
  },
  {
   "cell_type": "raw",
   "id": "aa033484",
   "metadata": {},
   "source": [
    "#calling function \n",
    "<funName> (Argument1,arg2,arg3,...,argN)"
   ]
  },
  {
   "cell_type": "raw",
   "id": "a27e9265",
   "metadata": {},
   "source": [
    "#mandatory function syntax\n",
    "def <funname>():\n",
    "    statement1"
   ]
  },
  {
   "cell_type": "raw",
   "id": "047deab6",
   "metadata": {},
   "source": [
    "<funName>()"
   ]
  },
  {
   "cell_type": "raw",
   "id": "d01f1053",
   "metadata": {},
   "source": [
    "1. when we create a function it will create in memory and it is ready to execute\n",
    "2. when we call function then function body will execute\n",
    "3. every function must return\n",
    "4. function returns with return statement only\n",
    "5. function which doesn't have return statement it returns None\n",
    "6. output of the function is a return value"
   ]
  },
  {
   "cell_type": "code",
   "execution_count": 1,
   "id": "b991d08f",
   "metadata": {},
   "outputs": [],
   "source": [
    "def f1():\n",
    "    print(\"welcome to python functions\")"
   ]
  },
  {
   "cell_type": "code",
   "execution_count": 2,
   "id": "b9ae5d8d",
   "metadata": {},
   "outputs": [
    {
     "name": "stdout",
     "output_type": "stream",
     "text": [
      "welcome to python functions\n"
     ]
    }
   ],
   "source": [
    "f1()"
   ]
  },
  {
   "cell_type": "code",
   "execution_count": 3,
   "id": "88bffa9c",
   "metadata": {},
   "outputs": [
    {
     "name": "stdout",
     "output_type": "stream",
     "text": [
      "welcome to python functions\n",
      "None\n"
     ]
    }
   ],
   "source": [
    "print(f1())"
   ]
  },
  {
   "cell_type": "code",
   "execution_count": null,
   "id": "26965535",
   "metadata": {},
   "outputs": [],
   "source": []
  },
  {
   "cell_type": "code",
   "execution_count": 4,
   "id": "e2ad032f",
   "metadata": {},
   "outputs": [],
   "source": [
    "def f2():\n",
    "    return \"Good Morning\""
   ]
  },
  {
   "cell_type": "code",
   "execution_count": 5,
   "id": "67edd8dd",
   "metadata": {},
   "outputs": [
    {
     "data": {
      "text/plain": [
       "'Good Morning'"
      ]
     },
     "execution_count": 5,
     "metadata": {},
     "output_type": "execute_result"
    }
   ],
   "source": [
    "f2()"
   ]
  },
  {
   "cell_type": "code",
   "execution_count": 6,
   "id": "3021ab8c",
   "metadata": {},
   "outputs": [
    {
     "name": "stdout",
     "output_type": "stream",
     "text": [
      "welcome to python functions\n",
      "None\n"
     ]
    }
   ],
   "source": [
    "v1 = f1()\n",
    "print(v1)"
   ]
  },
  {
   "cell_type": "code",
   "execution_count": 7,
   "id": "6ea6b966",
   "metadata": {},
   "outputs": [
    {
     "data": {
      "text/plain": [
       "NoneType"
      ]
     },
     "execution_count": 7,
     "metadata": {},
     "output_type": "execute_result"
    }
   ],
   "source": [
    "type(v1)"
   ]
  },
  {
   "cell_type": "code",
   "execution_count": 8,
   "id": "b327e68b",
   "metadata": {},
   "outputs": [],
   "source": [
    "v2 = f2()"
   ]
  },
  {
   "cell_type": "code",
   "execution_count": 9,
   "id": "70e3488b",
   "metadata": {},
   "outputs": [
    {
     "name": "stdout",
     "output_type": "stream",
     "text": [
      "Good Morning\n"
     ]
    }
   ],
   "source": [
    "print(v2)"
   ]
  },
  {
   "cell_type": "code",
   "execution_count": 10,
   "id": "ffee56fd",
   "metadata": {},
   "outputs": [
    {
     "data": {
      "text/plain": [
       "str"
      ]
     },
     "execution_count": 10,
     "metadata": {},
     "output_type": "execute_result"
    }
   ],
   "source": [
    "type(v2)"
   ]
  },
  {
   "cell_type": "code",
   "execution_count": 11,
   "id": "1bc09f52",
   "metadata": {},
   "outputs": [
    {
     "data": {
      "text/plain": [
       "<function __main__.f1()>"
      ]
     },
     "execution_count": 11,
     "metadata": {},
     "output_type": "execute_result"
    }
   ],
   "source": [
    "f1"
   ]
  },
  {
   "cell_type": "code",
   "execution_count": 12,
   "id": "f5ce58f6",
   "metadata": {},
   "outputs": [],
   "source": [
    "v3 = f1"
   ]
  },
  {
   "cell_type": "code",
   "execution_count": 13,
   "id": "d73f19f9",
   "metadata": {},
   "outputs": [
    {
     "data": {
      "text/plain": [
       "function"
      ]
     },
     "execution_count": 13,
     "metadata": {},
     "output_type": "execute_result"
    }
   ],
   "source": [
    "type(f1)"
   ]
  },
  {
   "cell_type": "code",
   "execution_count": 14,
   "id": "f5bbb76c",
   "metadata": {},
   "outputs": [
    {
     "data": {
      "text/plain": [
       "function"
      ]
     },
     "execution_count": 14,
     "metadata": {},
     "output_type": "execute_result"
    }
   ],
   "source": [
    "type(v3)"
   ]
  },
  {
   "cell_type": "code",
   "execution_count": 15,
   "id": "eaced606",
   "metadata": {},
   "outputs": [
    {
     "name": "stdout",
     "output_type": "stream",
     "text": [
      "welcome to python functions\n"
     ]
    }
   ],
   "source": [
    "f1()"
   ]
  },
  {
   "cell_type": "code",
   "execution_count": 16,
   "id": "73bdb6c6",
   "metadata": {},
   "outputs": [
    {
     "name": "stdout",
     "output_type": "stream",
     "text": [
      "welcome to python functions\n"
     ]
    }
   ],
   "source": [
    "v3()"
   ]
  },
  {
   "cell_type": "code",
   "execution_count": 17,
   "id": "21d74892",
   "metadata": {},
   "outputs": [
    {
     "ename": "TypeError",
     "evalue": "'NoneType' object is not callable",
     "output_type": "error",
     "traceback": [
      "\u001b[1;31m---------------------------------------------------------------------------\u001b[0m",
      "\u001b[1;31mTypeError\u001b[0m                                 Traceback (most recent call last)",
      "\u001b[1;32m~\\AppData\\Local\\Temp\\ipykernel_17572\\129193685.py\u001b[0m in \u001b[0;36m<module>\u001b[1;34m\u001b[0m\n\u001b[1;32m----> 1\u001b[1;33m \u001b[0mv1\u001b[0m\u001b[1;33m(\u001b[0m\u001b[1;36m100\u001b[0m\u001b[1;33m)\u001b[0m\u001b[1;33m\u001b[0m\u001b[1;33m\u001b[0m\u001b[0m\n\u001b[0m",
      "\u001b[1;31mTypeError\u001b[0m: 'NoneType' object is not callable"
     ]
    }
   ],
   "source": [
    "v1(100)"
   ]
  },
  {
   "cell_type": "code",
   "execution_count": 18,
   "id": "a506ba79",
   "metadata": {},
   "outputs": [
    {
     "ename": "TypeError",
     "evalue": "f1() takes 0 positional arguments but 1 was given",
     "output_type": "error",
     "traceback": [
      "\u001b[1;31m---------------------------------------------------------------------------\u001b[0m",
      "\u001b[1;31mTypeError\u001b[0m                                 Traceback (most recent call last)",
      "\u001b[1;32m~\\AppData\\Local\\Temp\\ipykernel_17572\\1184767276.py\u001b[0m in \u001b[0;36m<module>\u001b[1;34m\u001b[0m\n\u001b[1;32m----> 1\u001b[1;33m \u001b[0mv3\u001b[0m\u001b[1;33m(\u001b[0m\u001b[1;36m100\u001b[0m\u001b[1;33m)\u001b[0m\u001b[1;33m\u001b[0m\u001b[1;33m\u001b[0m\u001b[0m\n\u001b[0m",
      "\u001b[1;31mTypeError\u001b[0m: f1() takes 0 positional arguments but 1 was given"
     ]
    }
   ],
   "source": [
    "v3(100)"
   ]
  },
  {
   "cell_type": "code",
   "execution_count": 19,
   "id": "17c5508e",
   "metadata": {},
   "outputs": [
    {
     "data": {
      "text/plain": [
       "2822469999488"
      ]
     },
     "execution_count": 19,
     "metadata": {},
     "output_type": "execute_result"
    }
   ],
   "source": [
    "id(f1)"
   ]
  },
  {
   "cell_type": "code",
   "execution_count": 20,
   "id": "2d9e0b20",
   "metadata": {},
   "outputs": [
    {
     "data": {
      "text/plain": [
       "2822469999488"
      ]
     },
     "execution_count": 20,
     "metadata": {},
     "output_type": "execute_result"
    }
   ],
   "source": [
    "id(v3)"
   ]
  },
  {
   "cell_type": "code",
   "execution_count": 21,
   "id": "0b9adea4",
   "metadata": {},
   "outputs": [],
   "source": [
    "del f1"
   ]
  },
  {
   "cell_type": "code",
   "execution_count": 22,
   "id": "c978218b",
   "metadata": {},
   "outputs": [
    {
     "ename": "NameError",
     "evalue": "name 'f1' is not defined",
     "output_type": "error",
     "traceback": [
      "\u001b[1;31m---------------------------------------------------------------------------\u001b[0m",
      "\u001b[1;31mNameError\u001b[0m                                 Traceback (most recent call last)",
      "\u001b[1;32m~\\AppData\\Local\\Temp\\ipykernel_17572\\74188726.py\u001b[0m in \u001b[0;36m<module>\u001b[1;34m\u001b[0m\n\u001b[1;32m----> 1\u001b[1;33m \u001b[0mid\u001b[0m\u001b[1;33m(\u001b[0m\u001b[0mf1\u001b[0m\u001b[1;33m)\u001b[0m\u001b[1;33m\u001b[0m\u001b[1;33m\u001b[0m\u001b[0m\n\u001b[0m",
      "\u001b[1;31mNameError\u001b[0m: name 'f1' is not defined"
     ]
    }
   ],
   "source": [
    "id(f1)"
   ]
  },
  {
   "cell_type": "code",
   "execution_count": 23,
   "id": "f4e80a7e",
   "metadata": {},
   "outputs": [
    {
     "data": {
      "text/plain": [
       "2822469999488"
      ]
     },
     "execution_count": 23,
     "metadata": {},
     "output_type": "execute_result"
    }
   ],
   "source": [
    "id(v3)"
   ]
  },
  {
   "cell_type": "code",
   "execution_count": 24,
   "id": "35de5c4b",
   "metadata": {},
   "outputs": [
    {
     "name": "stdout",
     "output_type": "stream",
     "text": [
      "welcome to python functions\n"
     ]
    }
   ],
   "source": [
    "v3()"
   ]
  },
  {
   "cell_type": "code",
   "execution_count": 25,
   "id": "42291855",
   "metadata": {},
   "outputs": [],
   "source": [
    "def f3():\n",
    "    print(\"Good Morning\")\n",
    "    return \"Welcome\""
   ]
  },
  {
   "cell_type": "code",
   "execution_count": 26,
   "id": "71c53f74",
   "metadata": {},
   "outputs": [
    {
     "name": "stdout",
     "output_type": "stream",
     "text": [
      "Good Morning\n"
     ]
    },
    {
     "data": {
      "text/plain": [
       "'Welcome'"
      ]
     },
     "execution_count": 26,
     "metadata": {},
     "output_type": "execute_result"
    }
   ],
   "source": [
    "f3()"
   ]
  },
  {
   "cell_type": "code",
   "execution_count": null,
   "id": "ff979cb2",
   "metadata": {},
   "outputs": [],
   "source": [
    "#parameters"
   ]
  },
  {
   "cell_type": "code",
   "execution_count": 27,
   "id": "97e7e12e",
   "metadata": {},
   "outputs": [],
   "source": [
    "def f4(msg):\n",
    "    return msg"
   ]
  },
  {
   "cell_type": "code",
   "execution_count": 28,
   "id": "937fb7eb",
   "metadata": {},
   "outputs": [
    {
     "data": {
      "text/plain": [
       "'Good Morning'"
      ]
     },
     "execution_count": 28,
     "metadata": {},
     "output_type": "execute_result"
    }
   ],
   "source": [
    "f4(\"Good Morning\")"
   ]
  },
  {
   "cell_type": "code",
   "execution_count": 29,
   "id": "b824e583",
   "metadata": {},
   "outputs": [
    {
     "ename": "TypeError",
     "evalue": "f4() missing 1 required positional argument: 'msg'",
     "output_type": "error",
     "traceback": [
      "\u001b[1;31m---------------------------------------------------------------------------\u001b[0m",
      "\u001b[1;31mTypeError\u001b[0m                                 Traceback (most recent call last)",
      "\u001b[1;32m~\\AppData\\Local\\Temp\\ipykernel_17572\\1205670228.py\u001b[0m in \u001b[0;36m<module>\u001b[1;34m\u001b[0m\n\u001b[1;32m----> 1\u001b[1;33m \u001b[0mf4\u001b[0m\u001b[1;33m(\u001b[0m\u001b[1;33m)\u001b[0m\u001b[1;33m\u001b[0m\u001b[1;33m\u001b[0m\u001b[0m\n\u001b[0m",
      "\u001b[1;31mTypeError\u001b[0m: f4() missing 1 required positional argument: 'msg'"
     ]
    }
   ],
   "source": [
    "f4()"
   ]
  },
  {
   "cell_type": "code",
   "execution_count": 30,
   "id": "1cebb909",
   "metadata": {},
   "outputs": [
    {
     "ename": "TypeError",
     "evalue": "f4() takes 1 positional argument but 2 were given",
     "output_type": "error",
     "traceback": [
      "\u001b[1;31m---------------------------------------------------------------------------\u001b[0m",
      "\u001b[1;31mTypeError\u001b[0m                                 Traceback (most recent call last)",
      "\u001b[1;32m~\\AppData\\Local\\Temp\\ipykernel_17572\\142760898.py\u001b[0m in \u001b[0;36m<module>\u001b[1;34m\u001b[0m\n\u001b[1;32m----> 1\u001b[1;33m \u001b[0mf4\u001b[0m\u001b[1;33m(\u001b[0m\u001b[1;34m'hello'\u001b[0m\u001b[1;33m,\u001b[0m\u001b[1;34m'hi'\u001b[0m\u001b[1;33m)\u001b[0m\u001b[1;33m\u001b[0m\u001b[1;33m\u001b[0m\u001b[0m\n\u001b[0m",
      "\u001b[1;31mTypeError\u001b[0m: f4() takes 1 positional argument but 2 were given"
     ]
    }
   ],
   "source": [
    "f4('hello','hi')"
   ]
  },
  {
   "cell_type": "code",
   "execution_count": null,
   "id": "eb34b6c6",
   "metadata": {},
   "outputs": [],
   "source": [
    "#default argument"
   ]
  },
  {
   "cell_type": "code",
   "execution_count": 31,
   "id": "87ddb94c",
   "metadata": {},
   "outputs": [],
   "source": [
    "def f5(msg='Good Morning'):\n",
    "    return msg"
   ]
  },
  {
   "cell_type": "code",
   "execution_count": 32,
   "id": "4a73ed8e",
   "metadata": {},
   "outputs": [
    {
     "data": {
      "text/plain": [
       "'Good Morning'"
      ]
     },
     "execution_count": 32,
     "metadata": {},
     "output_type": "execute_result"
    }
   ],
   "source": [
    "f5()"
   ]
  },
  {
   "cell_type": "code",
   "execution_count": 33,
   "id": "05e2a65e",
   "metadata": {},
   "outputs": [
    {
     "data": {
      "text/plain": [
       "'Good Evening'"
      ]
     },
     "execution_count": 33,
     "metadata": {},
     "output_type": "execute_result"
    }
   ],
   "source": [
    "f5(\"Good Evening\")"
   ]
  },
  {
   "cell_type": "code",
   "execution_count": 34,
   "id": "9c92388e",
   "metadata": {},
   "outputs": [],
   "source": [
    "def f6(msg,name):\n",
    "    return msg+\" \"+name"
   ]
  },
  {
   "cell_type": "code",
   "execution_count": 35,
   "id": "befaae27",
   "metadata": {},
   "outputs": [
    {
     "data": {
      "text/plain": [
       "'Good Morning Ravi'"
      ]
     },
     "execution_count": 35,
     "metadata": {},
     "output_type": "execute_result"
    }
   ],
   "source": [
    "f6('Good Morning','Ravi')"
   ]
  },
  {
   "cell_type": "code",
   "execution_count": 36,
   "id": "895fda44",
   "metadata": {},
   "outputs": [],
   "source": [
    "def f7(name,msg='Good Morning'):\n",
    "    return msg+\" \"+name"
   ]
  },
  {
   "cell_type": "code",
   "execution_count": 37,
   "id": "0f8c2404",
   "metadata": {},
   "outputs": [
    {
     "data": {
      "text/plain": [
       "'shekar Good Evening'"
      ]
     },
     "execution_count": 37,
     "metadata": {},
     "output_type": "execute_result"
    }
   ],
   "source": [
    "f7(\"Good Evening\",'shekar')"
   ]
  },
  {
   "cell_type": "code",
   "execution_count": 38,
   "id": "6fc2d550",
   "metadata": {},
   "outputs": [
    {
     "data": {
      "text/plain": [
       "'Good Morning suman'"
      ]
     },
     "execution_count": 38,
     "metadata": {},
     "output_type": "execute_result"
    }
   ],
   "source": [
    "f7('suman')"
   ]
  },
  {
   "cell_type": "code",
   "execution_count": 39,
   "id": "78c93687",
   "metadata": {},
   "outputs": [
    {
     "ename": "TypeError",
     "evalue": "f7() missing 1 required positional argument: 'name'",
     "output_type": "error",
     "traceback": [
      "\u001b[1;31m---------------------------------------------------------------------------\u001b[0m",
      "\u001b[1;31mTypeError\u001b[0m                                 Traceback (most recent call last)",
      "\u001b[1;32m~\\AppData\\Local\\Temp\\ipykernel_17572\\218812418.py\u001b[0m in \u001b[0;36m<module>\u001b[1;34m\u001b[0m\n\u001b[0;32m      1\u001b[0m \u001b[1;31m#no of parameters = no of arguments\u001b[0m\u001b[1;33m\u001b[0m\u001b[1;33m\u001b[0m\u001b[0m\n\u001b[1;32m----> 2\u001b[1;33m \u001b[0mf7\u001b[0m\u001b[1;33m(\u001b[0m\u001b[1;33m)\u001b[0m\u001b[1;33m\u001b[0m\u001b[1;33m\u001b[0m\u001b[0m\n\u001b[0m",
      "\u001b[1;31mTypeError\u001b[0m: f7() missing 1 required positional argument: 'name'"
     ]
    }
   ],
   "source": [
    "#no of parameters = no of arguments\n",
    "f7()"
   ]
  },
  {
   "cell_type": "code",
   "execution_count": 40,
   "id": "4ff363bd",
   "metadata": {},
   "outputs": [],
   "source": [
    "#positional arguments\n",
    "def f8(a,b):\n",
    "    print('a =',a)\n",
    "    print('b =',b)\n",
    "    return a+b"
   ]
  },
  {
   "cell_type": "code",
   "execution_count": 41,
   "id": "34405756",
   "metadata": {},
   "outputs": [
    {
     "name": "stdout",
     "output_type": "stream",
     "text": [
      "a = 10\n",
      "b = 20\n"
     ]
    },
    {
     "data": {
      "text/plain": [
       "30"
      ]
     },
     "execution_count": 41,
     "metadata": {},
     "output_type": "execute_result"
    }
   ],
   "source": [
    "f8(10,20)"
   ]
  },
  {
   "cell_type": "code",
   "execution_count": 42,
   "id": "5f7ff35e",
   "metadata": {},
   "outputs": [
    {
     "name": "stdout",
     "output_type": "stream",
     "text": [
      "a = 20\n",
      "b = 10\n"
     ]
    },
    {
     "data": {
      "text/plain": [
       "30"
      ]
     },
     "execution_count": 42,
     "metadata": {},
     "output_type": "execute_result"
    }
   ],
   "source": [
    "f8(20,10)"
   ]
  },
  {
   "cell_type": "code",
   "execution_count": null,
   "id": "81be35d8",
   "metadata": {},
   "outputs": [],
   "source": [
    "#keyword arguments"
   ]
  },
  {
   "cell_type": "code",
   "execution_count": 43,
   "id": "004c6b8a",
   "metadata": {},
   "outputs": [],
   "source": [
    "def f1(a,b):\n",
    "    print('a =',a)\n",
    "    print('b =',b)\n",
    "    return a+b"
   ]
  },
  {
   "cell_type": "code",
   "execution_count": 44,
   "id": "e877c2d8",
   "metadata": {},
   "outputs": [
    {
     "ename": "TypeError",
     "evalue": "f1() missing 2 required positional arguments: 'a' and 'b'",
     "output_type": "error",
     "traceback": [
      "\u001b[1;31m---------------------------------------------------------------------------\u001b[0m",
      "\u001b[1;31mTypeError\u001b[0m                                 Traceback (most recent call last)",
      "\u001b[1;32m~\\AppData\\Local\\Temp\\ipykernel_17572\\2719331641.py\u001b[0m in \u001b[0;36m<module>\u001b[1;34m\u001b[0m\n\u001b[1;32m----> 1\u001b[1;33m \u001b[0mf1\u001b[0m\u001b[1;33m(\u001b[0m\u001b[1;33m)\u001b[0m\u001b[1;33m\u001b[0m\u001b[1;33m\u001b[0m\u001b[0m\n\u001b[0m",
      "\u001b[1;31mTypeError\u001b[0m: f1() missing 2 required positional arguments: 'a' and 'b'"
     ]
    }
   ],
   "source": [
    "f1()"
   ]
  },
  {
   "cell_type": "code",
   "execution_count": 45,
   "id": "fa69d258",
   "metadata": {},
   "outputs": [
    {
     "name": "stdout",
     "output_type": "stream",
     "text": [
      "a = 10\n",
      "b = 20\n"
     ]
    },
    {
     "data": {
      "text/plain": [
       "30"
      ]
     },
     "execution_count": 45,
     "metadata": {},
     "output_type": "execute_result"
    }
   ],
   "source": [
    "f1(a=10,b=20)"
   ]
  },
  {
   "cell_type": "code",
   "execution_count": 46,
   "id": "64716bf3",
   "metadata": {},
   "outputs": [
    {
     "name": "stdout",
     "output_type": "stream",
     "text": [
      "a = 13\n",
      "b = 14\n"
     ]
    },
    {
     "data": {
      "text/plain": [
       "27"
      ]
     },
     "execution_count": 46,
     "metadata": {},
     "output_type": "execute_result"
    }
   ],
   "source": [
    "f1(b=14,a=13)"
   ]
  },
  {
   "cell_type": "code",
   "execution_count": 47,
   "id": "8c13ebc5",
   "metadata": {},
   "outputs": [
    {
     "ename": "TypeError",
     "evalue": "f1() got an unexpected keyword argument 'c'",
     "output_type": "error",
     "traceback": [
      "\u001b[1;31m---------------------------------------------------------------------------\u001b[0m",
      "\u001b[1;31mTypeError\u001b[0m                                 Traceback (most recent call last)",
      "\u001b[1;32m~\\AppData\\Local\\Temp\\ipykernel_17572\\1664265737.py\u001b[0m in \u001b[0;36m<module>\u001b[1;34m\u001b[0m\n\u001b[1;32m----> 1\u001b[1;33m \u001b[0mf1\u001b[0m\u001b[1;33m(\u001b[0m\u001b[0ma\u001b[0m\u001b[1;33m=\u001b[0m\u001b[1;36m12\u001b[0m\u001b[1;33m,\u001b[0m\u001b[0mc\u001b[0m\u001b[1;33m=\u001b[0m\u001b[1;36m15\u001b[0m\u001b[1;33m)\u001b[0m\u001b[1;33m\u001b[0m\u001b[1;33m\u001b[0m\u001b[0m\n\u001b[0m",
      "\u001b[1;31mTypeError\u001b[0m: f1() got an unexpected keyword argument 'c'"
     ]
    }
   ],
   "source": [
    "f1(a=12,c=15)"
   ]
  },
  {
   "cell_type": "code",
   "execution_count": null,
   "id": "6ddc7bde",
   "metadata": {},
   "outputs": [],
   "source": [
    "#mixed arguments of positional and keyword"
   ]
  },
  {
   "cell_type": "code",
   "execution_count": 48,
   "id": "0b644c28",
   "metadata": {},
   "outputs": [
    {
     "name": "stdout",
     "output_type": "stream",
     "text": [
      "a = 20\n",
      "b = 20\n"
     ]
    },
    {
     "data": {
      "text/plain": [
       "40"
      ]
     },
     "execution_count": 48,
     "metadata": {},
     "output_type": "execute_result"
    }
   ],
   "source": [
    "f1(20,b=20)"
   ]
  },
  {
   "cell_type": "code",
   "execution_count": 49,
   "id": "915f7269",
   "metadata": {},
   "outputs": [
    {
     "ename": "SyntaxError",
     "evalue": "positional argument follows keyword argument (3354433626.py, line 1)",
     "output_type": "error",
     "traceback": [
      "\u001b[1;36m  File \u001b[1;32m\"C:\\Users\\91789\\AppData\\Local\\Temp\\ipykernel_17572\\3354433626.py\"\u001b[1;36m, line \u001b[1;32m1\u001b[0m\n\u001b[1;33m    f1(a=15,20)\u001b[0m\n\u001b[1;37m              ^\u001b[0m\n\u001b[1;31mSyntaxError\u001b[0m\u001b[1;31m:\u001b[0m positional argument follows keyword argument\n"
     ]
    }
   ],
   "source": [
    "f1(a=15,20)"
   ]
  },
  {
   "cell_type": "code",
   "execution_count": 50,
   "id": "9eea88a0",
   "metadata": {},
   "outputs": [
    {
     "ename": "TypeError",
     "evalue": "f1() got multiple values for argument 'a'",
     "output_type": "error",
     "traceback": [
      "\u001b[1;31m---------------------------------------------------------------------------\u001b[0m",
      "\u001b[1;31mTypeError\u001b[0m                                 Traceback (most recent call last)",
      "\u001b[1;32m~\\AppData\\Local\\Temp\\ipykernel_17572\\1636660039.py\u001b[0m in \u001b[0;36m<module>\u001b[1;34m\u001b[0m\n\u001b[1;32m----> 1\u001b[1;33m \u001b[0mf1\u001b[0m\u001b[1;33m(\u001b[0m\u001b[1;36m20\u001b[0m\u001b[1;33m,\u001b[0m\u001b[0ma\u001b[0m\u001b[1;33m=\u001b[0m\u001b[1;36m15\u001b[0m\u001b[1;33m)\u001b[0m\u001b[1;33m\u001b[0m\u001b[1;33m\u001b[0m\u001b[0m\n\u001b[0m",
      "\u001b[1;31mTypeError\u001b[0m: f1() got multiple values for argument 'a'"
     ]
    }
   ],
   "source": [
    "f1(20,a=15)"
   ]
  },
  {
   "cell_type": "code",
   "execution_count": 51,
   "id": "3ff864b2",
   "metadata": {},
   "outputs": [],
   "source": [
    "def f2(a,b=15):\n",
    "    return a+b"
   ]
  },
  {
   "cell_type": "code",
   "execution_count": 52,
   "id": "89da8d7f",
   "metadata": {},
   "outputs": [
    {
     "data": {
      "text/plain": [
       "25"
      ]
     },
     "execution_count": 52,
     "metadata": {},
     "output_type": "execute_result"
    }
   ],
   "source": [
    "f2(10)"
   ]
  },
  {
   "cell_type": "code",
   "execution_count": 53,
   "id": "31c9ba6c",
   "metadata": {},
   "outputs": [
    {
     "data": {
      "text/plain": [
       "30"
      ]
     },
     "execution_count": 53,
     "metadata": {},
     "output_type": "execute_result"
    }
   ],
   "source": [
    "f2(10,20)"
   ]
  },
  {
   "cell_type": "code",
   "execution_count": null,
   "id": "6a12e2f2",
   "metadata": {},
   "outputs": [],
   "source": [
    "#variable creaton in function body"
   ]
  },
  {
   "cell_type": "code",
   "execution_count": 54,
   "id": "cafb746a",
   "metadata": {},
   "outputs": [],
   "source": [
    "def f1():\n",
    "    a = 100\n",
    "    b = 200\n",
    "    print(a,b)\n",
    "    return a+b"
   ]
  },
  {
   "cell_type": "code",
   "execution_count": 55,
   "id": "51e9170c",
   "metadata": {},
   "outputs": [
    {
     "name": "stdout",
     "output_type": "stream",
     "text": [
      "100 200\n"
     ]
    },
    {
     "data": {
      "text/plain": [
       "300"
      ]
     },
     "execution_count": 55,
     "metadata": {},
     "output_type": "execute_result"
    }
   ],
   "source": [
    "f1()"
   ]
  },
  {
   "cell_type": "code",
   "execution_count": 56,
   "id": "45ed1b1a",
   "metadata": {},
   "outputs": [
    {
     "ename": "NameError",
     "evalue": "name 'a' is not defined",
     "output_type": "error",
     "traceback": [
      "\u001b[1;31m---------------------------------------------------------------------------\u001b[0m",
      "\u001b[1;31mNameError\u001b[0m                                 Traceback (most recent call last)",
      "\u001b[1;32m~\\AppData\\Local\\Temp\\ipykernel_17572\\2167009006.py\u001b[0m in \u001b[0;36m<module>\u001b[1;34m\u001b[0m\n\u001b[1;32m----> 1\u001b[1;33m \u001b[0ma\u001b[0m\u001b[1;33m\u001b[0m\u001b[1;33m\u001b[0m\u001b[0m\n\u001b[0m",
      "\u001b[1;31mNameError\u001b[0m: name 'a' is not defined"
     ]
    }
   ],
   "source": [
    "a"
   ]
  },
  {
   "cell_type": "code",
   "execution_count": 57,
   "id": "8e5e0094",
   "metadata": {},
   "outputs": [
    {
     "ename": "NameError",
     "evalue": "name 'b' is not defined",
     "output_type": "error",
     "traceback": [
      "\u001b[1;31m---------------------------------------------------------------------------\u001b[0m",
      "\u001b[1;31mNameError\u001b[0m                                 Traceback (most recent call last)",
      "\u001b[1;32m~\\AppData\\Local\\Temp\\ipykernel_17572\\1685013873.py\u001b[0m in \u001b[0;36m<module>\u001b[1;34m\u001b[0m\n\u001b[1;32m----> 1\u001b[1;33m \u001b[0mb\u001b[0m\u001b[1;33m\u001b[0m\u001b[1;33m\u001b[0m\u001b[0m\n\u001b[0m",
      "\u001b[1;31mNameError\u001b[0m: name 'b' is not defined"
     ]
    }
   ],
   "source": [
    "b"
   ]
  },
  {
   "cell_type": "code",
   "execution_count": 58,
   "id": "e6dbbd12",
   "metadata": {},
   "outputs": [
    {
     "ename": "AttributeError",
     "evalue": "'function' object has no attribute 'a'",
     "output_type": "error",
     "traceback": [
      "\u001b[1;31m---------------------------------------------------------------------------\u001b[0m",
      "\u001b[1;31mAttributeError\u001b[0m                            Traceback (most recent call last)",
      "\u001b[1;32m~\\AppData\\Local\\Temp\\ipykernel_17572\\2356612074.py\u001b[0m in \u001b[0;36m<module>\u001b[1;34m\u001b[0m\n\u001b[1;32m----> 1\u001b[1;33m \u001b[0mf1\u001b[0m\u001b[1;33m.\u001b[0m\u001b[0ma\u001b[0m\u001b[1;33m\u001b[0m\u001b[1;33m\u001b[0m\u001b[0m\n\u001b[0m",
      "\u001b[1;31mAttributeError\u001b[0m: 'function' object has no attribute 'a'"
     ]
    }
   ],
   "source": [
    "f1.a"
   ]
  },
  {
   "cell_type": "code",
   "execution_count": 59,
   "id": "e408cc22",
   "metadata": {},
   "outputs": [],
   "source": [
    "a=1000"
   ]
  },
  {
   "cell_type": "code",
   "execution_count": 60,
   "id": "22e839c6",
   "metadata": {},
   "outputs": [
    {
     "data": {
      "text/plain": [
       "1000"
      ]
     },
     "execution_count": 60,
     "metadata": {},
     "output_type": "execute_result"
    }
   ],
   "source": [
    "a"
   ]
  },
  {
   "cell_type": "code",
   "execution_count": 61,
   "id": "2c5b5a16",
   "metadata": {},
   "outputs": [
    {
     "name": "stdout",
     "output_type": "stream",
     "text": [
      "100 200\n"
     ]
    },
    {
     "data": {
      "text/plain": [
       "300"
      ]
     },
     "execution_count": 61,
     "metadata": {},
     "output_type": "execute_result"
    }
   ],
   "source": [
    "f1()"
   ]
  },
  {
   "cell_type": "code",
   "execution_count": 62,
   "id": "2665d948",
   "metadata": {},
   "outputs": [
    {
     "data": {
      "text/plain": [
       "1000"
      ]
     },
     "execution_count": 62,
     "metadata": {},
     "output_type": "execute_result"
    }
   ],
   "source": [
    "a"
   ]
  },
  {
   "cell_type": "code",
   "execution_count": 63,
   "id": "ba929dc1",
   "metadata": {},
   "outputs": [],
   "source": [
    "def f2():\n",
    "    return a"
   ]
  },
  {
   "cell_type": "code",
   "execution_count": 64,
   "id": "29f64acb",
   "metadata": {},
   "outputs": [
    {
     "data": {
      "text/plain": [
       "1000"
      ]
     },
     "execution_count": 64,
     "metadata": {},
     "output_type": "execute_result"
    }
   ],
   "source": [
    "f2()"
   ]
  },
  {
   "cell_type": "code",
   "execution_count": 65,
   "id": "eb4cd157",
   "metadata": {},
   "outputs": [],
   "source": [
    "def f3():\n",
    "    a = 100\n",
    "    return a"
   ]
  },
  {
   "cell_type": "code",
   "execution_count": 66,
   "id": "44d56cc4",
   "metadata": {},
   "outputs": [
    {
     "data": {
      "text/plain": [
       "100"
      ]
     },
     "execution_count": 66,
     "metadata": {},
     "output_type": "execute_result"
    }
   ],
   "source": [
    "f3()"
   ]
  },
  {
   "cell_type": "code",
   "execution_count": 67,
   "id": "2b482568",
   "metadata": {},
   "outputs": [],
   "source": [
    "def f4():\n",
    "    a = 120\n",
    "    b = 220\n",
    "    print(locals())\n",
    "    return a+b"
   ]
  },
  {
   "cell_type": "code",
   "execution_count": 68,
   "id": "a807d363",
   "metadata": {},
   "outputs": [
    {
     "name": "stdout",
     "output_type": "stream",
     "text": [
      "{'a': 120, 'b': 220}\n"
     ]
    },
    {
     "data": {
      "text/plain": [
       "340"
      ]
     },
     "execution_count": 68,
     "metadata": {},
     "output_type": "execute_result"
    }
   ],
   "source": [
    "f4()"
   ]
  },
  {
   "cell_type": "code",
   "execution_count": 69,
   "id": "d5986f35",
   "metadata": {},
   "outputs": [],
   "source": [
    "def f5():\n",
    "    a = 330\n",
    "    b = 430\n",
    "    return locals()"
   ]
  },
  {
   "cell_type": "code",
   "execution_count": 70,
   "id": "e4fb1743",
   "metadata": {},
   "outputs": [
    {
     "data": {
      "text/plain": [
       "{'a': 330, 'b': 430}"
      ]
     },
     "execution_count": 70,
     "metadata": {},
     "output_type": "execute_result"
    }
   ],
   "source": [
    "f5()"
   ]
  },
  {
   "cell_type": "code",
   "execution_count": 71,
   "id": "d157732f",
   "metadata": {},
   "outputs": [
    {
     "name": "stdout",
     "output_type": "stream",
     "text": [
      "{'__name__': '__main__', '__doc__': 'Automatically created module for IPython interactive environment', '__package__': None, '__loader__': None, '__spec__': None, '__builtin__': <module 'builtins' (built-in)>, '__builtins__': <module 'builtins' (built-in)>, '_ih': ['', 'def f1():\\n    print(\"welcome to python functions\")', 'f1()', 'print(f1())', 'def f2():\\n    return \"Good Morning\"', 'f2()', 'v1 = f1()\\nprint(v1)', 'type(v1)', 'v2 = f2()', 'print(v2)', 'type(v2)', 'f1', 'v3 = f1', 'type(f1)', 'type(v3)', 'f1()', 'v3()', 'v1(100)', 'v3(100)', 'id(f1)', 'id(v3)', 'del f1', 'id(f1)', 'id(v3)', 'v3()', 'def f3():\\n    print(\"Good Morning\")\\n    return \"Welcome\"', 'f3()', 'def f4(msg):\\n    return msg', 'f4(\"Good Morning\")', 'f4()', \"f4('hello','hi')\", \"def f5(msg='Good Morning'):\\n    return msg\", 'f5()', 'f5(\"Good Evening\")', 'def f6(msg,name):\\n    return msg+\" \"+name', \"f6('Good Morning','Ravi')\", 'def f7(name,msg=\\'Good Morning\\'):\\n    return msg+\" \"+name', 'f7(\"Good Evening\",\\'shekar\\')', \"f7('suman')\", '#no of parameters = no of arguments\\nf7()', \"#positional arguments\\ndef f8(a,b):\\n    print('a =',a)\\n    print('b =',b)\\n    return a+b\", 'f8(10,20)', 'f8(20,10)', \"def f1(a,b):\\n    print('a =',a)\\n    print('b =',b)\\n    return a+b\", 'f1()', 'f1(a=10,b=20)', 'f1(b=14,a=13)', 'f1(a=12,c=15)', 'f1(20,b=20)', 'f1(a=15,20)', 'f1(20,a=15)', 'def f2(a,b=15):\\n    return a+b', 'f2(10)', 'f2(10,20)', 'def f1():\\n    a = 100\\n    b = 200\\n    print(a,b)\\n    return a+b', 'f1()', 'a', 'b', 'f1.a', 'a=1000', 'a', 'f1()', 'a', 'def f2():\\n    return a', 'f2()', 'def f3():\\n    a = 100\\n    return a', 'f3()', 'def f4():\\n    a = 120\\n    b = 220\\n    print(locals())\\n    return a+b', 'f4()', 'def f5():\\n    a = 330\\n    b = 430\\n    return locals()', 'f5()', 'print(globals())'], '_oh': {5: 'Good Morning', 7: <class 'NoneType'>, 10: <class 'str'>, 11: <function f1 at 0x0000029128525B80>, 13: <class 'function'>, 14: <class 'function'>, 19: 2822469999488, 20: 2822469999488, 23: 2822469999488, 26: 'Welcome', 28: 'Good Morning', 32: 'Good Morning', 33: 'Good Evening', 35: 'Good Morning Ravi', 37: 'shekar Good Evening', 38: 'Good Morning suman', 41: 30, 42: 30, 45: 30, 46: 27, 48: 40, 52: 25, 53: 30, 55: 300, 60: 1000, 61: 300, 62: 1000, 64: 1000, 66: 100, 68: 340, 70: {'a': 330, 'b': 430}}, '_dh': ['C:\\\\Users\\\\91789\\\\pythonfiles\\\\chapter3'], 'In': ['', 'def f1():\\n    print(\"welcome to python functions\")', 'f1()', 'print(f1())', 'def f2():\\n    return \"Good Morning\"', 'f2()', 'v1 = f1()\\nprint(v1)', 'type(v1)', 'v2 = f2()', 'print(v2)', 'type(v2)', 'f1', 'v3 = f1', 'type(f1)', 'type(v3)', 'f1()', 'v3()', 'v1(100)', 'v3(100)', 'id(f1)', 'id(v3)', 'del f1', 'id(f1)', 'id(v3)', 'v3()', 'def f3():\\n    print(\"Good Morning\")\\n    return \"Welcome\"', 'f3()', 'def f4(msg):\\n    return msg', 'f4(\"Good Morning\")', 'f4()', \"f4('hello','hi')\", \"def f5(msg='Good Morning'):\\n    return msg\", 'f5()', 'f5(\"Good Evening\")', 'def f6(msg,name):\\n    return msg+\" \"+name', \"f6('Good Morning','Ravi')\", 'def f7(name,msg=\\'Good Morning\\'):\\n    return msg+\" \"+name', 'f7(\"Good Evening\",\\'shekar\\')', \"f7('suman')\", '#no of parameters = no of arguments\\nf7()', \"#positional arguments\\ndef f8(a,b):\\n    print('a =',a)\\n    print('b =',b)\\n    return a+b\", 'f8(10,20)', 'f8(20,10)', \"def f1(a,b):\\n    print('a =',a)\\n    print('b =',b)\\n    return a+b\", 'f1()', 'f1(a=10,b=20)', 'f1(b=14,a=13)', 'f1(a=12,c=15)', 'f1(20,b=20)', 'f1(a=15,20)', 'f1(20,a=15)', 'def f2(a,b=15):\\n    return a+b', 'f2(10)', 'f2(10,20)', 'def f1():\\n    a = 100\\n    b = 200\\n    print(a,b)\\n    return a+b', 'f1()', 'a', 'b', 'f1.a', 'a=1000', 'a', 'f1()', 'a', 'def f2():\\n    return a', 'f2()', 'def f3():\\n    a = 100\\n    return a', 'f3()', 'def f4():\\n    a = 120\\n    b = 220\\n    print(locals())\\n    return a+b', 'f4()', 'def f5():\\n    a = 330\\n    b = 430\\n    return locals()', 'f5()', 'print(globals())'], 'Out': {5: 'Good Morning', 7: <class 'NoneType'>, 10: <class 'str'>, 11: <function f1 at 0x0000029128525B80>, 13: <class 'function'>, 14: <class 'function'>, 19: 2822469999488, 20: 2822469999488, 23: 2822469999488, 26: 'Welcome', 28: 'Good Morning', 32: 'Good Morning', 33: 'Good Evening', 35: 'Good Morning Ravi', 37: 'shekar Good Evening', 38: 'Good Morning suman', 41: 30, 42: 30, 45: 30, 46: 27, 48: 40, 52: 25, 53: 30, 55: 300, 60: 1000, 61: 300, 62: 1000, 64: 1000, 66: 100, 68: 340, 70: {'a': 330, 'b': 430}}, 'get_ipython': <bound method InteractiveShell.get_ipython of <ipykernel.zmqshell.ZMQInteractiveShell object at 0x00000291280BC5E0>>, 'exit': <IPython.core.autocall.ZMQExitAutocall object at 0x000002912815A2E0>, 'quit': <IPython.core.autocall.ZMQExitAutocall object at 0x000002912815A2E0>, '_': {'a': 330, 'b': 430}, '__': 340, '___': 100, '_i': 'f5()', '_ii': 'def f5():\\n    a = 330\\n    b = 430\\n    return locals()', '_iii': 'f4()', '_i1': 'def f1():\\n    print(\"welcome to python functions\")', '_i2': 'f1()', '_i3': 'print(f1())', '_i4': 'def f2():\\n    return \"Good Morning\"', 'f2': <function f2 at 0x0000029128525C10>, '_i5': 'f2()', '_5': 'Good Morning', '_i6': 'v1 = f1()\\nprint(v1)', 'v1': None, '_i7': 'type(v1)', '_7': <class 'NoneType'>, '_i8': 'v2 = f2()', 'v2': 'Good Morning', '_i9': 'print(v2)', '_i10': 'type(v2)', '_10': <class 'str'>, '_i11': 'f1', '_11': <function f1 at 0x0000029128525B80>, '_i12': 'v3 = f1', 'v3': <function f1 at 0x0000029128525B80>, '_i13': 'type(f1)', '_13': <class 'function'>, '_i14': 'type(v3)', '_14': <class 'function'>, '_i15': 'f1()', '_i16': 'v3()', '_i17': 'v1(100)', '_i18': 'v3(100)', '_i19': 'id(f1)', '_19': 2822469999488, '_i20': 'id(v3)', '_20': 2822469999488, '_i21': 'del f1', '_i22': 'id(f1)', '_i23': 'id(v3)', '_23': 2822469999488, '_i24': 'v3()', '_i25': 'def f3():\\n    print(\"Good Morning\")\\n    return \"Welcome\"', 'f3': <function f3 at 0x000002912860DE50>, '_i26': 'f3()', '_26': 'Welcome', '_i27': 'def f4(msg):\\n    return msg', 'f4': <function f4 at 0x000002912860DC10>, '_i28': 'f4(\"Good Morning\")', '_28': 'Good Morning', '_i29': 'f4()', '_i30': \"f4('hello','hi')\", '_i31': \"def f5(msg='Good Morning'):\\n    return msg\", 'f5': <function f5 at 0x000002912861A3A0>, '_i32': 'f5()', '_32': 'Good Morning', '_i33': 'f5(\"Good Evening\")', '_33': 'Good Evening', '_i34': 'def f6(msg,name):\\n    return msg+\" \"+name', 'f6': <function f6 at 0x000002912860DB80>, '_i35': \"f6('Good Morning','Ravi')\", '_35': 'Good Morning Ravi', '_i36': 'def f7(name,msg=\\'Good Morning\\'):\\n    return msg+\" \"+name', 'f7': <function f7 at 0x0000029128525DC0>, '_i37': 'f7(\"Good Evening\",\\'shekar\\')', '_37': 'shekar Good Evening', '_i38': \"f7('suman')\", '_38': 'Good Morning suman', '_i39': '#no of parameters = no of arguments\\nf7()', '_i40': \"#positional arguments\\ndef f8(a,b):\\n    print('a =',a)\\n    print('b =',b)\\n    return a+b\", 'f8': <function f8 at 0x000002912860DF70>, '_i41': 'f8(10,20)', '_41': 30, '_i42': 'f8(20,10)', '_42': 30, '_i43': \"def f1(a,b):\\n    print('a =',a)\\n    print('b =',b)\\n    return a+b\", 'f1': <function f1 at 0x0000029128525700>, '_i44': 'f1()', '_i45': 'f1(a=10,b=20)', '_45': 30, '_i46': 'f1(b=14,a=13)', '_46': 27, '_i47': 'f1(a=12,c=15)', '_i48': 'f1(20,b=20)', '_48': 40, '_i49': 'f1(a=15,20)', '_i50': 'f1(20,a=15)', '_i51': 'def f2(a,b=15):\\n    return a+b', '_i52': 'f2(10)', '_52': 25, '_i53': 'f2(10,20)', '_53': 30, '_i54': 'def f1():\\n    a = 100\\n    b = 200\\n    print(a,b)\\n    return a+b', '_i55': 'f1()', '_55': 300, '_i56': 'a', '_i57': 'b', '_i58': 'f1.a', '_i59': 'a=1000', 'a': 1000, '_i60': 'a', '_60': 1000, '_i61': 'f1()', '_61': 300, '_i62': 'a', '_62': 1000, '_i63': 'def f2():\\n    return a', '_i64': 'f2()', '_64': 1000, '_i65': 'def f3():\\n    a = 100\\n    return a', '_i66': 'f3()', '_66': 100, '_i67': 'def f4():\\n    a = 120\\n    b = 220\\n    print(locals())\\n    return a+b', '_i68': 'f4()', '_68': 340, '_i69': 'def f5():\\n    a = 330\\n    b = 430\\n    return locals()', '_i70': 'f5()', '_70': {'a': 330, 'b': 430}, '_i71': 'print(globals())'}\n"
     ]
    }
   ],
   "source": [
    "print(globals())"
   ]
  },
  {
   "cell_type": "code",
   "execution_count": 72,
   "id": "98dbf7f5",
   "metadata": {},
   "outputs": [],
   "source": [
    "a=10\n",
    "def f1():\n",
    "    a = a+10\n",
    "    return a"
   ]
  },
  {
   "cell_type": "code",
   "execution_count": 73,
   "id": "c175a3a2",
   "metadata": {},
   "outputs": [
    {
     "ename": "UnboundLocalError",
     "evalue": "local variable 'a' referenced before assignment",
     "output_type": "error",
     "traceback": [
      "\u001b[1;31m---------------------------------------------------------------------------\u001b[0m",
      "\u001b[1;31mUnboundLocalError\u001b[0m                         Traceback (most recent call last)",
      "\u001b[1;32m~\\AppData\\Local\\Temp\\ipykernel_17572\\2719331641.py\u001b[0m in \u001b[0;36m<module>\u001b[1;34m\u001b[0m\n\u001b[1;32m----> 1\u001b[1;33m \u001b[0mf1\u001b[0m\u001b[1;33m(\u001b[0m\u001b[1;33m)\u001b[0m\u001b[1;33m\u001b[0m\u001b[1;33m\u001b[0m\u001b[0m\n\u001b[0m",
      "\u001b[1;32m~\\AppData\\Local\\Temp\\ipykernel_17572\\1104170134.py\u001b[0m in \u001b[0;36mf1\u001b[1;34m()\u001b[0m\n\u001b[0;32m      1\u001b[0m \u001b[0ma\u001b[0m\u001b[1;33m=\u001b[0m\u001b[1;36m10\u001b[0m\u001b[1;33m\u001b[0m\u001b[1;33m\u001b[0m\u001b[0m\n\u001b[0;32m      2\u001b[0m \u001b[1;32mdef\u001b[0m \u001b[0mf1\u001b[0m\u001b[1;33m(\u001b[0m\u001b[1;33m)\u001b[0m\u001b[1;33m:\u001b[0m\u001b[1;33m\u001b[0m\u001b[1;33m\u001b[0m\u001b[0m\n\u001b[1;32m----> 3\u001b[1;33m     \u001b[0ma\u001b[0m \u001b[1;33m=\u001b[0m \u001b[0ma\u001b[0m\u001b[1;33m+\u001b[0m\u001b[1;36m10\u001b[0m\u001b[1;33m\u001b[0m\u001b[1;33m\u001b[0m\u001b[0m\n\u001b[0m\u001b[0;32m      4\u001b[0m     \u001b[1;32mreturn\u001b[0m \u001b[0ma\u001b[0m\u001b[1;33m\u001b[0m\u001b[1;33m\u001b[0m\u001b[0m\n",
      "\u001b[1;31mUnboundLocalError\u001b[0m: local variable 'a' referenced before assignment"
     ]
    }
   ],
   "source": [
    "f1()"
   ]
  },
  {
   "cell_type": "code",
   "execution_count": 77,
   "id": "00620d01",
   "metadata": {},
   "outputs": [],
   "source": [
    "a=10\n",
    "def f1():\n",
    "    global a\n",
    "    a = a+10\n",
    "    print(locals())\n",
    "    return a"
   ]
  },
  {
   "cell_type": "code",
   "execution_count": 78,
   "id": "b06145de",
   "metadata": {},
   "outputs": [
    {
     "name": "stdout",
     "output_type": "stream",
     "text": [
      "{}\n"
     ]
    },
    {
     "data": {
      "text/plain": [
       "20"
      ]
     },
     "execution_count": 78,
     "metadata": {},
     "output_type": "execute_result"
    }
   ],
   "source": [
    "f1()"
   ]
  },
  {
   "cell_type": "code",
   "execution_count": 79,
   "id": "25b2549c",
   "metadata": {},
   "outputs": [
    {
     "data": {
      "text/plain": [
       "20"
      ]
     },
     "execution_count": 79,
     "metadata": {},
     "output_type": "execute_result"
    }
   ],
   "source": [
    "a"
   ]
  },
  {
   "cell_type": "code",
   "execution_count": 80,
   "id": "2e974690",
   "metadata": {},
   "outputs": [],
   "source": [
    "a=1111\n",
    "def f1():\n",
    "    a = 111\n",
    "    def f2():\n",
    "        a = 11\n",
    "        return a\n",
    "    return f2()"
   ]
  },
  {
   "cell_type": "code",
   "execution_count": 81,
   "id": "c174b529",
   "metadata": {},
   "outputs": [
    {
     "data": {
      "text/plain": [
       "11"
      ]
     },
     "execution_count": 81,
     "metadata": {},
     "output_type": "execute_result"
    }
   ],
   "source": [
    "f1()"
   ]
  },
  {
   "cell_type": "code",
   "execution_count": 82,
   "id": "881f9276",
   "metadata": {},
   "outputs": [],
   "source": [
    "a=1111\n",
    "def f1():\n",
    "    a = 111\n",
    "    def f2():\n",
    "        return a\n",
    "    return f2()"
   ]
  },
  {
   "cell_type": "code",
   "execution_count": 83,
   "id": "f9dccae8",
   "metadata": {},
   "outputs": [
    {
     "data": {
      "text/plain": [
       "111"
      ]
     },
     "execution_count": 83,
     "metadata": {},
     "output_type": "execute_result"
    }
   ],
   "source": [
    "f1()"
   ]
  },
  {
   "cell_type": "code",
   "execution_count": 84,
   "id": "5fca12c2",
   "metadata": {},
   "outputs": [],
   "source": [
    "a=1111\n",
    "def f1():\n",
    "    def f2():\n",
    "        return a\n",
    "    return f2()"
   ]
  },
  {
   "cell_type": "code",
   "execution_count": 85,
   "id": "ae4c1f9d",
   "metadata": {},
   "outputs": [
    {
     "data": {
      "text/plain": [
       "1111"
      ]
     },
     "execution_count": 85,
     "metadata": {},
     "output_type": "execute_result"
    }
   ],
   "source": [
    "f1()"
   ]
  },
  {
   "cell_type": "code",
   "execution_count": 86,
   "id": "3c13ce9f",
   "metadata": {},
   "outputs": [],
   "source": [
    "a=2000\n",
    "def f1():\n",
    "    a = 3000\n",
    "    def f2():\n",
    "        a = a + 1000\n",
    "        return a\n",
    "    return f2()"
   ]
  },
  {
   "cell_type": "code",
   "execution_count": 87,
   "id": "89424d74",
   "metadata": {},
   "outputs": [
    {
     "ename": "UnboundLocalError",
     "evalue": "local variable 'a' referenced before assignment",
     "output_type": "error",
     "traceback": [
      "\u001b[1;31m---------------------------------------------------------------------------\u001b[0m",
      "\u001b[1;31mUnboundLocalError\u001b[0m                         Traceback (most recent call last)",
      "\u001b[1;32m~\\AppData\\Local\\Temp\\ipykernel_17572\\2719331641.py\u001b[0m in \u001b[0;36m<module>\u001b[1;34m\u001b[0m\n\u001b[1;32m----> 1\u001b[1;33m \u001b[0mf1\u001b[0m\u001b[1;33m(\u001b[0m\u001b[1;33m)\u001b[0m\u001b[1;33m\u001b[0m\u001b[1;33m\u001b[0m\u001b[0m\n\u001b[0m",
      "\u001b[1;32m~\\AppData\\Local\\Temp\\ipykernel_17572\\140059152.py\u001b[0m in \u001b[0;36mf1\u001b[1;34m()\u001b[0m\n\u001b[0;32m      5\u001b[0m         \u001b[0ma\u001b[0m \u001b[1;33m=\u001b[0m \u001b[0ma\u001b[0m \u001b[1;33m+\u001b[0m \u001b[1;36m1000\u001b[0m\u001b[1;33m\u001b[0m\u001b[1;33m\u001b[0m\u001b[0m\n\u001b[0;32m      6\u001b[0m         \u001b[1;32mreturn\u001b[0m \u001b[0ma\u001b[0m\u001b[1;33m\u001b[0m\u001b[1;33m\u001b[0m\u001b[0m\n\u001b[1;32m----> 7\u001b[1;33m     \u001b[1;32mreturn\u001b[0m \u001b[0mf2\u001b[0m\u001b[1;33m(\u001b[0m\u001b[1;33m)\u001b[0m\u001b[1;33m\u001b[0m\u001b[1;33m\u001b[0m\u001b[0m\n\u001b[0m",
      "\u001b[1;32m~\\AppData\\Local\\Temp\\ipykernel_17572\\140059152.py\u001b[0m in \u001b[0;36mf2\u001b[1;34m()\u001b[0m\n\u001b[0;32m      3\u001b[0m     \u001b[0ma\u001b[0m \u001b[1;33m=\u001b[0m \u001b[1;36m3000\u001b[0m\u001b[1;33m\u001b[0m\u001b[1;33m\u001b[0m\u001b[0m\n\u001b[0;32m      4\u001b[0m     \u001b[1;32mdef\u001b[0m \u001b[0mf2\u001b[0m\u001b[1;33m(\u001b[0m\u001b[1;33m)\u001b[0m\u001b[1;33m:\u001b[0m\u001b[1;33m\u001b[0m\u001b[1;33m\u001b[0m\u001b[0m\n\u001b[1;32m----> 5\u001b[1;33m         \u001b[0ma\u001b[0m \u001b[1;33m=\u001b[0m \u001b[0ma\u001b[0m \u001b[1;33m+\u001b[0m \u001b[1;36m1000\u001b[0m\u001b[1;33m\u001b[0m\u001b[1;33m\u001b[0m\u001b[0m\n\u001b[0m\u001b[0;32m      6\u001b[0m         \u001b[1;32mreturn\u001b[0m \u001b[0ma\u001b[0m\u001b[1;33m\u001b[0m\u001b[1;33m\u001b[0m\u001b[0m\n\u001b[0;32m      7\u001b[0m     \u001b[1;32mreturn\u001b[0m \u001b[0mf2\u001b[0m\u001b[1;33m(\u001b[0m\u001b[1;33m)\u001b[0m\u001b[1;33m\u001b[0m\u001b[1;33m\u001b[0m\u001b[0m\n",
      "\u001b[1;31mUnboundLocalError\u001b[0m: local variable 'a' referenced before assignment"
     ]
    }
   ],
   "source": [
    "f1()"
   ]
  },
  {
   "cell_type": "code",
   "execution_count": 88,
   "id": "ca2bb0f7",
   "metadata": {},
   "outputs": [],
   "source": [
    "a=2000\n",
    "def f1():\n",
    "    a = 3000\n",
    "    def f2():\n",
    "        nonlocal a\n",
    "        a = a + 1000\n",
    "        return a\n",
    "    return f2()"
   ]
  },
  {
   "cell_type": "code",
   "execution_count": 89,
   "id": "75c7214b",
   "metadata": {},
   "outputs": [
    {
     "data": {
      "text/plain": [
       "4000"
      ]
     },
     "execution_count": 89,
     "metadata": {},
     "output_type": "execute_result"
    }
   ],
   "source": [
    "f1()"
   ]
  },
  {
   "cell_type": "code",
   "execution_count": 90,
   "id": "cd252729",
   "metadata": {},
   "outputs": [],
   "source": [
    "a=2000\n",
    "def f1():\n",
    "    a = 3000\n",
    "    def f2():\n",
    "        global a\n",
    "        a = a + 1000\n",
    "        return a\n",
    "    return f2()"
   ]
  },
  {
   "cell_type": "code",
   "execution_count": 91,
   "id": "c9af23c0",
   "metadata": {},
   "outputs": [
    {
     "data": {
      "text/plain": [
       "3000"
      ]
     },
     "execution_count": 91,
     "metadata": {},
     "output_type": "execute_result"
    }
   ],
   "source": [
    "f1()"
   ]
  },
  {
   "cell_type": "code",
   "execution_count": null,
   "id": "47328baa",
   "metadata": {},
   "outputs": [],
   "source": [
    "#creating global variales in locally"
   ]
  },
  {
   "cell_type": "code",
   "execution_count": 92,
   "id": "68d3c274",
   "metadata": {},
   "outputs": [],
   "source": [
    "def f1():\n",
    "    m = 111\n",
    "    n = 222\n",
    "    return m+n"
   ]
  },
  {
   "cell_type": "code",
   "execution_count": 93,
   "id": "28aefb57",
   "metadata": {},
   "outputs": [
    {
     "ename": "NameError",
     "evalue": "name 'm' is not defined",
     "output_type": "error",
     "traceback": [
      "\u001b[1;31m---------------------------------------------------------------------------\u001b[0m",
      "\u001b[1;31mNameError\u001b[0m                                 Traceback (most recent call last)",
      "\u001b[1;32m~\\AppData\\Local\\Temp\\ipykernel_17572\\1497821502.py\u001b[0m in \u001b[0;36m<module>\u001b[1;34m\u001b[0m\n\u001b[1;32m----> 1\u001b[1;33m \u001b[0mm\u001b[0m\u001b[1;33m\u001b[0m\u001b[1;33m\u001b[0m\u001b[0m\n\u001b[0m",
      "\u001b[1;31mNameError\u001b[0m: name 'm' is not defined"
     ]
    }
   ],
   "source": [
    "m"
   ]
  },
  {
   "cell_type": "code",
   "execution_count": 94,
   "id": "6a1805a2",
   "metadata": {},
   "outputs": [],
   "source": [
    "def f2():\n",
    "    return m+n"
   ]
  },
  {
   "cell_type": "code",
   "execution_count": 95,
   "id": "8368239b",
   "metadata": {},
   "outputs": [
    {
     "data": {
      "text/plain": [
       "333"
      ]
     },
     "execution_count": 95,
     "metadata": {},
     "output_type": "execute_result"
    }
   ],
   "source": [
    "f1()"
   ]
  },
  {
   "cell_type": "code",
   "execution_count": 96,
   "id": "ae0ef223",
   "metadata": {},
   "outputs": [
    {
     "ename": "NameError",
     "evalue": "name 'm' is not defined",
     "output_type": "error",
     "traceback": [
      "\u001b[1;31m---------------------------------------------------------------------------\u001b[0m",
      "\u001b[1;31mNameError\u001b[0m                                 Traceback (most recent call last)",
      "\u001b[1;32m~\\AppData\\Local\\Temp\\ipykernel_17572\\1603317987.py\u001b[0m in \u001b[0;36m<module>\u001b[1;34m\u001b[0m\n\u001b[1;32m----> 1\u001b[1;33m \u001b[0mf2\u001b[0m\u001b[1;33m(\u001b[0m\u001b[1;33m)\u001b[0m\u001b[1;33m\u001b[0m\u001b[1;33m\u001b[0m\u001b[0m\n\u001b[0m",
      "\u001b[1;32m~\\AppData\\Local\\Temp\\ipykernel_17572\\1269914521.py\u001b[0m in \u001b[0;36mf2\u001b[1;34m()\u001b[0m\n\u001b[0;32m      1\u001b[0m \u001b[1;32mdef\u001b[0m \u001b[0mf2\u001b[0m\u001b[1;33m(\u001b[0m\u001b[1;33m)\u001b[0m\u001b[1;33m:\u001b[0m\u001b[1;33m\u001b[0m\u001b[1;33m\u001b[0m\u001b[0m\n\u001b[1;32m----> 2\u001b[1;33m     \u001b[1;32mreturn\u001b[0m \u001b[0mm\u001b[0m\u001b[1;33m+\u001b[0m\u001b[0mn\u001b[0m\u001b[1;33m\u001b[0m\u001b[1;33m\u001b[0m\u001b[0m\n\u001b[0m",
      "\u001b[1;31mNameError\u001b[0m: name 'm' is not defined"
     ]
    }
   ],
   "source": [
    "f2()"
   ]
  },
  {
   "cell_type": "code",
   "execution_count": 97,
   "id": "9a003a71",
   "metadata": {},
   "outputs": [],
   "source": [
    "def f1():\n",
    "    f1.m = 111\n",
    "    f1.n = 222\n",
    "    return f1.m+f1.n"
   ]
  },
  {
   "cell_type": "code",
   "execution_count": 98,
   "id": "3709ce3a",
   "metadata": {},
   "outputs": [],
   "source": [
    "def f2():\n",
    "    return f1.m+f1.n"
   ]
  },
  {
   "cell_type": "code",
   "execution_count": 99,
   "id": "21c3362c",
   "metadata": {},
   "outputs": [
    {
     "data": {
      "text/plain": [
       "333"
      ]
     },
     "execution_count": 99,
     "metadata": {},
     "output_type": "execute_result"
    }
   ],
   "source": [
    "f1()"
   ]
  },
  {
   "cell_type": "code",
   "execution_count": 100,
   "id": "37487797",
   "metadata": {},
   "outputs": [
    {
     "data": {
      "text/plain": [
       "111"
      ]
     },
     "execution_count": 100,
     "metadata": {},
     "output_type": "execute_result"
    }
   ],
   "source": [
    "f1.m"
   ]
  },
  {
   "cell_type": "code",
   "execution_count": 101,
   "id": "a903b858",
   "metadata": {},
   "outputs": [
    {
     "data": {
      "text/plain": [
       "222"
      ]
     },
     "execution_count": 101,
     "metadata": {},
     "output_type": "execute_result"
    }
   ],
   "source": [
    "f1.n"
   ]
  },
  {
   "cell_type": "code",
   "execution_count": null,
   "id": "ba1db093",
   "metadata": {},
   "outputs": [],
   "source": [
    "f2()"
   ]
  },
  {
   "cell_type": "code",
   "execution_count": 102,
   "id": "1408fdbd",
   "metadata": {},
   "outputs": [],
   "source": [
    "def f1():\n",
    "    f1.m = 111\n",
    "    f1.n = 222\n",
    "    print(locals())\n",
    "    return f1.m+f1.n"
   ]
  },
  {
   "cell_type": "code",
   "execution_count": 103,
   "id": "bec5466c",
   "metadata": {},
   "outputs": [
    {
     "name": "stdout",
     "output_type": "stream",
     "text": [
      "{}\n"
     ]
    },
    {
     "data": {
      "text/plain": [
       "333"
      ]
     },
     "execution_count": 103,
     "metadata": {},
     "output_type": "execute_result"
    }
   ],
   "source": [
    "f1()"
   ]
  },
  {
   "cell_type": "code",
   "execution_count": 104,
   "id": "c895aec6",
   "metadata": {},
   "outputs": [],
   "source": [
    "def f11():\n",
    "    f11.x = 321\n",
    "    f11.y = 123\n",
    "    print(locals())\n",
    "    return f11.x+f11.y"
   ]
  },
  {
   "cell_type": "code",
   "execution_count": 105,
   "id": "c492ac83",
   "metadata": {},
   "outputs": [],
   "source": [
    "def f22():\n",
    "    return f11.x+f11.y"
   ]
  },
  {
   "cell_type": "code",
   "execution_count": 106,
   "id": "1111b32b",
   "metadata": {},
   "outputs": [
    {
     "ename": "AttributeError",
     "evalue": "'function' object has no attribute 'x'",
     "output_type": "error",
     "traceback": [
      "\u001b[1;31m---------------------------------------------------------------------------\u001b[0m",
      "\u001b[1;31mAttributeError\u001b[0m                            Traceback (most recent call last)",
      "\u001b[1;32m~\\AppData\\Local\\Temp\\ipykernel_17572\\783715948.py\u001b[0m in \u001b[0;36m<module>\u001b[1;34m\u001b[0m\n\u001b[1;32m----> 1\u001b[1;33m \u001b[0mf22\u001b[0m\u001b[1;33m(\u001b[0m\u001b[1;33m)\u001b[0m\u001b[1;33m\u001b[0m\u001b[1;33m\u001b[0m\u001b[0m\n\u001b[0m",
      "\u001b[1;32m~\\AppData\\Local\\Temp\\ipykernel_17572\\1824816770.py\u001b[0m in \u001b[0;36mf22\u001b[1;34m()\u001b[0m\n\u001b[0;32m      1\u001b[0m \u001b[1;32mdef\u001b[0m \u001b[0mf22\u001b[0m\u001b[1;33m(\u001b[0m\u001b[1;33m)\u001b[0m\u001b[1;33m:\u001b[0m\u001b[1;33m\u001b[0m\u001b[1;33m\u001b[0m\u001b[0m\n\u001b[1;32m----> 2\u001b[1;33m     \u001b[1;32mreturn\u001b[0m \u001b[0mf11\u001b[0m\u001b[1;33m.\u001b[0m\u001b[0mx\u001b[0m\u001b[1;33m+\u001b[0m\u001b[0mf11\u001b[0m\u001b[1;33m.\u001b[0m\u001b[0my\u001b[0m\u001b[1;33m\u001b[0m\u001b[1;33m\u001b[0m\u001b[0m\n\u001b[0m",
      "\u001b[1;31mAttributeError\u001b[0m: 'function' object has no attribute 'x'"
     ]
    }
   ],
   "source": [
    "f22()"
   ]
  },
  {
   "cell_type": "code",
   "execution_count": 107,
   "id": "04b61449",
   "metadata": {},
   "outputs": [],
   "source": [
    "def f22():\n",
    "    f11()\n",
    "    return f11.x+f11.y"
   ]
  },
  {
   "cell_type": "code",
   "execution_count": 108,
   "id": "73fd174a",
   "metadata": {},
   "outputs": [
    {
     "name": "stdout",
     "output_type": "stream",
     "text": [
      "{}\n"
     ]
    },
    {
     "data": {
      "text/plain": [
       "444"
      ]
     },
     "execution_count": 108,
     "metadata": {},
     "output_type": "execute_result"
    }
   ],
   "source": [
    "f22()"
   ]
  },
  {
   "cell_type": "code",
   "execution_count": 109,
   "id": "9fcfb89f",
   "metadata": {},
   "outputs": [],
   "source": [
    "def f1():\n",
    "    global x,y\n",
    "    x = 111\n",
    "    y = 222\n",
    "    return x+y,locals()"
   ]
  },
  {
   "cell_type": "code",
   "execution_count": 110,
   "id": "53de2680",
   "metadata": {},
   "outputs": [
    {
     "data": {
      "text/plain": [
       "(333, {})"
      ]
     },
     "execution_count": 110,
     "metadata": {},
     "output_type": "execute_result"
    }
   ],
   "source": [
    "f1()"
   ]
  },
  {
   "cell_type": "code",
   "execution_count": 111,
   "id": "784b8027",
   "metadata": {},
   "outputs": [
    {
     "data": {
      "text/plain": [
       "111"
      ]
     },
     "execution_count": 111,
     "metadata": {},
     "output_type": "execute_result"
    }
   ],
   "source": [
    "x"
   ]
  },
  {
   "cell_type": "code",
   "execution_count": 112,
   "id": "e776d467",
   "metadata": {},
   "outputs": [
    {
     "data": {
      "text/plain": [
       "222"
      ]
     },
     "execution_count": 112,
     "metadata": {},
     "output_type": "execute_result"
    }
   ],
   "source": [
    "y"
   ]
  },
  {
   "cell_type": "code",
   "execution_count": null,
   "id": "fcfac1af",
   "metadata": {},
   "outputs": [],
   "source": [
    "#function return value could be unpacking"
   ]
  },
  {
   "cell_type": "code",
   "execution_count": 113,
   "id": "b34b12aa",
   "metadata": {},
   "outputs": [],
   "source": [
    "def f1():\n",
    "    L1 = [10,20]\n",
    "    return L1"
   ]
  },
  {
   "cell_type": "code",
   "execution_count": 114,
   "id": "ce980569",
   "metadata": {},
   "outputs": [
    {
     "data": {
      "text/plain": [
       "[10, 20]"
      ]
     },
     "execution_count": 114,
     "metadata": {},
     "output_type": "execute_result"
    }
   ],
   "source": [
    "f1()"
   ]
  },
  {
   "cell_type": "code",
   "execution_count": 115,
   "id": "4adf7485",
   "metadata": {},
   "outputs": [],
   "source": [
    "m,n = f1()"
   ]
  },
  {
   "cell_type": "code",
   "execution_count": 116,
   "id": "001ab420",
   "metadata": {},
   "outputs": [
    {
     "data": {
      "text/plain": [
       "10"
      ]
     },
     "execution_count": 116,
     "metadata": {},
     "output_type": "execute_result"
    }
   ],
   "source": [
    "m"
   ]
  },
  {
   "cell_type": "code",
   "execution_count": 117,
   "id": "13807b2f",
   "metadata": {},
   "outputs": [
    {
     "data": {
      "text/plain": [
       "20"
      ]
     },
     "execution_count": 117,
     "metadata": {},
     "output_type": "execute_result"
    }
   ],
   "source": [
    "n"
   ]
  },
  {
   "cell_type": "code",
   "execution_count": null,
   "id": "a065ad0b",
   "metadata": {},
   "outputs": [],
   "source": [
    "# *, **, *args, **kwargs"
   ]
  },
  {
   "cell_type": "code",
   "execution_count": 118,
   "id": "d2ef2d64",
   "metadata": {},
   "outputs": [],
   "source": [
    "L1 = [10,20,30,40,50]"
   ]
  },
  {
   "cell_type": "code",
   "execution_count": 119,
   "id": "5fc40bcd",
   "metadata": {},
   "outputs": [
    {
     "name": "stdout",
     "output_type": "stream",
     "text": [
      "[10, 20, 30, 40, 50]\n"
     ]
    }
   ],
   "source": [
    "print(L1)"
   ]
  },
  {
   "cell_type": "code",
   "execution_count": 120,
   "id": "582a1314",
   "metadata": {},
   "outputs": [
    {
     "name": "stdout",
     "output_type": "stream",
     "text": [
      "10 20 30 40 50 "
     ]
    }
   ],
   "source": [
    "for i in L1:\n",
    "    print(i,end=\" \")"
   ]
  },
  {
   "cell_type": "code",
   "execution_count": 121,
   "id": "56bd4aca",
   "metadata": {},
   "outputs": [
    {
     "name": "stdout",
     "output_type": "stream",
     "text": [
      "10 20 30 40 50\n"
     ]
    }
   ],
   "source": [
    "print(*L1)"
   ]
  },
  {
   "cell_type": "code",
   "execution_count": 122,
   "id": "b434f17c",
   "metadata": {},
   "outputs": [],
   "source": [
    "r1 = range(0,26,5)"
   ]
  },
  {
   "cell_type": "code",
   "execution_count": 123,
   "id": "5097ecc4",
   "metadata": {},
   "outputs": [
    {
     "name": "stdout",
     "output_type": "stream",
     "text": [
      "0 5 10 15 20 25\n"
     ]
    }
   ],
   "source": [
    "print(*r1)"
   ]
  },
  {
   "cell_type": "code",
   "execution_count": 124,
   "id": "96276827",
   "metadata": {},
   "outputs": [],
   "source": [
    "def f1(a,b):\n",
    "    return a+b"
   ]
  },
  {
   "cell_type": "code",
   "execution_count": 126,
   "id": "4db9a272",
   "metadata": {},
   "outputs": [
    {
     "data": {
      "text/plain": [
       "30"
      ]
     },
     "execution_count": 126,
     "metadata": {},
     "output_type": "execute_result"
    }
   ],
   "source": [
    "f1(10,20)"
   ]
  },
  {
   "cell_type": "code",
   "execution_count": 127,
   "id": "97a3044d",
   "metadata": {},
   "outputs": [
    {
     "ename": "TypeError",
     "evalue": "f1() missing 1 required positional argument: 'b'",
     "output_type": "error",
     "traceback": [
      "\u001b[1;31m---------------------------------------------------------------------------\u001b[0m",
      "\u001b[1;31mTypeError\u001b[0m                                 Traceback (most recent call last)",
      "\u001b[1;32m~\\AppData\\Local\\Temp\\ipykernel_17572\\630743400.py\u001b[0m in \u001b[0;36m<module>\u001b[1;34m\u001b[0m\n\u001b[1;32m----> 1\u001b[1;33m \u001b[0mf1\u001b[0m\u001b[1;33m(\u001b[0m\u001b[1;36m10\u001b[0m\u001b[1;33m)\u001b[0m\u001b[1;33m\u001b[0m\u001b[1;33m\u001b[0m\u001b[0m\n\u001b[0m",
      "\u001b[1;31mTypeError\u001b[0m: f1() missing 1 required positional argument: 'b'"
     ]
    }
   ],
   "source": [
    "f1(10)"
   ]
  },
  {
   "cell_type": "code",
   "execution_count": 128,
   "id": "fbb4b387",
   "metadata": {},
   "outputs": [
    {
     "ename": "TypeError",
     "evalue": "f1() takes 2 positional arguments but 3 were given",
     "output_type": "error",
     "traceback": [
      "\u001b[1;31m---------------------------------------------------------------------------\u001b[0m",
      "\u001b[1;31mTypeError\u001b[0m                                 Traceback (most recent call last)",
      "\u001b[1;32m~\\AppData\\Local\\Temp\\ipykernel_17572\\1119077944.py\u001b[0m in \u001b[0;36m<module>\u001b[1;34m\u001b[0m\n\u001b[1;32m----> 1\u001b[1;33m \u001b[0mf1\u001b[0m\u001b[1;33m(\u001b[0m\u001b[1;36m10\u001b[0m\u001b[1;33m,\u001b[0m\u001b[1;36m20\u001b[0m\u001b[1;33m,\u001b[0m\u001b[1;36m30\u001b[0m\u001b[1;33m)\u001b[0m\u001b[1;33m\u001b[0m\u001b[1;33m\u001b[0m\u001b[0m\n\u001b[0m",
      "\u001b[1;31mTypeError\u001b[0m: f1() takes 2 positional arguments but 3 were given"
     ]
    }
   ],
   "source": [
    "f1(10,20,30)"
   ]
  },
  {
   "cell_type": "code",
   "execution_count": 129,
   "id": "102fbc72",
   "metadata": {},
   "outputs": [
    {
     "data": {
      "text/plain": [
       "5"
      ]
     },
     "execution_count": 129,
     "metadata": {},
     "output_type": "execute_result"
    }
   ],
   "source": [
    "max(1,2,3,4,5)"
   ]
  },
  {
   "cell_type": "code",
   "execution_count": 130,
   "id": "7662c12b",
   "metadata": {},
   "outputs": [
    {
     "data": {
      "text/plain": [
       "2"
      ]
     },
     "execution_count": 130,
     "metadata": {},
     "output_type": "execute_result"
    }
   ],
   "source": [
    "max(1,2)"
   ]
  },
  {
   "cell_type": "code",
   "execution_count": 131,
   "id": "da081857",
   "metadata": {},
   "outputs": [
    {
     "data": {
      "text/plain": [
       "345"
      ]
     },
     "execution_count": 131,
     "metadata": {},
     "output_type": "execute_result"
    }
   ],
   "source": [
    "max(10,20,30,40,50,60,345)"
   ]
  },
  {
   "cell_type": "code",
   "execution_count": 132,
   "id": "a5d56cbe",
   "metadata": {},
   "outputs": [],
   "source": [
    "def f1(*args):\n",
    "    return args"
   ]
  },
  {
   "cell_type": "code",
   "execution_count": 133,
   "id": "f7e8f87e",
   "metadata": {},
   "outputs": [
    {
     "data": {
      "text/plain": [
       "(10,)"
      ]
     },
     "execution_count": 133,
     "metadata": {},
     "output_type": "execute_result"
    }
   ],
   "source": [
    "f1(10)"
   ]
  },
  {
   "cell_type": "code",
   "execution_count": 134,
   "id": "eb40c67f",
   "metadata": {},
   "outputs": [
    {
     "data": {
      "text/plain": [
       "(1, 2, 3)"
      ]
     },
     "execution_count": 134,
     "metadata": {},
     "output_type": "execute_result"
    }
   ],
   "source": [
    "f1(1,2,3)"
   ]
  },
  {
   "cell_type": "code",
   "execution_count": 135,
   "id": "84dc5422",
   "metadata": {},
   "outputs": [
    {
     "data": {
      "text/plain": [
       "(1, 2, 3, 5, 6, 7, 7)"
      ]
     },
     "execution_count": 135,
     "metadata": {},
     "output_type": "execute_result"
    }
   ],
   "source": [
    "f1(1,2,3,5,6,7,7)"
   ]
  },
  {
   "cell_type": "code",
   "execution_count": 136,
   "id": "dd001324",
   "metadata": {},
   "outputs": [],
   "source": [
    "def f1(*customers):\n",
    "    return customers"
   ]
  },
  {
   "cell_type": "code",
   "execution_count": 137,
   "id": "6fff0196",
   "metadata": {},
   "outputs": [
    {
     "data": {
      "text/plain": [
       "('ravi', 'suresh', 'venkat', 'kumar')"
      ]
     },
     "execution_count": 137,
     "metadata": {},
     "output_type": "execute_result"
    }
   ],
   "source": [
    "f1('ravi','suresh','venkat','kumar')"
   ]
  },
  {
   "cell_type": "code",
   "execution_count": 138,
   "id": "410c591c",
   "metadata": {},
   "outputs": [
    {
     "data": {
      "text/plain": [
       "('venkat',)"
      ]
     },
     "execution_count": 138,
     "metadata": {},
     "output_type": "execute_result"
    }
   ],
   "source": [
    "f1(\"venkat\")"
   ]
  },
  {
   "cell_type": "code",
   "execution_count": 139,
   "id": "738c566a",
   "metadata": {},
   "outputs": [],
   "source": [
    "def f1(*args):\n",
    "    print(type(args))\n",
    "    return args"
   ]
  },
  {
   "cell_type": "code",
   "execution_count": 140,
   "id": "44c1932a",
   "metadata": {},
   "outputs": [
    {
     "name": "stdout",
     "output_type": "stream",
     "text": [
      "<class 'tuple'>\n"
     ]
    },
    {
     "data": {
      "text/plain": [
       "(10,)"
      ]
     },
     "execution_count": 140,
     "metadata": {},
     "output_type": "execute_result"
    }
   ],
   "source": [
    "f1(10)"
   ]
  },
  {
   "cell_type": "code",
   "execution_count": 141,
   "id": "a29ae482",
   "metadata": {},
   "outputs": [],
   "source": [
    "t1 = (10,)"
   ]
  },
  {
   "cell_type": "code",
   "execution_count": 142,
   "id": "f686746f",
   "metadata": {},
   "outputs": [
    {
     "data": {
      "text/plain": [
       "tuple"
      ]
     },
     "execution_count": 142,
     "metadata": {},
     "output_type": "execute_result"
    }
   ],
   "source": [
    "type(t1)"
   ]
  },
  {
   "cell_type": "code",
   "execution_count": 143,
   "id": "0ee57c10",
   "metadata": {},
   "outputs": [
    {
     "data": {
      "text/plain": [
       "4"
      ]
     },
     "execution_count": 143,
     "metadata": {},
     "output_type": "execute_result"
    }
   ],
   "source": [
    "max(1,2,3,4)"
   ]
  },
  {
   "cell_type": "code",
   "execution_count": 144,
   "id": "d74a87dd",
   "metadata": {},
   "outputs": [],
   "source": [
    "def pymax1(*args):\n",
    "    mx = args[0]\n",
    "    for i in args:\n",
    "        if i>mx:\n",
    "            mx=i\n",
    "    return mx"
   ]
  },
  {
   "cell_type": "code",
   "execution_count": 145,
   "id": "acfce78c",
   "metadata": {},
   "outputs": [
    {
     "data": {
      "text/plain": [
       "4"
      ]
     },
     "execution_count": 145,
     "metadata": {},
     "output_type": "execute_result"
    }
   ],
   "source": [
    "pymax1(1,2,3,2,4)"
   ]
  },
  {
   "cell_type": "code",
   "execution_count": 146,
   "id": "06aec783",
   "metadata": {},
   "outputs": [
    {
     "data": {
      "text/plain": [
       "11"
      ]
     },
     "execution_count": 146,
     "metadata": {},
     "output_type": "execute_result"
    }
   ],
   "source": [
    "pymax1(10,2,4,11)"
   ]
  },
  {
   "cell_type": "code",
   "execution_count": 147,
   "id": "bac5a0df",
   "metadata": {},
   "outputs": [
    {
     "data": {
      "text/plain": [
       "-1"
      ]
     },
     "execution_count": 147,
     "metadata": {},
     "output_type": "execute_result"
    }
   ],
   "source": [
    "pymax1(-4,-3,-1)"
   ]
  },
  {
   "cell_type": "code",
   "execution_count": 150,
   "id": "2373531c",
   "metadata": {},
   "outputs": [
    {
     "data": {
      "text/plain": [
       "10"
      ]
     },
     "execution_count": 150,
     "metadata": {},
     "output_type": "execute_result"
    }
   ],
   "source": [
    "pymax1(10)"
   ]
  },
  {
   "cell_type": "code",
   "execution_count": 148,
   "id": "26cea3ae",
   "metadata": {},
   "outputs": [
    {
     "ename": "IndexError",
     "evalue": "tuple index out of range",
     "output_type": "error",
     "traceback": [
      "\u001b[1;31m---------------------------------------------------------------------------\u001b[0m",
      "\u001b[1;31mIndexError\u001b[0m                                Traceback (most recent call last)",
      "\u001b[1;32m~\\AppData\\Local\\Temp\\ipykernel_17572\\3626698456.py\u001b[0m in \u001b[0;36m<module>\u001b[1;34m\u001b[0m\n\u001b[1;32m----> 1\u001b[1;33m \u001b[0mpymax1\u001b[0m\u001b[1;33m(\u001b[0m\u001b[1;33m)\u001b[0m\u001b[1;33m\u001b[0m\u001b[1;33m\u001b[0m\u001b[0m\n\u001b[0m",
      "\u001b[1;32m~\\AppData\\Local\\Temp\\ipykernel_17572\\2406639377.py\u001b[0m in \u001b[0;36mpymax1\u001b[1;34m(*args)\u001b[0m\n\u001b[0;32m      1\u001b[0m \u001b[1;32mdef\u001b[0m \u001b[0mpymax1\u001b[0m\u001b[1;33m(\u001b[0m\u001b[1;33m*\u001b[0m\u001b[0margs\u001b[0m\u001b[1;33m)\u001b[0m\u001b[1;33m:\u001b[0m\u001b[1;33m\u001b[0m\u001b[1;33m\u001b[0m\u001b[0m\n\u001b[1;32m----> 2\u001b[1;33m     \u001b[0mmx\u001b[0m \u001b[1;33m=\u001b[0m \u001b[0margs\u001b[0m\u001b[1;33m[\u001b[0m\u001b[1;36m0\u001b[0m\u001b[1;33m]\u001b[0m\u001b[1;33m\u001b[0m\u001b[1;33m\u001b[0m\u001b[0m\n\u001b[0m\u001b[0;32m      3\u001b[0m     \u001b[1;32mfor\u001b[0m \u001b[0mi\u001b[0m \u001b[1;32min\u001b[0m \u001b[0margs\u001b[0m\u001b[1;33m:\u001b[0m\u001b[1;33m\u001b[0m\u001b[1;33m\u001b[0m\u001b[0m\n\u001b[0;32m      4\u001b[0m         \u001b[1;32mif\u001b[0m \u001b[0mi\u001b[0m\u001b[1;33m>\u001b[0m\u001b[0mmx\u001b[0m\u001b[1;33m:\u001b[0m\u001b[1;33m\u001b[0m\u001b[1;33m\u001b[0m\u001b[0m\n\u001b[0;32m      5\u001b[0m             \u001b[0mmx\u001b[0m\u001b[1;33m=\u001b[0m\u001b[0mi\u001b[0m\u001b[1;33m\u001b[0m\u001b[1;33m\u001b[0m\u001b[0m\n",
      "\u001b[1;31mIndexError\u001b[0m: tuple index out of range"
     ]
    }
   ],
   "source": [
    "pymax1()"
   ]
  },
  {
   "cell_type": "code",
   "execution_count": 162,
   "id": "dd2e0918",
   "metadata": {},
   "outputs": [],
   "source": [
    "def pymax2(*args):\n",
    "    try:\n",
    "        mx = args[0]\n",
    "    except(IndexError):\n",
    "        return \"Please provide at least 2 elements\"\n",
    "    else:\n",
    "        for i in args:\n",
    "            if i>mx:\n",
    "                mx=i\n",
    "        return mx"
   ]
  },
  {
   "cell_type": "code",
   "execution_count": 163,
   "id": "0ee235b9",
   "metadata": {},
   "outputs": [
    {
     "data": {
      "text/plain": [
       "3"
      ]
     },
     "execution_count": 163,
     "metadata": {},
     "output_type": "execute_result"
    }
   ],
   "source": [
    "pymax2(1,2,3)"
   ]
  },
  {
   "cell_type": "code",
   "execution_count": 164,
   "id": "f46cd375",
   "metadata": {},
   "outputs": [
    {
     "data": {
      "text/plain": [
       "'Please provide at least 2 elements'"
      ]
     },
     "execution_count": 164,
     "metadata": {},
     "output_type": "execute_result"
    }
   ],
   "source": [
    "pymax2()"
   ]
  },
  {
   "cell_type": "code",
   "execution_count": 165,
   "id": "f9c7f5c9",
   "metadata": {},
   "outputs": [
    {
     "data": {
      "text/plain": [
       "4"
      ]
     },
     "execution_count": 165,
     "metadata": {},
     "output_type": "execute_result"
    }
   ],
   "source": [
    "pymax2(1,2,3,4)"
   ]
  },
  {
   "cell_type": "code",
   "execution_count": 166,
   "id": "84d5b99e",
   "metadata": {},
   "outputs": [
    {
     "ename": "TypeError",
     "evalue": "pymax2() got an unexpected keyword argument 'a'",
     "output_type": "error",
     "traceback": [
      "\u001b[1;31m---------------------------------------------------------------------------\u001b[0m",
      "\u001b[1;31mTypeError\u001b[0m                                 Traceback (most recent call last)",
      "\u001b[1;32m~\\AppData\\Local\\Temp\\ipykernel_17572\\3391610339.py\u001b[0m in \u001b[0;36m<module>\u001b[1;34m\u001b[0m\n\u001b[1;32m----> 1\u001b[1;33m \u001b[0mpymax2\u001b[0m\u001b[1;33m(\u001b[0m\u001b[0ma\u001b[0m\u001b[1;33m=\u001b[0m\u001b[1;36m1\u001b[0m\u001b[1;33m,\u001b[0m\u001b[0mb\u001b[0m\u001b[1;33m=\u001b[0m\u001b[1;36m2\u001b[0m\u001b[1;33m,\u001b[0m\u001b[0mc\u001b[0m\u001b[1;33m=\u001b[0m\u001b[1;36m3\u001b[0m\u001b[1;33m)\u001b[0m\u001b[1;33m\u001b[0m\u001b[1;33m\u001b[0m\u001b[0m\n\u001b[0m",
      "\u001b[1;31mTypeError\u001b[0m: pymax2() got an unexpected keyword argument 'a'"
     ]
    }
   ],
   "source": [
    "pymax2(a=1,b=2,c=3)"
   ]
  },
  {
   "cell_type": "code",
   "execution_count": null,
   "id": "f418aefe",
   "metadata": {},
   "outputs": [],
   "source": [
    "#**"
   ]
  },
  {
   "cell_type": "code",
   "execution_count": 157,
   "id": "07b16f7d",
   "metadata": {},
   "outputs": [],
   "source": [
    "d1={'a':100,'b':200}"
   ]
  },
  {
   "cell_type": "code",
   "execution_count": 152,
   "id": "53021367",
   "metadata": {},
   "outputs": [],
   "source": [
    "L1 = [10,20,30,40]"
   ]
  },
  {
   "cell_type": "code",
   "execution_count": 154,
   "id": "9d40848e",
   "metadata": {},
   "outputs": [
    {
     "name": "stdout",
     "output_type": "stream",
     "text": [
      "10 20 30 40\n"
     ]
    }
   ],
   "source": [
    "print(*L1)"
   ]
  },
  {
   "cell_type": "code",
   "execution_count": 155,
   "id": "977a7bc1",
   "metadata": {},
   "outputs": [
    {
     "name": "stdout",
     "output_type": "stream",
     "text": [
      "a b\n"
     ]
    }
   ],
   "source": [
    "print(*d1)"
   ]
  },
  {
   "cell_type": "code",
   "execution_count": 158,
   "id": "e774551e",
   "metadata": {},
   "outputs": [
    {
     "ename": "TypeError",
     "evalue": "'a' is an invalid keyword argument for print()",
     "output_type": "error",
     "traceback": [
      "\u001b[1;31m---------------------------------------------------------------------------\u001b[0m",
      "\u001b[1;31mTypeError\u001b[0m                                 Traceback (most recent call last)",
      "\u001b[1;32m~\\AppData\\Local\\Temp\\ipykernel_17572\\2194522803.py\u001b[0m in \u001b[0;36m<module>\u001b[1;34m\u001b[0m\n\u001b[1;32m----> 1\u001b[1;33m \u001b[0mprint\u001b[0m\u001b[1;33m(\u001b[0m\u001b[1;33m**\u001b[0m\u001b[0md1\u001b[0m\u001b[1;33m)\u001b[0m\u001b[1;33m\u001b[0m\u001b[1;33m\u001b[0m\u001b[0m\n\u001b[0m",
      "\u001b[1;31mTypeError\u001b[0m: 'a' is an invalid keyword argument for print()"
     ]
    }
   ],
   "source": [
    "print(**d1)"
   ]
  },
  {
   "cell_type": "code",
   "execution_count": 159,
   "id": "fd37a7c7",
   "metadata": {},
   "outputs": [],
   "source": [
    "def f2(**kwargs):\n",
    "    return kwargs"
   ]
  },
  {
   "cell_type": "code",
   "execution_count": 160,
   "id": "aaff9287",
   "metadata": {},
   "outputs": [
    {
     "ename": "TypeError",
     "evalue": "f2() takes 0 positional arguments but 4 were given",
     "output_type": "error",
     "traceback": [
      "\u001b[1;31m---------------------------------------------------------------------------\u001b[0m",
      "\u001b[1;31mTypeError\u001b[0m                                 Traceback (most recent call last)",
      "\u001b[1;32m~\\AppData\\Local\\Temp\\ipykernel_17572\\3074021505.py\u001b[0m in \u001b[0;36m<module>\u001b[1;34m\u001b[0m\n\u001b[1;32m----> 1\u001b[1;33m \u001b[0mf2\u001b[0m\u001b[1;33m(\u001b[0m\u001b[1;36m1\u001b[0m\u001b[1;33m,\u001b[0m\u001b[1;36m2\u001b[0m\u001b[1;33m,\u001b[0m\u001b[1;36m3\u001b[0m\u001b[1;33m,\u001b[0m\u001b[1;36m4\u001b[0m\u001b[1;33m)\u001b[0m\u001b[1;33m\u001b[0m\u001b[1;33m\u001b[0m\u001b[0m\n\u001b[0m",
      "\u001b[1;31mTypeError\u001b[0m: f2() takes 0 positional arguments but 4 were given"
     ]
    }
   ],
   "source": [
    "f2(1,2,3,4)"
   ]
  },
  {
   "cell_type": "code",
   "execution_count": 161,
   "id": "3df78c3d",
   "metadata": {},
   "outputs": [
    {
     "data": {
      "text/plain": [
       "{'a': 1, 'b': 2, 'c': 3}"
      ]
     },
     "execution_count": 161,
     "metadata": {},
     "output_type": "execute_result"
    }
   ],
   "source": [
    "f2(a=1,b=2,c=3)"
   ]
  },
  {
   "cell_type": "code",
   "execution_count": 167,
   "id": "5a618000",
   "metadata": {},
   "outputs": [
    {
     "data": {
      "text/plain": [
       "{'a': 100, 'b': 200}"
      ]
     },
     "execution_count": 167,
     "metadata": {},
     "output_type": "execute_result"
    }
   ],
   "source": [
    "d1"
   ]
  },
  {
   "cell_type": "code",
   "execution_count": 168,
   "id": "2fb3599c",
   "metadata": {},
   "outputs": [
    {
     "data": {
      "text/plain": [
       "dict_values([100, 200])"
      ]
     },
     "execution_count": 168,
     "metadata": {},
     "output_type": "execute_result"
    }
   ],
   "source": [
    "d1.values()"
   ]
  },
  {
   "cell_type": "code",
   "execution_count": 169,
   "id": "6fba1e35",
   "metadata": {},
   "outputs": [
    {
     "data": {
      "text/plain": [
       "dict_values([100, 200])"
      ]
     },
     "execution_count": 169,
     "metadata": {},
     "output_type": "execute_result"
    }
   ],
   "source": [
    "d1.values()"
   ]
  },
  {
   "cell_type": "code",
   "execution_count": 170,
   "id": "34b884ac",
   "metadata": {},
   "outputs": [
    {
     "ename": "TypeError",
     "evalue": "'dict_values' object is not subscriptable",
     "output_type": "error",
     "traceback": [
      "\u001b[1;31m---------------------------------------------------------------------------\u001b[0m",
      "\u001b[1;31mTypeError\u001b[0m                                 Traceback (most recent call last)",
      "\u001b[1;32m~\\AppData\\Local\\Temp\\ipykernel_17572\\3593716327.py\u001b[0m in \u001b[0;36m<module>\u001b[1;34m\u001b[0m\n\u001b[1;32m----> 1\u001b[1;33m \u001b[0md1\u001b[0m\u001b[1;33m.\u001b[0m\u001b[0mvalues\u001b[0m\u001b[1;33m(\u001b[0m\u001b[1;33m)\u001b[0m\u001b[1;33m[\u001b[0m\u001b[1;36m0\u001b[0m\u001b[1;33m]\u001b[0m\u001b[1;33m\u001b[0m\u001b[1;33m\u001b[0m\u001b[0m\n\u001b[0m",
      "\u001b[1;31mTypeError\u001b[0m: 'dict_values' object is not subscriptable"
     ]
    }
   ],
   "source": [
    "d1.values()[0]"
   ]
  },
  {
   "cell_type": "code",
   "execution_count": 171,
   "id": "2add9abc",
   "metadata": {},
   "outputs": [
    {
     "data": {
      "text/plain": [
       "[100, 200]"
      ]
     },
     "execution_count": 171,
     "metadata": {},
     "output_type": "execute_result"
    }
   ],
   "source": [
    "list(d1.values())"
   ]
  },
  {
   "cell_type": "code",
   "execution_count": 172,
   "id": "da819476",
   "metadata": {},
   "outputs": [
    {
     "data": {
      "text/plain": [
       "100"
      ]
     },
     "execution_count": 172,
     "metadata": {},
     "output_type": "execute_result"
    }
   ],
   "source": [
    "list(d1.values())[0]"
   ]
  },
  {
   "cell_type": "code",
   "execution_count": 173,
   "id": "0763b077",
   "metadata": {},
   "outputs": [],
   "source": [
    "def pymax3(**kwargs):\n",
    "    mx = list(kwargs.values())[0]\n",
    "    for i in kwargs.values():\n",
    "        if i>mx:\n",
    "            mx=i\n",
    "    return mx"
   ]
  },
  {
   "cell_type": "code",
   "execution_count": 174,
   "id": "b4a246a5",
   "metadata": {},
   "outputs": [
    {
     "data": {
      "text/plain": [
       "4"
      ]
     },
     "execution_count": 174,
     "metadata": {},
     "output_type": "execute_result"
    }
   ],
   "source": [
    "pymax3(a=1,b=2,c=4)"
   ]
  },
  {
   "cell_type": "code",
   "execution_count": 175,
   "id": "0c03159b",
   "metadata": {},
   "outputs": [
    {
     "ename": "IndexError",
     "evalue": "list index out of range",
     "output_type": "error",
     "traceback": [
      "\u001b[1;31m---------------------------------------------------------------------------\u001b[0m",
      "\u001b[1;31mIndexError\u001b[0m                                Traceback (most recent call last)",
      "\u001b[1;32m~\\AppData\\Local\\Temp\\ipykernel_17572\\2284015322.py\u001b[0m in \u001b[0;36m<module>\u001b[1;34m\u001b[0m\n\u001b[1;32m----> 1\u001b[1;33m \u001b[0mpymax3\u001b[0m\u001b[1;33m(\u001b[0m\u001b[1;33m)\u001b[0m\u001b[1;33m\u001b[0m\u001b[1;33m\u001b[0m\u001b[0m\n\u001b[0m",
      "\u001b[1;32m~\\AppData\\Local\\Temp\\ipykernel_17572\\3770688710.py\u001b[0m in \u001b[0;36mpymax3\u001b[1;34m(**kwargs)\u001b[0m\n\u001b[0;32m      1\u001b[0m \u001b[1;32mdef\u001b[0m \u001b[0mpymax3\u001b[0m\u001b[1;33m(\u001b[0m\u001b[1;33m**\u001b[0m\u001b[0mkwargs\u001b[0m\u001b[1;33m)\u001b[0m\u001b[1;33m:\u001b[0m\u001b[1;33m\u001b[0m\u001b[1;33m\u001b[0m\u001b[0m\n\u001b[1;32m----> 2\u001b[1;33m     \u001b[0mmx\u001b[0m \u001b[1;33m=\u001b[0m \u001b[0mlist\u001b[0m\u001b[1;33m(\u001b[0m\u001b[0mkwargs\u001b[0m\u001b[1;33m.\u001b[0m\u001b[0mvalues\u001b[0m\u001b[1;33m(\u001b[0m\u001b[1;33m)\u001b[0m\u001b[1;33m)\u001b[0m\u001b[1;33m[\u001b[0m\u001b[1;36m0\u001b[0m\u001b[1;33m]\u001b[0m\u001b[1;33m\u001b[0m\u001b[1;33m\u001b[0m\u001b[0m\n\u001b[0m\u001b[0;32m      3\u001b[0m     \u001b[1;32mfor\u001b[0m \u001b[0mi\u001b[0m \u001b[1;32min\u001b[0m \u001b[0mkwargs\u001b[0m\u001b[1;33m.\u001b[0m\u001b[0mvalues\u001b[0m\u001b[1;33m(\u001b[0m\u001b[1;33m)\u001b[0m\u001b[1;33m:\u001b[0m\u001b[1;33m\u001b[0m\u001b[1;33m\u001b[0m\u001b[0m\n\u001b[0;32m      4\u001b[0m         \u001b[1;32mif\u001b[0m \u001b[0mi\u001b[0m\u001b[1;33m>\u001b[0m\u001b[0mmx\u001b[0m\u001b[1;33m:\u001b[0m\u001b[1;33m\u001b[0m\u001b[1;33m\u001b[0m\u001b[0m\n\u001b[0;32m      5\u001b[0m             \u001b[0mmx\u001b[0m\u001b[1;33m=\u001b[0m\u001b[0mi\u001b[0m\u001b[1;33m\u001b[0m\u001b[1;33m\u001b[0m\u001b[0m\n",
      "\u001b[1;31mIndexError\u001b[0m: list index out of range"
     ]
    }
   ],
   "source": [
    "pymax3()"
   ]
  },
  {
   "cell_type": "code",
   "execution_count": 176,
   "id": "4a90b370",
   "metadata": {},
   "outputs": [],
   "source": [
    "def pymax4(**kwargs):\n",
    "    try:\n",
    "        mx = list(kwargs.values())[0]\n",
    "    except(IndexError):\n",
    "        return \"please provide at least 2 values to find bigger value\"\n",
    "    else:\n",
    "        for i in kwargs.values():\n",
    "            if i>mx:\n",
    "                mx=i\n",
    "        return mx"
   ]
  },
  {
   "cell_type": "code",
   "execution_count": 177,
   "id": "77db2bff",
   "metadata": {},
   "outputs": [
    {
     "data": {
      "text/plain": [
       "'please provide at least 2 values to find bigger value'"
      ]
     },
     "execution_count": 177,
     "metadata": {},
     "output_type": "execute_result"
    }
   ],
   "source": [
    "pymax4()"
   ]
  },
  {
   "cell_type": "code",
   "execution_count": 178,
   "id": "dc84d176",
   "metadata": {},
   "outputs": [
    {
     "data": {
      "text/plain": [
       "3"
      ]
     },
     "execution_count": 178,
     "metadata": {},
     "output_type": "execute_result"
    }
   ],
   "source": [
    "pymax4(a=1,b=2,c=3)"
   ]
  },
  {
   "cell_type": "code",
   "execution_count": 179,
   "id": "c08d5f19",
   "metadata": {},
   "outputs": [
    {
     "data": {
      "text/plain": [
       "'c'"
      ]
     },
     "execution_count": 179,
     "metadata": {},
     "output_type": "execute_result"
    }
   ],
   "source": [
    "max('a','b','c')"
   ]
  },
  {
   "cell_type": "code",
   "execution_count": 180,
   "id": "fad0be30",
   "metadata": {},
   "outputs": [
    {
     "data": {
      "text/plain": [
       "97"
      ]
     },
     "execution_count": 180,
     "metadata": {},
     "output_type": "execute_result"
    }
   ],
   "source": [
    "ord('a')"
   ]
  },
  {
   "cell_type": "code",
   "execution_count": 181,
   "id": "ac13e796",
   "metadata": {},
   "outputs": [
    {
     "ename": "TypeError",
     "evalue": "pymax4() takes 0 positional arguments but 3 were given",
     "output_type": "error",
     "traceback": [
      "\u001b[1;31m---------------------------------------------------------------------------\u001b[0m",
      "\u001b[1;31mTypeError\u001b[0m                                 Traceback (most recent call last)",
      "\u001b[1;32m~\\AppData\\Local\\Temp\\ipykernel_17572\\2577609845.py\u001b[0m in \u001b[0;36m<module>\u001b[1;34m\u001b[0m\n\u001b[1;32m----> 1\u001b[1;33m \u001b[0mpymax4\u001b[0m\u001b[1;33m(\u001b[0m\u001b[1;34m'a'\u001b[0m\u001b[1;33m,\u001b[0m\u001b[1;34m'c'\u001b[0m\u001b[1;33m,\u001b[0m\u001b[1;34m'd'\u001b[0m\u001b[1;33m)\u001b[0m\u001b[1;33m\u001b[0m\u001b[1;33m\u001b[0m\u001b[0m\n\u001b[0m",
      "\u001b[1;31mTypeError\u001b[0m: pymax4() takes 0 positional arguments but 3 were given"
     ]
    }
   ],
   "source": [
    "pymax4('a','c','d')"
   ]
  },
  {
   "cell_type": "code",
   "execution_count": 182,
   "id": "64ccb8cf",
   "metadata": {},
   "outputs": [
    {
     "ename": "TypeError",
     "evalue": "'>' not supported between instances of 'int' and 'str'",
     "output_type": "error",
     "traceback": [
      "\u001b[1;31m---------------------------------------------------------------------------\u001b[0m",
      "\u001b[1;31mTypeError\u001b[0m                                 Traceback (most recent call last)",
      "\u001b[1;32m~\\AppData\\Local\\Temp\\ipykernel_17572\\705803989.py\u001b[0m in \u001b[0;36m<module>\u001b[1;34m\u001b[0m\n\u001b[1;32m----> 1\u001b[1;33m \u001b[0mmax\u001b[0m\u001b[1;33m(\u001b[0m\u001b[1;34m'a'\u001b[0m\u001b[1;33m,\u001b[0m\u001b[1;36m3\u001b[0m\u001b[1;33m)\u001b[0m\u001b[1;33m\u001b[0m\u001b[1;33m\u001b[0m\u001b[0m\n\u001b[0m",
      "\u001b[1;31mTypeError\u001b[0m: '>' not supported between instances of 'int' and 'str'"
     ]
    }
   ],
   "source": [
    "max('a',3)"
   ]
  },
  {
   "cell_type": "code",
   "execution_count": 183,
   "id": "b79ae1a9",
   "metadata": {},
   "outputs": [],
   "source": [
    "def pymax4(**kwargs):\n",
    "    try:\n",
    "        mx = list(kwargs.values())[0]\n",
    "    except(IndexError):\n",
    "        return \"please provide at least 2 values to find bigger value\"\n",
    "    else:\n",
    "        for i in kwargs.values():\n",
    "            if i>mx:\n",
    "                mx=i\n",
    "        return mx"
   ]
  },
  {
   "cell_type": "code",
   "execution_count": 184,
   "id": "91912128",
   "metadata": {},
   "outputs": [
    {
     "data": {
      "text/plain": [
       "97"
      ]
     },
     "execution_count": 184,
     "metadata": {},
     "output_type": "execute_result"
    }
   ],
   "source": [
    "ord('a')"
   ]
  },
  {
   "cell_type": "code",
   "execution_count": 185,
   "id": "602ad3b9",
   "metadata": {},
   "outputs": [
    {
     "data": {
      "text/plain": [
       "99"
      ]
     },
     "execution_count": 185,
     "metadata": {},
     "output_type": "execute_result"
    }
   ],
   "source": [
    "ord('c')"
   ]
  },
  {
   "cell_type": "code",
   "execution_count": 186,
   "id": "23ed2fb3",
   "metadata": {},
   "outputs": [
    {
     "data": {
      "text/plain": [
       "'abd'"
      ]
     },
     "execution_count": 186,
     "metadata": {},
     "output_type": "execute_result"
    }
   ],
   "source": [
    "max('abc','abd')"
   ]
  },
  {
   "cell_type": "code",
   "execution_count": 187,
   "id": "fe7429bb",
   "metadata": {},
   "outputs": [
    {
     "data": {
      "text/plain": [
       "2"
      ]
     },
     "execution_count": 187,
     "metadata": {},
     "output_type": "execute_result"
    }
   ],
   "source": [
    "max(1,2)"
   ]
  },
  {
   "cell_type": "code",
   "execution_count": 188,
   "id": "23722005",
   "metadata": {},
   "outputs": [
    {
     "data": {
      "text/plain": [
       "1"
      ]
     },
     "execution_count": 188,
     "metadata": {},
     "output_type": "execute_result"
    }
   ],
   "source": [
    "max(1,1)"
   ]
  },
  {
   "cell_type": "code",
   "execution_count": null,
   "id": "0161c300",
   "metadata": {},
   "outputs": [],
   "source": [
    "import re"
   ]
  },
  {
   "cell_type": "code",
   "execution_count": null,
   "id": "20c1cb08",
   "metadata": {},
   "outputs": [],
   "source": [
    "fname='D:\\pfiles\\students.txt'"
   ]
  },
  {
   "cell_type": "code",
   "execution_count": null,
   "id": "3ddbf0a1",
   "metadata": {},
   "outputs": [],
   "source": [
    "class CourseNotFoundError(Exception):\n",
    "    pass"
   ]
  },
  {
   "cell_type": "code",
   "execution_count": null,
   "id": "e31de525",
   "metadata": {},
   "outputs": [],
   "source": [
    "try:\n",
    "    fobj = open(fname)\n",
    "    course = input(\"Enter a course name = \").replace(\" \",\"\")\n",
    "    for i in fobj:\n",
    "        if re.fullmatch(re.escape(course),i.split(\",\")[2].replace(\" \",\"\"),re.I):\n",
    "            break\n",
    "    else:\n",
    "        raise CourseNotFoundError\n",
    "except(FileNotFoundError):\n",
    "    print(\"Given file is not exist at \",fname)\n",
    "except(CourseNotFoundError):\n",
    "    print(\"Given course {} is not existed in this file {}\".format(course,fname))\n",
    "else:\n",
    "    cnt=0\n",
    "    rev=0\n",
    "    with open(fname) as fobj:\n",
    "        for i in fobj:\n",
    "            if re.fullmatch(re.escape(course),i.split(\",\")[2].replace(\" \",\"\"),re.I):\n",
    "                cnt+=1\n",
    "                rev+=int(i.split(\",\")[3])\n",
    "        print(\"Total Number of students {} and Revenue for {} course is {}\".format(cnt,course,rev))\n",
    "finally:\n",
    "    fobj.close()"
   ]
  },
  {
   "cell_type": "code",
   "execution_count": null,
   "id": "b1ac338e",
   "metadata": {},
   "outputs": [],
   "source": [
    "def findstudents(course):\n",
    "    import re\n",
    "    fname = 'D:\\pfiles\\students.txt'\n",
    "    try:\n",
    "        fobj = open(fname)\n",
    "        for i in fobj:\n",
    "            if re.fullmatch(re.escape(course),i.split(\",\")[2].replace(\" \",\"\"),re.I):\n",
    "                break\n",
    "        else:\n",
    "            raise CourseNotFoundError\n",
    "    except(FileNotFoundError):\n",
    "        print(\"Given file is not exist at \",fname)\n",
    "    except(CourseNotFoundError):\n",
    "        print(\"Given course {} is not existed in this file {}\".format(course,fname))\n",
    "    else:\n",
    "        cnt=0\n",
    "        rev=0\n",
    "        with open(fname) as fobj:\n",
    "            for i in fobj:\n",
    "                if re.fullmatch(re.escape(course),i.split(\",\")[2].replace(\" \",\"\"),re.I):\n",
    "                    cnt+=1\n",
    "                    rev+=int(i.split(\",\")[3])\n",
    "            print(\"Total Number of students {} and Revenue for {} course is {}\".format(cnt,course,rev))\n",
    "    finally:\n",
    "        fobj.close()"
   ]
  },
  {
   "cell_type": "code",
   "execution_count": null,
   "id": "2369d18c",
   "metadata": {},
   "outputs": [],
   "source": [
    "findstudents('javascript')"
   ]
  },
  {
   "cell_type": "code",
   "execution_count": null,
   "id": "e9215a18",
   "metadata": {},
   "outputs": [],
   "source": [
    "findstudents('python')"
   ]
  },
  {
   "cell_type": "code",
   "execution_count": null,
   "id": "cf66a1ca",
   "metadata": {},
   "outputs": [],
   "source": [
    "def pymax3(*args,**kwargs):\n",
    "    if args:\n",
    "        return args\n",
    "    else:\n",
    "        return kwargs"
   ]
  },
  {
   "cell_type": "code",
   "execution_count": null,
   "id": "1fe0bf26",
   "metadata": {},
   "outputs": [],
   "source": [
    "pymax3(1,2,3,4,5)"
   ]
  },
  {
   "cell_type": "code",
   "execution_count": null,
   "id": "95fbb3cf",
   "metadata": {},
   "outputs": [],
   "source": [
    "pymax3(a=4,b=3,c=1)"
   ]
  },
  {
   "cell_type": "code",
   "execution_count": null,
   "id": "130169ee",
   "metadata": {},
   "outputs": [],
   "source": [
    "def pymax4(*args,**kwargs):\n",
    "    if args:\n",
    "        try:\n",
    "            mx = args[0]\n",
    "        except(IndexError):\n",
    "            return None\n",
    "        else:\n",
    "            for i in args:\n",
    "                if i>mx:\n",
    "                    mx=i\n",
    "            return mx\n",
    "    if kwargs:\n",
    "        try:\n",
    "            mx=list(kwargs.values())[0]\n",
    "        except(IndexError):\n",
    "            return None\n",
    "        else:\n",
    "            for i in kwargs.values():\n",
    "                if i>mx:\n",
    "                    mx=i\n",
    "            return mx\n",
    "    else:\n",
    "        return \"Invalid Arguments\""
   ]
  },
  {
   "cell_type": "code",
   "execution_count": null,
   "id": "f1c8ebde",
   "metadata": {},
   "outputs": [],
   "source": [
    "pymax4(1,2,3,4,5)"
   ]
  },
  {
   "cell_type": "code",
   "execution_count": null,
   "id": "29050c00",
   "metadata": {},
   "outputs": [],
   "source": [
    "pymax4(a=1,b=2,c=3)"
   ]
  },
  {
   "cell_type": "code",
   "execution_count": null,
   "id": "a83ba807",
   "metadata": {},
   "outputs": [],
   "source": [
    "pymax4()"
   ]
  },
  {
   "cell_type": "code",
   "execution_count": null,
   "id": "33dacd5f",
   "metadata": {},
   "outputs": [],
   "source": [
    "pymax4('a','c','d')"
   ]
  },
  {
   "cell_type": "code",
   "execution_count": null,
   "id": "0cbed994",
   "metadata": {},
   "outputs": [],
   "source": []
  }
 ],
 "metadata": {
  "kernelspec": {
   "display_name": "Python 3 (ipykernel)",
   "language": "python",
   "name": "python3"
  },
  "language_info": {
   "codemirror_mode": {
    "name": "ipython",
    "version": 3
   },
   "file_extension": ".py",
   "mimetype": "text/x-python",
   "name": "python",
   "nbconvert_exporter": "python",
   "pygments_lexer": "ipython3",
   "version": "3.9.13"
  }
 },
 "nbformat": 4,
 "nbformat_minor": 5
}
